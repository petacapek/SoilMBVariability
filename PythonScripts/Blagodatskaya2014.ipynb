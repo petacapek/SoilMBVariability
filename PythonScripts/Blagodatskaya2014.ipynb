{
 "cells": [
  {
   "cell_type": "markdown",
   "metadata": {},
   "source": [
    "# Blagodatskaya et al. (2014)"
   ]
  },
  {
   "cell_type": "markdown",
   "metadata": {},
   "source": [
    "## DEB model calibration"
   ]
  },
  {
   "cell_type": "markdown",
   "metadata": {},
   "source": [
    "### Importing functions"
   ]
  },
  {
   "cell_type": "code",
   "execution_count": 1,
   "metadata": {},
   "outputs": [],
   "source": [
    "import numpy as np\n",
    "import pandas as pd\n",
    "from scipy.integrate import odeint\n",
    "from scipy.optimize import dual_annealing\n",
    "from scipy.optimize import differential_evolution"
   ]
  },
  {
   "cell_type": "markdown",
   "metadata": {},
   "source": [
    "### This is the DEB model"
   ]
  },
  {
   "cell_type": "code",
   "execution_count": 2,
   "metadata": {},
   "outputs": [],
   "source": [
    "def DEBmodel (y, t, pars):\n",
    "    #define initial pools (eu is assumed to be zero)\n",
    "    S=y[0];    e=y[1];    X1=y[2];     CO2=y[3];\n",
    "    \n",
    "    #define parameters\n",
    "    yA=pars[0]; \n",
    "    Km=pars[1];     \n",
    "    v=pars[2];\n",
    "    m=pars[3]; \n",
    "    g=pars[4]; \n",
    "    #k=pars[4];\n",
    "    ce=pars[5];\n",
    "    MX1=ce/4;\n",
    "    \n",
    "    #Scaling function for substrate uptake\n",
    "    f=S/(Km+S)\n",
    "    #Fluxes\n",
    "    uptake=(v*ce/yA)*X1*f\n",
    "    growth = (v*e-m*g)/(e + g)\n",
    "    \n",
    "    #Define derivatives\n",
    "    dSdt = -uptake\n",
    "    dedt = v*(f - e)\n",
    "    dX1dt = growth*X1 #- k*X1\n",
    "    dCO2dt = uptake*(1 - yA) + ce*(X1*e*(v-growth)) - growth*X1*MX1 \n",
    "           \n",
    "    return dSdt, dedt, dX1dt, dCO2dt;"
   ]
  },
  {
   "cell_type": "markdown",
   "metadata": {},
   "source": [
    "### The function below uses the output from DEBmodel to convert biomass pools $e$ and $X_{1}$ to microbial biomass ($B$) and measured biomass proxy-parameter DNA "
   ]
  },
  {
   "cell_type": "code",
   "execution_count": 3,
   "metadata": {},
   "outputs": [],
   "source": [
    "def calcDEB (model, pars, t, y0):\n",
    "    #model parameters\n",
    "    ##yA, Km, v, m, g, ce\n",
    "    pars_model=pars[0:6]\n",
    "    #conversion factors\n",
    "    ##ce, iX1\n",
    "    conversions=pars[5:7]\n",
    "\n",
    "    #solve the model\n",
    "    y=odeint(model,y0,t, args=(pars_model,))\n",
    "\n",
    "    #calculate biomass (B) and total DNA\n",
    "    B=(conversions[0]/4 + conversions[0]*y[:, 1])*y[:, 2]\n",
    "    DNA = 0.25*conversions[1]/(0.25 + y[:, 1])*B\n",
    "    \n",
    "    #Create data with predictions\n",
    "    yhat = np.concatenate((#y[:, 0].reshape(len(d.Time),1),#glucose\n",
    "                           y[:, 3].reshape(len(d.Time),1),#CO2\n",
    "                           #Flush.reshape(len(d.Time),1),\n",
    "                           DNA.reshape(len(d.Time),1)), axis=1)\n",
    "\n",
    "    return yhat"
   ]
  },
  {
   "cell_type": "markdown",
   "metadata": {},
   "source": [
    "### Objective function is defined"
   ]
  },
  {
   "cell_type": "code",
   "execution_count": 5,
   "metadata": {},
   "outputs": [],
   "source": [
    "def obj_funDEB (x):\n",
    "    #define parameters\n",
    "    ##yA, Km, v, m, g, ce, iX1\n",
    "    pars = x\n",
    "\n",
    "    #initial conditions\n",
    "    S_i = d.Sinit[0]\n",
    "    #e_i = d.Cmicinit[0]/d.DNAinit[0]*(pars[7]/4) - (pars[6]/4) is 0\n",
    "    X1_i = d.DNAinit[0]/(0.25*pars[6]*pars[5])\n",
    "    \n",
    "    y0 = np.array([S_i, 0, X1_i, 0])\n",
    "\n",
    "    #times\n",
    "    t = d.Time\n",
    "\n",
    "    #model simulations\n",
    "    yhat_full = calcDEB(DEBmodel, pars, t, y0)\n",
    "\n",
    "    #observations\n",
    "    obs=np.concatenate((#np.array([d.S]).reshape(len(d.Time),1),\n",
    "                        np.array([d.CO2]).reshape(len(d.Time),1),\n",
    "                        #np.array([d.Cmic12 + d.Cmic14]).reshape(len(d.Time),1),\n",
    "                        #np.array([d.Cmic14]).reshape(len(d.Time),1),\n",
    "                        np.array([d.DNA]).reshape(len(d.Time),1)),\n",
    "                     axis=1)\n",
    "\n",
    "    #weights\n",
    "    weights=np.concatenate((#np.nanstd(d.S).repeat(len(d.Time)).reshape(len(d.Time),1),\n",
    "                            np.nanstd(d.CO2).repeat(len(d.Time)).reshape(len(d.Time),1),\n",
    "                            #np.nanstd((d.Cmic12 + d.Cmic14)).repeat(len(d.Time)).reshape(len(d.Time),1),\n",
    "                            #np.nanmean(d.Cmic14).repeat(len(d.Time)).reshape(len(d.Time),1),\n",
    "                            np.nanstd(d.DNA).repeat(len(d.Time)).reshape(len(d.Time),1)),\n",
    "                       axis=1)\n",
    "\n",
    "\n",
    "    out=np.nansum(((yhat_full-obs)/weights)**2)\n",
    "\n",
    "    return out"
   ]
  },
  {
   "cell_type": "markdown",
   "metadata": {},
   "source": [
    "### Goodness of fit is calculated"
   ]
  },
  {
   "cell_type": "code",
   "execution_count": 6,
   "metadata": {},
   "outputs": [],
   "source": [
    "def goodnessDEB (x):\n",
    "    #define parameters\n",
    "    ##yA, Km, v, m, g, ce, iX1\n",
    "    pars = x\n",
    "\n",
    "    #initial conditions\n",
    "    S_i = d.Sinit[0]\n",
    "    #e_i = d.Cmicinit[0]/d.DNAinit[0]*(pars[7]/4) - (pars[6]/4) is 0\n",
    "    X1_i = d.DNAinit[0]/(0.25*pars[6]*pars[5])\n",
    "    \n",
    "    y0 = np.array([S_i, 0, X1_i, 0])\n",
    "\n",
    "    #times\n",
    "    t = d.Time\n",
    "\n",
    "    #model simulations\n",
    "    yhat_full = calcDEB(DEBmodel, pars, t, y0)\n",
    "    \n",
    "    #Standardize the simulations\n",
    "    ##means\n",
    "    Smeans=np.concatenate((np.nanmean(yhat_full[:, 0]).repeat(len(d.Time)).reshape(len(d.Time),1),\n",
    "                            np.nanmean(yhat_full[:, 1]).repeat(len(d.Time)).reshape(len(d.Time),1)),\n",
    "                            #np.nanmean((yhat_full[:, 2])).repeat(len(d.Time)).reshape(len(d.Time),1),\n",
    "                            #np.nanmean(d.Cmic14).repeat(len(d.Time)).reshape(len(d.Time),1),\n",
    "                            #np.nanmean(yhat_full[:, 3]).repeat(len(d.Time)).reshape(len(d.Time),1)),\n",
    "                       axis=1)\n",
    "    ##std\n",
    "    Sstd=np.concatenate((np.nanstd(yhat_full[:, 0]).repeat(len(d.Time)).reshape(len(d.Time),1),\n",
    "                            np.nanstd(yhat_full[:, 1]).repeat(len(d.Time)).reshape(len(d.Time),1)),\n",
    "                            #np.nanstd((yhat_full[:, 2])).repeat(len(d.Time)).reshape(len(d.Time),1),\n",
    "                            #np.nanmean(d.Cmic14).repeat(len(d.Time)).reshape(len(d.Time),1),\n",
    "                            #np.nanstd(yhat_full[:, 3]).repeat(len(d.Time)).reshape(len(d.Time),1)),\n",
    "                       axis=1)\n",
    "    \n",
    "\n",
    "    #observations\n",
    "    obs=np.concatenate((#np.array([d.S]).reshape(len(d.Time),1),\n",
    "                        np.array([d.CO2]).reshape(len(d.Time),1),\n",
    "                        #np.array([d.Cmic12 + d.Cmic14]).reshape(len(d.Time),1),\n",
    "                        #np.array([d.Cmic14]).reshape(len(d.Time),1),\n",
    "                        np.array([d.DNA]).reshape(len(d.Time),1)),\n",
    "                     axis=1)\n",
    "    #Standardize the observations\n",
    "    ##means\n",
    "    Omeans=np.concatenate((#np.nanmean(d.S).repeat(len(d.Time)).reshape(len(d.Time),1),\n",
    "                            np.nanmean(d.CO2).repeat(len(d.Time)).reshape(len(d.Time),1),\n",
    "                            #np.nanmean((d.Cmic12 + d.Cmic14)).repeat(len(d.Time)).reshape(len(d.Time),1),\n",
    "                            #np.nanmean(d.Cmic14).repeat(len(d.Time)).reshape(len(d.Time),1),\n",
    "                            np.nanmean(d.DNA).repeat(len(d.Time)).reshape(len(d.Time),1)),\n",
    "                       axis=1)\n",
    "    ##std\n",
    "    Ostd=np.concatenate((#np.nanstd(d.S).repeat(len(d.Time)).reshape(len(d.Time),1),\n",
    "                            np.nanstd(d.CO2).repeat(len(d.Time)).reshape(len(d.Time),1),\n",
    "                            #np.nanstd((d.Cmic12 + d.Cmic14)).repeat(len(d.Time)).reshape(len(d.Time),1),\n",
    "                            #np.nanmean(d.Cmic14).repeat(len(d.Time)).reshape(len(d.Time),1),\n",
    "                            np.nanstd(d.DNA).repeat(len(d.Time)).reshape(len(d.Time),1)),\n",
    "                       axis=1)\n",
    "    \n",
    "    R2=1-np.nansum((obs-yhat_full)**2)/np.nansum((obs-np.nanmean(obs))**2)\n",
    "    ll=-np.nansum((obs-yhat_full)**2)/2/np.nanstd(obs)**2\n",
    "    AIC = len(pars)*2 - 2*ll\n",
    "    \n",
    "    #Normalized residual sum of squares \n",
    "    Fnorm = np.nansum((((obs-Omeans)/Ostd)-((yhat_full-Smeans)/Sstd))**2)\n",
    "    \n",
    "    out = np.array([R2, ll, AIC, Fnorm])\n",
    "\n",
    "    return out"
   ]
  },
  {
   "cell_type": "code",
   "execution_count": 7,
   "metadata": {},
   "outputs": [],
   "source": [
    "def predDEB (model, pars, t, y0):\n",
    "    #model parameters\n",
    "    ##yA, Km, v, m, g, ce\n",
    "    pars_model=pars[0:6]\n",
    "    #conversion factors\n",
    "    ##ce, iX1\n",
    "    conversions=pars[5:7]\n",
    "\n",
    "    #solve the model\n",
    "    y=odeint(model,y0,t, args=(pars_model,))\n",
    "\n",
    "    #calculate biomass (B) and total DNA\n",
    "    B=(conversions[0]/4 + conversions[0]*y[:, 1])*y[:, 2]\n",
    "    DNA = 0.25*conversions[1]/(0.25 + y[:, 1])*B\n",
    "    \n",
    "    #Create data with predictions\n",
    "    yhat = np.concatenate((#y[:, 0].reshape(len(np.arange(0, 9.05, 0.05)),1),#glucose\n",
    "                           y[:, 3].reshape(len(np.arange(0, 2.01, 0.01)),1),#CO2\n",
    "                           #Flush.reshape(len(np.arange(0, 9.05, 0.05)),1),\n",
    "                           DNA.reshape(len(np.arange(0, 2.01, 0.01)),1)), axis=1)\n",
    "\n",
    "    return yhat"
   ]
  },
  {
   "cell_type": "markdown",
   "metadata": {},
   "source": [
    "## Rhizosphere soil"
   ]
  },
  {
   "cell_type": "code",
   "execution_count": 27,
   "metadata": {},
   "outputs": [
    {
     "name": "stdout",
     "output_type": "stream",
     "text": [
      "                          Study        Soil Substrate  Clay   pH  Ctot   Ntot  \\\n",
      "0   Blagodatskaya et al. (2014)  Loamy sand   Glucose   NaN  6.7   1.1  0.087   \n",
      "1   Blagodatskaya et al. (2014)  Loamy sand   Glucose   NaN  6.7   1.1  0.087   \n",
      "2   Blagodatskaya et al. (2014)  Loamy sand   Glucose   NaN  6.7   1.1  0.087   \n",
      "3   Blagodatskaya et al. (2014)  Loamy sand   Glucose   NaN  6.7   1.1  0.087   \n",
      "4   Blagodatskaya et al. (2014)  Loamy sand   Glucose   NaN  6.7   1.1  0.087   \n",
      "5   Blagodatskaya et al. (2014)  Loamy sand   Glucose   NaN  6.7   1.1  0.087   \n",
      "6   Blagodatskaya et al. (2014)  Loamy sand   Glucose   NaN  6.7   1.1  0.087   \n",
      "7   Blagodatskaya et al. (2014)  Loamy sand   Glucose   NaN  6.7   1.1  0.087   \n",
      "8   Blagodatskaya et al. (2014)  Loamy sand   Glucose   NaN  6.7   1.1  0.087   \n",
      "9   Blagodatskaya et al. (2014)  Loamy sand   Glucose   NaN  6.7   1.1  0.087   \n",
      "10  Blagodatskaya et al. (2014)  Loamy sand   Glucose   NaN  6.7   1.1  0.087   \n",
      "11  Blagodatskaya et al. (2014)  Loamy sand   Glucose   NaN  6.7   1.1  0.087   \n",
      "12  Blagodatskaya et al. (2014)  Loamy sand   Glucose   NaN  6.7   1.1  0.087   \n",
      "13  Blagodatskaya et al. (2014)  Loamy sand   Glucose   NaN  6.7   1.1  0.087   \n",
      "14  Blagodatskaya et al. (2014)  Loamy sand   Glucose   NaN  6.7   1.1  0.087   \n",
      "15  Blagodatskaya et al. (2014)  Loamy sand   Glucose   NaN  6.7   1.1  0.087   \n",
      "16  Blagodatskaya et al. (2014)  Loamy sand   Glucose   NaN  6.7   1.1  0.087   \n",
      "17  Blagodatskaya et al. (2014)  Loamy sand   Glucose   NaN  6.7   1.1  0.087   \n",
      "18  Blagodatskaya et al. (2014)  Loamy sand   Glucose   NaN  6.7   1.1  0.087   \n",
      "19  Blagodatskaya et al. (2014)  Loamy sand   Glucose   NaN  6.7   1.1  0.087   \n",
      "20  Blagodatskaya et al. (2014)  Loamy sand   Glucose   NaN  6.7   1.1  0.087   \n",
      "21  Blagodatskaya et al. (2014)  Loamy sand   Glucose   NaN  6.7   1.1  0.087   \n",
      "22  Blagodatskaya et al. (2014)  Loamy sand   Glucose   NaN  6.7   1.1  0.087   \n",
      "23  Blagodatskaya et al. (2014)  Loamy sand   Glucose   NaN  6.7   1.1  0.087   \n",
      "24  Blagodatskaya et al. (2014)  Loamy sand   Glucose   NaN  6.7   1.1  0.087   \n",
      "25  Blagodatskaya et al. (2014)  Loamy sand   Glucose   NaN  6.7   1.1  0.087   \n",
      "26  Blagodatskaya et al. (2014)  Loamy sand   Glucose   NaN  6.7   1.1  0.087   \n",
      "27  Blagodatskaya et al. (2014)  Loamy sand   Glucose   NaN  6.7   1.1  0.087   \n",
      "28  Blagodatskaya et al. (2014)  Loamy sand   Glucose   NaN  6.7   1.1  0.087   \n",
      "29  Blagodatskaya et al. (2014)  Loamy sand   Glucose   NaN  6.7   1.1  0.087   \n",
      "30  Blagodatskaya et al. (2014)  Loamy sand   Glucose   NaN  6.7   1.1  0.087   \n",
      "31  Blagodatskaya et al. (2014)  Loamy sand   Glucose   NaN  6.7   1.1  0.087   \n",
      "32  Blagodatskaya et al. (2014)  Loamy sand   Glucose   NaN  6.7   1.1  0.087   \n",
      "33  Blagodatskaya et al. (2014)  Loamy sand   Glucose   NaN  6.7   1.1  0.087   \n",
      "34  Blagodatskaya et al. (2014)  Loamy sand   Glucose   NaN  6.7   1.1  0.087   \n",
      "35  Blagodatskaya et al. (2014)  Loamy sand   Glucose   NaN  6.7   1.1  0.087   \n",
      "36  Blagodatskaya et al. (2014)  Loamy sand   Glucose   NaN  6.7   1.1  0.087   \n",
      "37  Blagodatskaya et al. (2014)  Loamy sand   Glucose   NaN  6.7   1.1  0.087   \n",
      "38  Blagodatskaya et al. (2014)  Loamy sand   Glucose   NaN  6.7   1.1  0.087   \n",
      "\n",
      "        Time         CO2       DNA   DNAinit       Sinit    Treatment  \n",
      "0   0.000000    0.000000  2.484863  2.484863  832.639467  Rhizosphere  \n",
      "1   0.080061    0.175412       NaN  2.484863  832.639467  Rhizosphere  \n",
      "2   0.122540    0.539242       NaN  2.484863  832.639467  Rhizosphere  \n",
      "3   0.161751    0.903433       NaN  2.484863  832.639467  Rhizosphere  \n",
      "4   0.205862    1.451346       NaN  2.484863  832.639467  Rhizosphere  \n",
      "5   0.245076    1.631274       NaN  2.484863  832.639467  Rhizosphere  \n",
      "6   0.289187    2.179187       NaN  2.484863  832.639467  Rhizosphere  \n",
      "7   0.330030    2.727461       NaN  2.484863  832.639467  Rhizosphere  \n",
      "8   0.372507    3.275554       NaN  2.484863  832.639467  Rhizosphere  \n",
      "9   0.414986    3.639384       NaN  2.484863  832.639467  Rhizosphere  \n",
      "10  0.459094    4.371561       NaN  2.484863  832.639467  Rhizosphere  \n",
      "11  0.498299    5.288543  2.650178  2.484863  832.639467  Rhizosphere  \n",
      "12  0.537503    6.205524       NaN  2.484863  832.639467  Rhizosphere  \n",
      "13  0.579973    7.306408       NaN  2.484863  832.639467  Rhizosphere  \n",
      "14  0.622444    8.407292  2.835463  2.484863  832.639467  Rhizosphere  \n",
      "15  0.663271   10.245411       NaN  2.484863  832.639467  Rhizosphere  \n",
      "16  0.705734   11.899085       NaN  2.484863  832.639467  Rhizosphere  \n",
      "17  0.748182   14.842604       NaN  2.484863  832.639467  Rhizosphere  \n",
      "18  0.787352   18.523538       NaN  2.484863  832.639467  Rhizosphere  \n",
      "19  0.831420   22.572457  3.360980  2.484863  832.639467  Rhizosphere  \n",
      "20  0.872198   28.464372       NaN  2.484863  832.639467  Rhizosphere  \n",
      "21  0.912964   35.277604       NaN  2.484863  832.639467  Rhizosphere  \n",
      "22  0.953703   44.301999       NaN  2.484863  832.639467  Rhizosphere  \n",
      "23  0.997703   53.878822       NaN  2.484863  832.639467  Rhizosphere  \n",
      "24  1.038426   64.193061  4.945273  2.484863  832.639467  Rhizosphere  \n",
      "25  1.079120   76.902724       NaN  2.484863  832.639467  Rhizosphere  \n",
      "26  1.121452   89.243680       NaN  2.484863  832.639467  Rhizosphere  \n",
      "27  1.163845   96.609523       NaN  2.484863  832.639467  Rhizosphere  \n",
      "28  1.204657   99.737486       NaN  2.484863  832.639467  Rhizosphere  \n",
      "29  1.247109  102.312477       NaN  2.484863  832.639467  Rhizosphere  \n",
      "30  1.286302  104.150777       NaN  2.484863  832.639467  Rhizosphere  \n",
      "31  1.332029  106.172617       NaN  2.484863  832.639467  Rhizosphere  \n",
      "32  1.369588  108.011096       NaN  2.484863  832.639467  Rhizosphere  \n",
      "33  1.413683  109.848854       NaN  2.484863  832.639467  Rhizosphere  \n",
      "34  1.456146  111.502528       NaN  2.484863  832.639467  Rhizosphere  \n",
      "35  1.495346  112.788037       NaN  2.484863  832.639467  Rhizosphere  \n",
      "36  1.537812  114.257448  6.584361  2.484863  832.639467  Rhizosphere  \n",
      "37  1.581912  115.726678       NaN  2.484863  832.639467  Rhizosphere  \n",
      "38  1.622746  117.012006       NaN  2.484863  832.639467  Rhizosphere  \n"
     ]
    }
   ],
   "source": [
    "#reading the data\n",
    "dall = pd.read_csv('/mnt/580CBE2464C5F83D/pracovni/data_statistika/SoilMBVariability/SoilMBVariabilityData/Blagodatskaya2014.csv', sep=',')\n",
    "d = dall[dall.Treatment == \"Rhizosphere\"]\n",
    "print(d)"
   ]
  },
  {
   "cell_type": "code",
   "execution_count": 28,
   "metadata": {},
   "outputs": [
    {
     "name": "stderr",
     "output_type": "stream",
     "text": [
      "<ipython-input-5-8302b4cc0558>:9: RuntimeWarning: divide by zero encountered in double_scalars\n",
      "  X1_i = d.DNAinit[0]/(0.25*pars[6]*pars[5])\n",
      "<ipython-input-2-c52ab644af63>:25: RuntimeWarning: invalid value encountered in double_scalars\n",
      "  dCO2dt = uptake*(1 - yA) + ce*(X1*e*(v-growth)) - growth*X1*MX1\n",
      "/usr/local/lib/python3.8/dist-packages/scipy/integrate/odepack.py:247: ODEintWarning: Illegal input detected (internal error). Run with full_output = 1 to get quantitative information.\n",
      "  warnings.warn(warning_msg, ODEintWarning)\n",
      "<ipython-input-3-723701b40176>:14: RuntimeWarning: invalid value encountered in multiply\n",
      "  DNA = 0.25*conversions[1]/(0.25 + y[:, 1])*B\n"
     ]
    }
   ],
   "source": [
    "bla_debparsR=dual_annealing(obj_funDEB, [(0.05, 1), #yA\n",
    "                                             (10, 10000), #Km\n",
    "                                             (0.01, 20), #v\n",
    "                                             (1e-12, 0.1), #m\n",
    "                                             (0.1, 3), #g\n",
    "                                             #(1e-12, 0.1), #k\n",
    "                                             (0.1, 10), #ce\n",
    "                                             (0, 1)]) #iX1"
   ]
  },
  {
   "cell_type": "code",
   "execution_count": 29,
   "metadata": {},
   "outputs": [
    {
     "name": "stdout",
     "output_type": "stream",
     "text": [
      "     fun: 3.4336435868814874\n",
      " message: ['Maximum number of iteration reached']\n",
      "    nfev: 53649\n",
      "    nhev: 0\n",
      "     nit: 1000\n",
      "    njev: 4956\n",
      "  status: 0\n",
      " success: True\n",
      "       x: array([1.00000000e+00, 1.83750422e+03, 2.32169356e+00, 1.00000000e-12,\n",
      "       5.18474772e-01, 1.16188153e+00, 3.60800914e-02])\n",
      "[ 0.93038251 -1.5663936  17.13278719  2.87709487]\n"
     ]
    }
   ],
   "source": [
    "print(bla_debparsR)\n",
    "print(goodnessDEB(bla_debparsR.x))"
   ]
  },
  {
   "cell_type": "code",
   "execution_count": 30,
   "metadata": {},
   "outputs": [
    {
     "name": "stderr",
     "output_type": "stream",
     "text": [
      "<ipython-input-5-8302b4cc0558>:9: RuntimeWarning: divide by zero encountered in double_scalars\n",
      "  X1_i = d.DNAinit[0]/(0.25*pars[6]*pars[5])\n",
      "<ipython-input-2-c52ab644af63>:25: RuntimeWarning: invalid value encountered in double_scalars\n",
      "  dCO2dt = uptake*(1 - yA) + ce*(X1*e*(v-growth)) - growth*X1*MX1\n",
      "<ipython-input-3-723701b40176>:14: RuntimeWarning: invalid value encountered in multiply\n",
      "  DNA = 0.25*conversions[1]/(0.25 + y[:, 1])*B\n"
     ]
    }
   ],
   "source": [
    "bla_debparsRDE=differential_evolution(obj_funDEB, [(0.05, 1), #yA\n",
    "                                             (10, 10000), #Km\n",
    "                                             (0.01, 20), #v\n",
    "                                             (1e-12, 0.1), #m\n",
    "                                             (0.1, 3), #g\n",
    "                                             (0.1, 10), #ce\n",
    "                                             (0, 1)]) #iX1"
   ]
  },
  {
   "cell_type": "code",
   "execution_count": 31,
   "metadata": {},
   "outputs": [
    {
     "name": "stdout",
     "output_type": "stream",
     "text": [
      "     fun: 3.3502319666487295\n",
      "     jac: array([-3.77508507e+00, -9.32586601e-06,  4.44089213e-07,  7.09924608e-01,\n",
      "       -1.33226762e-07,  4.44089213e-08, -8.12683254e-06])\n",
      " message: 'Optimization terminated successfully.'\n",
      "    nfev: 15659\n",
      "     nit: 146\n",
      " success: True\n",
      "       x: array([1.00000000e+00, 2.08079312e+02, 1.88170413e+00, 1.00000000e-12,\n",
      "       9.76744681e-01, 5.28801717e+00, 9.62269468e-02])\n",
      "[ 0.93130046 -1.54573968 17.09147937  3.04504084]\n"
     ]
    }
   ],
   "source": [
    "print(bla_debparsRDE)\n",
    "print(goodnessDEB(bla_debparsRDE.x))"
   ]
  },
  {
   "cell_type": "code",
   "execution_count": 32,
   "metadata": {},
   "outputs": [],
   "source": [
    "np.savetxt('/mnt/580CBE2464C5F83D/pracovni/data_statistika/SoilMBVariability/PythonScripts/bla_debparsR.csv', bla_debparsRDE.x.reshape(1,7), delimiter=\",\")"
   ]
  },
  {
   "cell_type": "markdown",
   "metadata": {},
   "source": [
    "## Solution over time for visualization in R"
   ]
  },
  {
   "cell_type": "code",
   "execution_count": 33,
   "metadata": {},
   "outputs": [],
   "source": [
    "#initial conditions\n",
    "S_i = d.Sinit[0]\n",
    "X1_i = d.DNAinit[0]/(0.25*bla_debparsRDE.x[6]*bla_debparsRDE.x[5])\n",
    "    \n",
    "y0 = np.array([S_i, 0, X1_i, 0])\n",
    "\n",
    "#times\n",
    "t = np.arange(0, 2.01, 0.01)\n",
    "\n",
    "#model simulations\n",
    "BlaPredR = predDEB(DEBmodel, bla_debparsRDE.x, t, y0)"
   ]
  },
  {
   "cell_type": "markdown",
   "metadata": {},
   "source": [
    "## Root free soil"
   ]
  },
  {
   "cell_type": "code",
   "execution_count": 34,
   "metadata": {},
   "outputs": [
    {
     "name": "stdout",
     "output_type": "stream",
     "text": [
      "    index                        Study        Soil Substrate  Clay   pH  Ctot  \\\n",
      "0      39  Blagodatskaya et al. (2014)  Loamy sand   Glucose   NaN  6.7   1.1   \n",
      "1      40  Blagodatskaya et al. (2014)  Loamy sand   Glucose   NaN  6.7   1.1   \n",
      "2      41  Blagodatskaya et al. (2014)  Loamy sand   Glucose   NaN  6.7   1.1   \n",
      "3      42  Blagodatskaya et al. (2014)  Loamy sand   Glucose   NaN  6.7   1.1   \n",
      "4      43  Blagodatskaya et al. (2014)  Loamy sand   Glucose   NaN  6.7   1.1   \n",
      "5      44  Blagodatskaya et al. (2014)  Loamy sand   Glucose   NaN  6.7   1.1   \n",
      "6      45  Blagodatskaya et al. (2014)  Loamy sand   Glucose   NaN  6.7   1.1   \n",
      "7      46  Blagodatskaya et al. (2014)  Loamy sand   Glucose   NaN  6.7   1.1   \n",
      "8      47  Blagodatskaya et al. (2014)  Loamy sand   Glucose   NaN  6.7   1.1   \n",
      "9      48  Blagodatskaya et al. (2014)  Loamy sand   Glucose   NaN  6.7   1.1   \n",
      "10     49  Blagodatskaya et al. (2014)  Loamy sand   Glucose   NaN  6.7   1.1   \n",
      "11     50  Blagodatskaya et al. (2014)  Loamy sand   Glucose   NaN  6.7   1.1   \n",
      "12     51  Blagodatskaya et al. (2014)  Loamy sand   Glucose   NaN  6.7   1.1   \n",
      "13     52  Blagodatskaya et al. (2014)  Loamy sand   Glucose   NaN  6.7   1.1   \n",
      "14     53  Blagodatskaya et al. (2014)  Loamy sand   Glucose   NaN  6.7   1.1   \n",
      "15     54  Blagodatskaya et al. (2014)  Loamy sand   Glucose   NaN  6.7   1.1   \n",
      "16     55  Blagodatskaya et al. (2014)  Loamy sand   Glucose   NaN  6.7   1.1   \n",
      "17     56  Blagodatskaya et al. (2014)  Loamy sand   Glucose   NaN  6.7   1.1   \n",
      "18     57  Blagodatskaya et al. (2014)  Loamy sand   Glucose   NaN  6.7   1.1   \n",
      "19     58  Blagodatskaya et al. (2014)  Loamy sand   Glucose   NaN  6.7   1.1   \n",
      "20     59  Blagodatskaya et al. (2014)  Loamy sand   Glucose   NaN  6.7   1.1   \n",
      "21     60  Blagodatskaya et al. (2014)  Loamy sand   Glucose   NaN  6.7   1.1   \n",
      "22     61  Blagodatskaya et al. (2014)  Loamy sand   Glucose   NaN  6.7   1.1   \n",
      "23     62  Blagodatskaya et al. (2014)  Loamy sand   Glucose   NaN  6.7   1.1   \n",
      "24     63  Blagodatskaya et al. (2014)  Loamy sand   Glucose   NaN  6.7   1.1   \n",
      "25     64  Blagodatskaya et al. (2014)  Loamy sand   Glucose   NaN  6.7   1.1   \n",
      "26     65  Blagodatskaya et al. (2014)  Loamy sand   Glucose   NaN  6.7   1.1   \n",
      "27     66  Blagodatskaya et al. (2014)  Loamy sand   Glucose   NaN  6.7   1.1   \n",
      "28     67  Blagodatskaya et al. (2014)  Loamy sand   Glucose   NaN  6.7   1.1   \n",
      "29     68  Blagodatskaya et al. (2014)  Loamy sand   Glucose   NaN  6.7   1.1   \n",
      "30     69  Blagodatskaya et al. (2014)  Loamy sand   Glucose   NaN  6.7   1.1   \n",
      "31     70  Blagodatskaya et al. (2014)  Loamy sand   Glucose   NaN  6.7   1.1   \n",
      "32     71  Blagodatskaya et al. (2014)  Loamy sand   Glucose   NaN  6.7   1.1   \n",
      "33     72  Blagodatskaya et al. (2014)  Loamy sand   Glucose   NaN  6.7   1.1   \n",
      "34     73  Blagodatskaya et al. (2014)  Loamy sand   Glucose   NaN  6.7   1.1   \n",
      "35     74  Blagodatskaya et al. (2014)  Loamy sand   Glucose   NaN  6.7   1.1   \n",
      "36     75  Blagodatskaya et al. (2014)  Loamy sand   Glucose   NaN  6.7   1.1   \n",
      "37     76  Blagodatskaya et al. (2014)  Loamy sand   Glucose   NaN  6.7   1.1   \n",
      "38     77  Blagodatskaya et al. (2014)  Loamy sand   Glucose   NaN  6.7   1.1   \n",
      "\n",
      "     Ntot      Time         CO2       DNA   DNAinit       Sinit Treatment  \n",
      "0   0.087  0.000000    0.000000  2.184596  2.184596  832.639467      Soil  \n",
      "1   0.087  0.078648    0.579549       NaN  2.184596  832.639467      Soil  \n",
      "2   0.087  0.122155    0.770631       NaN  2.184596  832.639467      Soil  \n",
      "3   0.087  0.165663    1.157917       NaN  2.184596  832.639467      Soil  \n",
      "4   0.087  0.207497    1.152992       NaN  2.184596  832.639467      Soil  \n",
      "5   0.087  0.249331    1.932882       NaN  2.184596  832.639467      Soil  \n",
      "6   0.087  0.287818    1.928351       NaN  2.184596  832.639467      Soil  \n",
      "7   0.087  0.331325    2.511841       NaN  2.184596  832.639467      Soil  \n",
      "8   0.087  0.373159    2.703120       NaN  2.184596  832.639467      Soil  \n",
      "9   0.087  0.414993    3.286806       NaN  2.184596  832.639467      Soil  \n",
      "10  0.087  0.458501    3.870295       NaN  2.184596  832.639467      Soil  \n",
      "11  0.087  0.496988    4.650579       NaN  2.184596  832.639467      Soil  \n",
      "12  0.087  0.540495    5.234069  2.191959  2.184596  832.639467      Soil  \n",
      "13  0.087  0.578983    6.014353       NaN  2.184596  832.639467      Soil  \n",
      "14  0.087  0.624163    7.382460       NaN  2.184596  832.639467      Soil  \n",
      "15  0.087  0.664324    8.358751  2.206687  2.184596  832.639467      Soil  \n",
      "16  0.087  0.706158   10.119659       NaN  2.184596  832.639467      Soil  \n",
      "17  0.087  0.749665   12.076574       NaN  2.184596  832.639467      Soil  \n",
      "18  0.087  0.789826   14.818698       NaN  2.184596  832.639467      Soil  \n",
      "19  0.087  0.831660   17.756829       NaN  2.184596  832.639467      Soil  \n",
      "20  0.087  0.871821   21.872379  2.810519  2.184596  832.639467      Soil  \n",
      "21  0.087  0.911981   26.968948       NaN  2.184596  832.639467      Soil  \n",
      "22  0.087  0.955489   33.830955       NaN  2.184596  832.639467      Soil  \n",
      "23  0.087  0.997323   41.674179       NaN  2.184596  832.639467      Soil  \n",
      "24  0.087  1.040830   51.479242       NaN  2.184596  832.639467      Soil  \n",
      "25  0.087  1.080991   62.265718  4.091821  2.184596  832.639467      Soil  \n",
      "26  0.087  1.121151   74.229416       NaN  2.184596  832.639467      Soil  \n",
      "27  0.087  1.162985   85.996714       NaN  2.184596  832.639467      Soil  \n",
      "28  0.087  1.206493   95.801777       NaN  2.184596  832.639467      Soil  \n",
      "29  0.087  1.248327  103.056389       NaN  2.184596  832.639467      Soil  \n",
      "30  0.087  1.288487  108.152958       NaN  2.184596  832.639467      Soil  \n",
      "31  0.087  1.331995  111.875706       NaN  2.184596  832.639467      Soil  \n",
      "32  0.087  1.372155  114.617830       NaN  2.184596  832.639467      Soil  \n",
      "33  0.087  1.413989  116.771146       NaN  2.184596  832.639467      Soil  \n",
      "34  0.087  1.457497  119.120469       NaN  2.184596  832.639467      Soil  \n",
      "35  0.087  1.497657  120.881575       NaN  2.184596  832.639467      Soil  \n",
      "36  0.087  1.541165  122.838490  5.962228  2.184596  832.639467      Soil  \n",
      "37  0.087  1.579652  124.599792       NaN  2.184596  832.639467      Soil  \n",
      "38  0.087  1.626506  126.163906       NaN  2.184596  832.639467      Soil  \n"
     ]
    }
   ],
   "source": [
    "d = dall[dall.Treatment != \"Rhizosphere\"]\n",
    "d = d.reset_index()\n",
    "print(d)"
   ]
  },
  {
   "cell_type": "code",
   "execution_count": 35,
   "metadata": {},
   "outputs": [
    {
     "name": "stderr",
     "output_type": "stream",
     "text": [
      "<ipython-input-5-8302b4cc0558>:9: RuntimeWarning: divide by zero encountered in double_scalars\n",
      "  X1_i = d.DNAinit[0]/(0.25*pars[6]*pars[5])\n",
      "<ipython-input-2-c52ab644af63>:25: RuntimeWarning: invalid value encountered in double_scalars\n",
      "  dCO2dt = uptake*(1 - yA) + ce*(X1*e*(v-growth)) - growth*X1*MX1\n",
      "/usr/local/lib/python3.8/dist-packages/scipy/integrate/odepack.py:247: ODEintWarning: Illegal input detected (internal error). Run with full_output = 1 to get quantitative information.\n",
      "  warnings.warn(warning_msg, ODEintWarning)\n",
      "<ipython-input-3-723701b40176>:14: RuntimeWarning: invalid value encountered in multiply\n",
      "  DNA = 0.25*conversions[1]/(0.25 + y[:, 1])*B\n"
     ]
    }
   ],
   "source": [
    "bla_debparsS=dual_annealing(obj_funDEB, [(0.05, 1), #yA\n",
    "                                             (10, 10000), #Km\n",
    "                                             (0.01, 20), #v\n",
    "                                             (1e-12, 0.1), #m\n",
    "                                             (0.1, 3), #g\n",
    "                                             #(1e-12, 0.1), #k\n",
    "                                             (0.1, 10), #ce\n",
    "                                             (0, 1)]) #iX1"
   ]
  },
  {
   "cell_type": "code",
   "execution_count": 36,
   "metadata": {},
   "outputs": [
    {
     "name": "stdout",
     "output_type": "stream",
     "text": [
      "     fun: 4.223509708790268\n",
      " message: ['Maximum number of iteration reached']\n",
      "    nfev: 45721\n",
      "    nhev: 0\n",
      "     nit: 1000\n",
      "    njev: 3965\n",
      "  status: 0\n",
      " success: True\n",
      "       x: array([1.00000000e+00, 2.06356824e+03, 2.48034117e+00, 1.00000000e-12,\n",
      "       5.54284843e-01, 6.49570936e+00, 3.50982408e-02])\n",
      "[ 0.92049442 -1.78887552 17.57775105  2.74150477]\n"
     ]
    }
   ],
   "source": [
    "print(bla_debparsS)\n",
    "print(goodnessDEB(bla_debparsS.x))"
   ]
  },
  {
   "cell_type": "code",
   "execution_count": 37,
   "metadata": {},
   "outputs": [
    {
     "name": "stderr",
     "output_type": "stream",
     "text": [
      "<ipython-input-5-8302b4cc0558>:9: RuntimeWarning: divide by zero encountered in double_scalars\n",
      "  X1_i = d.DNAinit[0]/(0.25*pars[6]*pars[5])\n",
      "<ipython-input-2-c52ab644af63>:25: RuntimeWarning: invalid value encountered in double_scalars\n",
      "  dCO2dt = uptake*(1 - yA) + ce*(X1*e*(v-growth)) - growth*X1*MX1\n",
      "<ipython-input-3-723701b40176>:14: RuntimeWarning: invalid value encountered in multiply\n",
      "  DNA = 0.25*conversions[1]/(0.25 + y[:, 1])*B\n"
     ]
    }
   ],
   "source": [
    "bla_debparsSDE=differential_evolution(obj_funDEB, [(0.05, 1), #yA\n",
    "                                             (10, 10000), #Km\n",
    "                                             (0.01, 20), #v\n",
    "                                             (1e-12, 0.1), #m\n",
    "                                             (0.1, 3), #g\n",
    "                                             (0.1, 10), #ce\n",
    "                                             (0, 1)]) #iX1"
   ]
  },
  {
   "cell_type": "code",
   "execution_count": 38,
   "metadata": {},
   "outputs": [
    {
     "name": "stdout",
     "output_type": "stream",
     "text": [
      "     fun: 3.6541537913780058\n",
      "     jac: array([-6.41376993e+00,  4.48974154e-04,  3.55271370e-07,  8.18997581e-01,\n",
      "       -3.99680291e-06,  2.66453528e-07,  1.91402450e-05])\n",
      " message: 'Optimization terminated successfully.'\n",
      "    nfev: 15005\n",
      "     nit: 140\n",
      " success: True\n",
      "       x: array([1.00000000e+00, 1.22121156e+01, 1.73116518e+00, 1.00000000e-12,\n",
      "       1.05346187e+00, 1.94362813e+00, 9.14372763e-02])\n",
      "[ 0.93012171 -1.57226154 17.14452308  2.59638842]\n"
     ]
    }
   ],
   "source": [
    "print(bla_debparsSDE)\n",
    "print(goodnessDEB(bla_debparsSDE.x))"
   ]
  },
  {
   "cell_type": "code",
   "execution_count": 39,
   "metadata": {},
   "outputs": [],
   "source": [
    "np.savetxt('/mnt/580CBE2464C5F83D/pracovni/data_statistika/SoilMBVariability/PythonScripts/bla_debparsS.csv', bla_debparsSDE.x.reshape(1,7), delimiter=\",\")"
   ]
  },
  {
   "cell_type": "markdown",
   "metadata": {},
   "source": [
    "## Solution over time for visualization in R"
   ]
  },
  {
   "cell_type": "code",
   "execution_count": 40,
   "metadata": {},
   "outputs": [],
   "source": [
    "#initial conditions\n",
    "S_i = d.Sinit[0]\n",
    "X1_i = d.DNAinit[0]/(0.25*bla_debparsSDE.x[6]*bla_debparsSDE.x[5])\n",
    "    \n",
    "y0 = np.array([S_i, 0, X1_i, 0])\n",
    "\n",
    "#times\n",
    "t = np.arange(0, 2.01, 0.01)\n",
    "\n",
    "#model simulations\n",
    "BlaPredS = predDEB(DEBmodel, bla_debparsSDE.x, t, y0)\n",
    "Blagodatskaya2014Pred = np.concatenate([BlaPredR, BlaPredS])"
   ]
  },
  {
   "cell_type": "code",
   "execution_count": 41,
   "metadata": {},
   "outputs": [],
   "source": [
    "np.savetxt('/mnt/580CBE2464C5F83D/pracovni/data_statistika/SoilMBVariability/PythonScripts/Blagodatskaya2014Pred.csv', Blagodatskaya2014Pred, delimiter=\",\")"
   ]
  },
  {
   "cell_type": "markdown",
   "metadata": {},
   "source": [
    "# Monod and Pirt models are fitted for comparison to DEB"
   ]
  },
  {
   "cell_type": "markdown",
   "metadata": {},
   "source": [
    "## Monod model\n",
    "Model as well as supplementary functions are defined below"
   ]
  },
  {
   "cell_type": "code",
   "execution_count": 42,
   "metadata": {},
   "outputs": [],
   "source": [
    "def Mmodel (y, t, pars):\n",
    "    #define initial pools\n",
    "    S=y[0];    B=y[1];    CO2=y[2];\n",
    "    \n",
    "    #define parameters\n",
    "    v=pars[0]; \n",
    "    Km=pars[1];     \n",
    "    CUE=pars[2];\n",
    "    k=pars[3];\n",
    "        \n",
    "    #Fluxes\n",
    "    uptake = v*S*B/(S + Km)\n",
    "    growth = uptake*CUE\n",
    "    respiration = uptake*(1 - CUE)\n",
    "    death = B*k\n",
    "    \n",
    "    #Define derivatives\n",
    "    dSdt = -uptake\n",
    "    dBdt = growth - death\n",
    "    dCO2dt = respiration\n",
    "           \n",
    "    return dSdt, dBdt, dCO2dt;"
   ]
  },
  {
   "cell_type": "code",
   "execution_count": 43,
   "metadata": {},
   "outputs": [],
   "source": [
    "def calcM (model, pars, t, y0):\n",
    "    #model parameters\n",
    "    ##v, Km, CUE, k\n",
    "    pars_model=pars[0:4]\n",
    "    #conversion factors\n",
    "    ##kdna\n",
    "    conversion=pars[4]\n",
    "\n",
    "    #solve the model\n",
    "    y=odeint(model,y0,t, args=(pars_model,))\n",
    "\n",
    "    #calculate total DNA, and flush (Flush)\n",
    "    #Flush = conversions[0]*y[:, 1]\n",
    "    DNA = conversion*y[:, 1]\n",
    "    \n",
    "    #Create data with predictions\n",
    "    yhat = np.concatenate((#y[:, 0].reshape(len(d.Time),1),#glucose\n",
    "                           y[:, 2].reshape(len(d.Time),1),#CO2\n",
    "                           #Flush.reshape(len(d.Time),1),\n",
    "                           DNA.reshape(len(d.Time),1)), axis=1)\n",
    "\n",
    "    return yhat"
   ]
  },
  {
   "cell_type": "code",
   "execution_count": 52,
   "metadata": {},
   "outputs": [],
   "source": [
    "def obj_funM (x):\n",
    "    #define parameters\n",
    "    ##v, Km, CUE, k, kdna\n",
    "    pars = x\n",
    "\n",
    "    #initial conditions\n",
    "    S_i = d.Sinit[0]\n",
    "    B_i = d.DNAinit[0]/pars[4]\n",
    "    \n",
    "    y0 = np.array([S_i, B_i, 0])\n",
    "\n",
    "    #times\n",
    "    t = d.Time\n",
    "\n",
    "    #model simulations\n",
    "    yhat_full = calcM(Mmodel, pars, t, y0)\n",
    "\n",
    "    #observations\n",
    "    obs=np.concatenate((#np.array([d.S]).reshape(len(d.Time),1),\n",
    "                        np.array([d.CO2]).reshape(len(d.Time),1),\n",
    "                        #np.array([d.Cmic12 + d.Cmic14]).reshape(len(d.Time),1),\n",
    "                        #np.array([d.Cmic14]).reshape(len(d.Time),1),\n",
    "                        np.array([d.DNA]).reshape(len(d.Time),1)),\n",
    "                     axis=1)\n",
    "\n",
    "    #weights\n",
    "    weights=np.concatenate((#np.nanstd(d.S).repeat(len(d.Time)).reshape(len(d.Time),1),\n",
    "                            np.nanstd(d.CO2).repeat(len(d.Time)).reshape(len(d.Time),1),\n",
    "                            #np.nanstd((d.Cmic12 + d.Cmic14)).repeat(len(d.Time)).reshape(len(d.Time),1),\n",
    "                            #np.nanmean(d.Cmic14).repeat(len(d.Time)).reshape(len(d.Time),1),\n",
    "                            np.nanstd(d.DNA).repeat(len(d.Time)).reshape(len(d.Time),1)),\n",
    "                       axis=1)\n",
    "\n",
    "\n",
    "    out=np.nansum(((yhat_full-obs)/weights)**2)\n",
    "\n",
    "    return out"
   ]
  },
  {
   "cell_type": "code",
   "execution_count": 50,
   "metadata": {},
   "outputs": [],
   "source": [
    "def goodnessM (x):\n",
    "    #define parameters\n",
    "    ##v, Km, CUE, k, kdna\n",
    "    pars = x\n",
    "\n",
    "    #initial conditions\n",
    "    S_i = d.Sinit[0]\n",
    "    B_i = d.DNAinit[0]/pars[4]\n",
    "    \n",
    "    y0 = np.array([S_i, B_i, 0])\n",
    "\n",
    "    #times\n",
    "    t = d.Time\n",
    "\n",
    "    #model simulations\n",
    "    yhat_full = calcM(Mmodel, pars, t, y0)\n",
    "\n",
    "    #Standardize the simulations\n",
    "    ##means\n",
    "    Smeans=np.concatenate((np.nanmean(yhat_full[:, 0]).repeat(len(d.Time)).reshape(len(d.Time),1),\n",
    "                            np.nanmean(yhat_full[:, 1]).repeat(len(d.Time)).reshape(len(d.Time),1)),\n",
    "                            #np.nanmean((yhat_full[:, 2])).repeat(len(d.Time)).reshape(len(d.Time),1),\n",
    "                            #np.nanmean(d.Cmic14).repeat(len(d.Time)).reshape(len(d.Time),1),\n",
    "                            #np.nanmean(yhat_full[:, 3]).repeat(len(d.Time)).reshape(len(d.Time),1)),\n",
    "                       axis=1)\n",
    "    ##std\n",
    "    Sstd=np.concatenate((np.nanstd(yhat_full[:, 0]).repeat(len(d.Time)).reshape(len(d.Time),1),\n",
    "                            np.nanstd(yhat_full[:, 1]).repeat(len(d.Time)).reshape(len(d.Time),1)),\n",
    "                            #np.nanstd((yhat_full[:, 2])).repeat(len(d.Time)).reshape(len(d.Time),1),\n",
    "                            #np.nanmean(d.Cmic14).repeat(len(d.Time)).reshape(len(d.Time),1),\n",
    "                            #np.nanstd(yhat_full[:, 3]).repeat(len(d.Time)).reshape(len(d.Time),1)),\n",
    "                       axis=1)\n",
    "    \n",
    "\n",
    "    #observations\n",
    "    obs=np.concatenate((#np.array([d.S]).reshape(len(d.Time),1),\n",
    "                        np.array([d.CO2]).reshape(len(d.Time),1),\n",
    "                        #np.array([d.Cmic12 + d.Cmic14]).reshape(len(d.Time),1),\n",
    "                        #np.array([d.Cmic14]).reshape(len(d.Time),1),\n",
    "                        np.array([d.DNA]).reshape(len(d.Time),1)),\n",
    "                     axis=1)\n",
    "    #Standardize the observations\n",
    "    ##means\n",
    "    Omeans=np.concatenate((#np.nanmean(d.S).repeat(len(d.Time)).reshape(len(d.Time),1),\n",
    "                            np.nanmean(d.CO2).repeat(len(d.Time)).reshape(len(d.Time),1),\n",
    "                            #np.nanmean((d.Cmic12 + d.Cmic14)).repeat(len(d.Time)).reshape(len(d.Time),1),\n",
    "                            #np.nanmean(d.Cmic14).repeat(len(d.Time)).reshape(len(d.Time),1),\n",
    "                            np.nanmean(d.DNA).repeat(len(d.Time)).reshape(len(d.Time),1)),\n",
    "                       axis=1)\n",
    "    ##std\n",
    "    Ostd=np.concatenate((#np.nanstd(d.S).repeat(len(d.Time)).reshape(len(d.Time),1),\n",
    "                            np.nanstd(d.CO2).repeat(len(d.Time)).reshape(len(d.Time),1),\n",
    "                            #np.nanstd((d.Cmic12 + d.Cmic14)).repeat(len(d.Time)).reshape(len(d.Time),1),\n",
    "                            #np.nanmean(d.Cmic14).repeat(len(d.Time)).reshape(len(d.Time),1),\n",
    "                            np.nanstd(d.DNA).repeat(len(d.Time)).reshape(len(d.Time),1)),\n",
    "                       axis=1)\n",
    "    \n",
    "    R2=1-np.nansum((obs-yhat_full)**2)/np.nansum((obs-np.nanmean(obs))**2)\n",
    "    ll=-np.nansum((obs-yhat_full)**2)/2/np.nanstd(obs)**2\n",
    "    AIC = len(pars)*2 - 2*ll\n",
    "    \n",
    "    #Normalized residual sum of squares \n",
    "    Fnorm = np.nansum((((obs-Omeans)/Ostd)-((yhat_full-Smeans)/Sstd))**2)\n",
    "    \n",
    "    out = np.array([R2, ll, AIC, Fnorm])\n",
    "\n",
    "    return out"
   ]
  },
  {
   "cell_type": "code",
   "execution_count": 46,
   "metadata": {},
   "outputs": [],
   "source": [
    "def predM (model, pars, t, y0):\n",
    "    #model parameters\n",
    "    ##v, Km, CUE, k\n",
    "    pars_model=pars[0:4]\n",
    "    #conversion factors\n",
    "    ##kdna\n",
    "    conversion=pars[4]\n",
    "\n",
    "    #solve the model\n",
    "    y=odeint(model,y0,t, args=(pars_model,))\n",
    "\n",
    "    #calculate total DNA, and flush (Flush)\n",
    "    #Flush = conversions[0]*y[:, 1]\n",
    "    DNA = conversion*y[:, 1]\n",
    "    \n",
    "    #Create data with predictions\n",
    "    yhat = np.concatenate((#y[:, 0].reshape(len(np.arange(0, 9.05, 0.05)),1),#glucose\n",
    "                           y[:, 2].reshape(len(np.arange(0, 2.01, 0.01)),1),#CO2\n",
    "                           #Flush.reshape(len(np.arange(0, 9.05, 0.05)),1),\n",
    "                           DNA.reshape(len(np.arange(0, 2.01, 0.01)),1)), axis=1)\n",
    "\n",
    "    return yhat"
   ]
  },
  {
   "cell_type": "markdown",
   "metadata": {},
   "source": [
    "## Rhizosphere soil"
   ]
  },
  {
   "cell_type": "code",
   "execution_count": 47,
   "metadata": {},
   "outputs": [],
   "source": [
    "d = dall[dall.Treatment == \"Rhizosphere\"]"
   ]
  },
  {
   "cell_type": "code",
   "execution_count": 55,
   "metadata": {},
   "outputs": [
    {
     "name": "stderr",
     "output_type": "stream",
     "text": [
      "<ipython-input-52-aac74c37740c>:8: RuntimeWarning: divide by zero encountered in double_scalars\n",
      "  B_i = d.DNAinit[0]/pars[4]\n",
      "<ipython-input-42-15e34bf3de91>:13: RuntimeWarning: invalid value encountered in double_scalars\n",
      "  growth = uptake*CUE\n",
      "<ipython-input-43-c272d95c6c09>:14: RuntimeWarning: invalid value encountered in multiply\n",
      "  DNA = conversion*y[:, 1]\n",
      "<ipython-input-42-15e34bf3de91>:19: RuntimeWarning: invalid value encountered in double_scalars\n",
      "  dBdt = growth - death\n"
     ]
    }
   ],
   "source": [
    "bla_mparsR=dual_annealing(obj_funM, [(0.001, 100), #v\n",
    "                                             (0.1, 10000), #Km                                             \n",
    "                                             (0, 1), #CUE\n",
    "                                             (1e-15, 0.1), #k\n",
    "                                             #(0, 1), #kec\n",
    "                                             (0, 1)]) #kDNA\n",
    "                                             #(0, 1)]) #iX1"
   ]
  },
  {
   "cell_type": "code",
   "execution_count": 56,
   "metadata": {},
   "outputs": [
    {
     "name": "stdout",
     "output_type": "stream",
     "text": [
      "     fun: 6.332862994272612\n",
      " message: ['Maximum number of iteration reached']\n",
      "    nfev: 22157\n",
      "    nhev: 0\n",
      "     nit: 1000\n",
      "    njev: 2026\n",
      "  status: 0\n",
      " success: True\n",
      "       x: array([9.17374255e+01, 7.85410590e+03, 7.49905201e-02, 1.00000000e-15,\n",
      "       4.45873187e-01])\n",
      "[ 0.87720004 -2.76299906 15.52599812  3.75097875]\n"
     ]
    }
   ],
   "source": [
    "print(bla_mparsR)\n",
    "print(goodnessM(bla_mparsR.x))"
   ]
  },
  {
   "cell_type": "code",
   "execution_count": 58,
   "metadata": {},
   "outputs": [],
   "source": [
    "#initial conditions\n",
    "S_i = d.Sinit[0]\n",
    "B_i = d.DNAinit[0]/bla_mparsR.x[4]\n",
    "    \n",
    "y0 = np.array([S_i, B_i, 0])\n",
    "\n",
    "#times\n",
    "t = np.arange(0, 2.01, 0.01)\n",
    "\n",
    "#model simulations\n",
    "blaRM = predM(Mmodel, bla_mparsR.x, t, y0)"
   ]
  },
  {
   "cell_type": "markdown",
   "metadata": {},
   "source": [
    "## Root free soil"
   ]
  },
  {
   "cell_type": "code",
   "execution_count": 59,
   "metadata": {},
   "outputs": [],
   "source": [
    "d = dall[dall.Treatment != \"Rhizosphere\"]\n",
    "d = d.reset_index()"
   ]
  },
  {
   "cell_type": "code",
   "execution_count": 60,
   "metadata": {},
   "outputs": [
    {
     "name": "stderr",
     "output_type": "stream",
     "text": [
      "<ipython-input-52-aac74c37740c>:8: RuntimeWarning: divide by zero encountered in double_scalars\n",
      "  B_i = d.DNAinit[0]/pars[4]\n",
      "<ipython-input-42-15e34bf3de91>:13: RuntimeWarning: invalid value encountered in double_scalars\n",
      "  growth = uptake*CUE\n",
      "<ipython-input-43-c272d95c6c09>:14: RuntimeWarning: invalid value encountered in multiply\n",
      "  DNA = conversion*y[:, 1]\n",
      "<ipython-input-42-15e34bf3de91>:19: RuntimeWarning: invalid value encountered in double_scalars\n",
      "  dBdt = growth - death\n"
     ]
    }
   ],
   "source": [
    "bla_mparsS=dual_annealing(obj_funM, [(0.001, 100), #v\n",
    "                                             (0.1, 10000), #Km                                             \n",
    "                                             (0, 1), #CUE\n",
    "                                             (1e-15, 0.1), #k\n",
    "                                             #(0, 1), #kec\n",
    "                                             (0, 1)]) #kDNA\n",
    "                                             #(0, 1)]) #iX1"
   ]
  },
  {
   "cell_type": "code",
   "execution_count": 61,
   "metadata": {},
   "outputs": [
    {
     "name": "stdout",
     "output_type": "stream",
     "text": [
      "     fun: 7.893155841114035\n",
      " message: ['Maximum number of iteration reached']\n",
      "    nfev: 22163\n",
      "    nhev: 0\n",
      "     nit: 1000\n",
      "    njev: 2027\n",
      "  status: 0\n",
      " success: True\n",
      "       x: array([6.85761122e+01, 2.24277673e+03, 3.46580796e-02, 1.00000000e-15,\n",
      "       8.68986782e-01])\n",
      "[ 0.85406413 -3.28355719 16.56711437  4.18352029]\n"
     ]
    }
   ],
   "source": [
    "print(bla_mparsS)\n",
    "print(goodnessM(bla_mparsS.x))"
   ]
  },
  {
   "cell_type": "code",
   "execution_count": 62,
   "metadata": {},
   "outputs": [],
   "source": [
    "#initial conditions\n",
    "S_i = d.Sinit[0]\n",
    "B_i = d.DNAinit[0]/bla_mparsS.x[4]\n",
    "    \n",
    "y0 = np.array([S_i, B_i, 0])\n",
    "\n",
    "#times\n",
    "t = np.arange(0, 2.01, 0.01)\n",
    "\n",
    "#model simulations\n",
    "blaSM = predM(Mmodel, bla_mparsS.x, t, y0)\n",
    "Blagodatskaya2014PredM = np.concatenate([blaRM, blaSM])\n",
    "np.savetxt('/mnt/580CBE2464C5F83D/pracovni/data_statistika/SoilMBVariability/PythonScripts/Blagodatskaya2014PredM.csv', Blagodatskaya2014PredM, delimiter=\",\")"
   ]
  },
  {
   "cell_type": "markdown",
   "metadata": {},
   "source": [
    "## Pirt model\n",
    "Model as well as supplementary functions are defined below"
   ]
  },
  {
   "cell_type": "code",
   "execution_count": 63,
   "metadata": {},
   "outputs": [],
   "source": [
    "def Pmodel (y, t, pars):\n",
    "    #define initial pools\n",
    "    S=y[0];    B=y[1];    CO2=y[2];\n",
    "    \n",
    "    #define parameters\n",
    "    v=pars[0]; \n",
    "    Km=pars[1];     \n",
    "    CUE=pars[2];\n",
    "    m = pars[3];\n",
    "    k = pars[4];\n",
    "        \n",
    "    #Fluxes\n",
    "    uptake = v*S*B/(S + Km)\n",
    "    growth = uptake*CUE\n",
    "    respiration = uptake*(1 - CUE) + B*m\n",
    "    death = B*k\n",
    "    \n",
    "    #Define derivatives\n",
    "    dSdt = -uptake\n",
    "    dBdt = growth - death\n",
    "    dCO2dt = respiration\n",
    "           \n",
    "    return dSdt, dBdt, dCO2dt;"
   ]
  },
  {
   "cell_type": "code",
   "execution_count": 64,
   "metadata": {},
   "outputs": [],
   "source": [
    "def calcP (model, pars, t, y0):\n",
    "    #model parameters\n",
    "    ##v, Km, CUE, m, k\n",
    "    pars_model=pars[0:5]\n",
    "    #conversion factors\n",
    "    ##kdna\n",
    "    conversion=pars[5]\n",
    "\n",
    "    #solve the model\n",
    "    y=odeint(model,y0,t, args=(pars_model,))\n",
    "\n",
    "    #calculate total DNA, and flush (Flush)\n",
    "    #Flush = conversions[0]*y[:, 1]\n",
    "    DNA = conversion*y[:, 1]\n",
    "    \n",
    "    #Create data with predictions\n",
    "    yhat = np.concatenate((#y[:, 0].reshape(len(d.Time),1),#glucose\n",
    "                           y[:, 2].reshape(len(d.Time),1),#CO2\n",
    "                           #Flush.reshape(len(d.Time),1),\n",
    "                           DNA.reshape(len(d.Time),1)), axis=1)\n",
    "\n",
    "    return yhat"
   ]
  },
  {
   "cell_type": "code",
   "execution_count": 65,
   "metadata": {},
   "outputs": [],
   "source": [
    "def obj_funP (x):\n",
    "    #define parameters\n",
    "    ##v, Km, CUE, m, k, kdna\n",
    "    pars = x\n",
    "\n",
    "    #initial conditions\n",
    "    S_i = d.Sinit[0]\n",
    "    B_i = d.DNAinit[0]/pars[5]\n",
    "    \n",
    "    y0 = np.array([S_i, B_i, 0])\n",
    "\n",
    "    #times\n",
    "    t = d.Time\n",
    "\n",
    "    #model simulations\n",
    "    yhat_full = calcP(Pmodel, pars, t, y0)\n",
    "\n",
    "    #observations\n",
    "    obs=np.concatenate((#np.array([d.S]).reshape(len(d.Time),1),\n",
    "                        np.array([d.CO2]).reshape(len(d.Time),1),\n",
    "                        #np.array([d.Cmic12 + d.Cmic14]).reshape(len(d.Time),1),\n",
    "                        #np.array([d.Cmic14]).reshape(len(d.Time),1),\n",
    "                        np.array([d.DNA]).reshape(len(d.Time),1)),\n",
    "                     axis=1)\n",
    "\n",
    "    #weights\n",
    "    weights=np.concatenate((#np.nanstd(d.S).repeat(len(d.Time)).reshape(len(d.Time),1),\n",
    "                            np.nanstd(d.CO2).repeat(len(d.Time)).reshape(len(d.Time),1),\n",
    "                            #np.nanstd((d.Cmic12 + d.Cmic14)).repeat(len(d.Time)).reshape(len(d.Time),1),\n",
    "                            #np.nanmean(d.Cmic14).repeat(len(d.Time)).reshape(len(d.Time),1),\n",
    "                            np.nanstd(d.DNA).repeat(len(d.Time)).reshape(len(d.Time),1)),\n",
    "                       axis=1)\n",
    "\n",
    "\n",
    "    out=np.nansum(((yhat_full-obs)/weights)**2)\n",
    "\n",
    "    return out"
   ]
  },
  {
   "cell_type": "code",
   "execution_count": 66,
   "metadata": {},
   "outputs": [],
   "source": [
    "def goodnessP (x):\n",
    "    #define parameters\n",
    "    ##v, Km, CUE, k, kdna\n",
    "    pars = x\n",
    "\n",
    "    #initial conditions\n",
    "    S_i = d.Sinit[0]\n",
    "    B_i = d.DNAinit[0]/pars[5]\n",
    "    \n",
    "    y0 = np.array([S_i, B_i, 0])\n",
    "\n",
    "    #times\n",
    "    t = d.Time\n",
    "\n",
    "    #model simulations\n",
    "    yhat_full = calcP(Pmodel, pars, t, y0)\n",
    "\n",
    "    #Standardize the simulations\n",
    "    ##means\n",
    "    Smeans=np.concatenate((np.nanmean(yhat_full[:, 0]).repeat(len(d.Time)).reshape(len(d.Time),1),\n",
    "                            np.nanmean(yhat_full[:, 1]).repeat(len(d.Time)).reshape(len(d.Time),1)),\n",
    "                            #np.nanmean((yhat_full[:, 2])).repeat(len(d.Time)).reshape(len(d.Time),1),\n",
    "                            #np.nanmean(d.Cmic14).repeat(len(d.Time)).reshape(len(d.Time),1),\n",
    "                            #np.nanmean(yhat_full[:, 3]).repeat(len(d.Time)).reshape(len(d.Time),1)),\n",
    "                       axis=1)\n",
    "    ##std\n",
    "    Sstd=np.concatenate((np.nanstd(yhat_full[:, 0]).repeat(len(d.Time)).reshape(len(d.Time),1),\n",
    "                            np.nanstd(yhat_full[:, 1]).repeat(len(d.Time)).reshape(len(d.Time),1)),\n",
    "                            #np.nanstd((yhat_full[:, 2])).repeat(len(d.Time)).reshape(len(d.Time),1),\n",
    "                            #np.nanmean(d.Cmic14).repeat(len(d.Time)).reshape(len(d.Time),1),\n",
    "                            #np.nanstd(yhat_full[:, 3]).repeat(len(d.Time)).reshape(len(d.Time),1)),\n",
    "                       axis=1)\n",
    "    \n",
    "\n",
    "    #observations\n",
    "    obs=np.concatenate((#np.array([d.S]).reshape(len(d.Time),1),\n",
    "                        np.array([d.CO2]).reshape(len(d.Time),1),\n",
    "                        #np.array([d.Cmic12 + d.Cmic14]).reshape(len(d.Time),1),\n",
    "                        #np.array([d.Cmic14]).reshape(len(d.Time),1),\n",
    "                        np.array([d.DNA]).reshape(len(d.Time),1)),\n",
    "                     axis=1)\n",
    "    #Standardize the observations\n",
    "    ##means\n",
    "    Omeans=np.concatenate((#np.nanmean(d.S).repeat(len(d.Time)).reshape(len(d.Time),1),\n",
    "                            np.nanmean(d.CO2).repeat(len(d.Time)).reshape(len(d.Time),1),\n",
    "                            #np.nanmean((d.Cmic12 + d.Cmic14)).repeat(len(d.Time)).reshape(len(d.Time),1),\n",
    "                            #np.nanmean(d.Cmic14).repeat(len(d.Time)).reshape(len(d.Time),1),\n",
    "                            np.nanmean(d.DNA).repeat(len(d.Time)).reshape(len(d.Time),1)),\n",
    "                       axis=1)\n",
    "    ##std\n",
    "    Ostd=np.concatenate((#np.nanstd(d.S).repeat(len(d.Time)).reshape(len(d.Time),1),\n",
    "                            np.nanstd(d.CO2).repeat(len(d.Time)).reshape(len(d.Time),1),\n",
    "                            #np.nanstd((d.Cmic12 + d.Cmic14)).repeat(len(d.Time)).reshape(len(d.Time),1),\n",
    "                            #np.nanmean(d.Cmic14).repeat(len(d.Time)).reshape(len(d.Time),1),\n",
    "                            np.nanstd(d.DNA).repeat(len(d.Time)).reshape(len(d.Time),1)),\n",
    "                       axis=1)\n",
    "    \n",
    "    R2=1-np.nansum((obs-yhat_full)**2)/np.nansum((obs-np.nanmean(obs))**2)\n",
    "    ll=-np.nansum((obs-yhat_full)**2)/2/np.nanstd(obs)**2\n",
    "    AIC = len(pars)*2 - 2*ll\n",
    "    \n",
    "    #Normalized residual sum of squares \n",
    "    Fnorm = np.nansum((((obs-Omeans)/Ostd)-((yhat_full-Smeans)/Sstd))**2)\n",
    "    \n",
    "    out = np.array([R2, ll, AIC, Fnorm])\n",
    "\n",
    "    return out"
   ]
  },
  {
   "cell_type": "code",
   "execution_count": 67,
   "metadata": {},
   "outputs": [],
   "source": [
    "def predP (model, pars, t, y0):\n",
    "    #model parameters\n",
    "    ##v, Km, CUE, m, k\n",
    "    pars_model=pars[0:5]\n",
    "    #conversion factors\n",
    "    ##kdna\n",
    "    conversion=pars[5]\n",
    "\n",
    "    #solve the model\n",
    "    y=odeint(model,y0,t, args=(pars_model,))\n",
    "\n",
    "    #calculate total DNA, and flush (Flush)\n",
    "    #Flush = conversions[0]*y[:, 1]\n",
    "    DNA = conversion*y[:, 1]\n",
    "    \n",
    "    #Create data with predictions\n",
    "    yhat = np.concatenate((#y[:, 0].reshape(len(np.arange(0, 9.05, 0.05)),1),#glucose\n",
    "                           y[:, 2].reshape(len(np.arange(0, 2.01, 0.01)),1),#CO2\n",
    "                           #Flush.reshape(len(np.arange(0, 9.05, 0.05)),1),\n",
    "                           DNA.reshape(len(np.arange(0, 2.01, 0.01)),1)), axis=1)\n",
    "\n",
    "    return yhat"
   ]
  },
  {
   "cell_type": "markdown",
   "metadata": {},
   "source": [
    "## Rhizosphere soil"
   ]
  },
  {
   "cell_type": "code",
   "execution_count": 68,
   "metadata": {},
   "outputs": [],
   "source": [
    "d = dall[dall.Treatment == \"Rhizosphere\"]"
   ]
  },
  {
   "cell_type": "code",
   "execution_count": 71,
   "metadata": {},
   "outputs": [
    {
     "name": "stderr",
     "output_type": "stream",
     "text": [
      "<ipython-input-65-47133bf34c73>:8: RuntimeWarning: divide by zero encountered in double_scalars\n",
      "  B_i = d.DNAinit[0]/pars[5]\n",
      "<ipython-input-63-c3d2819ce9aa>:14: RuntimeWarning: invalid value encountered in double_scalars\n",
      "  growth = uptake*CUE\n",
      "<ipython-input-64-5a4a2a03f6b8>:14: RuntimeWarning: invalid value encountered in multiply\n",
      "  DNA = conversion*y[:, 1]\n",
      "<ipython-input-63-c3d2819ce9aa>:20: RuntimeWarning: invalid value encountered in double_scalars\n",
      "  dBdt = growth - death\n",
      "<ipython-input-63-c3d2819ce9aa>:15: RuntimeWarning: invalid value encountered in double_scalars\n",
      "  respiration = uptake*(1 - CUE) + B*m\n"
     ]
    }
   ],
   "source": [
    "bla_pparsR=dual_annealing(obj_funP, [(0.001, 100), #v\n",
    "                                             (0.1, 10000), #Km                                             \n",
    "                                             (0, 1), #CUE\n",
    "                                             (1e-15, 0.1), #k\n",
    "                                             (1e-15, 0.1), #m\n",
    "                                             #(0, 1), #kec\n",
    "                                             (0, 1)]) #kDNA\n",
    "                                             #(0, 1)]) #iX1"
   ]
  },
  {
   "cell_type": "code",
   "execution_count": 72,
   "metadata": {},
   "outputs": [
    {
     "name": "stdout",
     "output_type": "stream",
     "text": [
      "     fun: 6.329987219711947\n",
      " message: ['Maximum number of iteration reached']\n",
      "    nfev: 26995\n",
      "    nhev: 0\n",
      "     nit: 1000\n",
      "    njev: 2142\n",
      "  status: 0\n",
      " success: True\n",
      "       x: array([7.59518790e+01, 8.10945204e+03, 9.32491598e-02, 1.00000000e-01,\n",
      "       1.00000000e-15, 3.57155203e-01])\n",
      "[ 0.877268   -2.76147002 17.52294004  3.75062408]\n"
     ]
    }
   ],
   "source": [
    "print(bla_pparsR)\n",
    "print(goodnessP(bla_pparsR.x))"
   ]
  },
  {
   "cell_type": "code",
   "execution_count": 73,
   "metadata": {},
   "outputs": [],
   "source": [
    "#initial conditions\n",
    "S_i = d.Sinit[0]\n",
    "B_i = d.DNAinit[0]/bla_pparsR.x[5]\n",
    "    \n",
    "y0 = np.array([S_i, B_i, 0])\n",
    "\n",
    "#times\n",
    "t = np.arange(0, 2.01, 0.01)\n",
    "\n",
    "#model simulations\n",
    "blaPR = predP(Pmodel, bla_pparsR.x, t, y0)"
   ]
  },
  {
   "cell_type": "markdown",
   "metadata": {},
   "source": [
    "## Root free soil"
   ]
  },
  {
   "cell_type": "code",
   "execution_count": 74,
   "metadata": {},
   "outputs": [],
   "source": [
    "d = dall[dall.Treatment != \"Rhizosphere\"]\n",
    "d = d.reset_index()"
   ]
  },
  {
   "cell_type": "code",
   "execution_count": 75,
   "metadata": {},
   "outputs": [
    {
     "name": "stderr",
     "output_type": "stream",
     "text": [
      "<ipython-input-65-47133bf34c73>:8: RuntimeWarning: divide by zero encountered in double_scalars\n",
      "  B_i = d.DNAinit[0]/pars[5]\n",
      "<ipython-input-63-c3d2819ce9aa>:14: RuntimeWarning: invalid value encountered in double_scalars\n",
      "  growth = uptake*CUE\n",
      "<ipython-input-64-5a4a2a03f6b8>:14: RuntimeWarning: invalid value encountered in multiply\n",
      "  DNA = conversion*y[:, 1]\n",
      "<ipython-input-63-c3d2819ce9aa>:20: RuntimeWarning: invalid value encountered in double_scalars\n",
      "  dBdt = growth - death\n"
     ]
    }
   ],
   "source": [
    "bla_pparsS=dual_annealing(obj_funP, [(0.001, 100), #v\n",
    "                                             (0.1, 10000), #Km                                             \n",
    "                                             (0, 1), #CUE\n",
    "                                             (1e-15, 0.1), #k\n",
    "                                             (1e-15, 0.1), #m\n",
    "                                             #(0, 1), #kec\n",
    "                                             (0, 1)]) #kDNA\n",
    "                                             #(0, 1)]) #iX1"
   ]
  },
  {
   "cell_type": "code",
   "execution_count": 76,
   "metadata": {},
   "outputs": [
    {
     "name": "stdout",
     "output_type": "stream",
     "text": [
      "     fun: 7.9505052386438075\n",
      " message: ['Maximum number of iteration reached']\n",
      "    nfev: 24188\n",
      "    nhev: 0\n",
      "     nit: 1000\n",
      "    njev: 1741\n",
      "  status: 0\n",
      " success: True\n",
      "       x: array([9.17261283e+01, 3.83210356e+03, 3.94698748e-02, 1.00000000e-01,\n",
      "       1.00000000e-15, 7.64725318e-01])\n",
      "[ 0.85301171 -3.30723653 18.61447307  4.21367685]\n"
     ]
    }
   ],
   "source": [
    "print(bla_pparsS)\n",
    "print(goodnessP(bla_pparsS.x))"
   ]
  },
  {
   "cell_type": "code",
   "execution_count": 77,
   "metadata": {},
   "outputs": [],
   "source": [
    "#initial conditions\n",
    "S_i = d.Sinit[0]\n",
    "B_i = d.DNAinit[0]/bla_pparsS.x[5]\n",
    "    \n",
    "y0 = np.array([S_i, B_i, 0])\n",
    "\n",
    "#times\n",
    "t = np.arange(0, 2.01, 0.01)\n",
    "\n",
    "#model simulations\n",
    "blaPS = predP(Pmodel, bla_pparsS.x, t, y0)\n",
    "\n",
    "Blagodatskaya2014PredP = np.concatenate([blaPR, blaPS])\n",
    "np.savetxt('/mnt/580CBE2464C5F83D/pracovni/data_statistika/SoilMBVariability/PythonScripts/Blagodatskaya2014PredP.csv', Blagodatskaya2014PredP, delimiter=\",\")"
   ]
  },
  {
   "cell_type": "code",
   "execution_count": null,
   "metadata": {},
   "outputs": [],
   "source": []
  }
 ],
 "metadata": {
  "kernelspec": {
   "display_name": "Python 3",
   "language": "python",
   "name": "python3"
  },
  "language_info": {
   "codemirror_mode": {
    "name": "ipython",
    "version": 3
   },
   "file_extension": ".py",
   "mimetype": "text/x-python",
   "name": "python",
   "nbconvert_exporter": "python",
   "pygments_lexer": "ipython3",
   "version": "3.8.10"
  }
 },
 "nbformat": 4,
 "nbformat_minor": 2
}
