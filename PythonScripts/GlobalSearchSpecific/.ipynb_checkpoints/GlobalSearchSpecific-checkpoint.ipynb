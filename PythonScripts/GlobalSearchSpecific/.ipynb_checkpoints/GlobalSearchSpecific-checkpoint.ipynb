{
 "cells": [
  {
   "cell_type": "markdown",
   "metadata": {},
   "source": [
    "# Global DEB model parameters\n",
    "## Parameters are estimated across all collected studies\n",
    "\n",
    "This analysis is performed in order to determine generalizability of DEB model."
   ]
  },
  {
   "cell_type": "markdown",
   "metadata": {},
   "source": [
    "### Importing libraries"
   ]
  },
  {
   "cell_type": "code",
   "execution_count": 1,
   "metadata": {},
   "outputs": [],
   "source": [
    "import numpy as np\n",
    "import pandas as pd\n",
    "from scipy.integrate import odeint\n",
    "from scipy.optimize import dual_annealing\n",
    "from scipy.optimize import differential_evolution\n",
    "from scipy.optimize import brute\n",
    "from scipy.optimize import fmin\n",
    "from skopt import gp_minimize\n",
    "from skopt import forest_minimize"
   ]
  },
  {
   "cell_type": "markdown",
   "metadata": {},
   "source": [
    "### Importing modules\n",
    "Modules calculate weighted residual sum of squares. One module is one study"
   ]
  },
  {
   "cell_type": "code",
   "execution_count": 2,
   "metadata": {},
   "outputs": [],
   "source": [
    "from objectiveWP import objectiveWP\n",
    "from objectiveM import objectiveM\n",
    "from objectiveG import objectiveG\n",
    "from objectiveB import objectiveB\n",
    "#from objectiveZ import objectiveZ - do not estimate conversion to PLFA (only one study and two parameters) \n",
    "from objectiveBl import objectiveBl\n",
    "from objectiveS import objectiveS\n",
    "from objectiveJ import objectiveJ\n",
    "from objectiveT import objectiveT\n",
    "from objectiveN_A import objectiveN_A\n",
    "from objectiveN_B import objectiveN_B\n",
    "from objectiveN_C import objectiveN_C"
   ]
  },
  {
   "cell_type": "markdown",
   "metadata": {},
   "source": [
    "# List of parameters\n",
    "0 - yA  $~~~~~~~~~$   1 - Km  $~~~~~~~~~$    2 - v   $~~~~~~~~~$   3 - m   $~~~~~~~~~$   4 - g $~~~~~~~~~$ 5 - ce\n",
    "\n",
    "6 - nX1 $~~~~~~~~~$ 7 - iX1 $~~~~~~~~~$ 8 - te $~~~~~~~~~$ 9 - tX1 $~~~~~~~~~$ 10 - MwX1 $~~~~~~~~~$ 11 - Mwe\n",
    "\n",
    "12 - e(Wardle) $~~~~~~~~~$ 13 - e(Glanville) $~~~~~~~~~$ 14 - e(Marstorp) $~~~~~~~~~$ 15 - e(Blagodatskaya)\n",
    "\n"
   ]
  },
  {
   "cell_type": "markdown",
   "metadata": {},
   "source": [
    "## Objective function\n",
    "\n",
    "It is simply the function calculating sum of weighted residual sum of squares returned from imported modules."
   ]
  },
  {
   "cell_type": "code",
   "execution_count": 3,
   "metadata": {},
   "outputs": [],
   "source": [
    "def objectiveGlobal (x):\n",
    "    out = sum([objectiveWP(x), objectiveG(x), objectiveN_C(x), objectiveM(x), objectiveS(x), objectiveB(x), objectiveBl(x), \n",
    "     objectiveT(x), objectiveJ(x), objectiveN_A(x), objectiveN_B(x)])\n",
    "    return out"
   ]
  },
  {
   "cell_type": "markdown",
   "metadata": {},
   "source": [
    "## Parameters estimation"
   ]
  },
  {
   "cell_type": "markdown",
   "metadata": {},
   "source": [
    "Limits of model parameters are defined according to parameters estimated for individual studies."
   ]
  },
  {
   "cell_type": "code",
   "execution_count": 4,
   "metadata": {},
   "outputs": [],
   "source": [
    "#Individual parameters\n",
    "yA = (0.05, 1)           \n",
    "Km = (12, 4000)         \n",
    "v = (0.03, 30)           \n",
    "m = (1e-12, 0.1)           \n",
    "g = (0.08, 5)          \n",
    "ce = (0.3, 7)\n",
    "nX1 = (0.1, 0.45)          \n",
    "iX1 = (0.01, 0.1)           \n",
    "te = (0.0001, 0.2)           \n",
    "tX1 = (0.001, 0.05)           \n",
    "MwX1 = (10, 500)          \n",
    "Mwe = (10, 500)\n",
    "eW = (0, 1)        \n",
    "eG = (0, 1)          \n",
    "eM = (0, 1)           \n",
    "eBl = (0, 1)        \n",
    "\n",
    "#Parameter space\n",
    "parSpace = [yA, Km, v, m, g, ce, nX1, iX1, te, tX1, MwX1, Mwe, \n",
    "            eW, eG, eM, eBl]"
   ]
  },
  {
   "cell_type": "markdown",
   "metadata": {},
   "source": [
    "#### Using random forests"
   ]
  },
  {
   "cell_type": "code",
   "execution_count": 5,
   "metadata": {},
   "outputs": [
    {
     "name": "stderr",
     "output_type": "stream",
     "text": [
      "/mnt/580CBE2464C5F83D/pracovni/data_statistika/SoilMBVariability/PythonScripts/GlobalSearchSpecific/DEBmodelIso.py:17: RuntimeWarning: invalid value encountered in double_scalars\n",
      "  eatm = el/(el + eu)\n",
      "/mnt/580CBE2464C5F83D/pracovni/data_statistika/SoilMBVariability/PythonScripts/GlobalSearchSpecific/DEBmodelIso.py:17: RuntimeWarning: invalid value encountered in double_scalars\n",
      "  eatm = el/(el + eu)\n",
      "/usr/local/lib/python3.8/dist-packages/scipy/integrate/odepack.py:247: ODEintWarning: Excess work done on this call (perhaps wrong Dfun type). Run with full_output = 1 to get quantitative information.\n",
      "  warnings.warn(warning_msg, ODEintWarning)\n",
      "/mnt/580CBE2464C5F83D/pracovni/data_statistika/SoilMBVariability/PythonScripts/GlobalSearchSpecific/DEBmodelIso.py:17: RuntimeWarning: invalid value encountered in double_scalars\n",
      "  eatm = el/(el + eu)\n",
      "/mnt/580CBE2464C5F83D/pracovni/data_statistika/SoilMBVariability/PythonScripts/GlobalSearchSpecific/DEBmodelIso.py:17: RuntimeWarning: invalid value encountered in double_scalars\n",
      "  eatm = el/(el + eu)\n",
      "/mnt/580CBE2464C5F83D/pracovni/data_statistika/SoilMBVariability/PythonScripts/GlobalSearchSpecific/DEBmodelIso.py:17: RuntimeWarning: invalid value encountered in double_scalars\n",
      "  eatm = el/(el + eu)\n",
      "/mnt/580CBE2464C5F83D/pracovni/data_statistika/SoilMBVariability/PythonScripts/GlobalSearchSpecific/DEBmodelIso.py:17: RuntimeWarning: invalid value encountered in double_scalars\n",
      "  eatm = el/(el + eu)\n",
      "/mnt/580CBE2464C5F83D/pracovni/data_statistika/SoilMBVariability/PythonScripts/GlobalSearchSpecific/DEBmodelIso.py:17: RuntimeWarning: invalid value encountered in double_scalars\n",
      "  eatm = el/(el + eu)\n",
      "/mnt/580CBE2464C5F83D/pracovni/data_statistika/SoilMBVariability/PythonScripts/GlobalSearchSpecific/DEBmodelIso.py:17: RuntimeWarning: invalid value encountered in double_scalars\n",
      "  eatm = el/(el + eu)\n",
      "/usr/local/lib/python3.8/dist-packages/scipy/integrate/odepack.py:247: ODEintWarning: Excess work done on this call (perhaps wrong Dfun type). Run with full_output = 1 to get quantitative information.\n",
      "  warnings.warn(warning_msg, ODEintWarning)\n",
      "/mnt/580CBE2464C5F83D/pracovni/data_statistika/SoilMBVariability/PythonScripts/GlobalSearchSpecific/DEBmodelIso.py:17: RuntimeWarning: invalid value encountered in double_scalars\n",
      "  eatm = el/(el + eu)\n",
      "/mnt/580CBE2464C5F83D/pracovni/data_statistika/SoilMBVariability/PythonScripts/GlobalSearchSpecific/DEBmodelIso.py:17: RuntimeWarning: invalid value encountered in double_scalars\n",
      "  eatm = el/(el + eu)\n",
      "/mnt/580CBE2464C5F83D/pracovni/data_statistika/SoilMBVariability/PythonScripts/GlobalSearchSpecific/DEBmodelIso.py:17: RuntimeWarning: invalid value encountered in double_scalars\n",
      "  eatm = el/(el + eu)\n",
      "/mnt/580CBE2464C5F83D/pracovni/data_statistika/SoilMBVariability/PythonScripts/GlobalSearchSpecific/DEBmodelIso.py:17: RuntimeWarning: invalid value encountered in double_scalars\n",
      "  eatm = el/(el + eu)\n",
      "/mnt/580CBE2464C5F83D/pracovni/data_statistika/SoilMBVariability/PythonScripts/GlobalSearchSpecific/DEBmodelIso.py:17: RuntimeWarning: invalid value encountered in double_scalars\n",
      "  eatm = el/(el + eu)\n",
      "/mnt/580CBE2464C5F83D/pracovni/data_statistika/SoilMBVariability/PythonScripts/GlobalSearchSpecific/DEBmodelIso.py:17: RuntimeWarning: invalid value encountered in double_scalars\n",
      "  eatm = el/(el + eu)\n",
      "/mnt/580CBE2464C5F83D/pracovni/data_statistika/SoilMBVariability/PythonScripts/GlobalSearchSpecific/DEBmodelIso.py:17: RuntimeWarning: invalid value encountered in double_scalars\n",
      "  eatm = el/(el + eu)\n",
      "/mnt/580CBE2464C5F83D/pracovni/data_statistika/SoilMBVariability/PythonScripts/GlobalSearchSpecific/DEBmodelIso.py:17: RuntimeWarning: invalid value encountered in double_scalars\n",
      "  eatm = el/(el + eu)\n",
      "/mnt/580CBE2464C5F83D/pracovni/data_statistika/SoilMBVariability/PythonScripts/GlobalSearchSpecific/DEBmodelIso.py:17: RuntimeWarning: invalid value encountered in double_scalars\n",
      "  eatm = el/(el + eu)\n",
      "/mnt/580CBE2464C5F83D/pracovni/data_statistika/SoilMBVariability/PythonScripts/GlobalSearchSpecific/DEBmodelIso.py:17: RuntimeWarning: invalid value encountered in double_scalars\n",
      "  eatm = el/(el + eu)\n",
      "/mnt/580CBE2464C5F83D/pracovni/data_statistika/SoilMBVariability/PythonScripts/GlobalSearchSpecific/DEBmodelIso.py:17: RuntimeWarning: invalid value encountered in double_scalars\n",
      "  eatm = el/(el + eu)\n",
      "/mnt/580CBE2464C5F83D/pracovni/data_statistika/SoilMBVariability/PythonScripts/GlobalSearchSpecific/DEBmodelIso.py:17: RuntimeWarning: invalid value encountered in double_scalars\n",
      "  eatm = el/(el + eu)\n",
      "/mnt/580CBE2464C5F83D/pracovni/data_statistika/SoilMBVariability/PythonScripts/GlobalSearchSpecific/DEBmodelIso.py:17: RuntimeWarning: invalid value encountered in double_scalars\n",
      "  eatm = el/(el + eu)\n",
      "/mnt/580CBE2464C5F83D/pracovni/data_statistika/SoilMBVariability/PythonScripts/GlobalSearchSpecific/DEBmodelIso.py:17: RuntimeWarning: invalid value encountered in double_scalars\n",
      "  eatm = el/(el + eu)\n",
      "/mnt/580CBE2464C5F83D/pracovni/data_statistika/SoilMBVariability/PythonScripts/GlobalSearchSpecific/DEBmodelIso.py:17: RuntimeWarning: invalid value encountered in double_scalars\n",
      "  eatm = el/(el + eu)\n",
      "/mnt/580CBE2464C5F83D/pracovni/data_statistika/SoilMBVariability/PythonScripts/GlobalSearchSpecific/DEBmodelIso.py:17: RuntimeWarning: invalid value encountered in double_scalars\n",
      "  eatm = el/(el + eu)\n",
      "/mnt/580CBE2464C5F83D/pracovni/data_statistika/SoilMBVariability/PythonScripts/GlobalSearchSpecific/DEBmodelIso.py:17: RuntimeWarning: invalid value encountered in double_scalars\n",
      "  eatm = el/(el + eu)\n",
      "/mnt/580CBE2464C5F83D/pracovni/data_statistika/SoilMBVariability/PythonScripts/GlobalSearchSpecific/DEBmodelIso.py:17: RuntimeWarning: invalid value encountered in double_scalars\n",
      "  eatm = el/(el + eu)\n",
      "/usr/local/lib/python3.8/dist-packages/scipy/integrate/odepack.py:247: ODEintWarning: Excess work done on this call (perhaps wrong Dfun type). Run with full_output = 1 to get quantitative information.\n",
      "  warnings.warn(warning_msg, ODEintWarning)\n",
      "/mnt/580CBE2464C5F83D/pracovni/data_statistika/SoilMBVariability/PythonScripts/GlobalSearchSpecific/DEBmodelIso.py:17: RuntimeWarning: invalid value encountered in double_scalars\n",
      "  eatm = el/(el + eu)\n",
      "/mnt/580CBE2464C5F83D/pracovni/data_statistika/SoilMBVariability/PythonScripts/GlobalSearchSpecific/DEBmodelIso.py:17: RuntimeWarning: invalid value encountered in double_scalars\n",
      "  eatm = el/(el + eu)\n",
      "/mnt/580CBE2464C5F83D/pracovni/data_statistika/SoilMBVariability/PythonScripts/GlobalSearchSpecific/DEBmodelIso.py:17: RuntimeWarning: invalid value encountered in double_scalars\n",
      "  eatm = el/(el + eu)\n",
      "/mnt/580CBE2464C5F83D/pracovni/data_statistika/SoilMBVariability/PythonScripts/GlobalSearchSpecific/DEBmodelIso.py:17: RuntimeWarning: invalid value encountered in double_scalars\n",
      "  eatm = el/(el + eu)\n",
      "/mnt/580CBE2464C5F83D/pracovni/data_statistika/SoilMBVariability/PythonScripts/GlobalSearchSpecific/DEBmodelIso.py:17: RuntimeWarning: invalid value encountered in double_scalars\n",
      "  eatm = el/(el + eu)\n",
      "/mnt/580CBE2464C5F83D/pracovni/data_statistika/SoilMBVariability/PythonScripts/GlobalSearchSpecific/DEBmodelIso.py:17: RuntimeWarning: invalid value encountered in double_scalars\n",
      "  eatm = el/(el + eu)\n",
      "/mnt/580CBE2464C5F83D/pracovni/data_statistika/SoilMBVariability/PythonScripts/GlobalSearchSpecific/DEBmodelIso.py:17: RuntimeWarning: invalid value encountered in double_scalars\n",
      "  eatm = el/(el + eu)\n",
      "/mnt/580CBE2464C5F83D/pracovni/data_statistika/SoilMBVariability/PythonScripts/GlobalSearchSpecific/DEBmodelIso.py:17: RuntimeWarning: invalid value encountered in double_scalars\n",
      "  eatm = el/(el + eu)\n",
      "/mnt/580CBE2464C5F83D/pracovni/data_statistika/SoilMBVariability/PythonScripts/GlobalSearchSpecific/DEBmodelIso.py:17: RuntimeWarning: invalid value encountered in double_scalars\n",
      "  eatm = el/(el + eu)\n",
      "/mnt/580CBE2464C5F83D/pracovni/data_statistika/SoilMBVariability/PythonScripts/GlobalSearchSpecific/DEBmodelIso.py:17: RuntimeWarning: invalid value encountered in double_scalars\n",
      "  eatm = el/(el + eu)\n",
      "/mnt/580CBE2464C5F83D/pracovni/data_statistika/SoilMBVariability/PythonScripts/GlobalSearchSpecific/DEBmodelIso.py:17: RuntimeWarning: invalid value encountered in double_scalars\n",
      "  eatm = el/(el + eu)\n",
      "/mnt/580CBE2464C5F83D/pracovni/data_statistika/SoilMBVariability/PythonScripts/GlobalSearchSpecific/DEBmodelIso.py:17: RuntimeWarning: invalid value encountered in double_scalars\n",
      "  eatm = el/(el + eu)\n"
     ]
    },
    {
     "name": "stderr",
     "output_type": "stream",
     "text": [
      "/mnt/580CBE2464C5F83D/pracovni/data_statistika/SoilMBVariability/PythonScripts/GlobalSearchSpecific/DEBmodelIso.py:17: RuntimeWarning: invalid value encountered in double_scalars\n",
      "  eatm = el/(el + eu)\n",
      "/mnt/580CBE2464C5F83D/pracovni/data_statistika/SoilMBVariability/PythonScripts/GlobalSearchSpecific/DEBmodelIso.py:17: RuntimeWarning: invalid value encountered in double_scalars\n",
      "  eatm = el/(el + eu)\n",
      "/mnt/580CBE2464C5F83D/pracovni/data_statistika/SoilMBVariability/PythonScripts/GlobalSearchSpecific/DEBmodelIso.py:17: RuntimeWarning: invalid value encountered in double_scalars\n",
      "  eatm = el/(el + eu)\n",
      "/mnt/580CBE2464C5F83D/pracovni/data_statistika/SoilMBVariability/PythonScripts/GlobalSearchSpecific/DEBmodelIso.py:17: RuntimeWarning: invalid value encountered in double_scalars\n",
      "  eatm = el/(el + eu)\n",
      "/mnt/580CBE2464C5F83D/pracovni/data_statistika/SoilMBVariability/PythonScripts/GlobalSearchSpecific/DEBmodelIso.py:17: RuntimeWarning: invalid value encountered in double_scalars\n",
      "  eatm = el/(el + eu)\n",
      "/mnt/580CBE2464C5F83D/pracovni/data_statistika/SoilMBVariability/PythonScripts/GlobalSearchSpecific/DEBmodelIso.py:17: RuntimeWarning: invalid value encountered in double_scalars\n",
      "  eatm = el/(el + eu)\n",
      "/mnt/580CBE2464C5F83D/pracovni/data_statistika/SoilMBVariability/PythonScripts/GlobalSearchSpecific/DEBmodelIso.py:17: RuntimeWarning: invalid value encountered in double_scalars\n",
      "  eatm = el/(el + eu)\n",
      "/mnt/580CBE2464C5F83D/pracovni/data_statistika/SoilMBVariability/PythonScripts/GlobalSearchSpecific/DEBmodelIso.py:17: RuntimeWarning: invalid value encountered in double_scalars\n",
      "  eatm = el/(el + eu)\n",
      "/mnt/580CBE2464C5F83D/pracovni/data_statistika/SoilMBVariability/PythonScripts/GlobalSearchSpecific/DEBmodelIso.py:17: RuntimeWarning: invalid value encountered in double_scalars\n",
      "  eatm = el/(el + eu)\n",
      "/mnt/580CBE2464C5F83D/pracovni/data_statistika/SoilMBVariability/PythonScripts/GlobalSearchSpecific/DEBmodelIso.py:17: RuntimeWarning: invalid value encountered in double_scalars\n",
      "  eatm = el/(el + eu)\n",
      "/mnt/580CBE2464C5F83D/pracovni/data_statistika/SoilMBVariability/PythonScripts/GlobalSearchSpecific/DEBmodelIso.py:17: RuntimeWarning: invalid value encountered in double_scalars\n",
      "  eatm = el/(el + eu)\n",
      "/mnt/580CBE2464C5F83D/pracovni/data_statistika/SoilMBVariability/PythonScripts/GlobalSearchSpecific/DEBmodelIso.py:17: RuntimeWarning: invalid value encountered in double_scalars\n",
      "  eatm = el/(el + eu)\n",
      "/mnt/580CBE2464C5F83D/pracovni/data_statistika/SoilMBVariability/PythonScripts/GlobalSearchSpecific/DEBmodelIso.py:17: RuntimeWarning: invalid value encountered in double_scalars\n",
      "  eatm = el/(el + eu)\n",
      "/mnt/580CBE2464C5F83D/pracovni/data_statistika/SoilMBVariability/PythonScripts/GlobalSearchSpecific/DEBmodelIso.py:17: RuntimeWarning: invalid value encountered in double_scalars\n",
      "  eatm = el/(el + eu)\n",
      "/mnt/580CBE2464C5F83D/pracovni/data_statistika/SoilMBVariability/PythonScripts/GlobalSearchSpecific/DEBmodelIso.py:17: RuntimeWarning: invalid value encountered in double_scalars\n",
      "  eatm = el/(el + eu)\n",
      "/mnt/580CBE2464C5F83D/pracovni/data_statistika/SoilMBVariability/PythonScripts/GlobalSearchSpecific/DEBmodelIso.py:17: RuntimeWarning: invalid value encountered in double_scalars\n",
      "  eatm = el/(el + eu)\n",
      "/mnt/580CBE2464C5F83D/pracovni/data_statistika/SoilMBVariability/PythonScripts/GlobalSearchSpecific/DEBmodelIso.py:17: RuntimeWarning: invalid value encountered in double_scalars\n",
      "  eatm = el/(el + eu)\n",
      "/mnt/580CBE2464C5F83D/pracovni/data_statistika/SoilMBVariability/PythonScripts/GlobalSearchSpecific/DEBmodelIso.py:17: RuntimeWarning: invalid value encountered in double_scalars\n",
      "  eatm = el/(el + eu)\n",
      "/mnt/580CBE2464C5F83D/pracovni/data_statistika/SoilMBVariability/PythonScripts/GlobalSearchSpecific/DEBmodelIso.py:17: RuntimeWarning: invalid value encountered in double_scalars\n",
      "  eatm = el/(el + eu)\n",
      "/mnt/580CBE2464C5F83D/pracovni/data_statistika/SoilMBVariability/PythonScripts/GlobalSearchSpecific/DEBmodelIso.py:17: RuntimeWarning: invalid value encountered in double_scalars\n",
      "  eatm = el/(el + eu)\n",
      "/mnt/580CBE2464C5F83D/pracovni/data_statistika/SoilMBVariability/PythonScripts/GlobalSearchSpecific/DEBmodelIso.py:17: RuntimeWarning: invalid value encountered in double_scalars\n",
      "  eatm = el/(el + eu)\n",
      "/mnt/580CBE2464C5F83D/pracovni/data_statistika/SoilMBVariability/PythonScripts/GlobalSearchSpecific/DEBmodelIso.py:17: RuntimeWarning: invalid value encountered in double_scalars\n",
      "  eatm = el/(el + eu)\n",
      "/mnt/580CBE2464C5F83D/pracovni/data_statistika/SoilMBVariability/PythonScripts/GlobalSearchSpecific/DEBmodelIso.py:17: RuntimeWarning: invalid value encountered in double_scalars\n",
      "  eatm = el/(el + eu)\n",
      "/mnt/580CBE2464C5F83D/pracovni/data_statistika/SoilMBVariability/PythonScripts/GlobalSearchSpecific/DEBmodelIso.py:17: RuntimeWarning: invalid value encountered in double_scalars\n",
      "  eatm = el/(el + eu)\n",
      "/mnt/580CBE2464C5F83D/pracovni/data_statistika/SoilMBVariability/PythonScripts/GlobalSearchSpecific/DEBmodelIso.py:17: RuntimeWarning: invalid value encountered in double_scalars\n",
      "  eatm = el/(el + eu)\n",
      "/mnt/580CBE2464C5F83D/pracovni/data_statistika/SoilMBVariability/PythonScripts/GlobalSearchSpecific/DEBmodelIso.py:17: RuntimeWarning: invalid value encountered in double_scalars\n",
      "  eatm = el/(el + eu)\n",
      "/mnt/580CBE2464C5F83D/pracovni/data_statistika/SoilMBVariability/PythonScripts/GlobalSearchSpecific/DEBmodelIso.py:17: RuntimeWarning: invalid value encountered in double_scalars\n",
      "  eatm = el/(el + eu)\n",
      "/mnt/580CBE2464C5F83D/pracovni/data_statistika/SoilMBVariability/PythonScripts/GlobalSearchSpecific/DEBmodelIso.py:17: RuntimeWarning: invalid value encountered in double_scalars\n",
      "  eatm = el/(el + eu)\n",
      "/mnt/580CBE2464C5F83D/pracovni/data_statistika/SoilMBVariability/PythonScripts/GlobalSearchSpecific/DEBmodelIso.py:17: RuntimeWarning: invalid value encountered in double_scalars\n",
      "  eatm = el/(el + eu)\n",
      "/mnt/580CBE2464C5F83D/pracovni/data_statistika/SoilMBVariability/PythonScripts/GlobalSearchSpecific/DEBmodelIso.py:17: RuntimeWarning: invalid value encountered in double_scalars\n",
      "  eatm = el/(el + eu)\n",
      "/mnt/580CBE2464C5F83D/pracovni/data_statistika/SoilMBVariability/PythonScripts/GlobalSearchSpecific/DEBmodelIso.py:17: RuntimeWarning: invalid value encountered in double_scalars\n",
      "  eatm = el/(el + eu)\n",
      "/mnt/580CBE2464C5F83D/pracovni/data_statistika/SoilMBVariability/PythonScripts/GlobalSearchSpecific/DEBmodelIso.py:17: RuntimeWarning: invalid value encountered in double_scalars\n",
      "  eatm = el/(el + eu)\n",
      "/mnt/580CBE2464C5F83D/pracovni/data_statistika/SoilMBVariability/PythonScripts/GlobalSearchSpecific/DEBmodelIso.py:17: RuntimeWarning: invalid value encountered in double_scalars\n",
      "  eatm = el/(el + eu)\n",
      "/mnt/580CBE2464C5F83D/pracovni/data_statistika/SoilMBVariability/PythonScripts/GlobalSearchSpecific/DEBmodelIso.py:17: RuntimeWarning: invalid value encountered in double_scalars\n",
      "  eatm = el/(el + eu)\n",
      "/mnt/580CBE2464C5F83D/pracovni/data_statistika/SoilMBVariability/PythonScripts/GlobalSearchSpecific/DEBmodelIso.py:17: RuntimeWarning: invalid value encountered in double_scalars\n",
      "  eatm = el/(el + eu)\n",
      "/mnt/580CBE2464C5F83D/pracovni/data_statistika/SoilMBVariability/PythonScripts/GlobalSearchSpecific/DEBmodelIso.py:17: RuntimeWarning: invalid value encountered in double_scalars\n",
      "  eatm = el/(el + eu)\n",
      "/mnt/580CBE2464C5F83D/pracovni/data_statistika/SoilMBVariability/PythonScripts/GlobalSearchSpecific/DEBmodelIso.py:17: RuntimeWarning: invalid value encountered in double_scalars\n",
      "  eatm = el/(el + eu)\n",
      "/mnt/580CBE2464C5F83D/pracovni/data_statistika/SoilMBVariability/PythonScripts/GlobalSearchSpecific/DEBmodelIso.py:17: RuntimeWarning: invalid value encountered in double_scalars\n",
      "  eatm = el/(el + eu)\n",
      "/mnt/580CBE2464C5F83D/pracovni/data_statistika/SoilMBVariability/PythonScripts/GlobalSearchSpecific/DEBmodelIso.py:17: RuntimeWarning: invalid value encountered in double_scalars\n",
      "  eatm = el/(el + eu)\n",
      "/mnt/580CBE2464C5F83D/pracovni/data_statistika/SoilMBVariability/PythonScripts/GlobalSearchSpecific/DEBmodelIso.py:17: RuntimeWarning: invalid value encountered in double_scalars\n",
      "  eatm = el/(el + eu)\n",
      "/mnt/580CBE2464C5F83D/pracovni/data_statistika/SoilMBVariability/PythonScripts/GlobalSearchSpecific/DEBmodelIso.py:17: RuntimeWarning: invalid value encountered in double_scalars\n",
      "  eatm = el/(el + eu)\n"
     ]
    }
   ],
   "source": [
    "parGlobalF = forest_minimize(objectiveGlobal, parSpace, n_jobs = -1)"
   ]
  },
  {
   "cell_type": "code",
   "execution_count": 21,
   "metadata": {},
   "outputs": [
    {
     "name": "stdout",
     "output_type": "stream",
     "text": [
      "[7.79822181e-02 3.83000000e+03 2.18417592e+01 9.98546708e-02\n",
      " 3.94801677e+00 9.15251648e-01 2.90785276e-01 2.74317186e-02\n",
      " 1.31082728e-01 1.34527380e-02 2.70000000e+01 5.00000000e+02\n",
      " 0.00000000e+00 1.00000000e+00 0.00000000e+00 0.00000000e+00\n",
      " 1.00000000e+00 0.00000000e+00]\n"
     ]
    }
   ],
   "source": [
    "parGlobalF = np.array(parGlobalF.x)\n",
    "print(parGlobalF)"
   ]
  },
  {
   "cell_type": "code",
   "execution_count": 12,
   "metadata": {},
   "outputs": [],
   "source": [
    "np.savetxt('/mnt/580CBE2464C5F83D/pracovni/data_statistika/SoilMBVariability/PythonScripts/GlobalSearchSpecific/parGlobalF.csv', parGlobalF2.reshape(1,16), delimiter=\",\")"
   ]
  },
  {
   "cell_type": "markdown",
   "metadata": {},
   "source": [
    "#### Using dual annealing "
   ]
  },
  {
   "cell_type": "code",
   "execution_count": null,
   "metadata": {},
   "outputs": [],
   "source": [
    "parGlobalDA = dual_annealing(objectiveGlobal, parSpace, maxiter = 10000)"
   ]
  },
  {
   "cell_type": "code",
   "execution_count": null,
   "metadata": {},
   "outputs": [],
   "source": [
    "print(parGlobalDA)\n",
    "np.savetxt('/mnt/580CBE2464C5F83D/pracovni/data_statistika/SoilMBVariability/PythonScripts/GlobalSearch/parGlobalDA.csv', parGlobalDA.x.reshape(1,16), delimiter=\",\")"
   ]
  },
  {
   "cell_type": "markdown",
   "metadata": {},
   "source": [
    "#### Differential evolution algorithm"
   ]
  },
  {
   "cell_type": "code",
   "execution_count": 7,
   "metadata": {},
   "outputs": [
    {
     "name": "stderr",
     "output_type": "stream",
     "text": [
      "/usr/local/lib/python3.8/dist-packages/scipy/optimize/_differentialevolution.py:495: UserWarning: differential_evolution: the 'workers' keyword has overridden updating='immediate' to updating='deferred'\n",
      "  warnings.warn(\"differential_evolution: the 'workers' keyword has\"\n",
      "/usr/local/lib/python3.8/dist-packages/scipy/integrate/odepack.py:247: ODEintWarning: Excess work done on this call (perhaps wrong Dfun type). Run with full_output = 1 to get quantitative information.\n",
      "  warnings.warn(warning_msg, ODEintWarning)\n",
      "/usr/local/lib/python3.8/dist-packages/scipy/integrate/odepack.py:247: ODEintWarning: Excess work done on this call (perhaps wrong Dfun type). Run with full_output = 1 to get quantitative information.\n",
      "  warnings.warn(warning_msg, ODEintWarning)\n",
      "/usr/local/lib/python3.8/dist-packages/scipy/integrate/odepack.py:247: ODEintWarning: Excess work done on this call (perhaps wrong Dfun type). Run with full_output = 1 to get quantitative information.\n",
      "  warnings.warn(warning_msg, ODEintWarning)\n",
      "/usr/local/lib/python3.8/dist-packages/scipy/integrate/odepack.py:247: ODEintWarning: Excess work done on this call (perhaps wrong Dfun type). Run with full_output = 1 to get quantitative information.\n",
      "  warnings.warn(warning_msg, ODEintWarning)\n",
      "/usr/local/lib/python3.8/dist-packages/scipy/integrate/odepack.py:247: ODEintWarning: Excess work done on this call (perhaps wrong Dfun type). Run with full_output = 1 to get quantitative information.\n",
      "  warnings.warn(warning_msg, ODEintWarning)\n",
      "/usr/local/lib/python3.8/dist-packages/scipy/integrate/odepack.py:247: ODEintWarning: Excess work done on this call (perhaps wrong Dfun type). Run with full_output = 1 to get quantitative information.\n",
      "  warnings.warn(warning_msg, ODEintWarning)\n",
      "/usr/local/lib/python3.8/dist-packages/scipy/integrate/odepack.py:247: ODEintWarning: Excess work done on this call (perhaps wrong Dfun type). Run with full_output = 1 to get quantitative information.\n",
      "  warnings.warn(warning_msg, ODEintWarning)\n",
      "/usr/local/lib/python3.8/dist-packages/scipy/integrate/odepack.py:247: ODEintWarning: Excess work done on this call (perhaps wrong Dfun type). Run with full_output = 1 to get quantitative information.\n",
      "  warnings.warn(warning_msg, ODEintWarning)\n",
      "Process ForkPoolWorker-4:\n"
     ]
    },
    {
     "ename": "KeyboardInterrupt",
     "evalue": "",
     "output_type": "error",
     "traceback": [
      "\u001b[0;31m---------------------------------------------------------------------------\u001b[0m",
      "\u001b[0;31mKeyboardInterrupt\u001b[0m                         Traceback (most recent call last)",
      "\u001b[0;32m<ipython-input-7-907a89af7017>\u001b[0m in \u001b[0;36m<module>\u001b[0;34m\u001b[0m\n\u001b[0;32m----> 1\u001b[0;31m \u001b[0mparGlobalDE\u001b[0m \u001b[0;34m=\u001b[0m \u001b[0mdifferential_evolution\u001b[0m\u001b[0;34m(\u001b[0m\u001b[0mobjectiveGlobal\u001b[0m\u001b[0;34m,\u001b[0m \u001b[0mparSpace\u001b[0m\u001b[0;34m,\u001b[0m \u001b[0mworkers\u001b[0m \u001b[0;34m=\u001b[0m \u001b[0;34m-\u001b[0m\u001b[0;36m1\u001b[0m\u001b[0;34m)\u001b[0m\u001b[0;34m\u001b[0m\u001b[0;34m\u001b[0m\u001b[0m\n\u001b[0m",
      "\u001b[0;32m/usr/local/lib/python3.8/dist-packages/scipy/optimize/_differentialevolution.py\u001b[0m in \u001b[0;36mdifferential_evolution\u001b[0;34m(func, bounds, args, strategy, maxiter, popsize, tol, mutation, recombination, seed, callback, disp, polish, init, atol, updating, workers, constraints)\u001b[0m\n\u001b[1;32m    306\u001b[0m                                      \u001b[0mworkers\u001b[0m\u001b[0;34m=\u001b[0m\u001b[0mworkers\u001b[0m\u001b[0;34m,\u001b[0m\u001b[0;34m\u001b[0m\u001b[0;34m\u001b[0m\u001b[0m\n\u001b[1;32m    307\u001b[0m                                      constraints=constraints) as solver:\n\u001b[0;32m--> 308\u001b[0;31m         \u001b[0mret\u001b[0m \u001b[0;34m=\u001b[0m \u001b[0msolver\u001b[0m\u001b[0;34m.\u001b[0m\u001b[0msolve\u001b[0m\u001b[0;34m(\u001b[0m\u001b[0;34m)\u001b[0m\u001b[0;34m\u001b[0m\u001b[0;34m\u001b[0m\u001b[0m\n\u001b[0m\u001b[1;32m    309\u001b[0m \u001b[0;34m\u001b[0m\u001b[0m\n\u001b[1;32m    310\u001b[0m     \u001b[0;32mreturn\u001b[0m \u001b[0mret\u001b[0m\u001b[0;34m\u001b[0m\u001b[0;34m\u001b[0m\u001b[0m\n",
      "\u001b[0;32m/usr/local/lib/python3.8/dist-packages/scipy/optimize/_differentialevolution.py\u001b[0m in \u001b[0;36msolve\u001b[0;34m(self)\u001b[0m\n\u001b[1;32m    757\u001b[0m             \u001b[0;31m# evolve the population by a generation\u001b[0m\u001b[0;34m\u001b[0m\u001b[0;34m\u001b[0m\u001b[0;34m\u001b[0m\u001b[0m\n\u001b[1;32m    758\u001b[0m             \u001b[0;32mtry\u001b[0m\u001b[0;34m:\u001b[0m\u001b[0;34m\u001b[0m\u001b[0;34m\u001b[0m\u001b[0m\n\u001b[0;32m--> 759\u001b[0;31m                 \u001b[0mnext\u001b[0m\u001b[0;34m(\u001b[0m\u001b[0mself\u001b[0m\u001b[0;34m)\u001b[0m\u001b[0;34m\u001b[0m\u001b[0;34m\u001b[0m\u001b[0m\n\u001b[0m\u001b[1;32m    760\u001b[0m             \u001b[0;32mexcept\u001b[0m \u001b[0mStopIteration\u001b[0m\u001b[0;34m:\u001b[0m\u001b[0;34m\u001b[0m\u001b[0;34m\u001b[0m\u001b[0m\n\u001b[1;32m    761\u001b[0m                 \u001b[0mwarning_flag\u001b[0m \u001b[0;34m=\u001b[0m \u001b[0;32mTrue\u001b[0m\u001b[0;34m\u001b[0m\u001b[0;34m\u001b[0m\u001b[0m\n",
      "\u001b[0;32m/usr/local/lib/python3.8/dist-packages/scipy/optimize/_differentialevolution.py\u001b[0m in \u001b[0;36m__next__\u001b[0;34m(self)\u001b[0m\n\u001b[1;32m   1113\u001b[0m \u001b[0;34m\u001b[0m\u001b[0m\n\u001b[1;32m   1114\u001b[0m             \u001b[0;31m# only calculate for feasible entries\u001b[0m\u001b[0;34m\u001b[0m\u001b[0;34m\u001b[0m\u001b[0;34m\u001b[0m\u001b[0m\n\u001b[0;32m-> 1115\u001b[0;31m             trial_energies[feasible] = self._calculate_population_energies(\n\u001b[0m\u001b[1;32m   1116\u001b[0m                 trial_pop[feasible])\n\u001b[1;32m   1117\u001b[0m \u001b[0;34m\u001b[0m\u001b[0m\n",
      "\u001b[0;32m/usr/local/lib/python3.8/dist-packages/scipy/optimize/_differentialevolution.py\u001b[0m in \u001b[0;36m_calculate_population_energies\u001b[0;34m(self, population)\u001b[0m\n\u001b[1;32m    871\u001b[0m         \u001b[0mparameters_pop\u001b[0m \u001b[0;34m=\u001b[0m \u001b[0mself\u001b[0m\u001b[0;34m.\u001b[0m\u001b[0m_scale_parameters\u001b[0m\u001b[0;34m(\u001b[0m\u001b[0mpopulation\u001b[0m\u001b[0;34m)\u001b[0m\u001b[0;34m\u001b[0m\u001b[0;34m\u001b[0m\u001b[0m\n\u001b[1;32m    872\u001b[0m         \u001b[0;32mtry\u001b[0m\u001b[0;34m:\u001b[0m\u001b[0;34m\u001b[0m\u001b[0;34m\u001b[0m\u001b[0m\n\u001b[0;32m--> 873\u001b[0;31m             calc_energies = list(self._mapwrapper(self.func,\n\u001b[0m\u001b[1;32m    874\u001b[0m                                                   parameters_pop[0:nfevs]))\n\u001b[1;32m    875\u001b[0m             \u001b[0menergies\u001b[0m\u001b[0;34m[\u001b[0m\u001b[0;36m0\u001b[0m\u001b[0;34m:\u001b[0m\u001b[0mnfevs\u001b[0m\u001b[0;34m]\u001b[0m \u001b[0;34m=\u001b[0m \u001b[0mcalc_energies\u001b[0m\u001b[0;34m\u001b[0m\u001b[0;34m\u001b[0m\u001b[0m\n",
      "\u001b[0;32m/usr/local/lib/python3.8/dist-packages/scipy/_lib/_util.py\u001b[0m in \u001b[0;36m__call__\u001b[0;34m(self, func, iterable)\u001b[0m\n\u001b[1;32m    412\u001b[0m         \u001b[0;31m# only accept one iterable because that's all Pool.map accepts\u001b[0m\u001b[0;34m\u001b[0m\u001b[0;34m\u001b[0m\u001b[0;34m\u001b[0m\u001b[0m\n\u001b[1;32m    413\u001b[0m         \u001b[0;32mtry\u001b[0m\u001b[0;34m:\u001b[0m\u001b[0;34m\u001b[0m\u001b[0;34m\u001b[0m\u001b[0m\n\u001b[0;32m--> 414\u001b[0;31m             \u001b[0;32mreturn\u001b[0m \u001b[0mself\u001b[0m\u001b[0;34m.\u001b[0m\u001b[0m_mapfunc\u001b[0m\u001b[0;34m(\u001b[0m\u001b[0mfunc\u001b[0m\u001b[0;34m,\u001b[0m \u001b[0miterable\u001b[0m\u001b[0;34m)\u001b[0m\u001b[0;34m\u001b[0m\u001b[0;34m\u001b[0m\u001b[0m\n\u001b[0m\u001b[1;32m    415\u001b[0m         \u001b[0;32mexcept\u001b[0m \u001b[0mTypeError\u001b[0m\u001b[0;34m:\u001b[0m\u001b[0;34m\u001b[0m\u001b[0;34m\u001b[0m\u001b[0m\n\u001b[1;32m    416\u001b[0m             \u001b[0;31m# wrong number of arguments\u001b[0m\u001b[0;34m\u001b[0m\u001b[0;34m\u001b[0m\u001b[0;34m\u001b[0m\u001b[0m\n",
      "\u001b[0;32m/usr/lib/python3.8/multiprocessing/pool.py\u001b[0m in \u001b[0;36mmap\u001b[0;34m(self, func, iterable, chunksize)\u001b[0m\n\u001b[1;32m    362\u001b[0m         \u001b[0;32min\u001b[0m \u001b[0ma\u001b[0m \u001b[0mlist\u001b[0m \u001b[0mthat\u001b[0m \u001b[0;32mis\u001b[0m \u001b[0mreturned\u001b[0m\u001b[0;34m.\u001b[0m\u001b[0;34m\u001b[0m\u001b[0;34m\u001b[0m\u001b[0m\n\u001b[1;32m    363\u001b[0m         '''\n\u001b[0;32m--> 364\u001b[0;31m         \u001b[0;32mreturn\u001b[0m \u001b[0mself\u001b[0m\u001b[0;34m.\u001b[0m\u001b[0m_map_async\u001b[0m\u001b[0;34m(\u001b[0m\u001b[0mfunc\u001b[0m\u001b[0;34m,\u001b[0m \u001b[0miterable\u001b[0m\u001b[0;34m,\u001b[0m \u001b[0mmapstar\u001b[0m\u001b[0;34m,\u001b[0m \u001b[0mchunksize\u001b[0m\u001b[0;34m)\u001b[0m\u001b[0;34m.\u001b[0m\u001b[0mget\u001b[0m\u001b[0;34m(\u001b[0m\u001b[0;34m)\u001b[0m\u001b[0;34m\u001b[0m\u001b[0;34m\u001b[0m\u001b[0m\n\u001b[0m\u001b[1;32m    365\u001b[0m \u001b[0;34m\u001b[0m\u001b[0m\n\u001b[1;32m    366\u001b[0m     \u001b[0;32mdef\u001b[0m \u001b[0mstarmap\u001b[0m\u001b[0;34m(\u001b[0m\u001b[0mself\u001b[0m\u001b[0;34m,\u001b[0m \u001b[0mfunc\u001b[0m\u001b[0;34m,\u001b[0m \u001b[0miterable\u001b[0m\u001b[0;34m,\u001b[0m \u001b[0mchunksize\u001b[0m\u001b[0;34m=\u001b[0m\u001b[0;32mNone\u001b[0m\u001b[0;34m)\u001b[0m\u001b[0;34m:\u001b[0m\u001b[0;34m\u001b[0m\u001b[0;34m\u001b[0m\u001b[0m\n",
      "\u001b[0;32m/usr/lib/python3.8/multiprocessing/pool.py\u001b[0m in \u001b[0;36mget\u001b[0;34m(self, timeout)\u001b[0m\n\u001b[1;32m    763\u001b[0m \u001b[0;34m\u001b[0m\u001b[0m\n\u001b[1;32m    764\u001b[0m     \u001b[0;32mdef\u001b[0m \u001b[0mget\u001b[0m\u001b[0;34m(\u001b[0m\u001b[0mself\u001b[0m\u001b[0;34m,\u001b[0m \u001b[0mtimeout\u001b[0m\u001b[0;34m=\u001b[0m\u001b[0;32mNone\u001b[0m\u001b[0;34m)\u001b[0m\u001b[0;34m:\u001b[0m\u001b[0;34m\u001b[0m\u001b[0;34m\u001b[0m\u001b[0m\n\u001b[0;32m--> 765\u001b[0;31m         \u001b[0mself\u001b[0m\u001b[0;34m.\u001b[0m\u001b[0mwait\u001b[0m\u001b[0;34m(\u001b[0m\u001b[0mtimeout\u001b[0m\u001b[0;34m)\u001b[0m\u001b[0;34m\u001b[0m\u001b[0;34m\u001b[0m\u001b[0m\n\u001b[0m\u001b[1;32m    766\u001b[0m         \u001b[0;32mif\u001b[0m \u001b[0;32mnot\u001b[0m \u001b[0mself\u001b[0m\u001b[0;34m.\u001b[0m\u001b[0mready\u001b[0m\u001b[0;34m(\u001b[0m\u001b[0;34m)\u001b[0m\u001b[0;34m:\u001b[0m\u001b[0;34m\u001b[0m\u001b[0;34m\u001b[0m\u001b[0m\n\u001b[1;32m    767\u001b[0m             \u001b[0;32mraise\u001b[0m \u001b[0mTimeoutError\u001b[0m\u001b[0;34m\u001b[0m\u001b[0;34m\u001b[0m\u001b[0m\n",
      "\u001b[0;32m/usr/lib/python3.8/multiprocessing/pool.py\u001b[0m in \u001b[0;36mwait\u001b[0;34m(self, timeout)\u001b[0m\n\u001b[1;32m    760\u001b[0m \u001b[0;34m\u001b[0m\u001b[0m\n\u001b[1;32m    761\u001b[0m     \u001b[0;32mdef\u001b[0m \u001b[0mwait\u001b[0m\u001b[0;34m(\u001b[0m\u001b[0mself\u001b[0m\u001b[0;34m,\u001b[0m \u001b[0mtimeout\u001b[0m\u001b[0;34m=\u001b[0m\u001b[0;32mNone\u001b[0m\u001b[0;34m)\u001b[0m\u001b[0;34m:\u001b[0m\u001b[0;34m\u001b[0m\u001b[0;34m\u001b[0m\u001b[0m\n\u001b[0;32m--> 762\u001b[0;31m         \u001b[0mself\u001b[0m\u001b[0;34m.\u001b[0m\u001b[0m_event\u001b[0m\u001b[0;34m.\u001b[0m\u001b[0mwait\u001b[0m\u001b[0;34m(\u001b[0m\u001b[0mtimeout\u001b[0m\u001b[0;34m)\u001b[0m\u001b[0;34m\u001b[0m\u001b[0;34m\u001b[0m\u001b[0m\n\u001b[0m\u001b[1;32m    763\u001b[0m \u001b[0;34m\u001b[0m\u001b[0m\n\u001b[1;32m    764\u001b[0m     \u001b[0;32mdef\u001b[0m \u001b[0mget\u001b[0m\u001b[0;34m(\u001b[0m\u001b[0mself\u001b[0m\u001b[0;34m,\u001b[0m \u001b[0mtimeout\u001b[0m\u001b[0;34m=\u001b[0m\u001b[0;32mNone\u001b[0m\u001b[0;34m)\u001b[0m\u001b[0;34m:\u001b[0m\u001b[0;34m\u001b[0m\u001b[0;34m\u001b[0m\u001b[0m\n",
      "\u001b[0;32m/usr/lib/python3.8/threading.py\u001b[0m in \u001b[0;36mwait\u001b[0;34m(self, timeout)\u001b[0m\n\u001b[1;32m    556\u001b[0m             \u001b[0msignaled\u001b[0m \u001b[0;34m=\u001b[0m \u001b[0mself\u001b[0m\u001b[0;34m.\u001b[0m\u001b[0m_flag\u001b[0m\u001b[0;34m\u001b[0m\u001b[0;34m\u001b[0m\u001b[0m\n\u001b[1;32m    557\u001b[0m             \u001b[0;32mif\u001b[0m \u001b[0;32mnot\u001b[0m \u001b[0msignaled\u001b[0m\u001b[0;34m:\u001b[0m\u001b[0;34m\u001b[0m\u001b[0;34m\u001b[0m\u001b[0m\n\u001b[0;32m--> 558\u001b[0;31m                 \u001b[0msignaled\u001b[0m \u001b[0;34m=\u001b[0m \u001b[0mself\u001b[0m\u001b[0;34m.\u001b[0m\u001b[0m_cond\u001b[0m\u001b[0;34m.\u001b[0m\u001b[0mwait\u001b[0m\u001b[0;34m(\u001b[0m\u001b[0mtimeout\u001b[0m\u001b[0;34m)\u001b[0m\u001b[0;34m\u001b[0m\u001b[0;34m\u001b[0m\u001b[0m\n\u001b[0m\u001b[1;32m    559\u001b[0m             \u001b[0;32mreturn\u001b[0m \u001b[0msignaled\u001b[0m\u001b[0;34m\u001b[0m\u001b[0;34m\u001b[0m\u001b[0m\n\u001b[1;32m    560\u001b[0m \u001b[0;34m\u001b[0m\u001b[0m\n",
      "\u001b[0;32m/usr/lib/python3.8/threading.py\u001b[0m in \u001b[0;36mwait\u001b[0;34m(self, timeout)\u001b[0m\n\u001b[1;32m    300\u001b[0m         \u001b[0;32mtry\u001b[0m\u001b[0;34m:\u001b[0m    \u001b[0;31m# restore state no matter what (e.g., KeyboardInterrupt)\u001b[0m\u001b[0;34m\u001b[0m\u001b[0;34m\u001b[0m\u001b[0m\n\u001b[1;32m    301\u001b[0m             \u001b[0;32mif\u001b[0m \u001b[0mtimeout\u001b[0m \u001b[0;32mis\u001b[0m \u001b[0;32mNone\u001b[0m\u001b[0;34m:\u001b[0m\u001b[0;34m\u001b[0m\u001b[0;34m\u001b[0m\u001b[0m\n\u001b[0;32m--> 302\u001b[0;31m                 \u001b[0mwaiter\u001b[0m\u001b[0;34m.\u001b[0m\u001b[0macquire\u001b[0m\u001b[0;34m(\u001b[0m\u001b[0;34m)\u001b[0m\u001b[0;34m\u001b[0m\u001b[0;34m\u001b[0m\u001b[0m\n\u001b[0m\u001b[1;32m    303\u001b[0m                 \u001b[0mgotit\u001b[0m \u001b[0;34m=\u001b[0m \u001b[0;32mTrue\u001b[0m\u001b[0;34m\u001b[0m\u001b[0;34m\u001b[0m\u001b[0m\n\u001b[1;32m    304\u001b[0m             \u001b[0;32melse\u001b[0m\u001b[0;34m:\u001b[0m\u001b[0;34m\u001b[0m\u001b[0;34m\u001b[0m\u001b[0m\n",
      "\u001b[0;31mKeyboardInterrupt\u001b[0m: "
     ]
    }
   ],
   "source": [
    "parGlobalDE = differential_evolution(objectiveGlobal, parSpace, workers = -1)"
   ]
  },
  {
   "cell_type": "code",
   "execution_count": 8,
   "metadata": {},
   "outputs": [
    {
     "name": "stdout",
     "output_type": "stream",
     "text": [
      "     fun: 4854.831883366107\n",
      "     jac: array([-4.61227135e+02, -7.53979081e-02, -5.89052437e+00,  5.32689655e+03,\n",
      "        2.40007468e+01, -1.58711372e+01,  3.63979780e+00,  1.62669039e+02,\n",
      "       -9.15049714e+02,  6.03491466e+04,  1.46592344e+00,  2.89037598e-01,\n",
      "        1.10429028e+02,  2.07132416e+02, -1.72056298e+02,  5.07759069e+01,\n",
      "        3.06900306e+08,  8.14513437e+01])\n",
      " message: 'Optimization terminated successfully.'\n",
      "    nfev: 31227\n",
      "     nit: 87\n",
      " success: True\n",
      "       x: array([1.00000000e+00, 3.92079697e+03, 6.04933470e+00, 1.00000000e-12,\n",
      "       1.17542842e+00, 8.82118689e-01, 3.50893290e-01, 1.25596120e-01,\n",
      "       9.47539179e-03, 1.00000000e-03, 2.11845152e+01, 1.10983286e+02,\n",
      "       1.21064366e-01, 6.00683920e-02, 3.58903187e-02, 0.00000000e+00,\n",
      "       0.00000000e+00, 9.49358721e-01])\n"
     ]
    }
   ],
   "source": [
    "print(parGlobalDE)\n",
    "np.savetxt('/mnt/580CBE2464C5F83D/pracovni/data_statistika/SoilMBVariability/PythonScripts/GlobalSearch/parGlobalDE.csv', parGlobalDE.x.reshape(1,18), delimiter=\",\")"
   ]
  },
  {
   "cell_type": "markdown",
   "metadata": {},
   "source": [
    "## Compare simulations with observations "
   ]
  },
  {
   "cell_type": "markdown",
   "metadata": {},
   "source": [
    "### Importing modules"
   ]
  },
  {
   "cell_type": "code",
   "execution_count": 14,
   "metadata": {},
   "outputs": [],
   "source": [
    "from FitWP import FitWP\n",
    "from FitM import FitM\n",
    "from FitG import FitG\n",
    "from FitB import FitB\n",
    "#from objectiveZ import objectiveZ - do not estimate conversion to PLFA (only one study and two parameters) \n",
    "from FitBl import FitBl\n",
    "from FitS import FitS\n",
    "from FitJ import FitJ\n",
    "from FitT import FitT\n",
    "from FitN_A import FitN_A\n",
    "from FitN_B import FitN_B\n",
    "from FitN_C import FitN_C"
   ]
  },
  {
   "cell_type": "markdown",
   "metadata": {},
   "source": [
    "#### Exporting data"
   ]
  },
  {
   "cell_type": "code",
   "execution_count": 17,
   "metadata": {},
   "outputs": [],
   "source": [
    "#DA\n",
    "globalResultsDA = pd.concat([FitWP(parGlobalDA.x), FitM(parGlobalDA.x), FitG(parGlobalDA.x), FitB(parGlobalDA.x),\n",
    "                            FitBl(parGlobalDA.x), FitS(parGlobalDA.x), FitJ(parGlobalDA.x), FitT(parGlobalDA.x),\n",
    "                            FitN_A(parGlobalDA.x), FitN_B(parGlobalDA.x), FitN_C(parGlobalDA.x)])\n",
    "globalResultsDA.to_csv('globalResultsDA.csv')\n",
    "#DE\n",
    "globalResultsDE = pd.concat([FitWP(parGlobalDE.x), FitM(parGlobalDE.x), FitG(parGlobalDE.x), FitB(parGlobalDE.x),\n",
    "                            FitBl(parGlobalDE.x), FitS(parGlobalDE.x), FitJ(parGlobalDE.x), FitT(parGlobalDE.x),\n",
    "                            FitN_A(parGlobalDE.x), FitN_B(parGlobalDE.x), FitN_C(parGlobalDE.x)])\n",
    "globalResultsDE.to_csv('globalResultsDE.csv')"
   ]
  },
  {
   "cell_type": "code",
   "execution_count": 20,
   "metadata": {},
   "outputs": [
    {
     "name": "stderr",
     "output_type": "stream",
     "text": [
      "/mnt/580CBE2464C5F83D/pracovni/data_statistika/SoilMBVariability/PythonScripts/GlobalSearchSpecific/DEBmodelIso.py:17: RuntimeWarning: invalid value encountered in double_scalars\n",
      "  eatm = el/(el + eu)\n"
     ]
    }
   ],
   "source": [
    "#Random Forests\n",
    "globalResultsF = pd.concat([FitWP(parGlobalF), FitM(parGlobalF), FitG(parGlobalF), FitB(parGlobalF),\n",
    "                            FitBl(parGlobalF), FitS(parGlobalF), FitJ(parGlobalF), FitT(parGlobalF),\n",
    "                            FitN_A(parGlobalF), FitN_B(parGlobalF), FitN_C(parGlobalF)])\n",
    "globalResultsF.to_csv('globalResultsF.csv')"
   ]
  },
  {
   "cell_type": "code",
   "execution_count": null,
   "metadata": {},
   "outputs": [],
   "source": []
  }
 ],
 "metadata": {
  "kernelspec": {
   "display_name": "Python 3",
   "language": "python",
   "name": "python3"
  },
  "language_info": {
   "codemirror_mode": {
    "name": "ipython",
    "version": 3
   },
   "file_extension": ".py",
   "mimetype": "text/x-python",
   "name": "python",
   "nbconvert_exporter": "python",
   "pygments_lexer": "ipython3",
   "version": "3.8.10"
  }
 },
 "nbformat": 4,
 "nbformat_minor": 4
}
