{
 "cells": [
  {
   "cell_type": "markdown",
   "metadata": {},
   "source": [
    "# Global DEB model parameters\n",
    "## Parameters are estimated across all collected studies\n",
    "\n",
    "This analysis is performed in order to determine generalizability of DEB model."
   ]
  },
  {
   "cell_type": "markdown",
   "metadata": {},
   "source": [
    "### Importing libraries"
   ]
  },
  {
   "cell_type": "code",
   "execution_count": 1,
   "metadata": {},
   "outputs": [],
   "source": [
    "import numpy as np\n",
    "import pandas as pd\n",
    "from scipy.integrate import odeint\n",
    "from scipy.optimize import dual_annealing\n",
    "from scipy.optimize import differential_evolution\n",
    "from scipy.optimize import brute"
   ]
  },
  {
   "cell_type": "markdown",
   "metadata": {},
   "source": [
    "### Importing modules\n",
    "Modules calculate weighted residual sum of squares. One module is one study"
   ]
  },
  {
   "cell_type": "code",
   "execution_count": 2,
   "metadata": {},
   "outputs": [],
   "source": [
    "from objectiveWP import objectiveWP\n",
    "from objectiveM import objectiveM\n",
    "from objectiveG import objectiveG\n",
    "from objectiveB import objectiveB\n",
    "#from objectiveZ import objectiveZ - do not estimate conversion to PLFA (only one study and two parameters) \n",
    "from objectiveBl import objectiveBl\n",
    "from objectiveS import objectiveS\n",
    "from objectiveJ import objectiveJ\n",
    "from objectiveT import objectiveT\n",
    "from objectiveN_A import objectiveN_A\n",
    "from objectiveN_B import objectiveN_B\n",
    "from objectiveN_C import objectiveN_C"
   ]
  },
  {
   "cell_type": "markdown",
   "metadata": {},
   "source": [
    "# List of parameters\n",
    "0 - yA  $~~~~~~~~~$   1 - Km  $~~~~~~~~~$    2 - v   $~~~~~~~~~$   3 - m   $~~~~~~~~~$   4 - g $~~~~~~~~~$ 5 - ce\n",
    "\n",
    "6 - nX1 $~~~~~~~~~$ 7 - iX1 $~~~~~~~~~$ 8 - te $~~~~~~~~~$ 9 - tX1 $~~~~~~~~~$ 10 - MwX1 $~~~~~~~~~$ 11 - Mwe\n",
    "\n",
    "12 - e(Wardle) $~~~~~~~~~$ 13 - e(Glanville) $~~~~~~~~~$ 14 - e(Marstorp) $~~~~~~~~~$ 15 - e(Blagodatskaya) $~~~~~~~~~$ 16 - e(Hasan) $~~~~~~~~~$ 17 - e(Bremer)\n",
    "\n"
   ]
  },
  {
   "cell_type": "markdown",
   "metadata": {},
   "source": [
    "## Objective function\n",
    "\n",
    "It is simply the function calculating sum of weighted residual sum of squares returned from imported modules."
   ]
  },
  {
   "cell_type": "code",
   "execution_count": 3,
   "metadata": {},
   "outputs": [],
   "source": [
    "def objectiveGlobal (x):\n",
    "    out = sum([objectiveWP(x), objectiveG(x), objectiveM(x), objectiveS(x), objectiveB(x), objectiveBl(x), \n",
    "     objectiveT(x), objectiveJ(x), objectiveN_A(x), objectiveN_B(x), objectiveN_C(x)])\n",
    "    return out"
   ]
  },
  {
   "cell_type": "markdown",
   "metadata": {},
   "source": [
    "## Parameters estimation"
   ]
  },
  {
   "cell_type": "markdown",
   "metadata": {},
   "source": [
    "Limits of model parameters are defined according to parameters estimated for individual studies."
   ]
  },
  {
   "cell_type": "code",
   "execution_count": 4,
   "metadata": {},
   "outputs": [],
   "source": [
    "#Individual parameters\n",
    "yA = (0.05, 1)           \n",
    "Km = (12, 4000)         \n",
    "v = (0.03, 30)           \n",
    "m = (1e-12, 0.1)           \n",
    "g = (0.08, 5)          \n",
    "ce = (0.3, 7)\n",
    "nX1 = (0.07, 0.45)          \n",
    "iX1 = (0.01, 0.2)           \n",
    "te = (0.0001, 0.2)           \n",
    "tX1 = (0.001, 0.05)           \n",
    "MwX1 = (10, 500)          \n",
    "Mwe = (10, 500)\n",
    "eW = (0, 1)        \n",
    "eG = (0, 1)          \n",
    "eM = (0, 1)           \n",
    "eBl = (0, 1)        \n",
    "eH = (0, 1)\n",
    "eB = (0, 1)\n",
    "\n",
    "\n",
    "#Parameter space\n",
    "parSpace = [yA, Km, v, m, g, ce, nX1, iX1, te, tX1, MwX1, Mwe, \n",
    "            eW, eG, eM, eBl, eH, eB]\n",
    "#parSpace"
   ]
  },
  {
   "cell_type": "markdown",
   "metadata": {},
   "source": [
    "#### Using dual annealing "
   ]
  },
  {
   "cell_type": "code",
   "execution_count": null,
   "metadata": {},
   "outputs": [],
   "source": [
    "parGlobalDA = dual_annealing(objectiveGlobal, parSpace, maxiter = 10000)"
   ]
  },
  {
   "cell_type": "code",
   "execution_count": null,
   "metadata": {},
   "outputs": [],
   "source": [
    "print(parGlobalDA)\n",
    "np.savetxt('/mnt/580CBE2464C5F83D/pracovni/data_statistika/SoilMBVariability/PythonScripts/GlobalSearch/parGlobalDA.csv', parGlobalDA.x.reshape(1,18), delimiter=\",\")"
   ]
  },
  {
   "cell_type": "markdown",
   "metadata": {},
   "source": [
    "#### Differential evolution algorithm"
   ]
  },
  {
   "cell_type": "code",
   "execution_count": null,
   "metadata": {},
   "outputs": [],
   "source": [
    "parGlobalDE = differential_evolution(objectiveGlobal, parSpace)"
   ]
  },
  {
   "cell_type": "code",
   "execution_count": null,
   "metadata": {},
   "outputs": [],
   "source": [
    "print(parGlobalDE)\n",
    "np.savetxt('/mnt/580CBE2464C5F83D/pracovni/data_statistika/SoilMBVariability/PythonScripts/GlobalSearch/parGlobalDE.csv', parGlobalDE.x.reshape(1,18), delimiter=\",\")"
   ]
  },
  {
   "cell_type": "markdown",
   "metadata": {},
   "source": [
    "#### Brute force"
   ]
  },
  {
   "cell_type": "code",
   "execution_count": null,
   "metadata": {},
   "outputs": [],
   "source": [
    "parGlobalBF = brute(objectiveGlobal, parSpace, finish=optimize.fmin)"
   ]
  },
  {
   "cell_type": "code",
   "execution_count": null,
   "metadata": {},
   "outputs": [],
   "source": [
    "print(parGlobalBF)\n",
    "np.savetxt('/mnt/580CBE2464C5F83D/pracovni/data_statistika/SoilMBVariability/PythonScripts/GlobalSearch/parGlobalBF.csv', parGlobalBF.x.reshape(1,18), delimiter=\",\")"
   ]
  },
  {
   "cell_type": "markdown",
   "metadata": {},
   "source": [
    "## Compare simulations with observations "
   ]
  },
  {
   "cell_type": "markdown",
   "metadata": {},
   "source": [
    "### Importing modules"
   ]
  },
  {
   "cell_type": "code",
   "execution_count": null,
   "metadata": {},
   "outputs": [],
   "source": [
    "from FitWP import FiteWP\n",
    "from FitM import FitM\n",
    "from FitG import FitG\n",
    "from FitB import FitB\n",
    "#from objectiveZ import objectiveZ - do not estimate conversion to PLFA (only one study and two parameters) \n",
    "from FitBl import FitBl\n",
    "from FitS import FitS\n",
    "from FitJ import FitJ\n",
    "from FitT import FitT\n",
    "from FitN_A import FitN_A\n",
    "from FitN_B import FitN_B\n",
    "from FitN_C import FitN_C"
   ]
  },
  {
   "cell_type": "markdown",
   "metadata": {},
   "source": [
    "#### Exporting data"
   ]
  },
  {
   "cell_type": "code",
   "execution_count": null,
   "metadata": {},
   "outputs": [],
   "source": [
    "#DA\n",
    "globalResultsDA = pd.concat([FitWP(parGlobalDA.x), FitM(parGlobalDA.x), FitG(parGlobalDA.x), FitB(parGlobalDA.x),\n",
    "                            FitBl(parGlobalDA.x), FitS(parGlobalDA.x), FitJ(parGlobalDA.x), FitT(parGlobalDA.x),\n",
    "                            FitN_A(parGlobalDA.x), FitN_B(parGlobalDA.x), FitN_C(parGlobalDA.x)])\n",
    "globalResultsDA.to_csv('globalResultsDA.csv')\n",
    "#DE\n",
    "globalResultsDE = pd.concat([FitWP(parGlobalDE.x), FitM(parGlobalDE.x), FitG(parGlobalDE.x), FitB(parGlobalDE.x),\n",
    "                            FitBl(parGlobalDE.x), FitS(parGlobalDE.x), FitJ(parGlobalDE.x), FitT(parGlobalDE.x),\n",
    "                            FitN_A(parGlobalDE.x), FitN_B(parGlobalDE.x), FitN_C(parGlobalDE.x)])\n",
    "globalResultsDE.to_csv('globalResultsDE.csv')\n",
    "#BF\n",
    "globalResultsBF = pd.concat([FitWP(parGlobalBF.x), FitM(parGlobalBF.x), FitG(parGlobalBF.x), FitB(parGlobalBF.x),\n",
    "                            FitBl(parGlobalBF.x), FitS(parGlobalBF.x), FitJ(parGlobalBF.x), FitT(parGlobalBF.x),\n",
    "                            FitN_A(parGlobalBF.x), FitN_B(parGlobalBF.x), FitN_C(parGlobalBF.x)])\n",
    "globalResultsBF.to_csv('globalResultsBF.csv')"
   ]
  }
 ],
 "metadata": {
  "kernelspec": {
   "display_name": "Python 3",
   "language": "python",
   "name": "python3"
  },
  "language_info": {
   "codemirror_mode": {
    "name": "ipython",
    "version": 3
   },
   "file_extension": ".py",
   "mimetype": "text/x-python",
   "name": "python",
   "nbconvert_exporter": "python",
   "pygments_lexer": "ipython3",
   "version": "3.8.10"
  }
 },
 "nbformat": 4,
 "nbformat_minor": 4
}
