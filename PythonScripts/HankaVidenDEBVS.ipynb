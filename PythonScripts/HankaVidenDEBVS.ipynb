{
 "cells": [
  {
   "cell_type": "markdown",
   "metadata": {},
   "source": [
    "# Testing the DEB model\n",
    "## Santruckova et al. (unpublished data)\n",
    "1. Importing libraries"
   ]
  },
  {
   "cell_type": "code",
   "execution_count": 52,
   "metadata": {},
   "outputs": [],
   "source": [
    "import numpy as np\n",
    "import pandas as pd\n",
    "from scipy.integrate import odeint\n",
    "from scipy.optimize import dual_annealing\n",
    "from scipy.optimize import differential_evolution"
   ]
  },
  {
   "cell_type": "markdown",
   "metadata": {},
   "source": [
    "2. Defining DEB model"
   ]
  },
  {
   "cell_type": "code",
   "execution_count": 122,
   "metadata": {},
   "outputs": [],
   "source": [
    "def DEBmodel (y, t, pars):\n",
    "    #define initial pools\n",
    "    S=y[0];    e=y[1];    X1=y[2];     CO2=y[3]\n",
    "    #define parameters\n",
    "    yA=pars[0]; \n",
    "    Km=pars[1];     \n",
    "    v=pars[2];\n",
    "    m=pars[3]; \n",
    "    g=pars[4]; \n",
    "    ce=pars[5];\n",
    "    MX1=ce/4;\n",
    "    #Define fluxes\n",
    "    ##scaling function for substrate\n",
    "    f=S/(Km+S)\n",
    "    uptake=(v*ce/yA)*X1**(2/3)*f\n",
    "    growth = (v*e*X1**(-1/3)-m*g)/(e+g)\n",
    "    #Define derivatives\n",
    "    dSdt = -uptake\n",
    "    dedt = v*X1**(-1/3)*(f - e)\n",
    "    dX1dt = X1*growth \n",
    "    dCO2dt = uptake*(1 - yA) + ce*(X1*e*(v*X1**(-1/3)-growth)) - growth*X1*MX1\n",
    "    return dSdt, dedt, dX1dt, dCO2dt;"
   ]
  },
  {
   "cell_type": "markdown",
   "metadata": {},
   "source": [
    "3. Defining outputs from DEB model"
   ]
  },
  {
   "cell_type": "code",
   "execution_count": 123,
   "metadata": {},
   "outputs": [],
   "source": [
    "def calcDEB (model, pars, t, y0):\n",
    "    #model parameters\n",
    "    pars_model=pars[0:6]\n",
    "    #conversion factors\n",
    "    conversions=pars[5:7]\n",
    "    \n",
    "    #solve the model\n",
    "    y=odeint(model,y0,t, args=(pars_model,))\n",
    "    #calculate B, WallsProto,\n",
    "    B=((conversions[0]/4 + conversions[0]*y[:, 1])*y[:, 2])\n",
    "    WallsProto = (conversions[1]*conversions[0]/4)/(conversions[0]*y[:, 1])\n",
    "    #Create data with predictions\n",
    "    yhat = np.concatenate((y[:, 3].reshape(len(d.Time),1),#CO2\n",
    "                           B.reshape(len(d.Time),1),\n",
    "                           WallsProto.reshape(len(d.Time),1)), axis=1)\n",
    "    \n",
    "    return yhat"
   ]
  },
  {
   "cell_type": "markdown",
   "metadata": {},
   "source": [
    "4. Defining objective function"
   ]
  },
  {
   "cell_type": "code",
   "execution_count": 124,
   "metadata": {},
   "outputs": [],
   "source": [
    "def obj_funDEB (x):\n",
    "    #define parameters\n",
    "    pars = x\n",
    "    #initial conditions\n",
    "    S_i = d.Sinit[0]\n",
    "    e_i =pars[6]/4/d.WP[0]\n",
    "    X1_i = d.B[0]/(pars[5]*(0.25 + e_i))\n",
    "    \n",
    "    y0 = np.array([S_i, e_i, X1_i, 0])\n",
    "    #times\n",
    "    t = d.Time\n",
    "    #model simulations\n",
    "    yhat_full = calcDEB(DEBmodel, pars, t, y0)\n",
    "    #observations\n",
    "    obs=np.concatenate((np.array([d.Rc]).reshape(len(d.Time),1),\n",
    "                           np.array([d.B]).reshape(len(d.Time),1),\n",
    "                           np.array([d.WP]).reshape(len(d.Time),1)), axis=1)\n",
    "    #weights\n",
    "    weights=np.concatenate((np.nanmean(d.Rc).repeat(len(d.Time)).reshape(len(d.Time),1),\n",
    "                            np.nanmean(d.B).repeat(len(d.Time)).reshape(len(d.Time),1),\n",
    "                            np.nanmean((d.WP)).repeat(len(d.Time)).reshape(len(d.Time),1)),\n",
    "                       axis=1)\n",
    "    out=np.nansum(((yhat_full-obs)/weights)**2)\n",
    "    return out"
   ]
  },
  {
   "cell_type": "markdown",
   "metadata": {},
   "source": [
    "5. Calculate the goodness of fit"
   ]
  },
  {
   "cell_type": "code",
   "execution_count": 125,
   "metadata": {},
   "outputs": [],
   "source": [
    "def goodnessDEB (x):\n",
    "    #define parameters\n",
    "    pars = x\n",
    "    #initial conditions\n",
    "    S_i = d.Sinit[0]\n",
    "    e_i =pars[6]/4/d.WP[0]\n",
    "    X1_i = d.B[0]/(pars[5]*(0.25 + e_i))\n",
    "    \n",
    "    y0 = np.array([S_i, e_i, X1_i, 0])\n",
    "    #times\n",
    "    t = d.Time\n",
    "    #model simulations\n",
    "    yhat_full = calcDEB(DEBmodel, pars, t, y0)\n",
    "    #observations\n",
    "    obs=np.concatenate((np.array([d.Rc]).reshape(len(d.Time),1),\n",
    "                           np.array([d.B]).reshape(len(d.Time),1),\n",
    "                           np.array([d.WP]).reshape(len(d.Time),1)), axis=1)\n",
    "    \n",
    "    R2=1-np.nansum((obs-yhat_full)**2)/np.nansum((obs-np.nanmean(obs))**2)\n",
    "    ll=-np.nansum((obs-yhat_full)**2)/2/np.nanstd(obs)**2\n",
    "    AIC = len(pars)*2 - 2*ll\n",
    "    out = np.array([R2, ll, AIC])\n",
    "    return out"
   ]
  },
  {
   "cell_type": "markdown",
   "metadata": {},
   "source": [
    "6. Reading data"
   ]
  },
  {
   "cell_type": "code",
   "execution_count": 62,
   "metadata": {},
   "outputs": [
    {
     "name": "stdout",
     "output_type": "stream",
     "text": [
      "    Time  Sinit         Rc         B        WP\n",
      "0    0.1  51.29   0.110000  2.130000  0.054500\n",
      "1   24.0  51.29  15.831667  3.590000  0.359000\n",
      "2   48.0  51.29  22.078333  3.723333  0.718833\n",
      "3   72.0  51.29  24.503333  3.223333  0.624000\n",
      "4   96.0  51.29  26.570000  2.593333  1.051833\n",
      "5  120.0  51.29  27.845000  1.733333  0.496000\n"
     ]
    }
   ],
   "source": [
    "d = pd.read_csv('/mnt/580CBE2464C5F83D/pracovni/data_statistika/SoilMBVariability/SoilMBVariabilityData/VidenSucrose.csv', sep=',')\n",
    "print(d)"
   ]
  },
  {
   "cell_type": "markdown",
   "metadata": {},
   "source": [
    "7. Estimating parameters"
   ]
  },
  {
   "cell_type": "code",
   "execution_count": 126,
   "metadata": {},
   "outputs": [
    {
     "name": "stderr",
     "output_type": "stream",
     "text": [
      "<ipython-input-123-de0bdb1e2a70>:11: RuntimeWarning: invalid value encountered in true_divide\n",
      "  WallsProto = (conversions[1]*conversions[0]/4)/(conversions[0]*y[:, 1])\n"
     ]
    }
   ],
   "source": [
    "VidenSucroseP=dual_annealing(obj_funDEB, [(0.05, 1), (10, 1000),(0.001, 5), (1e-12, 0.1), (0.1, 3), (0.1, 30), (0, 1)])"
   ]
  },
  {
   "cell_type": "code",
   "execution_count": 127,
   "metadata": {},
   "outputs": [
    {
     "name": "stdout",
     "output_type": "stream",
     "text": [
      "     fun: 1.4150606906953584\n",
      " message: ['Maximum number of iteration reached']\n",
      "    nfev: 31785\n",
      "    nhev: 0\n",
      "     nit: 1000\n",
      "    njev: 2223\n",
      "  status: 0\n",
      " success: True\n",
      "       x: array([9.87142673e-01, 3.84059558e+02, 2.46062017e-01, 9.01407932e-02,\n",
      "       3.37332001e-01, 2.99708325e+01, 1.75215197e-01])\n",
      "[ 0.90459578 -0.85863794 15.71727587]\n"
     ]
    }
   ],
   "source": [
    "print(VidenSucroseP)\n",
    "print(goodnessDEB(VidenSucroseP.x))"
   ]
  },
  {
   "cell_type": "code",
   "execution_count": 128,
   "metadata": {},
   "outputs": [],
   "source": [
    "VidenSucroseDE=differential_evolution(obj_funDEB, [(0.05, 1), (10, 1000),(0.001, 5), (1e-12, 0.1), (0.1, 3), (0.1, 30), (0, 1)])"
   ]
  },
  {
   "cell_type": "code",
   "execution_count": 129,
   "metadata": {},
   "outputs": [
    {
     "name": "stdout",
     "output_type": "stream",
     "text": [
      "     fun: 1.3307232014617958\n",
      "     jac: array([ 7.40518754e-05,  4.90052054e-05,  9.67292913e-04, -5.79103432e-03,\n",
      "       -1.77606818e-03,  3.69038103e-05,  3.33055805e-03])\n",
      " message: 'Optimization terminated successfully.'\n",
      "    nfev: 14462\n",
      "     nit: 133\n",
      " success: True\n",
      "       x: array([5.22690339e-01, 9.95743451e+02, 2.94003210e-01, 6.89088743e-02,\n",
      "       2.00229849e-01, 2.72128319e+01, 6.97450646e-02])\n",
      "[ 0.9185374  -0.73316336 15.46632671]\n"
     ]
    }
   ],
   "source": [
    "print(VidenSucroseDE)\n",
    "print(goodnessDEB(VidenSucroseDE.x))"
   ]
  },
  {
   "cell_type": "code",
   "execution_count": 130,
   "metadata": {},
   "outputs": [],
   "source": [
    "np.savetxt('/mnt/580CBE2464C5F83D/pracovni/data_statistika/SoilMBVariability/PythonScripts/VidenSucroseParsSV.csv', VidenSucroseDE.x.reshape(1,7), delimiter=\",\")"
   ]
  },
  {
   "cell_type": "code",
   "execution_count": null,
   "metadata": {},
   "outputs": [],
   "source": []
  }
 ],
 "metadata": {
  "kernelspec": {
   "display_name": "Python 3",
   "language": "python",
   "name": "python3"
  },
  "language_info": {
   "codemirror_mode": {
    "name": "ipython",
    "version": 3
   },
   "file_extension": ".py",
   "mimetype": "text/x-python",
   "name": "python",
   "nbconvert_exporter": "python",
   "pygments_lexer": "ipython3",
   "version": "3.8.10"
  }
 },
 "nbformat": 4,
 "nbformat_minor": 4
}
