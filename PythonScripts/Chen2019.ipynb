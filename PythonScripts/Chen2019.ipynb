{
 "cells": [
  {
   "cell_type": "markdown",
   "metadata": {},
   "source": [
    "# Chen et al. (2019)"
   ]
  },
  {
   "cell_type": "markdown",
   "metadata": {},
   "source": [
    "## Turnover rate of ${}^{14}C$, ${}^{15}N$ and ${}^{33}P$"
   ]
  },
  {
   "cell_type": "markdown",
   "metadata": {},
   "source": [
    "### Importing functions"
   ]
  },
  {
   "cell_type": "code",
   "execution_count": 1,
   "metadata": {},
   "outputs": [],
   "source": [
    "import numpy as np\n",
    "import pandas as pd\n",
    "from scipy.integrate import odeint\n",
    "from scipy.optimize import dual_annealing\n",
    "from scipy.optimize import differential_evolution"
   ]
  },
  {
   "cell_type": "markdown",
   "metadata": {},
   "source": [
    "### This is the DEB model"
   ]
  },
  {
   "cell_type": "code",
   "execution_count": 2,
   "metadata": {},
   "outputs": [],
   "source": [
    "def DEBmodel (y, t, pars):\n",
    "    #define initial pools\n",
    "    e=y[0];    X1=y[1]\n",
    "    \n",
    "    #define parameters\n",
    "    #yA=pars[0]; \n",
    "    #Km=pars[1];     \n",
    "    v=pars;\n",
    "    m=0.03802298; \n",
    "    g=0.89960365; \n",
    "    #k=pars[1];\n",
    "    ce=3.23343743;\n",
    "    MX1=ce/4;\n",
    "    \n",
    "    #Scaling function for substrate uptake\n",
    "    #f=S/(Km+S)\n",
    "    #Fluxes\n",
    "    #uptake=(v*ce/yA)*X1*f\n",
    "    growth = (v*e-m*g)/(e + g)\n",
    "    \n",
    "    #Define derivatives\n",
    "    #dSdt = -uptake\n",
    "    dedt = -v*e\n",
    "    dX1dt = growth*X1 #- k*X1\n",
    "    #dCO2dt = uptake*(1 - yA) + ce*(X1*e*(v-growth)) - growth*X1*MX1 \n",
    "           \n",
    "    return dedt, dX1dt;"
   ]
  },
  {
   "cell_type": "markdown",
   "metadata": {},
   "source": [
    "### The function below uses the output from DEBmodel to convert biomass pools $e$ and $X_{1}$ to microbial biomass ($B$) and the isotopes in chloroform flush "
   ]
  },
  {
   "cell_type": "code",
   "execution_count": 3,
   "metadata": {},
   "outputs": [],
   "source": [
    "def calcDEB (model, pars, t, y0):\n",
    "    #model parameters\n",
    "    ##v\n",
    "    pars_model=pars[0]\n",
    "    #conversion factors\n",
    "    ##CNX1, CNe, CPX1, CPe\n",
    "    conversions=pars[1:5]\n",
    "\n",
    "    #solve the model\n",
    "    y=odeint(model,y0,t, args=(pars_model,))\n",
    "\n",
    "    #calculate biomass (B), total DNA, and flush (Flush)\n",
    "    Bc=(3.23343743/4 + 3.23343743*y[:, 0])*y[:, 1]\n",
    "    Bn=(3.23343743/4/conversions[0] + 3.23343743*y[:, 0]/conversions[1])*y[:, 1]\n",
    "    Bp=(3.23343743/4/conversions[2] + 3.23343743*y[:, 0]/conversions[3])*y[:, 1]\n",
    "    C14 = (0.25108916/4 + y[:, 0])/(0.25 + y[:, 0])*Bc\n",
    "    N15 = (0.25108916/4 + y[:, 0])/(0.25 + y[:, 0])*Bn\n",
    "    P33 = (0.25108916/4 + y[:, 0])/(0.25 + y[:, 0])*Bp    \n",
    "    \n",
    "    #Create data with predictions\n",
    "    yhat = np.concatenate((C14.reshape(len(d.Time),1),\n",
    "                           N15.reshape(len(d.Time),1),\n",
    "                           P33.reshape(len(d.Time),1)), axis=1)\n",
    "\n",
    "    return yhat"
   ]
  },
  {
   "cell_type": "markdown",
   "metadata": {},
   "source": [
    "### Objective function is defined"
   ]
  },
  {
   "cell_type": "code",
   "execution_count": 4,
   "metadata": {},
   "outputs": [],
   "source": [
    "def obj_funDEB (x):\n",
    "    #define parameters\n",
    "    ##v, CNe, CNX1, CPe, CPX1, e0\n",
    "    pars = x\n",
    "\n",
    "    #initial conditions\n",
    "    e_i = pars[5]\n",
    "    X1_i = d.C14[0]/((0.25*0.25108916+pars[5])*3.23343743)\n",
    "    \n",
    "    y0 = np.array([e_i, X1_i])\n",
    "\n",
    "    #times\n",
    "    t = d.Time-4\n",
    "\n",
    "    #model simulations\n",
    "    yhat_full = calcDEB(DEBmodel, pars, t, y0)\n",
    "\n",
    "    #observations\n",
    "    obs=np.concatenate((np.array([d.C14]).reshape(len(d.Time),1),\n",
    "                        np.array([d.N15]).reshape(len(d.Time),1),\n",
    "                        np.array([d.P33]).reshape(len(d.Time),1)),\n",
    "                     axis=1)\n",
    "\n",
    "    #weights\n",
    "    weights=np.concatenate((np.nanstd(d.C14).repeat(len(d.Time)).reshape(len(d.Time),1),\n",
    "                            np.nanstd(d.N15).repeat(len(d.Time)).reshape(len(d.Time),1),\n",
    "                            np.nanstd((d.P33)).repeat(len(d.Time)).reshape(len(d.Time),1)),\n",
    "                       axis=1)\n",
    "\n",
    "    out=np.nansum(((yhat_full-obs)/weights)**2)\n",
    "\n",
    "    return out"
   ]
  },
  {
   "cell_type": "markdown",
   "metadata": {},
   "source": [
    "### Goodness of fit is calculated"
   ]
  },
  {
   "cell_type": "code",
   "execution_count": 5,
   "metadata": {},
   "outputs": [],
   "source": [
    "def goodnessDEB (x):\n",
    "    #define parameters\n",
    "    ##v, CNe, CNX1, CPe, CPX1, e0\n",
    "    pars = x\n",
    "\n",
    "    #initial conditions\n",
    "    e_i = pars[5]\n",
    "    X1_i = d.C14[0]/((0.25*0.25108916+pars[5])*3.23343743)\n",
    "    \n",
    "    y0 = np.array([e_i, X1_i])\n",
    "\n",
    "    #times\n",
    "    t = d.Time-4\n",
    "\n",
    "    #model simulations\n",
    "    yhat_full = calcDEB(DEBmodel, pars, t, y0)\n",
    "\n",
    "    #observations\n",
    "    obs=np.concatenate((np.array([d.C14]).reshape(len(d.Time),1),\n",
    "                        np.array([d.N15]).reshape(len(d.Time),1),\n",
    "                        np.array([d.P33]).reshape(len(d.Time),1)),\n",
    "                     axis=1)\n",
    "    \n",
    "    R2=1-np.nansum((obs-yhat_full)**2)/np.nansum((obs-np.nanmean(obs))**2)\n",
    "    ll=-np.nansum((obs-yhat_full)**2)/2/np.nanstd(obs)**2\n",
    "    AIC = len(pars)*2 - 2*ll\n",
    "    \n",
    "    out = np.array([R2, ll, AIC])\n",
    "\n",
    "    return out"
   ]
  },
  {
   "cell_type": "code",
   "execution_count": 6,
   "metadata": {},
   "outputs": [],
   "source": [
    "def predDEB (model, pars, t, y0):\n",
    "    #model parameters\n",
    "    ##v\n",
    "    pars_model=pars[0]\n",
    "    #conversion factors\n",
    "    ##CNX1, CNe, CPX1, CPe\n",
    "    conversions=pars[1:5]\n",
    "\n",
    "    #solve the model\n",
    "    y=odeint(model,y0,t, args=(pars_model,))\n",
    "\n",
    "    #calculate biomass (B), total DNA, and flush (Flush)\n",
    "    Bc=(3.23343743/4 + 3.23343743*y[:, 0])*y[:, 1]\n",
    "    Bn=(3.23343743/4/conversions[0] + 3.23343743*y[:, 0]/conversions[1])*y[:, 1]\n",
    "    Bp=(3.23343743/4/conversions[2] + 3.23343743*y[:, 0]/conversions[3])*y[:, 1]\n",
    "    C14 = (0.25108916/4 + y[:, 0])/(0.25 + y[:, 0])*Bc\n",
    "    N15 = (0.25108916/4 + y[:, 0])/(0.25 + y[:, 0])*Bn\n",
    "    P33 = (0.25108916/4 + y[:, 0])/(0.25 + y[:, 0])*Bp   \n",
    "    \n",
    "    #Create data with predictions\n",
    "    yhat = np.concatenate((C14.reshape(len(np.arange(0, 13.5, 0.5)),1),\n",
    "                           N15.reshape(len(np.arange(0, 13.5, 0.5)),1),\n",
    "                           P33.reshape(len(np.arange(0, 13.5, 0.5)),1)), axis=1)\n",
    "\n",
    "    return yhat"
   ]
  },
  {
   "cell_type": "code",
   "execution_count": 7,
   "metadata": {},
   "outputs": [
    {
     "name": "stdout",
     "output_type": "stream",
     "text": [
      "                Study  Time        C14       N15       P33 Treatment\n",
      "0  Chen et al. (2019)     4   2.096003       NaN  0.024927      LowP\n",
      "1  Chen et al. (2019)     6   0.679309  0.075931  0.005554      LowP\n",
      "2  Chen et al. (2019)    11   0.387052  0.041242  0.004391      LowP\n",
      "3  Chen et al. (2019)    17   0.352206  0.028137  0.005554      LowP\n",
      "4  Chen et al. (2019)     4  16.959551  2.126852  0.936778     HighP\n",
      "5  Chen et al. (2019)     6  13.318860  1.995418  0.531740     HighP\n",
      "6  Chen et al. (2019)    11  10.891733  1.229936  0.420665     HighP\n",
      "7  Chen et al. (2019)    17   9.981561  0.781670  0.470132     HighP\n"
     ]
    }
   ],
   "source": [
    "#reading the data\n",
    "dall = pd.read_csv('/mnt/580CBE2464C5F83D/pracovni/data_statistika/SoilMBVariability/SoilMBVariabilityData/Chen2019.csv', sep=',')\n",
    "print(dall)"
   ]
  },
  {
   "cell_type": "markdown",
   "metadata": {},
   "source": [
    "### Low P soil"
   ]
  },
  {
   "cell_type": "code",
   "execution_count": 8,
   "metadata": {},
   "outputs": [
    {
     "name": "stdout",
     "output_type": "stream",
     "text": [
      "   index               Study  Time       C14       N15       P33 Treatment\n",
      "0      0  Chen et al. (2019)     4  2.096003       NaN  0.024927      LowP\n",
      "1      1  Chen et al. (2019)     6  0.679309  0.075931  0.005554      LowP\n",
      "2      2  Chen et al. (2019)    11  0.387052  0.041242  0.004391      LowP\n",
      "3      3  Chen et al. (2019)    17  0.352206  0.028137  0.005554      LowP\n"
     ]
    }
   ],
   "source": [
    "d = dall[dall.Treatment == \"LowP\"]\n",
    "d = d.reset_index()\n",
    "print(d)"
   ]
  },
  {
   "cell_type": "code",
   "execution_count": 9,
   "metadata": {},
   "outputs": [],
   "source": [
    "chen_lowP=dual_annealing(obj_funDEB, [(0.01, 20), #v\n",
    "                                             #(1e-12, 0.1), #m\n",
    "                                             #(0.1, 3), #g\n",
    "                                             #(1e-12, 0.1), #k\n",
    "                                             #(0.1, 10), #ce\n",
    "                                             (0.1, 100), #CNe\n",
    "                                             (0.1, 100), #CNX1\n",
    "                                             (0.1, 500), #CPe\n",
    "                                             (0.1, 500), #CPX1                                            \n",
    "                                             #(0, 1), #nX1\n",
    "                                             (0, 1)]) #e_0"
   ]
  },
  {
   "cell_type": "code",
   "execution_count": 10,
   "metadata": {},
   "outputs": [
    {
     "name": "stdout",
     "output_type": "stream",
     "text": [
      "     fun: 0.1065129136310129\n",
      " message: ['Maximum number of iteration reached']\n",
      "    nfev: 14892\n",
      "    nhev: 0\n",
      "     nit: 1000\n",
      "    njev: 413\n",
      "  status: 0\n",
      " success: True\n",
      "       x: array([ 1.69024135, 11.78192523,  0.67022326, 96.69631257, 72.83456438,\n",
      "        0.20931707])\n",
      "[ 0.99749582 -0.01377298 12.02754597]\n"
     ]
    }
   ],
   "source": [
    "print(chen_lowP)\n",
    "print(goodnessDEB(chen_lowP.x))"
   ]
  },
  {
   "cell_type": "code",
   "execution_count": 11,
   "metadata": {},
   "outputs": [],
   "source": [
    "chen_lowPDE=differential_evolution(obj_funDEB, [(0.01, 20), #v\n",
    "                                             #(1e-12, 0.1), #m\n",
    "                                             #(0.1, 3), #g\n",
    "                                             #(1e-12, 0.1), #k\n",
    "                                             #(0.1, 10), #ce\n",
    "                                             (0.1, 100), #CNe\n",
    "                                             (0.1, 100), #CNX1\n",
    "                                             (0.1, 500), #CPe\n",
    "                                             (0.1, 500), #CPX1                                            \n",
    "                                             #(0, 1), #nX1\n",
    "                                             (0, 1)]) #e_0"
   ]
  },
  {
   "cell_type": "code",
   "execution_count": 12,
   "metadata": {},
   "outputs": [
    {
     "name": "stdout",
     "output_type": "stream",
     "text": [
      "     fun: 0.10651754712646785\n",
      "     jac: array([ 6.99995621e-06, -8.67778000e-06, -2.70061749e-06,  1.42524970e-05,\n",
      "        5.31339195e-05, -4.96325203e-05])\n",
      " message: 'Optimization terminated successfully.'\n",
      "    nfev: 11536\n",
      "     nit: 125\n",
      " success: True\n",
      "       x: array([ 1.69007729, 11.76682922,  0.67142073, 96.47618152, 73.06729149,\n",
      "        0.20977921])\n",
      "[ 0.99749869 -0.01375722 12.02751445]\n"
     ]
    }
   ],
   "source": [
    "print(chen_lowPDE)\n",
    "print(goodnessDEB(chen_lowPDE.x))"
   ]
  },
  {
   "cell_type": "code",
   "execution_count": 13,
   "metadata": {},
   "outputs": [],
   "source": [
    "#np.savetxt('/mnt/580CBE2464C5F83D/pracovni/data_statistika/SoilMBVariability/PythonScripts/Marstorp1999Pars.csv', marstorp_debparsDE.x.reshape(1,7), delimiter=\",\")"
   ]
  },
  {
   "cell_type": "markdown",
   "metadata": {},
   "source": [
    "## Solution over time for visualization in R"
   ]
  },
  {
   "cell_type": "code",
   "execution_count": 14,
   "metadata": {},
   "outputs": [],
   "source": [
    "#initial conditions\n",
    "e_i = chen_lowPDE.x[5]\n",
    "X1_i = d.C14[0]/((0.25*0.25108916+chen_lowPDE.x[5])*3.23343743)\n",
    "    \n",
    "y0 = np.array([e_i, X1_i])\n",
    "    \n",
    "#times\n",
    "t = np.arange(0, 13.5, 0.5)\n",
    "\n",
    "#model simulations\n",
    "ChenLowPPred = predDEB(DEBmodel, chen_lowPDE.x, t, y0)\n",
    "np.savetxt('/mnt/580CBE2464C5F83D/pracovni/data_statistika/SoilMBVariability/PythonScripts/ChenLowPPred.csv', ChenLowPPred, delimiter=\",\")"
   ]
  },
  {
   "cell_type": "markdown",
   "metadata": {},
   "source": [
    "### High P soil"
   ]
  },
  {
   "cell_type": "code",
   "execution_count": 15,
   "metadata": {},
   "outputs": [
    {
     "name": "stdout",
     "output_type": "stream",
     "text": [
      "   index               Study  Time        C14       N15       P33 Treatment\n",
      "0      4  Chen et al. (2019)     4  16.959551  2.126852  0.936778     HighP\n",
      "1      5  Chen et al. (2019)     6  13.318860  1.995418  0.531740     HighP\n",
      "2      6  Chen et al. (2019)    11  10.891733  1.229936  0.420665     HighP\n",
      "3      7  Chen et al. (2019)    17   9.981561  0.781670  0.470132     HighP\n"
     ]
    }
   ],
   "source": [
    "d = dall[dall.Treatment == \"HighP\"]\n",
    "d = d.reset_index()\n",
    "print(d)"
   ]
  },
  {
   "cell_type": "code",
   "execution_count": 16,
   "metadata": {},
   "outputs": [],
   "source": [
    "chen_highP=dual_annealing(obj_funDEB, [(0.01, 20), #v\n",
    "                                             #(1e-12, 0.1), #m\n",
    "                                             #(0.1, 3), #g\n",
    "                                             #(1e-12, 0.1), #k\n",
    "                                             #(0.1, 10), #ce\n",
    "                                             (0.1, 100), #CNe\n",
    "                                             (0.1, 100), #CNX1\n",
    "                                             (0.1, 500), #CPe\n",
    "                                             (0.1, 500), #CPX1                                            \n",
    "                                             #(0, 1), #nX1\n",
    "                                             (0, 1)]) #e_0"
   ]
  },
  {
   "cell_type": "code",
   "execution_count": 17,
   "metadata": {},
   "outputs": [
    {
     "name": "stdout",
     "output_type": "stream",
     "text": [
      "     fun: 1.2323937239310514\n",
      " message: ['Maximum number of iteration reached']\n",
      "    nfev: 17790\n",
      "    nhev: 0\n",
      "     nit: 1000\n",
      "    njev: 827\n",
      "  status: 0\n",
      " success: True\n",
      "       x: array([1.89375706e+00, 8.21168325e+00, 4.52251949e+00, 2.43833087e+01,\n",
      "       2.54106471e+00, 1.04823794e-02])\n",
      "[ 0.99616283 -0.02302304 12.04604608]\n"
     ]
    }
   ],
   "source": [
    "print(chen_highP)\n",
    "print(goodnessDEB(chen_highP.x))"
   ]
  },
  {
   "cell_type": "code",
   "execution_count": 18,
   "metadata": {},
   "outputs": [],
   "source": [
    "chen_highPDE=differential_evolution(obj_funDEB, [(0.01, 20), #v\n",
    "                                             #(1e-12, 0.1), #m\n",
    "                                             #(0.1, 3), #g\n",
    "                                             #(1e-12, 0.1), #k\n",
    "                                             #(0.1, 10), #ce\n",
    "                                             (0.1, 100), #CNe\n",
    "                                             (0.1, 100), #CNX1\n",
    "                                             (0.1, 500), #CPe\n",
    "                                             (0.1, 500), #CPX1                                            \n",
    "                                             #(0, 1), #nX1\n",
    "                                             (0, 1)]) #e_0"
   ]
  },
  {
   "cell_type": "code",
   "execution_count": 19,
   "metadata": {},
   "outputs": [
    {
     "name": "stdout",
     "output_type": "stream",
     "text": [
      "     fun: 1.2333844008981423\n",
      "     jac: array([-1.86517469e-06,  1.09112710e-04,  1.19302347e-03,  1.58282263e-03,\n",
      "       -7.39608379e-04,  3.15516502e-02])\n",
      " message: 'Optimization terminated successfully.'\n",
      "    nfev: 5356\n",
      "     nit: 54\n",
      " success: True\n",
      "       x: array([6.08433698e+00, 8.16609547e+00, 5.41477623e+00, 2.43196053e+01,\n",
      "       2.53223960e+00, 1.03967067e-02])\n",
      "[ 0.99623405 -0.02259569 12.04519138]\n"
     ]
    }
   ],
   "source": [
    "print(chen_highPDE)\n",
    "print(goodnessDEB(chen_highPDE.x))"
   ]
  },
  {
   "cell_type": "markdown",
   "metadata": {},
   "source": [
    "## Solution over time for visualization in R"
   ]
  },
  {
   "cell_type": "code",
   "execution_count": 20,
   "metadata": {},
   "outputs": [],
   "source": [
    "#initial conditions\n",
    "e_i = chen_highPDE.x[5]\n",
    "X1_i = d.C14[0]/((0.25*0.25108916+chen_highPDE.x[5])*3.23343743)\n",
    "    \n",
    "y0 = np.array([e_i, X1_i])\n",
    "    \n",
    "#times\n",
    "t = np.arange(0, 13.5, 0.5)\n",
    "\n",
    "#model simulations\n",
    "ChenHighPPred = predDEB(DEBmodel, chen_highPDE.x, t, y0)\n",
    "np.savetxt('/mnt/580CBE2464C5F83D/pracovni/data_statistika/SoilMBVariability/PythonScripts/ChenHighPPred.csv', ChenHighPPred, delimiter=\",\")"
   ]
  },
  {
   "cell_type": "code",
   "execution_count": null,
   "metadata": {},
   "outputs": [],
   "source": []
  }
 ],
 "metadata": {
  "kernelspec": {
   "display_name": "Python 3",
   "language": "python",
   "name": "python3"
  },
  "language_info": {
   "codemirror_mode": {
    "name": "ipython",
    "version": 3
   },
   "file_extension": ".py",
   "mimetype": "text/x-python",
   "name": "python",
   "nbconvert_exporter": "python",
   "pygments_lexer": "ipython3",
   "version": "3.8.10"
  }
 },
 "nbformat": 4,
 "nbformat_minor": 2
}
