{
 "cells": [
  {
   "cell_type": "markdown",
   "metadata": {},
   "source": [
    "# Testing the DEB model\n",
    "## Santruckova et al. (2004)\n",
    "1. Importing libraries"
   ]
  },
  {
   "cell_type": "code",
   "execution_count": 1,
   "metadata": {},
   "outputs": [],
   "source": [
    "import numpy as np\n",
    "import pandas as pd\n",
    "from scipy.integrate import odeint\n",
    "from scipy.optimize import dual_annealing\n",
    "from scipy.optimize import differential_evolution"
   ]
  },
  {
   "cell_type": "markdown",
   "metadata": {},
   "source": [
    "2. Defining DEB model"
   ]
  },
  {
   "cell_type": "code",
   "execution_count": 2,
   "metadata": {},
   "outputs": [],
   "source": [
    "def DEBmodel (y, t, pars):\n",
    "    #define initial pools (eu is assumed to be zero)\n",
    "    Sl=y[0];    el=y[1];    X1l=y[2];     CO2l=y[3];\n",
    "    X1u=y[4]\n",
    "    #define parameters\n",
    "    yA=pars[0]; \n",
    "    Km=pars[1];     \n",
    "    v=pars[2];\n",
    "    m=pars[3]; \n",
    "    g=pars[4]; \n",
    "    ce=pars[5];\n",
    "    MX1=ce/4;\n",
    "    #Scaling function for substrate uptake\n",
    "    f=Sl/(Km+Sl) #labelled substrate only\n",
    "    \n",
    "    #Isotope signals\n",
    "    eatm = 1\n",
    "    X1atm = X1l/(X1l + X1u)\n",
    "    \n",
    "    #Fluxes\n",
    "    uptake=(v*ce/yA)*(X1l+X1u)*f #labelled substrate only\n",
    "    growth = (v*el-m*g)/(el + g)\n",
    "    \n",
    "    #Define derivatives\n",
    "    ##Labelled pools\n",
    "    dSldt = -uptake\n",
    "    deldt = v*(f - el)\n",
    "    dX1ldt = max(0, (X1l + X1u)*growth) + min(0, (X1l + X1u)*growth*X1atm) \n",
    "    dCO2ldt = uptake*(1 - yA) + ce*((X1l + X1u)*el*(v-growth)) - max(0, (X1l + X1u)*growth)*MX1 - min(0, (X1l + X1u)*growth*X1atm)*MX1 \n",
    "    ##Unabelled pools\n",
    "    #dSudt\n",
    "    #deudt = - v*eu\n",
    "    dX1udt = min(0, (X1l + X1u)*growth*(1-X1atm)) \n",
    "        \n",
    "    return dSldt, deldt, dX1ldt, dCO2ldt, dX1udt;"
   ]
  },
  {
   "cell_type": "markdown",
   "metadata": {},
   "source": [
    "3. Defining outputs from DEB model"
   ]
  },
  {
   "cell_type": "code",
   "execution_count": 3,
   "metadata": {},
   "outputs": [],
   "source": [
    "def calcDEB (model, pars, t, y0):\n",
    "    #model parameters\n",
    "    ##yA, Km, v, m, g, ce\n",
    "    pars_model=pars[0:6]\n",
    "    #conversion factors\n",
    "    ##ce, nX1\n",
    "    conversions=pars[5:7]\n",
    "    \n",
    "    #solve the model\n",
    "    y=odeint(model,y0,t, args=(pars_model,))\n",
    "    #calculate labelled biomass (Bl), kec factor, and labelled chloroform flush (Flush14C) \n",
    "    Bl=0.25*conversions[0]*y[:, 2] + conversions[0]*y[:, 1]*(y[:, 2] + y[:, 4])\n",
    "    kec = (0.25*conversions[1] + y[:, 1])/(0.25 + y[:, 1])\n",
    "    Flush14C = Bl*kec\n",
    "        \n",
    "    #Create data with predictions\n",
    "    yhat = np.concatenate((y[:, 0].reshape(len(d.Time),1), #Glucose\n",
    "                           y[:, 3].reshape(len(d.Time),1),#CO2\n",
    "                           kec.reshape(len(d.Time),1),\n",
    "                           Flush14C.reshape(len(d.Time),1)), axis=1)\n",
    "    \n",
    "    return yhat"
   ]
  },
  {
   "cell_type": "markdown",
   "metadata": {},
   "source": [
    "4. Defining objective function"
   ]
  },
  {
   "cell_type": "code",
   "execution_count": 4,
   "metadata": {},
   "outputs": [],
   "source": [
    "def obj_funDEB (x):\n",
    "    #define parameters\n",
    "    ##yA, Km, v, m, g, ce, nX1\n",
    "    pars = x\n",
    "    #initial conditions\n",
    "    Sl_i = d.Sinit[0]\n",
    "    # el_i = 0, Xl_i = 0, CO2l = 0, CO2u = 0, eu = 0  \n",
    "    X1u_i = d.Cmicinit[0]/(pars[5]*(pars[6]/4))\n",
    "    \n",
    "    y0 = np.array([Sl_i, 0, 0, 0,X1u_i])\n",
    "    #times\n",
    "    t = d.Time\n",
    "    #model simulations\n",
    "    yhat_full = calcDEB(DEBmodel, pars, t, y0)\n",
    "    #observations\n",
    "    obs=np.concatenate((np.array([d.S]).reshape(len(d.Time),1),\n",
    "                        np.array([d.CO214cumul]).reshape(len(d.Time),1),\n",
    "                        np.array([d.kec]).reshape(len(d.Time),1),\n",
    "                        np.array([d.Cmic14]).reshape(len(d.Time),1)), axis=1)\n",
    "    #weights\n",
    "    weights=np.concatenate((np.nanmean(d.S).repeat(len(d.Time)).reshape(len(d.Time),1),\n",
    "                            np.nanmean(d.CO214cumul).repeat(len(d.Time)).reshape(len(d.Time),1),\n",
    "                            np.nanmean(d.kec/5).repeat(len(d.Time)).reshape(len(d.Time),1),\n",
    "                            np.nanmean((d.Cmic14)).repeat(len(d.Time)).reshape(len(d.Time),1)),\n",
    "                       axis=1)\n",
    "    out=np.nansum(((yhat_full-obs)/weights)**2)\n",
    "    return out"
   ]
  },
  {
   "cell_type": "markdown",
   "metadata": {},
   "source": [
    "5. Calculate the goodness of fit"
   ]
  },
  {
   "cell_type": "code",
   "execution_count": 5,
   "metadata": {},
   "outputs": [],
   "source": [
    "def goodnessDEB (x):\n",
    "    #define parameters\n",
    "    ##Km, v, m, g, ce, nX1\n",
    "    pars = x\n",
    "    #initial conditions\n",
    "    Sl_i = d.Sinit[0]\n",
    "    # el_i = 0, Xl_i = 0, CO2l = 0, CO2u = 0, eu = 0  \n",
    "    X1u_i = d.Cmicinit[0]/(pars[5]*(pars[6]/4))\n",
    "    \n",
    "    y0 = np.array([Sl_i, 0, 0, 0,X1u_i])\n",
    "    #times\n",
    "    t = d.Time\n",
    "    #model simulations\n",
    "    yhat_full = calcDEB(DEBmodel, pars, t, y0)\n",
    "    \n",
    "    #observations\n",
    "    obs=np.concatenate((np.array([d.S]).reshape(len(d.Time),1),\n",
    "                        np.array([d.CO214cumul]).reshape(len(d.Time),1),\n",
    "                        np.array([d.kec]).reshape(len(d.Time),1),\n",
    "                        np.array([d.Cmic14]).reshape(len(d.Time),1)), axis=1)\n",
    "    \n",
    "    R2=1-np.nansum((obs-yhat_full)**2)/np.nansum((obs-np.nanmean(obs))**2)\n",
    "    ll=-np.nansum((obs-yhat_full)**2)/2/np.nanstd(obs)**2\n",
    "    AIC = len(pars)*2 - 2*ll\n",
    "    out = np.array([R2, ll, AIC])\n",
    "    return out"
   ]
  },
  {
   "cell_type": "markdown",
   "metadata": {},
   "source": [
    "Following function return the model solution for visualization in R"
   ]
  },
  {
   "cell_type": "code",
   "execution_count": 6,
   "metadata": {},
   "outputs": [],
   "source": [
    "def predDEB (model, pars, t, y0):\n",
    "    #model parameters\n",
    "    ##yA, Km, v, m, g, ce\n",
    "    pars_model=pars[0:6]\n",
    "    #conversion factors\n",
    "    ##ce, nX1\n",
    "    conversions=pars[5:7]\n",
    "    \n",
    "    #solve the model\n",
    "    y=odeint(model,y0,t, args=(pars_model,))\n",
    "    #calculate labelled biomass (Bl), kec factor, and labelled chloroform flush (Flush14C) \n",
    "    Bl=0.25*conversions[0]*y[:, 2] + conversions[0]*y[:, 1]*(y[:, 2] + y[:, 4])\n",
    "    kec = (0.25*conversions[1] + y[:, 1])/(0.25 + y[:, 1])\n",
    "    Flush14C = Bl*kec\n",
    "    \n",
    "    #Create data with predictions\n",
    "    yhat = np.concatenate((y[:, 0].reshape(61,1), #Glucose\n",
    "                           y[:, 3].reshape(61,1),#CO2\n",
    "                           kec.reshape(61,1),\n",
    "                           Flush14C.reshape(61,1)), axis=1)\n",
    "    \n",
    "    return yhat"
   ]
  },
  {
   "cell_type": "markdown",
   "metadata": {},
   "source": [
    "Reading data"
   ]
  },
  {
   "cell_type": "code",
   "execution_count": 7,
   "metadata": {},
   "outputs": [
    {
     "name": "stdout",
     "output_type": "stream",
     "text": [
      "                      Study        Soil Substrate  Clay    pH  Ctot  Ntot  \\\n",
      "0  Santruckova et al., 2004  sandy loam   Glucose    20  5.47  1.37  0.15   \n",
      "1  Santruckova et al., 2004  sandy loam   Glucose    20  5.47  1.37  0.15   \n",
      "2  Santruckova et al., 2004  sandy loam   Glucose    20  5.47  1.37  0.15   \n",
      "3  Santruckova et al., 2004  sandy loam   Glucose    20  5.47  1.37  0.15   \n",
      "4  Santruckova et al., 2004  sandy loam   Glucose    20  5.47  1.37  0.15   \n",
      "5  Santruckova et al., 2004  sandy loam   Glucose    20  5.47  1.37  0.15   \n",
      "\n",
      "       Time  Cmicinit      Sinit     Cmic12    Cmic14     CO214  CO214cumul  \\\n",
      "0  0.000000  7.694132  26.376234   7.694132  0.000000  0.000000    0.000000   \n",
      "1  0.333333  7.694132  26.376234   8.904390  3.680103  5.101495    1.700498   \n",
      "2  0.666667  7.694132  26.376234  10.150397  4.562771  5.468979    3.523491   \n",
      "3  1.000000  7.694132  26.376234  11.714008  4.819833  5.624263    5.398246   \n",
      "4  2.000000  7.694132  26.376234  10.586995  4.428162  1.129519    6.527764   \n",
      "5  3.000000  7.694132  26.376234  10.566435  4.144564  0.439491    6.967255   \n",
      "\n",
      "           S   kec Treatment  \n",
      "0  26.376234   NaN     OX-OX  \n",
      "1  15.759969   NaN     OX-OX  \n",
      "2   5.939155  0.32     OX-OX  \n",
      "3   0.000000  0.26     OX-OX  \n",
      "4   0.000000  0.23     OX-OX  \n",
      "5   0.000000  0.22     OX-OX  \n"
     ]
    }
   ],
   "source": [
    "d = pd.read_csv('/mnt/580CBE2464C5F83D/pracovni/data_statistika/SoilMBVariability/SoilMBVariabilityData/Santruckova2004.csv', sep=',')\n",
    "print(d)"
   ]
  },
  {
   "cell_type": "markdown",
   "metadata": {},
   "source": [
    "Estimating parameters"
   ]
  },
  {
   "cell_type": "code",
   "execution_count": 8,
   "metadata": {},
   "outputs": [],
   "source": [
    "Santruckova2004DA=dual_annealing(obj_funDEB, [(0.05, 1), #yA\n",
    "                                              (10, 1000), #Km\n",
    "                                              (0.001, 20), #v\n",
    "                                              (1e-12, 0.1), #m\n",
    "                                              (0.1, 3), #g\n",
    "                                              (0.1, 10), #ce\n",
    "                                              (0, 1)]) #nX1\n",
    "                                              "
   ]
  },
  {
   "cell_type": "code",
   "execution_count": 9,
   "metadata": {},
   "outputs": [
    {
     "name": "stdout",
     "output_type": "stream",
     "text": [
      "     fun: 0.29734016350393594\n",
      " message: ['Maximum number of iteration reached']\n",
      "    nfev: 16425\n",
      "    nhev: 0\n",
      "     nit: 1000\n",
      "    njev: 303\n",
      "  status: 0\n",
      " success: True\n",
      "       x: array([9.94919283e-01, 3.04134402e+02, 4.35400564e+00, 1.35499232e-03,\n",
      "       3.33754748e-01, 8.75915087e+00, 2.22208743e-01])\n",
      "[ 0.98600717 -0.15392108 14.30784216]\n"
     ]
    }
   ],
   "source": [
    "print(Santruckova2004DA)\n",
    "print(goodnessDEB(Santruckova2004DA.x))"
   ]
  },
  {
   "cell_type": "code",
   "execution_count": 10,
   "metadata": {},
   "outputs": [],
   "source": [
    "Santruckova2004DE=differential_evolution(obj_funDEB, [(0.05, 1), #yA\n",
    "                                              (10, 1000), #Km\n",
    "                                              (0.001, 20), #v\n",
    "                                              (1e-12, 0.1), #m\n",
    "                                              (0.1, 3), #g\n",
    "                                              (0.1, 10), #ce\n",
    "                                              (0, 1)]) #nX1"
   ]
  },
  {
   "cell_type": "code",
   "execution_count": 11,
   "metadata": {},
   "outputs": [
    {
     "name": "stdout",
     "output_type": "stream",
     "text": [
      "     fun: 0.29734160597460435\n",
      "     jac: array([ 1.58284496e-04, -1.19237858e-05,  1.56569203e-04, -2.09393614e-03,\n",
      "       -2.04369854e-04,  2.10942376e-07, -7.37743200e-04])\n",
      " message: 'Optimization terminated successfully.'\n",
      "    nfev: 9384\n",
      "     nit: 87\n",
      " success: True\n",
      "       x: array([9.94986979e-01, 3.03869160e+02, 4.35170354e+00, 1.34161573e-03,\n",
      "       3.33805689e-01, 2.35939019e+00, 2.22188125e-01])\n",
      "[ 0.98600431 -0.15395262 14.30790524]\n"
     ]
    }
   ],
   "source": [
    "print(Santruckova2004DE)\n",
    "print(goodnessDEB(Santruckova2004DE.x))"
   ]
  },
  {
   "cell_type": "code",
   "execution_count": 13,
   "metadata": {},
   "outputs": [],
   "source": [
    "np.savetxt('/mnt/580CBE2464C5F83D/pracovni/data_statistika/SoilMBVariability/PythonScripts/Santruckova2004Pars.csv', Santruckova2004DE.x.reshape(1,7), delimiter=\",\")"
   ]
  },
  {
   "cell_type": "markdown",
   "metadata": {},
   "source": [
    "Exporting solution for R"
   ]
  },
  {
   "cell_type": "code",
   "execution_count": 14,
   "metadata": {},
   "outputs": [
    {
     "name": "stdout",
     "output_type": "stream",
     "text": [
      "[[2.63762341e+01 0.00000000e+00 2.22188125e-01 0.00000000e+00]\n",
      " [2.40529523e+01 7.18667518e-02 2.66077039e-01 5.99049826e-01]\n",
      " [2.19020578e+01 2.33687945e-01 2.94805249e-01 1.25011822e+00]\n",
      " [1.99025312e+01 4.58265332e-01 3.13534694e-01 1.88604837e+00]\n",
      " [1.80408871e+01 7.27061341e-01 3.25347464e-01 2.47533642e+00]\n",
      " [1.63081828e+01 1.02664021e+00 3.32208176e-01 3.00363068e+00]\n",
      " [1.46981709e+01 1.34677322e+00 3.35437367e-01 3.46550071e+00]\n",
      " [1.32061086e+01 1.67937611e+00 3.35962913e-01 3.86046565e+00]\n",
      " [1.18279729e+01 2.01789066e+00 3.34461860e-01 4.19093106e+00]\n",
      " [1.05599459e+01 2.35691462e+00 3.31444338e-01 4.46103318e+00]\n",
      " [9.39809045e+00 2.69197413e+00 3.27305154e-01 4.67593692e+00]\n",
      " [8.33816409e+00 3.01937892e+00 3.22356497e-01 4.84137268e+00]\n",
      " [7.37553564e+00 3.33612509e+00 3.16849206e-01 4.96330766e+00]\n",
      " [6.50517691e+00 3.63982396e+00 3.10986906e-01 5.04770103e+00]\n",
      " [5.72170712e+00 3.92864430e+00 3.04935647e-01 5.10031789e+00]\n",
      " [5.01947157e+00 4.20126003e+00 2.98830643e-01 5.12658988e+00]\n",
      " [4.39263951e+00 4.45679946e+00 2.92781170e-01 5.13151561e+00]\n",
      " [3.83530867e+00 4.69479406e+00 2.86874288e-01 5.11959627e+00]\n",
      " [3.34160722e+00 4.91512645e+00 2.81177833e-01 5.09480190e+00]\n",
      " [2.90578655e+00 5.11797819e+00 2.75742934e-01 5.06056378e+00]\n",
      " [2.52230035e+00 5.30377835e+00 2.70606252e-01 5.01978807e+00]\n",
      " [2.18586808e+00 5.47315401e+00 2.65792012e-01 4.97488547e+00]\n",
      " [1.89152212e+00 5.62688399e+00 2.61313883e-01 4.92781229e+00]\n",
      " [1.63463939e+00 5.76585654e+00 2.57176731e-01 4.88011834e+00]\n",
      " [1.41095895e+00 5.89103178e+00 2.53378229e-01 4.83299803e+00]\n",
      " [1.21658759e+00 6.00340927e+00 2.49910329e-01 4.78734159e+00]\n",
      " [1.04799556e+00 6.10400067e+00 2.46760586e-01 4.74378422e+00]\n",
      " [9.02004766e-01 6.19380754e+00 2.43913316e-01 4.70275162e+00]\n",
      " [7.75771272e-01 6.27380387e+00 2.41350609e-01 4.66450090e+00]\n",
      " [6.66764093e-01 6.34492277e+00 2.39053174e-01 4.62915646e+00]\n",
      " [5.72741665e-01 6.40804710e+00 2.37001046e-01 4.59674080e+00]\n",
      " [4.91727273e-01 6.46400323e+00 2.35174151e-01 4.56720041e+00]\n",
      " [4.21984358e-01 6.51355745e+00 2.33552749e-01 4.54042708e+00]\n",
      " [3.61992444e-01 6.55741465e+00 2.32117769e-01 4.51627523e+00]\n",
      " [3.10424183e-01 6.59621862e+00 2.30851052e-01 4.49457558e+00]\n",
      " [2.66123823e-01 6.63055368e+00 2.29735514e-01 4.47514590e+00]\n",
      " [2.28087318e-01 6.66094723e+00 2.28755248e-01 4.45779911e+00]\n",
      " [1.95444141e-01 6.68787294e+00 2.27895567e-01 4.44234933e+00]\n",
      " [1.67440856e-01 6.71175438e+00 2.27143021e-01 4.42861626e+00]\n",
      " [1.43426363e-01 6.73296880e+00 2.26485367e-01 4.41642813e+00]\n",
      " [1.22838744e-01 6.75185105e+00 2.25911529e-01 4.40562365e+00]\n",
      " [1.05193610e-01 6.76869736e+00 2.25411538e-01 4.39605311e+00]\n",
      " [9.00738265e-02 6.78376910e+00 2.24976461e-01 4.38757889e+00]\n",
      " [7.71204917e-02 6.79729624e+00 2.24598326e-01 4.38007548e+00]\n",
      " [6.60250405e-02 6.80948069e+00 2.24270046e-01 4.37342919e+00]\n",
      " [5.65223613e-02 6.82049934e+00 2.23985339e-01 4.36753765e+00]\n",
      " [4.83848064e-02 6.83050686e+00 2.23738655e-01 4.36230913e+00]\n",
      " [4.14169948e-02 6.83963828e+00 2.23525103e-01 4.35766180e+00]\n",
      " [3.54513102e-02 6.84801126e+00 2.23340380e-01 4.35352295e+00]\n",
      " [3.03440086e-02 6.85572822e+00 2.23180714e-01 4.34982819e+00]\n",
      " [2.59718574e-02 6.86287817e+00 2.23042800e-01 4.34652067e+00]\n",
      " [2.22292376e-02 6.86953840e+00 2.22923751e-01 4.34355031e+00]\n",
      " [1.90256474e-02 6.87577592e+00 2.22821047e-01 4.34087315e+00]\n",
      " [1.62835549e-02 6.88164879e+00 2.22732492e-01 4.33845065e+00]\n",
      " [1.39365486e-02 6.88720727e+00 2.22656176e-01 4.33624907e+00]\n",
      " [1.19277535e-02 6.89249481e+00 2.22590436e-01 4.33423898e+00]\n",
      " [1.02084660e-02 6.89754898e+00 2.22533834e-01 4.33239470e+00]\n",
      " [8.73699054e-03 6.90236052e+00 2.22485117e-01 4.33070315e+00]\n",
      " [7.47761467e-03 6.90671749e+00 2.22443204e-01 4.32919825e+00]\n",
      " [6.39976903e-03 6.91064329e+00 2.22407155e-01 4.32786328e+00]\n",
      " [5.47730673e-03 6.91419825e+00 2.22376162e-01 4.32667477e+00]]\n"
     ]
    }
   ],
   "source": [
    "#initial conditions\n",
    "Sl_i = d.Sinit[0]\n",
    "X1u_i = d.Cmicinit[0]/(Santruckova2004DE.x[5]*(Santruckova2004DE.x[6]/4))\n",
    "    \n",
    "y0 = np.array([Sl_i, 0, 0, 0,X1u_i])\n",
    "\n",
    "#times\n",
    "t = np.arange(0, 3.05, 0.05)\n",
    "#model simulations\n",
    "Santruckova2004Pred = predDEB(DEBmodel, Santruckova2004DE.x, t, y0)\n",
    "np.savetxt('/mnt/580CBE2464C5F83D/pracovni/data_statistika/SoilMBVariability/PythonScripts/Santruckova2004Pred.csv', Santruckova2004Pred, delimiter=\",\")\n",
    "print(Santruckova2004Pred)"
   ]
  },
  {
   "cell_type": "code",
   "execution_count": null,
   "metadata": {},
   "outputs": [],
   "source": []
  }
 ],
 "metadata": {
  "kernelspec": {
   "display_name": "Python 3",
   "language": "python",
   "name": "python3"
  },
  "language_info": {
   "codemirror_mode": {
    "name": "ipython",
    "version": 3
   },
   "file_extension": ".py",
   "mimetype": "text/x-python",
   "name": "python",
   "nbconvert_exporter": "python",
   "pygments_lexer": "ipython3",
   "version": "3.8.10"
  }
 },
 "nbformat": 4,
 "nbformat_minor": 4
}
