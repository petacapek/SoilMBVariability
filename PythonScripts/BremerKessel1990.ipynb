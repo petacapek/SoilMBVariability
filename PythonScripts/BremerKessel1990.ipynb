{
 "cells": [
  {
   "cell_type": "markdown",
   "metadata": {},
   "source": [
    "# Testing the DEB model\n",
    "## Bremer and van Kessel (1990)\n",
    "1. Importing libraries"
   ]
  },
  {
   "cell_type": "code",
   "execution_count": 1,
   "metadata": {},
   "outputs": [],
   "source": [
    "import numpy as np\n",
    "import pandas as pd\n",
    "from scipy.integrate import odeint\n",
    "from scipy.optimize import dual_annealing\n",
    "from scipy.optimize import differential_evolution"
   ]
  },
  {
   "cell_type": "markdown",
   "metadata": {},
   "source": [
    "2. Defining DEB model"
   ]
  },
  {
   "cell_type": "code",
   "execution_count": 2,
   "metadata": {},
   "outputs": [],
   "source": [
    "def DEBmodel (y, t, pars):\n",
    "    #define initial pools (eu is assumed to be zero)\n",
    "    Sl=y[0];    el=y[1];    X1l=y[2];     CO2l=y[3];\n",
    "    X1u=y[4]\n",
    "    #define parameters\n",
    "    yA=1; \n",
    "    Km=pars[0];     \n",
    "    v=pars[1];\n",
    "    m=pars[2]; \n",
    "    g=pars[3]; \n",
    "    ce=pars[4];\n",
    "    MX1=ce/4;\n",
    "    #Scaling function for substrate uptake\n",
    "    f=Sl/(Km+Sl) #labelled substrate only\n",
    "    \n",
    "    #Isotope signals\n",
    "    eatm = 1\n",
    "    X1atm = X1l/(X1l + X1u)\n",
    "    \n",
    "    #Fluxes\n",
    "    uptake=(v*ce/yA)*(X1l+X1u)*f #labelled substrate only\n",
    "    growth = (v*el-m*g)/(el + g)\n",
    "    \n",
    "    #Define derivatives\n",
    "    ##Labelled pools\n",
    "    dSldt = -uptake\n",
    "    deldt = v*(f - el)\n",
    "    dX1ldt = max(0, (X1l + X1u)*growth) + min(0, (X1l + X1u)*growth*X1atm) \n",
    "    dCO2ldt = uptake*(1 - yA) + ce*((X1l + X1u)*el*(v-growth)) - max(0, (X1l + X1u)*growth)*MX1 - min(0, (X1l + X1u)*growth*X1atm)*MX1 \n",
    "    ##Unabelled pools\n",
    "    #dSudt\n",
    "    #deudt = - v*eu\n",
    "    dX1udt = min(0, (X1l + X1u)*growth*(1-X1atm)) \n",
    "        \n",
    "    return dSldt, deldt, dX1ldt, dCO2ldt, dX1udt;"
   ]
  },
  {
   "cell_type": "markdown",
   "metadata": {},
   "source": [
    "3. Defining outputs from DEB model"
   ]
  },
  {
   "cell_type": "code",
   "execution_count": 3,
   "metadata": {},
   "outputs": [],
   "source": [
    "def calcDEB (model, pars, t, y0):\n",
    "    #model parameters\n",
    "    ##Km, v, m, g, ce\n",
    "    pars_model=pars[0:5]\n",
    "    #conversion factors\n",
    "    ##ce, nX1\n",
    "    conversions=pars[4:6]\n",
    "    \n",
    "    #solve the model\n",
    "    y=odeint(model,y0,t, args=(pars_model,))\n",
    "    #calculate labelled biomass (Bl), kec factor, and labelled chloroform flush (Flush14C) \n",
    "    Bl=0.25*conversions[0]*y[:, 2] + conversions[0]*y[:, 1]*(y[:, 2] + y[:, 4])\n",
    "    kec = (0.25*conversions[1] + y[:, 1])/(0.25 + y[:, 1])\n",
    "                \n",
    "    #Create data with predictions\n",
    "    yhat = np.concatenate((y[:, 0].reshape(len(d.Time),1), #Glucose\n",
    "                           y[:, 3].reshape(len(d.Time),1),#CO2\n",
    "                           kec.reshape(len(d.Time),1),\n",
    "                           Bl.reshape(len(d.Time),1)), axis=1)\n",
    "    \n",
    "    return yhat"
   ]
  },
  {
   "cell_type": "markdown",
   "metadata": {},
   "source": [
    "4. Defining objective function"
   ]
  },
  {
   "cell_type": "code",
   "execution_count": 4,
   "metadata": {},
   "outputs": [],
   "source": [
    "def obj_funDEB (x):\n",
    "    #define parameters\n",
    "    ##Km, v, m, g, ce, nX1\n",
    "    pars = x\n",
    "    #initial conditions\n",
    "    Sl_i = d.Sinit[0]\n",
    "    # el_i = 0, Xl_i = 0, CO2l = 0, CO2u = 0, eu = 0  \n",
    "    X1u_i = d.Cmicinit[0]/(pars[4]/4)\n",
    "    \n",
    "    y0 = np.array([Sl_i, 0, 0, 0,X1u_i])\n",
    "    #times\n",
    "    t = d.Time\n",
    "    #model simulations\n",
    "    yhat_full = calcDEB(DEBmodel, pars, t, y0)\n",
    "    #observations\n",
    "    obs=np.concatenate((np.array([d.S]).reshape(len(d.Time),1),\n",
    "                        np.array([d.CO214cumul]).reshape(len(d.Time),1),\n",
    "                        np.array([d.kec]).reshape(len(d.Time),1),\n",
    "                        np.array([d.Cmic14]).reshape(len(d.Time),1)), axis=1)\n",
    "    #weights\n",
    "    weights=np.concatenate((np.nanstd(d.S).repeat(len(d.Time)).reshape(len(d.Time),1),\n",
    "                            np.nanstd(d.CO214cumul).repeat(len(d.Time)).reshape(len(d.Time),1),\n",
    "                            np.nanstd(d.kec).repeat(len(d.Time)).reshape(len(d.Time),1),\n",
    "                            np.nanstd((d.Cmic14)).repeat(len(d.Time)).reshape(len(d.Time),1)),\n",
    "                       axis=1)\n",
    "    out=np.nansum(((yhat_full-obs)/weights)**2)\n",
    "    return out"
   ]
  },
  {
   "cell_type": "markdown",
   "metadata": {},
   "source": [
    "5. Calculate the goodness of fit"
   ]
  },
  {
   "cell_type": "code",
   "execution_count": 5,
   "metadata": {},
   "outputs": [],
   "source": [
    "def goodnessDEB (x):\n",
    "    #define parameters\n",
    "    ##Km, v, m, g, ce, nX1\n",
    "    pars = x\n",
    "    #initial conditions\n",
    "    Sl_i = d.Sinit[0]\n",
    "    # el_i = 0, Xl_i = 0, CO2l = 0, CO2u = 0, eu = 0  \n",
    "    X1u_i = d.Cmicinit[0]/(pars[4]/4)\n",
    "    \n",
    "    y0 = np.array([Sl_i, 0, 0, 0,X1u_i])\n",
    "    #times\n",
    "    t = d.Time\n",
    "    #model simulations\n",
    "    yhat_full = calcDEB(DEBmodel, pars, t, y0)\n",
    "    \n",
    "    #observations\n",
    "    obs=np.concatenate((np.array([d.S]).reshape(len(d.Time),1),\n",
    "                        np.array([d.CO214cumul]).reshape(len(d.Time),1),\n",
    "                        np.array([d.kec]).reshape(len(d.Time),1),\n",
    "                        np.array([d.Cmic14]).reshape(len(d.Time),1)), axis=1)\n",
    "    \n",
    "    R2=1-np.nansum((obs-yhat_full)**2)/np.nansum((obs-np.nanmean(obs))**2)\n",
    "    ll=-np.nansum((obs-yhat_full)**2)/2/np.nanstd(obs)**2\n",
    "    AIC = len(pars)*2 - 2*ll\n",
    "    out = np.array([R2, ll, AIC])\n",
    "    return out"
   ]
  },
  {
   "cell_type": "markdown",
   "metadata": {},
   "source": [
    "Following function return the model solution for visualization in R"
   ]
  },
  {
   "cell_type": "code",
   "execution_count": 6,
   "metadata": {},
   "outputs": [],
   "source": [
    "def predDEB (model, pars, t, y0):\n",
    "    #model parameters\n",
    "    ##Km, v, m, g, ce\n",
    "    pars_model=pars[0:5]\n",
    "    #conversion factors\n",
    "    ##ce, nX1\n",
    "    conversions=pars[4:6]\n",
    "    \n",
    "    #solve the model\n",
    "    y=odeint(model,y0,t, args=(pars_model,))\n",
    "    #calculate labelled biomass (Bl), kec factor, and labelled chloroform flush (Flush14C) \n",
    "    Bl=0.25*conversions[0]*y[:, 2] + conversions[0]*y[:, 1]*(y[:, 2] + y[:, 4])\n",
    "    kec = (conversions[1]/4 + y[:, 1])/(0.25 + y[:, 1])\n",
    "        \n",
    "    #Create data with predictions\n",
    "    yhat = np.concatenate((y[:, 0].reshape(len(np.arange(0, 7.1, 0.1)),1), #Glucose\n",
    "                           y[:, 3].reshape(len(np.arange(0, 7.1, 0.1)),1),#CO2\n",
    "                           kec.reshape(len(np.arange(0, 7.1, 0.1)),1),\n",
    "                           Bl.reshape(len(np.arange(0, 7.1, 0.1)),1)), axis=1)\n",
    "    \n",
    "    return yhat"
   ]
  },
  {
   "cell_type": "markdown",
   "metadata": {},
   "source": [
    "## High glucose/high N\n",
    "Reading data"
   ]
  },
  {
   "cell_type": "code",
   "execution_count": 7,
   "metadata": {},
   "outputs": [
    {
     "name": "stdout",
     "output_type": "stream",
     "text": [
      "   index                        Study        Soil Substrate  Clay   pH  Ctot  \\\n",
      "0     12  Bremer and van Kessel, 1990  silty loam   Glucose   NaN  7.4   1.3   \n",
      "1     13  Bremer and van Kessel, 1990  silty loam   Glucose   NaN  7.4   1.3   \n",
      "2     14  Bremer and van Kessel, 1990  silty loam   Glucose   NaN  7.4   1.3   \n",
      "3     15  Bremer and van Kessel, 1990  silty loam   Glucose   NaN  7.4   1.3   \n",
      "4     16  Bremer and van Kessel, 1990  silty loam   Glucose   NaN  7.4   1.3   \n",
      "5     17  Bremer and van Kessel, 1990  silty loam   Glucose   NaN  7.4   1.3   \n",
      "\n",
      "   Ntot  Temperature  Time   Cmicinit      Sinit     Cmic14  CO214cumul  \\\n",
      "0  0.17         22.5  0.00  11.606994  24.979184   0.000000    0.000000   \n",
      "1  0.17         22.5  0.25  11.606994  24.979184   9.682721    1.206915   \n",
      "2  0.17         22.5  0.50  11.606994  24.979184  19.286559    4.056026   \n",
      "3  0.17         22.5  1.00  11.606994  24.979184  17.452561    7.182134   \n",
      "4  0.17         22.5  3.00  11.606994  24.979184  15.973531    8.883686   \n",
      "5  0.17         22.5  7.00  11.606994  24.979184  15.362198    9.516822   \n",
      "\n",
      "           S       kec       ken Treatment  \n",
      "0  24.979184       NaN       NaN      HCHN  \n",
      "1  13.933000  0.500000  0.342100      HCHN  \n",
      "2   1.458366  0.447471  0.319610      HCHN  \n",
      "3   0.000000  0.378599  0.286304      HCHN  \n",
      "4   0.000000  0.359144  0.240706      HCHN  \n",
      "5   0.000000  0.327237  0.239421      HCHN  \n"
     ]
    }
   ],
   "source": [
    "dAll = pd.read_csv('/mnt/580CBE2464C5F83D/pracovni/data_statistika/SoilMBVariability/SoilMBVariabilityData/BremerKessel1990.csv', sep=',')\n",
    "d = dAll[(dAll.Treatment==\"HCHN\")]\n",
    "d = d.reset_index()\n",
    "print(d)"
   ]
  },
  {
   "cell_type": "markdown",
   "metadata": {},
   "source": [
    "Estimating parameters"
   ]
  },
  {
   "cell_type": "code",
   "execution_count": 8,
   "metadata": {},
   "outputs": [],
   "source": [
    "BremerKessel1990DA=dual_annealing(obj_funDEB, [#(0.05, 1), #yA\n",
    "                                              (10, 1000), #Km\n",
    "                                              (0.001, 20), #v\n",
    "                                              (1e-12, 0.1), #m\n",
    "                                              (0.1, 3), #g\n",
    "                                              (0.1, 10), #ce\n",
    "                                              (0, 1)]) #nX1\n",
    "                                              #(0, 1) #ne\n",
    "                                              #(0, 1)]) #eu_i"
   ]
  },
  {
   "cell_type": "code",
   "execution_count": 9,
   "metadata": {},
   "outputs": [
    {
     "name": "stdout",
     "output_type": "stream",
     "text": [
      "     fun: 0.7586540988343939\n",
      " message: ['Maximum number of iteration reached']\n",
      "    nfev: 19897\n",
      "    nhev: 0\n",
      "     nit: 1000\n",
      "    njev: 1128\n",
      "  status: 0\n",
      " success: True\n",
      "       x: array([1.61327938e+02, 9.06465065e+00, 2.91107062e-02, 3.34620228e-01,\n",
      "       4.10471952e+00, 3.49716337e-01])\n",
      "[ 0.98352259 -0.18949024 12.37898047]\n"
     ]
    }
   ],
   "source": [
    "print(BremerKessel1990DA)\n",
    "print(goodnessDEB(BremerKessel1990DA.x))"
   ]
  },
  {
   "cell_type": "code",
   "execution_count": 10,
   "metadata": {},
   "outputs": [],
   "source": [
    "BremerKessel1990DE=differential_evolution(obj_funDEB, [#(0.05, 1), #yA\n",
    "                                              (10, 1000), #Km\n",
    "                                              (0.001, 20), #v\n",
    "                                              (1e-12, 0.1), #m\n",
    "                                              (0.1, 3), #g\n",
    "                                              (0.1, 10), #ce\n",
    "                                              (0, 1)]) #nX1\n",
    "                                              #(0, 1) #ne\n",
    "                                              #(0, 1)]) #eu_i"
   ]
  },
  {
   "cell_type": "code",
   "execution_count": 11,
   "metadata": {},
   "outputs": [
    {
     "name": "stdout",
     "output_type": "stream",
     "text": [
      "     fun: 0.7587379608090821\n",
      "     jac: array([ 0.04426203,  0.00667149, -0.03117709,  0.06655928, -0.02030304,\n",
      "       -0.00389975])\n",
      " message: 'Optimization terminated successfully.'\n",
      "    nfev: 3403\n",
      "     nit: 33\n",
      " success: True\n",
      "       x: array([1.62245466e+02, 9.09459349e+00, 2.91527881e-02, 3.34537333e-01,\n",
      "       8.54335866e+00, 3.49880577e-01])\n",
      "[ 0.98345159 -0.19030676 12.38061351]\n"
     ]
    }
   ],
   "source": [
    "print(BremerKessel1990DE)\n",
    "print(goodnessDEB(BremerKessel1990DE.x))"
   ]
  },
  {
   "cell_type": "code",
   "execution_count": 12,
   "metadata": {},
   "outputs": [],
   "source": [
    "np.savetxt('/mnt/580CBE2464C5F83D/pracovni/data_statistika/SoilMBVariability/PythonScripts/BremerHCHNPars.csv', BremerKessel1990DA.x.reshape(1,6), delimiter=\",\")"
   ]
  },
  {
   "cell_type": "markdown",
   "metadata": {},
   "source": [
    "Exporting solution for R"
   ]
  },
  {
   "cell_type": "code",
   "execution_count": 13,
   "metadata": {},
   "outputs": [],
   "source": [
    "#initial conditions\n",
    "Sl_i = d.Sinit[0]\n",
    "X1u_i = d.Cmicinit[0]/(BremerKessel1990DA.x[4]/4)\n",
    "    \n",
    "y0 = np.array([Sl_i, 0, 0, 0,X1u_i])\n",
    "\n",
    "#times\n",
    "t = np.arange(0, 7.1, 0.1)\n",
    "#model simulations\n",
    "HCHNPred = predDEB(DEBmodel, BremerKessel1990DA.x, t, y0)\n",
    "#print(HCHNPred)"
   ]
  },
  {
   "cell_type": "markdown",
   "metadata": {},
   "source": [
    "## High glucose\n",
    "Reading data"
   ]
  },
  {
   "cell_type": "code",
   "execution_count": 14,
   "metadata": {},
   "outputs": [
    {
     "name": "stdout",
     "output_type": "stream",
     "text": [
      "   index                        Study        Soil Substrate  Clay   pH  Ctot  \\\n",
      "0      6  Bremer and van Kessel, 1990  silty loam   Glucose   NaN  7.4   1.3   \n",
      "1      7  Bremer and van Kessel, 1990  silty loam   Glucose   NaN  7.4   1.3   \n",
      "2      8  Bremer and van Kessel, 1990  silty loam   Glucose   NaN  7.4   1.3   \n",
      "3      9  Bremer and van Kessel, 1990  silty loam   Glucose   NaN  7.4   1.3   \n",
      "4     10  Bremer and van Kessel, 1990  silty loam   Glucose   NaN  7.4   1.3   \n",
      "5     11  Bremer and van Kessel, 1990  silty loam   Glucose   NaN  7.4   1.3   \n",
      "\n",
      "   Ntot  Temperature  Time   Cmicinit      Sinit     Cmic14  CO214cumul  \\\n",
      "0  0.17         22.5  0.00  11.606994  24.979184   0.000000    0.000000   \n",
      "1  0.17         22.5  0.25  11.606994  24.979184   9.367194    1.226701   \n",
      "2  0.17         22.5  0.50  11.606994  24.979184  16.525702    3.957098   \n",
      "3  0.17         22.5  1.00  11.606994  24.979184  17.077874    7.716342   \n",
      "4  0.17         22.5  3.00  11.606994  24.979184  15.717166    9.160683   \n",
      "5  0.17         22.5  7.00  11.606994  24.979184  14.553661   10.407169   \n",
      "\n",
      "           S       kec       ken Treatment  \n",
      "0  24.979184       NaN       NaN        HC  \n",
      "1  14.359291  0.409728  0.346819        HC  \n",
      "2   4.487279  0.389494  0.389532        HC  \n",
      "3   0.179491  0.360311  0.287866        HC  \n",
      "4   0.000000  0.338521  0.247543        HC  \n",
      "5   0.000000  0.327237  0.228901        HC  \n"
     ]
    }
   ],
   "source": [
    "d = dAll[(dAll.Treatment==\"HC\")]\n",
    "d = d.reset_index()\n",
    "print(d)"
   ]
  },
  {
   "cell_type": "markdown",
   "metadata": {},
   "source": [
    "Estimating parameters"
   ]
  },
  {
   "cell_type": "code",
   "execution_count": 15,
   "metadata": {},
   "outputs": [],
   "source": [
    "BremerKessel1990DA=dual_annealing(obj_funDEB, [#(0.05, 1), #yA\n",
    "                                              (10, 1000), #Km\n",
    "                                              (0.001, 20), #v\n",
    "                                              (1e-12, 0.1), #m\n",
    "                                              (0.1, 3), #g\n",
    "                                              (0.1, 10), #ce\n",
    "                                              (0, 1)]) #nX1\n",
    "                                              #(0, 1) #ne\n",
    "                                              #(0, 1)]) #eu_i"
   ]
  },
  {
   "cell_type": "code",
   "execution_count": 16,
   "metadata": {},
   "outputs": [
    {
     "name": "stdout",
     "output_type": "stream",
     "text": [
      "     fun: 1.0018744489573128\n",
      " message: ['Maximum number of iteration reached']\n",
      "    nfev: 23222\n",
      "    nhev: 0\n",
      "     nit: 1000\n",
      "    njev: 1603\n",
      "  status: 0\n",
      " success: True\n",
      "       x: array([4.74955672e+02, 1.93727269e+01, 3.84267866e-02, 3.31058110e-01,\n",
      "       8.80693035e+00, 3.41001002e-01])\n",
      "[ 0.98981443 -0.11713408 12.23426815]\n"
     ]
    }
   ],
   "source": [
    "print(BremerKessel1990DA)\n",
    "print(goodnessDEB(BremerKessel1990DA.x))"
   ]
  },
  {
   "cell_type": "code",
   "execution_count": 17,
   "metadata": {},
   "outputs": [],
   "source": [
    "BremerKessel1990DE=differential_evolution(obj_funDEB, [#(0.05, 1), #yA\n",
    "                                              (10, 1000), #Km\n",
    "                                              (0.001, 20), #v\n",
    "                                              (1e-12, 0.1), #m\n",
    "                                              (0.1, 3), #g\n",
    "                                              (0.1, 10), #ce\n",
    "                                              (0, 1)]) #nX1\n",
    "                                              #(0, 1) #ne\n",
    "                                              #(0, 1)]) #eu_i"
   ]
  },
  {
   "cell_type": "code",
   "execution_count": 18,
   "metadata": {},
   "outputs": [
    {
     "name": "stdout",
     "output_type": "stream",
     "text": [
      "     fun: 1.0019986147991926\n",
      "     jac: array([ 0.01433619,  0.00154052, -0.12637835,  0.00069333,  0.01574716,\n",
      "        0.00038394])\n",
      " message: 'Optimization terminated successfully.'\n",
      "    nfev: 2855\n",
      "     nit: 28\n",
      " success: True\n",
      "       x: array([4.77700441e+02, 1.94334127e+01, 3.84546154e-02, 3.30995877e-01,\n",
      "       7.39489884e+00, 3.41082001e-01])\n",
      "[ 0.98965903 -0.11892117 12.23784234]\n"
     ]
    }
   ],
   "source": [
    "print(BremerKessel1990DE)\n",
    "print(goodnessDEB(BremerKessel1990DE.x))"
   ]
  },
  {
   "cell_type": "code",
   "execution_count": 19,
   "metadata": {},
   "outputs": [],
   "source": [
    "np.savetxt('/mnt/580CBE2464C5F83D/pracovni/data_statistika/SoilMBVariability/PythonScripts/BremerHCPars.csv', BremerKessel1990DA.x.reshape(1,6), delimiter=\",\")"
   ]
  },
  {
   "cell_type": "code",
   "execution_count": 20,
   "metadata": {},
   "outputs": [],
   "source": [
    "#initial conditions\n",
    "Sl_i = d.Sinit[0]\n",
    "X1u_i = d.Cmicinit[0]/(BremerKessel1990DA.x[4]/4)\n",
    "    \n",
    "y0 = np.array([Sl_i, 0, 0, 0,X1u_i])\n",
    "\n",
    "#times\n",
    "t = np.arange(0, 7.1, 0.1)\n",
    "#model simulations\n",
    "HCPred = predDEB(DEBmodel, BremerKessel1990DA.x, t, y0)"
   ]
  },
  {
   "cell_type": "markdown",
   "metadata": {},
   "source": [
    "## Low glucose\n",
    "Reading data"
   ]
  },
  {
   "cell_type": "code",
   "execution_count": 21,
   "metadata": {},
   "outputs": [
    {
     "name": "stdout",
     "output_type": "stream",
     "text": [
      "   index                        Study        Soil Substrate  Clay   pH  Ctot  \\\n",
      "0      0  Bremer and van Kessel, 1990  silty loam   Glucose   NaN  7.4   1.3   \n",
      "1      1  Bremer and van Kessel, 1990  silty loam   Glucose   NaN  7.4   1.3   \n",
      "2      2  Bremer and van Kessel, 1990  silty loam   Glucose   NaN  7.4   1.3   \n",
      "3      3  Bremer and van Kessel, 1990  silty loam   Glucose   NaN  7.4   1.3   \n",
      "4      4  Bremer and van Kessel, 1990  silty loam   Glucose   NaN  7.4   1.3   \n",
      "5      5  Bremer and van Kessel, 1990  silty loam   Glucose   NaN  7.4   1.3   \n",
      "\n",
      "   Ntot  Temperature  Time   Cmicinit     Sinit    Cmic14  CO214cumul  \\\n",
      "0  0.17         22.5  0.00  11.606994  2.497918  0.000000    0.000000   \n",
      "1  0.17         22.5  0.25  11.606994  2.497918  2.196853    0.276997   \n",
      "2  0.17         22.5  0.50  11.606994  2.497918  2.088391    0.379881   \n",
      "3  0.17         22.5  1.00  11.606994  2.497918  2.035146    0.441216   \n",
      "4  0.17         22.5  3.00  11.606994  2.497918  1.932600    0.550037   \n",
      "5  0.17         22.5  7.00  11.606994  2.497918  1.871467    0.627200   \n",
      "\n",
      "          S       kec       ken Treatment  \n",
      "0  2.497918       NaN       NaN        LC  \n",
      "1  0.000000  0.417510  0.539186        LC  \n",
      "2  0.000000  0.408560  0.467848        LC  \n",
      "3  0.000000  0.458755  0.499696        LC  \n",
      "4  0.000000  0.488327  0.417846        LC  \n",
      "5  0.000000  0.468482  0.429175        LC  \n"
     ]
    }
   ],
   "source": [
    "d = dAll[(dAll.Treatment==\"LC\")]\n",
    "d = d.reset_index()\n",
    "print(d)"
   ]
  },
  {
   "cell_type": "markdown",
   "metadata": {},
   "source": [
    "Estimating parameters"
   ]
  },
  {
   "cell_type": "code",
   "execution_count": 22,
   "metadata": {},
   "outputs": [],
   "source": [
    "BremerKessel1990DA=dual_annealing(obj_funDEB, [#(0.05, 1), #yA\n",
    "                                              (10, 1000), #Km\n",
    "                                              (0.001, 20), #v\n",
    "                                              (1e-12, 0.1), #m\n",
    "                                              (0.1, 3), #g\n",
    "                                              (0.1, 10), #ce\n",
    "                                              (0, 1)]) #nX1\n",
    "                                              #(0, 1) #ne\n",
    "                                              #(0, 1)]) #eu_i"
   ]
  },
  {
   "cell_type": "code",
   "execution_count": 23,
   "metadata": {},
   "outputs": [
    {
     "name": "stdout",
     "output_type": "stream",
     "text": [
      "     fun: 5.35361250193482\n",
      " message: ['Maximum number of iteration reached']\n",
      "    nfev: 13996\n",
      "    nhev: 0\n",
      "     nit: 1000\n",
      "    njev: 285\n",
      "  status: 0\n",
      " success: True\n",
      "       x: array([10.00000115, 19.99999999,  0.02179999,  0.28135824,  5.13542865,\n",
      "        0.44813304])\n",
      "[ 0.99822572 -0.02040419 12.04080838]\n"
     ]
    }
   ],
   "source": [
    "print(BremerKessel1990DA)\n",
    "print(goodnessDEB(BremerKessel1990DA.x))"
   ]
  },
  {
   "cell_type": "code",
   "execution_count": 24,
   "metadata": {},
   "outputs": [],
   "source": [
    "BremerKessel1990DE=differential_evolution(obj_funDEB, [#(0.05, 1), #yA\n",
    "                                              (10, 1000), #Km\n",
    "                                              (0.001, 20), #v\n",
    "                                              (1e-12, 0.1), #m\n",
    "                                              (0.1, 3), #g\n",
    "                                              (0.1, 10), #ce\n",
    "                                              (0, 1)]) #nX1\n",
    "                                              #(0, 1) #ne\n",
    "                                              #(0, 1)]) #eu_i"
   ]
  },
  {
   "cell_type": "code",
   "execution_count": 25,
   "metadata": {},
   "outputs": [
    {
     "name": "stdout",
     "output_type": "stream",
     "text": [
      "     fun: 5.354321439335611\n",
      "     jac: array([ 4.59543476e-04,  1.60875744e-03,  1.69304570e-03,  1.47659662e-03,\n",
      "       -1.59872117e-05, -5.13011855e-04])\n",
      " message: 'Optimization terminated successfully.'\n",
      "    nfev: 3594\n",
      "     nit: 38\n",
      " success: True\n",
      "       x: array([11.31528879, 19.94958378,  0.02178823,  0.28132485,  5.79899672,\n",
      "        0.44812405])\n",
      "[ 0.99823765 -0.02026699 12.04053398]\n"
     ]
    }
   ],
   "source": [
    "print(BremerKessel1990DE)\n",
    "print(goodnessDEB(BremerKessel1990DE.x))"
   ]
  },
  {
   "cell_type": "code",
   "execution_count": 26,
   "metadata": {},
   "outputs": [],
   "source": [
    "np.savetxt('/mnt/580CBE2464C5F83D/pracovni/data_statistika/SoilMBVariability/PythonScripts/BremerLCPars.csv', BremerKessel1990DE.x.reshape(1,6), delimiter=\",\")"
   ]
  },
  {
   "cell_type": "code",
   "execution_count": 27,
   "metadata": {},
   "outputs": [],
   "source": [
    "#initial conditions\n",
    "Sl_i = d.Sinit[0]\n",
    "X1u_i = d.Cmicinit[0]/(BremerKessel1990DE.x[4]/4)\n",
    "    \n",
    "y0 = np.array([Sl_i, 0, 0, 0,X1u_i])\n",
    "\n",
    "#times\n",
    "t = np.arange(0, 7.1, 0.1)\n",
    "#model simulations\n",
    "LCPred = predDEB(DEBmodel, BremerKessel1990DE.x, t, y0)"
   ]
  },
  {
   "cell_type": "markdown",
   "metadata": {},
   "source": [
    "Merging and exporting solutions"
   ]
  },
  {
   "cell_type": "code",
   "execution_count": 28,
   "metadata": {},
   "outputs": [
    {
     "name": "stdout",
     "output_type": "stream",
     "text": [
      "[[ 2.49791840e+00  0.00000000e+00  4.48124055e-01  0.00000000e+00]\n",
      " [ 4.43591774e-04  2.48071490e-01  4.68644515e-01  2.24940327e+00]\n",
      " [ 3.08720616e-08  3.27060455e-01  4.51010980e-01  2.17085782e+00]\n",
      " [-6.69771380e-11  3.62339329e-01  4.48518516e-01  2.13557901e+00]\n",
      " [ 7.69918412e-12  3.74287720e-01  4.48177743e-01  2.12363062e+00]\n",
      " [ 1.83717894e-12  3.79901159e-01  4.48131358e-01  2.11801718e+00]\n",
      " [-1.02731424e-11  3.84645497e-01  4.48125048e-01  2.11327284e+00]\n",
      " [-1.78114518e-09  3.89263197e-01  4.48124190e-01  2.10865514e+00]\n",
      " [ 3.97123899e-11  3.93855057e-01  4.48124073e-01  2.10406328e+00]\n",
      " [ 5.01906005e-09  3.98434784e-01  4.48124057e-01  2.09948355e+00]\n",
      " [-1.22961989e-10  4.03004257e-01  4.48124055e-01  2.09491408e+00]\n",
      " [-8.33964494e-11  4.07563742e-01  4.48124055e-01  2.09035459e+00]\n",
      " [ 5.02261574e-12  4.12113298e-01  4.48124055e-01  2.08580504e+00]\n",
      " [ 3.75189820e-12  4.16652956e-01  4.48124055e-01  2.08126538e+00]\n",
      " [-5.99442444e-13  4.21182731e-01  4.48124055e-01  2.07673560e+00]\n",
      " [-1.98701409e-13  4.25702654e-01  4.48124055e-01  2.07221568e+00]\n",
      " [-3.05211078e-12  4.30212735e-01  4.48124055e-01  2.06770560e+00]\n",
      " [-2.16798555e-12  4.34712995e-01  4.48124055e-01  2.06320534e+00]\n",
      " [-1.27460406e-12  4.39203457e-01  4.48124055e-01  2.05871488e+00]\n",
      " [-1.06124845e-12  4.43684146e-01  4.48124055e-01  2.05423419e+00]\n",
      " [-9.92593106e-14  4.48155083e-01  4.48124055e-01  2.04976325e+00]\n",
      " [ 1.05901935e-13  4.52616290e-01  4.48124055e-01  2.04530205e+00]\n",
      " [ 1.48775596e-13  4.57067788e-01  4.48124055e-01  2.04085055e+00]\n",
      " [ 1.52948232e-13  4.61509597e-01  4.48124055e-01  2.03640874e+00]\n",
      " [ 2.79133111e-14  4.65941740e-01  4.48124055e-01  2.03197660e+00]\n",
      " [-3.02712758e-14  4.70364236e-01  4.48124055e-01  2.02755410e+00]\n",
      " [-4.91459456e-14  4.74777108e-01  4.48124055e-01  2.02314123e+00]\n",
      " [-1.95894250e-14  4.79180375e-01  4.48124055e-01  2.01873796e+00]\n",
      " [-7.95363680e-15  4.83574058e-01  4.48124055e-01  2.01434428e+00]\n",
      " [-4.87204429e-15  4.87958179e-01  4.48124055e-01  2.00996016e+00]\n",
      " [ 1.58284724e-15  4.92332759e-01  4.48124055e-01  2.00558558e+00]\n",
      " [ 6.07182740e-15  4.96697817e-01  4.48124055e-01  2.00122052e+00]\n",
      " [ 6.85351473e-15  5.01053375e-01  4.48124055e-01  1.99686496e+00]\n",
      " [ 3.60042139e-15  5.05399453e-01  4.48124055e-01  1.99251888e+00]\n",
      " [ 1.31075876e-15  5.09736072e-01  4.48124055e-01  1.98818226e+00]\n",
      " [-6.84167227e-16  5.14063252e-01  4.48124055e-01  1.98385508e+00]\n",
      " [-1.29037191e-15  5.18381015e-01  4.48124055e-01  1.97953732e+00]\n",
      " [-3.95023125e-15  5.22689380e-01  4.48124055e-01  1.97522896e+00]\n",
      " [-9.24818066e-15  5.26988368e-01  4.48124055e-01  1.97092997e+00]\n",
      " [-1.49687115e-14  5.31277999e-01  4.48124055e-01  1.96664034e+00]\n",
      " [-2.00005989e-14  5.35558294e-01  4.48124055e-01  1.96236004e+00]\n",
      " [-2.26606041e-14  5.39829274e-01  4.48124055e-01  1.95808906e+00]\n",
      " [-2.06934740e-14  5.44090958e-01  4.48124055e-01  1.95382738e+00]\n",
      " [-1.12719417e-14  5.48343366e-01  4.48124055e-01  1.94957497e+00]\n",
      " [-5.62968060e-15  5.52586520e-01  4.48124055e-01  1.94533182e+00]\n",
      " [-1.29962227e-14  5.56820439e-01  4.48124055e-01  1.94109790e+00]\n",
      " [-2.00157643e-14  5.61045143e-01  4.48124055e-01  1.93687319e+00]\n",
      " [-2.53643280e-14  5.65260652e-01  4.48124055e-01  1.93265768e+00]\n",
      " [-2.74451087e-14  5.69466987e-01  4.48124055e-01  1.92845135e+00]\n",
      " [-2.43884730e-14  5.73664166e-01  4.48124055e-01  1.92425417e+00]\n",
      " [-1.40519596e-14  5.77852211e-01  4.48124055e-01  1.92006612e+00]\n",
      " [-2.28798467e-15  5.82031141e-01  4.48124055e-01  1.91588719e+00]\n",
      " [-2.01748421e-15  5.86200976e-01  4.48124055e-01  1.91171736e+00]\n",
      " [-1.21136042e-15  5.90361735e-01  4.48124055e-01  1.90755660e+00]\n",
      " [ 3.68985588e-16  5.94513439e-01  4.48124055e-01  1.90340490e+00]\n",
      " [ 2.99619366e-15  5.98656106e-01  4.48124055e-01  1.89926223e+00]\n",
      " [ 6.97694467e-15  6.02789758e-01  4.48124055e-01  1.89512858e+00]\n",
      " [ 1.26519605e-14  6.06914412e-01  4.48124055e-01  1.89100392e+00]\n",
      " [ 1.90919847e-14  6.11030090e-01  4.48124055e-01  1.88688825e+00]\n",
      " [ 2.14633889e-14  6.15136810e-01  4.48124055e-01  1.88278153e+00]\n",
      " [ 2.30315630e-14  6.19234592e-01  4.48124055e-01  1.87868374e+00]\n",
      " [ 2.35089043e-14  6.23323455e-01  4.48124055e-01  1.87459488e+00]\n",
      " [ 2.25802702e-14  6.27403419e-01  4.48124055e-01  1.87051492e+00]\n",
      " [ 1.99029779e-14  6.31474503e-01  4.48124055e-01  1.86644383e+00]\n",
      " [ 1.51068051e-14  6.35536726e-01  4.48124055e-01  1.86238161e+00]\n",
      " [ 8.27422895e-15  6.39590108e-01  4.48124055e-01  1.85832823e+00]\n",
      " [ 4.79664703e-15  6.43634669e-01  4.48124055e-01  1.85428367e+00]\n",
      " [ 1.23836743e-15  6.47670426e-01  4.48124055e-01  1.85024791e+00]\n",
      " [-2.19025143e-15  6.51697400e-01  4.48124055e-01  1.84622094e+00]\n",
      " [-5.25016683e-15  6.55715609e-01  4.48124055e-01  1.84220273e+00]\n",
      " [-7.67365180e-15  6.59725073e-01  4.48124055e-01  1.83819326e+00]\n",
      " [ 2.49791840e+01  0.00000000e+00  3.41001002e-01  0.00000000e+00]\n",
      " [ 2.06414768e+01  6.12370703e-01  4.28180340e-01  3.72533648e+00]\n",
      " [ 1.63806120e+01  1.62941438e+00  4.24950368e-01  6.96915756e+00]\n",
      " [ 1.23679383e+01  2.70686092e+00  4.10143299e-01  9.90438476e+00]\n",
      " [ 8.89067927e+00  3.71639338e+00  3.94197608e-01  1.23721115e+01]\n",
      " [ 6.12011386e+00  4.58497723e+00  3.79795220e-01  1.42740934e+01]\n",
      " [ 4.06899240e+00  5.28394337e+00  3.68025089e-01  1.56262487e+01]\n",
      " [ 2.63680132e+00  5.82136134e+00  3.59140607e-01  1.65210216e+01]\n",
      " [ 1.67895591e+00  6.22605984e+00  3.52842597e-01  1.70741686e+01]\n",
      " [ 1.05710315e+00  6.53210023e+00  3.48582107e-01  1.73899809e+01]\n",
      " [ 6.61125982e-01  6.76955869e+00  3.45792938e-01  1.75484996e+01]\n",
      " [ 4.11982419e-01  6.96136786e+00  3.44006329e-01  1.76058340e+01]\n",
      " [ 2.56316142e-01  7.12358795e+00  3.42877554e-01  1.75992802e+01]\n",
      " [ 1.59416941e-01  7.26059387e+00  3.42170247e-01  1.75591735e+01]\n",
      " [ 9.91985419e-02  7.37138050e+00  3.41729058e-01  1.75086052e+01]\n",
      " [ 6.17883294e-02  7.46552113e+00  3.41454465e-01  1.74518748e+01]\n",
      " [ 3.85365323e-02  7.54922240e+00  3.41283679e-01  1.73914254e+01]\n",
      " [ 2.40705617e-02  7.62634834e+00  3.41177429e-01  1.73287654e+01]\n",
      " [ 1.50590403e-02  7.69929741e+00  3.41111274e-01  1.72648278e+01]\n",
      " [ 9.43704043e-03  7.76955676e+00  3.41070034e-01  1.72001905e+01]\n",
      " [ 5.92405471e-03  7.83804859e+00  3.41044288e-01  1.71352116e+01]\n",
      " [ 3.72526344e-03  7.90534522e+00  3.41028191e-01  1.70701138e+01]\n",
      " [ 2.34668342e-03  7.97180242e+00  3.41018111e-01  1.70050352e+01]\n",
      " [ 1.48085898e-03  8.03764183e+00  3.41011785e-01  1.69400616e+01]\n",
      " [ 9.36125958e-04  8.10300167e+00  3.41007811e-01  1.68752465e+01]\n",
      " [ 5.92809616e-04  8.16796861e+00  3.41005309e-01  1.68106229e+01]\n",
      " [ 3.76060566e-04  8.23259711e+00  3.41003731e-01  1.67462111e+01]\n",
      " [ 2.38977712e-04  8.29692162e+00  3.41002734e-01  1.66820237e+01]\n",
      " [ 1.52128676e-04  8.36096408e+00  3.41002103e-01  1.66180681e+01]\n",
      " [ 9.70094025e-05  8.42473863e+00  3.41001703e-01  1.65543487e+01]\n",
      " [ 6.19692132e-05  8.48825448e+00  3.41001450e-01  1.64908678e+01]\n",
      " [ 3.96576627e-05  8.55151781e+00  3.41001288e-01  1.64276268e+01]\n",
      " [ 2.54242098e-05  8.61453286e+00  3.41001185e-01  1.63646260e+01]\n",
      " [ 1.63206293e-05  8.67730263e+00  3.41001120e-01  1.63018653e+01]\n",
      " [ 1.04948901e-05  8.73982938e+00  3.41001078e-01  1.62393444e+01]\n",
      " [ 6.76206798e-06  8.80211485e+00  3.41001051e-01  1.61770627e+01]\n",
      " [ 4.36344911e-06  8.86416051e+00  3.41001033e-01  1.61150194e+01]\n",
      " [ 2.81974578e-06  8.92596762e+00  3.41001022e-01  1.60532139e+01]\n",
      " [ 1.82718949e-06  8.98753728e+00  3.41001016e-01  1.59916452e+01]\n",
      " [ 1.18627299e-06  9.04887054e+00  3.41001012e-01  1.59303126e+01]\n",
      " [ 7.70065280e-07  9.10996845e+00  3.41001009e-01  1.58692151e+01]\n",
      " [ 5.02157224e-07  9.17083198e+00  3.41001004e-01  1.58083518e+01]\n",
      " [ 3.27252106e-07  9.23146192e+00  3.41001005e-01  1.57477220e+01]\n",
      " [ 2.13666699e-07  9.29185932e+00  3.41001004e-01  1.56873248e+01]\n",
      " [ 1.38998221e-07  9.35202512e+00  3.41001003e-01  1.56271590e+01]\n",
      " [ 9.08711189e-08  9.41196016e+00  3.41001002e-01  1.55672240e+01]\n",
      " [ 5.96977728e-08  9.47166534e+00  3.41001000e-01  1.55075189e+01]\n",
      " [ 3.99074184e-08  9.53114143e+00  3.41000998e-01  1.54480428e+01]\n",
      " [ 2.65476802e-08  9.59038937e+00  3.41000998e-01  1.53887949e+01]\n",
      " [ 1.75020769e-08  9.64941002e+00  3.41001002e-01  1.53297742e+01]\n",
      " [ 1.15490394e-08  9.70820438e+00  3.41001002e-01  1.52709799e+01]\n",
      " [ 7.63048658e-09  9.76677327e+00  3.41001002e-01  1.52124110e+01]\n",
      " [ 5.08981792e-09  9.82511748e+00  3.41001002e-01  1.51540668e+01]\n",
      " [ 3.46969705e-09  9.88323788e+00  3.41001003e-01  1.50959464e+01]\n",
      " [ 2.29785841e-09  9.94113543e+00  3.41001004e-01  1.50380489e+01]\n",
      " [ 1.52975996e-09  9.99881099e+00  3.41001002e-01  1.49803733e+01]\n",
      " [ 1.02027132e-09  1.00562653e+01  3.41001002e-01  1.49229190e+01]\n",
      " [ 6.80798987e-10  1.01134992e+01  3.41001002e-01  1.48656851e+01]\n",
      " [ 4.58286156e-10  1.01705136e+01  3.41001002e-01  1.48086706e+01]\n",
      " [ 3.11668702e-10  1.02273094e+01  3.41001002e-01  1.47518749e+01]\n",
      " [ 2.07352133e-10  1.02838874e+01  3.41001001e-01  1.46952969e+01]\n",
      " [ 1.32854577e-10  1.03402484e+01  3.41000997e-01  1.46389359e+01]\n",
      " [ 8.62840859e-11  1.03963931e+01  3.41001001e-01  1.45827912e+01]\n",
      " [ 5.81449038e-11  1.04523225e+01  3.41001001e-01  1.45268618e+01]\n",
      " [ 3.92214964e-11  1.05080375e+01  3.41001002e-01  1.44711468e+01]\n",
      " [ 2.64492048e-11  1.05635388e+01  3.41001002e-01  1.44156455e+01]\n",
      " [ 1.78456954e-11  1.06188272e+01  3.41001002e-01  1.43603571e+01]\n",
      " [ 1.21089595e-11  1.06739036e+01  3.41001002e-01  1.43052807e+01]\n",
      " [ 8.23941130e-12  1.07287688e+01  3.41001001e-01  1.42504155e+01]\n",
      " [ 5.63517820e-12  1.07834235e+01  3.41001001e-01  1.41957608e+01]\n",
      " [ 3.82220746e-12  1.08378685e+01  3.41001002e-01  1.41413158e+01]\n",
      " [ 2.49791840e+01  0.00000000e+00  3.49716337e-01  0.00000000e+00]\n",
      " [ 1.96920924e+01  4.50185575e-01  4.93857088e-01  4.83690609e+00]\n",
      " [ 1.48309407e+01  1.32957627e+00  5.14925403e-01  8.81866714e+00]\n",
      " [ 1.04733901e+01  2.38638654e+00  5.02097534e-01  1.21194075e+01]\n",
      " [ 6.88305357e+00  3.47052356e+00  4.75879759e-01  1.46256069e+01]\n",
      " [ 4.21923101e+00  4.45742650e+00  4.45473933e-01  1.63025264e+01]\n",
      " [ 2.43763074e+00  5.26579375e+00  4.16843192e-01  1.72757595e+01]\n",
      " [ 1.34695357e+00  5.87270659e+00  3.93549233e-01  1.77595238e+01]\n",
      " [ 7.22277408e-01  6.30238895e+00  3.76689734e-01  1.79545176e+01]\n",
      " [ 3.80280025e-01  6.59990959e+00  3.65560192e-01  1.79989943e+01]\n",
      " [ 1.98197839e-01  6.80953203e+00  3.58704525e-01  1.79714541e+01]\n",
      " [ 1.02787065e-01  6.96509781e+00  3.54688136e-01  1.79112991e+01]\n",
      " [ 5.32054500e-02  7.08908768e+00  3.52417327e-01  1.78368908e+01]\n",
      " [ 2.75365142e-02  7.18592908e+00  3.51165079e-01  1.77657183e+01]\n",
      " [ 1.42631182e-02  7.26156012e+00  3.50486474e-01  1.77033607e+01]\n",
      " [ 7.39766121e-03  7.32570651e+00  3.50123194e-01  1.76460798e+01]\n",
      " [ 3.84299834e-03  7.38367168e+00  3.49930369e-01  1.75916693e+01]\n",
      " [ 1.99987068e-03  7.43830284e+00  3.49828620e-01  1.75388812e+01]\n",
      " [ 1.04260946e-03  7.49111237e+00  3.49775144e-01  1.74870290e+01]\n",
      " [ 5.44558048e-04  7.54289796e+00  3.49747110e-01  1.74357414e+01]\n",
      " [ 2.84955382e-04  7.59407834e+00  3.49732437e-01  1.73848206e+01]\n",
      " [ 1.49390132e-04  7.64487275e+00  3.49724762e-01  1.73341618e+01]\n",
      " [ 7.84661385e-05  7.69539581e+00  3.49720749e-01  1.72837097e+01]\n",
      " [ 4.12912966e-05  7.74570751e+00  3.49718649e-01  1.72334351e+01]\n",
      " [ 2.17693589e-05  7.79583930e+00  3.49717550e-01  1.71833229e+01]\n",
      " [ 1.14982200e-05  7.84580780e+00  3.49716974e-01  1.71333646e+01]\n",
      " [ 6.08435671e-06  7.89562186e+00  3.49716672e-01  1.70835560e+01]\n",
      " [ 3.22543404e-06  7.94528631e+00  3.49716514e-01  1.70338944e+01]\n",
      " [ 1.71282700e-06  7.99480388e+00  3.49716430e-01  1.69843783e+01]\n",
      " [ 9.10512048e-07  8.04417619e+00  3.49716386e-01  1.69350068e+01]\n",
      " [ 4.85754592e-07  8.09340428e+00  3.49716363e-01  1.68857792e+01]\n",
      " [ 2.59958099e-07  8.14248891e+00  3.49716351e-01  1.68366948e+01]\n",
      " [ 1.40073397e-07  8.19143066e+00  3.49716344e-01  1.67877531e+01]\n",
      " [ 7.47548478e-08  8.24023005e+00  3.49716341e-01  1.67389538e+01]\n",
      " [ 3.95298843e-08  8.28888753e+00  3.49716339e-01  1.66902964e+01]\n",
      " [ 2.08066353e-08  8.33740357e+00  3.49716338e-01  1.66417803e+01]\n",
      " [ 1.16815854e-08  8.38577853e+00  3.49716338e-01  1.65934054e+01]\n",
      " [ 6.41146813e-09  8.43401293e+00  3.49716337e-01  1.65451710e+01]\n",
      " [ 4.14462003e-09  8.48210702e+00  3.49716337e-01  1.64970769e+01]\n",
      " [ 1.84595502e-09  8.53006130e+00  3.49716337e-01  1.64491226e+01]\n",
      " [-2.33680474e-09  8.57787624e+00  3.49716337e-01  1.64013077e+01]\n",
      " [-7.62940259e-09  8.62555218e+00  3.49716336e-01  1.63536318e+01]\n",
      " [-1.39155841e-08  8.67308955e+00  3.49716336e-01  1.63060944e+01]\n",
      " [-1.55910794e-08  8.72048872e+00  3.49716336e-01  1.62586952e+01]\n",
      " [-8.02095599e-09  8.76775008e+00  3.49716337e-01  1.62114339e+01]\n",
      " [-2.96324539e-09  8.81487408e+00  3.49716337e-01  1.61643099e+01]\n",
      " [-1.80640893e-09  8.86186110e+00  3.49716337e-01  1.61173228e+01]\n",
      " [-9.30216444e-10  8.90871156e+00  3.49716337e-01  1.60704724e+01]\n",
      " [-5.78213715e-10  8.95542585e+00  3.49716337e-01  1.60237581e+01]\n",
      " [-3.43047680e-10  9.00200434e+00  3.49716337e-01  1.59771796e+01]\n",
      " [-1.85299952e-10  9.04844738e+00  3.49716337e-01  1.59307366e+01]\n",
      " [-8.32447128e-11  9.09475536e+00  3.49716337e-01  1.58844286e+01]\n",
      " [-6.41981752e-12  9.14092873e+00  3.49716337e-01  1.58382552e+01]\n",
      " [ 7.54960644e-11  9.18696793e+00  3.49716337e-01  1.57922160e+01]\n",
      " [ 1.82586364e-10  9.23287333e+00  3.49716337e-01  1.57463106e+01]\n",
      " [ 3.33931851e-10  9.27864529e+00  3.49716338e-01  1.57005386e+01]\n",
      " [ 5.52679502e-10  9.32428420e+00  3.49716338e-01  1.56548997e+01]\n",
      " [ 7.94889940e-10  9.36979044e+00  3.49716338e-01  1.56093935e+01]\n",
      " [ 4.93293032e-10  9.41516443e+00  3.49716338e-01  1.55640195e+01]\n",
      " [ 2.08443552e-10  9.46040652e+00  3.49716337e-01  1.55187774e+01]\n",
      " [ 1.47994220e-10  9.50551708e+00  3.49716337e-01  1.54736669e+01]\n",
      " [ 9.16466160e-11  9.55049652e+00  3.49716337e-01  1.54286874e+01]\n",
      " [ 5.13389808e-11  9.59534522e+00  3.49716337e-01  1.53838387e+01]\n",
      " [ 3.20287145e-11  9.64006351e+00  3.49716337e-01  1.53391204e+01]\n",
      " [ 1.99936352e-11  9.68465182e+00  3.49716337e-01  1.52945321e+01]\n",
      " [ 5.96354424e-12  9.72911053e+00  3.49716338e-01  1.52500734e+01]\n",
      " [-1.05871664e-11  9.77344000e+00  3.49716338e-01  1.52057439e+01]\n",
      " [-3.21520472e-11  9.81764061e+00  3.49716339e-01  1.51615433e+01]\n",
      " [-4.89944545e-11  9.86171274e+00  3.49716340e-01  1.51174712e+01]\n",
      " [-5.91588058e-11  9.90565676e+00  3.49716341e-01  1.50735272e+01]\n",
      " [-6.95564925e-11  9.94947304e+00  3.49716341e-01  1.50297109e+01]]\n"
     ]
    }
   ],
   "source": [
    "BremerKessel1990Pred = np.concatenate((LCPred, HCPred, HCHNPred))\n",
    "print(BremerKessel1990Pred)\n",
    "np.savetxt('/mnt/580CBE2464C5F83D/pracovni/data_statistika/SoilMBVariability/PythonScripts/BremerKessel1990Pred.csv', BremerKessel1990Pred, delimiter=\",\")"
   ]
  }
 ],
 "metadata": {
  "kernelspec": {
   "display_name": "Python 3",
   "language": "python",
   "name": "python3"
  },
  "language_info": {
   "codemirror_mode": {
    "name": "ipython",
    "version": 3
   },
   "file_extension": ".py",
   "mimetype": "text/x-python",
   "name": "python",
   "nbconvert_exporter": "python",
   "pygments_lexer": "ipython3",
   "version": "3.8.10"
  }
 },
 "nbformat": 4,
 "nbformat_minor": 4
}
