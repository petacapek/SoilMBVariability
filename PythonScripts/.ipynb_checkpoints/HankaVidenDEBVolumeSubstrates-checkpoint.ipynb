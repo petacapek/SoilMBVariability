{
 "cells": [
  {
   "cell_type": "markdown",
   "metadata": {},
   "source": [
    "# Testing the DEB model 2 (parameters estimation across substrates)\n",
    "## Santruckova et al. (unpublished data)\n",
    "1. Importing libraries"
   ]
  },
  {
   "cell_type": "code",
   "execution_count": 1,
   "metadata": {},
   "outputs": [],
   "source": [
    "import numpy as np\n",
    "import pandas as pd\n",
    "from scipy.integrate import odeint\n",
    "from scipy.optimize import dual_annealing\n",
    "from scipy.optimize import differential_evolution"
   ]
  },
  {
   "cell_type": "markdown",
   "metadata": {},
   "source": [
    "2. Defining DEB model"
   ]
  },
  {
   "cell_type": "code",
   "execution_count": 2,
   "metadata": {},
   "outputs": [],
   "source": [
    "def DEBmodel (y, t, pars):\n",
    "    #define initial pools\n",
    "    S=y[0];    e=y[1];    X1=y[2];     CO2=y[3]\n",
    "    #define parameters\n",
    "    yA=pars[0]; \n",
    "    Km=pars[1];     \n",
    "    v=pars[2];\n",
    "    m=pars[3]; \n",
    "    g=pars[4]; \n",
    "    ce=pars[5];\n",
    "    MX1=ce/4;\n",
    "    #Define fluxes\n",
    "    ##scaling function for substrate\n",
    "    f=S/(Km+S)\n",
    "    uptake=(v*ce/yA)*X1*f\n",
    "    growth = (v*e-m*g)/(e+g)\n",
    "    #Define derivatives\n",
    "    dSdt = -uptake\n",
    "    dedt = v*(f - e)\n",
    "    dX1dt = X1*growth \n",
    "    dCO2dt = uptake*(1 - yA) + ce*(X1*e*(v-growth)) - growth*X1*MX1\n",
    "    return dSdt, dedt, dX1dt, dCO2dt;"
   ]
  },
  {
   "cell_type": "markdown",
   "metadata": {},
   "source": [
    "3. Defining outputs from DEB model"
   ]
  },
  {
   "cell_type": "code",
   "execution_count": 59,
   "metadata": {},
   "outputs": [],
   "source": [
    "def calcDEB (model, pars, t, y0):\n",
    "    #model parameters\n",
    "    ##yA, Km, v, m, g, ce\n",
    "    pars_model=pars[0:6]\n",
    "    #conversion factors\n",
    "    ##ce, nX1\n",
    "    conversions=pars[5:7]\n",
    "    \n",
    "    #solve the model\n",
    "    y=odeint(model,y0,t, args=(pars_model,))\n",
    "    #calculate B, WallsProto,\n",
    "    B=((conversions[0]/4 + conversions[0]*y[:, 1])*y[:, 2])\n",
    "    WallsProto = (conversions[1]*conversions[0]/4)/(conversions[0]*y[:, 1])\n",
    "    \n",
    "    #Create data with predictions\n",
    "    yhat = np.concatenate((y[:, 3].reshape(len(dSucrose.Time),1),#CO2\n",
    "                           B.reshape(len(dSucrose.Time),1),\n",
    "                           WallsProto.reshape(len(dSucrose.Time),1)), axis=1)\n",
    "    \n",
    "    return yhat"
   ]
  },
  {
   "cell_type": "markdown",
   "metadata": {},
   "source": [
    "4. Defining objective function"
   ]
  },
  {
   "cell_type": "code",
   "execution_count": 62,
   "metadata": {},
   "outputs": [],
   "source": [
    "def obj_funDEB (x):\n",
    "    #define parameters\n",
    "    ##yA_Sucrose, yA_SA, Km, v_Sucrose, v_SA, m, g, ce, nX1\n",
    "    parsSucrose = x[np.array([0, 2, 3, 5, 6, 7, 8])]\n",
    "    parsSA = x[np.array([1, 2, 4, 5, 6, 7, 8])]\n",
    "        \n",
    "    #initial conditions\n",
    "    ##Sucrose\n",
    "    S_iSucrose = dSucrose.Sinit[0]\n",
    "    e_iSucrose =parsSucrose[6]/4/dSucrose.WP[0]\n",
    "    X1_iSucrose = dSucrose.B[0]/(parsSucrose[5]*(0.25 + e_iSucrose))\n",
    "    ##Sodium acetate\n",
    "    S_iSA = dSA.Sinit[0]\n",
    "    e_iSA =parsSucrose[6]/4/dSA.WP[0]\n",
    "    X1_iSA = dSA.B[0]/(parsSucrose[5]*(0.25 + e_iSA))\n",
    "\n",
    "    y0Sucrose = np.array([S_iSucrose, e_iSucrose, X1_iSucrose, 0])\n",
    "    y0SA = np.array([S_iSA, e_iSA, X1_iSA, 0])\n",
    "    \n",
    "    #times\n",
    "    t = dSucrose.Time\n",
    "    #model simulations\n",
    "    yhatSucrose = calcDEB(DEBmodel, parsSucrose, t, y0Sucrose)\n",
    "    yhatSA = calcDEB(DEBmodel, parsSA, t, y0SA)\n",
    "    yhat_full = np.concatenate((yhatSucrose, yhatSA))\n",
    "    \n",
    "    #observations\n",
    "    obsSucrose=np.concatenate((np.array([dSucrose.Rc]).reshape(len(dSucrose.Time),1),\n",
    "                           np.array([dSucrose.B]).reshape(len(dSucrose.Time),1),\n",
    "                           np.array([dSucrose.WP]).reshape(len(dSucrose.Time),1)), axis=1)\n",
    "    obsSA=np.concatenate((np.array([dSA.Rc]).reshape(len(dSucrose.Time),1),\n",
    "                           np.array([dSA.B]).reshape(len(dSucrose.Time),1),\n",
    "                           np.array([dSA.WP]).reshape(len(dSucrose.Time),1)), axis=1)\n",
    "    obs=np.concatenate((obsSucrose, obsSA))\n",
    "    #weights\n",
    "    weightsSucrose=np.concatenate((np.nanmean(dSucrose.Rc).repeat(len(dSucrose.Time)).reshape(len(dSucrose.Time),1),\n",
    "                            np.nanmean(dSucrose.B).repeat(len(dSucrose.Time)).reshape(len(dSucrose.Time),1),\n",
    "                            np.nanmean((dSucrose.WP)).repeat(len(dSucrose.Time)).reshape(len(dSucrose.Time),1)),\n",
    "                       axis=1)\n",
    "    weightsSA=np.concatenate((np.nanmean(dSA.Rc).repeat(len(dSucrose.Time)).reshape(len(dSucrose.Time),1),\n",
    "                            np.nanmean(dSA.B).repeat(len(dSucrose.Time)).reshape(len(dSucrose.Time),1),\n",
    "                            np.nanmean((dSA.WP)).repeat(len(dSucrose.Time)).reshape(len(dSucrose.Time),1)),\n",
    "                       axis=1)\n",
    "    weights = np.concatenate((weightsSucrose, weightsSA))\n",
    "    \n",
    "    out=np.nansum(((yhat_full-obs)/weights)**2)\n",
    "    return out"
   ]
  },
  {
   "cell_type": "markdown",
   "metadata": {},
   "source": [
    "5. Calculate the goodness of fit"
   ]
  },
  {
   "cell_type": "code",
   "execution_count": 66,
   "metadata": {},
   "outputs": [],
   "source": [
    "def goodnessDEB (x):\n",
    "    #define parameters\n",
    "    ##yA_Sucrose, yA_SA, Km, v_Sucrose, v_SA, m, g, ce, nX1\n",
    "    parsSucrose = x[np.array([0, 2, 3, 5, 6, 7, 8])]\n",
    "    parsSA = x[np.array([1, 2, 4, 5, 6, 7, 8])]\n",
    "    \n",
    "    #initial conditions\n",
    "    ##Sucrose\n",
    "    S_iSucrose = dSucrose.Sinit[0]\n",
    "    e_iSucrose =parsSucrose[6]/4/dSucrose.WP[0]\n",
    "    X1_iSucrose = dSucrose.B[0]/(parsSucrose[5]*(0.25 + e_iSucrose))\n",
    "    ##Sodium acetate\n",
    "    S_iSA = dSA.Sinit[0]\n",
    "    e_iSA =parsSucrose[6]/4/dSA.WP[0]\n",
    "    X1_iSA = dSA.B[0]/(parsSucrose[5]*(0.25 + e_iSA))\n",
    "\n",
    "    y0Sucrose = np.array([S_iSucrose, e_iSucrose, X1_iSucrose, 0])\n",
    "    y0SA = np.array([S_iSA, e_iSA, X1_iSA, 0])\n",
    "    \n",
    "    #times\n",
    "    t = dSucrose.Time\n",
    "    #model simulations\n",
    "    yhatSucrose = calcDEB(DEBmodel, parsSucrose, t, y0Sucrose)\n",
    "    yhatSA = calcDEB(DEBmodel, parsSA, t, y0SA)\n",
    "    yhat_full = np.concatenate((yhatSucrose, yhatSA))\n",
    "    \n",
    "    #observations\n",
    "    obsSucrose=np.concatenate((np.array([dSucrose.Rc]).reshape(len(dSucrose.Time),1),\n",
    "                           np.array([dSucrose.B]).reshape(len(dSucrose.Time),1),\n",
    "                           np.array([dSucrose.WP]).reshape(len(dSucrose.Time),1)), axis=1)\n",
    "    obsSA=np.concatenate((np.array([dSA.Rc]).reshape(len(dSucrose.Time),1),\n",
    "                           np.array([dSA.B]).reshape(len(dSucrose.Time),1),\n",
    "                           np.array([dSA.WP]).reshape(len(dSucrose.Time),1)), axis=1)\n",
    "    obs=np.concatenate((obsSucrose, obsSA))\n",
    "    \n",
    "    R2=1-np.nansum((obs-yhat_full)**2)/np.nansum((obs-np.nanmean(obs))**2)\n",
    "    ll=-np.nansum((obs-yhat_full)**2)/2/np.nanstd(obs)**2\n",
    "    AIC = len(x)*2 - 2*ll\n",
    "    out = np.array([R2, ll, AIC])\n",
    "    return out"
   ]
  },
  {
   "cell_type": "markdown",
   "metadata": {},
   "source": [
    "Following function return the model solution for visualization in R"
   ]
  },
  {
   "cell_type": "code",
   "execution_count": 14,
   "metadata": {},
   "outputs": [],
   "source": [
    "def predDEB (model, pars, t, y0):\n",
    "    #model parameters\n",
    "    pars_model=pars[0:6]\n",
    "    #conversion factors\n",
    "    conversions=pars[5:7]\n",
    "    \n",
    "    #solve the model\n",
    "    y=odeint(model,y0,t, args=(pars_model,))\n",
    "    #calculate B, WallsProto,\n",
    "    B=((conversions[0]/4 + conversions[0]*y[:, 1])*y[:, 2])\n",
    "    WallsProto = (conversions[1]*conversions[0]/4)/(conversions[0]*y[:, 1])\n",
    "    #Create data with predictions\n",
    "    yhat = np.concatenate((y[:, 3].reshape(126,1),#CO2\n",
    "                           B.reshape(126,1),\n",
    "                           WallsProto.reshape(126,1)), axis=1)\n",
    "    \n",
    "    return yhat"
   ]
  },
  {
   "cell_type": "markdown",
   "metadata": {},
   "source": [
    "6a. Reading data - Viden"
   ]
  },
  {
   "cell_type": "code",
   "execution_count": 15,
   "metadata": {},
   "outputs": [
    {
     "name": "stdout",
     "output_type": "stream",
     "text": [
      "   Unnamed: 0   Time         Rc         B        WP  Sinit\n",
      "0           1    0.1   0.110000  2.130000  0.054500  51.29\n",
      "1           2   24.0  15.831667  3.590000  0.359000  51.29\n",
      "2           3   48.0  22.078333  3.723333  0.718833  51.29\n",
      "3           4   72.0  24.503333  3.223333  0.624000  51.29\n",
      "4           5   96.0  26.570000  2.593333  1.051833  51.29\n",
      "5           6  120.0  27.845000  1.733333  0.496000  51.29\n",
      "   Unnamed: 0   Time         Rc         B        WP  Sinit\n",
      "0           1    0.1   0.166667  1.313333  0.054500  52.61\n",
      "1           2   24.0   5.200000  1.826667  0.178167  52.61\n",
      "2           3   48.0  10.148333  1.935000  0.147667  52.61\n",
      "3           4   72.0  11.787500  2.020000  0.311000  52.61\n",
      "4           5   96.0  12.358333  1.246667  0.173667  52.61\n",
      "5           6  120.0  14.020000  2.445000  0.098167  52.61\n"
     ]
    }
   ],
   "source": [
    "dSucrose = pd.read_csv('/mnt/580CBE2464C5F83D/pracovni/data_statistika/SoilMBVariability/SoilMBVariabilityData/VidenSucrose.csv', sep=',')\n",
    "dSA = pd.read_csv('/mnt/580CBE2464C5F83D/pracovni/data_statistika/SoilMBVariability/SoilMBVariabilityData/VidenSodiumAcetate.csv', sep=',')\n",
    "print(dSucrose)\n",
    "print(dSA)"
   ]
  },
  {
   "cell_type": "markdown",
   "metadata": {},
   "source": [
    "7a. Estimating parameters - Viden"
   ]
  },
  {
   "cell_type": "code",
   "execution_count": 64,
   "metadata": {},
   "outputs": [
    {
     "name": "stderr",
     "output_type": "stream",
     "text": [
      "<ipython-input-59-f9ea69415c86>:13: RuntimeWarning: invalid value encountered in true_divide\n",
      "  WallsProto = (conversions[1]*conversions[0]/4)/(conversions[0]*y[:, 1])\n"
     ]
    }
   ],
   "source": [
    "VidenDA=dual_annealing(obj_funDEB, [(0.05, 1), (0.05, 1), #yA_Sucrose, yA_SA\n",
    "                                           (10, 1000),\n",
    "                                           (0.001, 5), (0.001, 5), #v_Sucrose, v_SA\n",
    "                                           (1e-12, 0.1), (0.1, 3), (0.1, 10), (0, 1)])"
   ]
  },
  {
   "cell_type": "code",
   "execution_count": 67,
   "metadata": {},
   "outputs": [
    {
     "name": "stdout",
     "output_type": "stream",
     "text": [
      "     fun: 4.7437210888237\n",
      " message: ['Maximum number of iteration reached']\n",
      "    nfev: 27021\n",
      "    nhev: 0\n",
      "     nit: 1000\n",
      "    njev: 902\n",
      "  status: 0\n",
      " success: True\n",
      "       x: array([3.39434506e-01, 4.95378834e-01, 7.36993560e+02, 2.94363361e-01,\n",
      "       2.10838489e-01, 4.68768871e-02, 2.44317752e-01, 4.55317597e+00,\n",
      "       4.68308329e-02])\n",
      "[ 0.86424587 -2.44357427 22.88714853]\n"
     ]
    }
   ],
   "source": [
    "print(VidenDA)\n",
    "print(goodnessDEB(VidenDA.x))"
   ]
  },
  {
   "cell_type": "code",
   "execution_count": 68,
   "metadata": {},
   "outputs": [],
   "source": [
    "VidenDE=differential_evolution(obj_funDEB, [(0.05, 1), (0.05, 1), #yA_Sucrose, yA_SA\n",
    "                                           (10, 1000),\n",
    "                                           (0.001, 5), (0.001, 5), #v_Sucrose, v_SA\n",
    "                                           (1e-12, 0.1), (0.1, 3), (0.1, 10), (0, 1)])"
   ]
  },
  {
   "cell_type": "code",
   "execution_count": 70,
   "metadata": {},
   "outputs": [
    {
     "name": "stdout",
     "output_type": "stream",
     "text": [
      "     fun: 4.648712033127298\n",
      "     jac: array([ 1.47259982e-04, -3.35909079e-04, -2.85904406e-04, -3.15303339e-04,\n",
      "        9.96536187e-04, -1.09512399e-04, -1.27275968e-04, -4.44089213e-07,\n",
      "        5.31485966e-03])\n",
      " message: 'Optimization terminated successfully.'\n",
      "    nfev: 15705\n",
      "     nit: 108\n",
      " success: True\n",
      "       x: array([2.81816778e-01, 4.18467824e-01, 9.93440593e+02, 3.12569924e-01,\n",
      "       2.22276477e-01, 4.36412892e-02, 2.09556061e-01, 6.24776897e+00,\n",
      "       3.50517470e-02])\n",
      "[ 0.86600484 -2.41191295 22.8238259 ]\n"
     ]
    }
   ],
   "source": [
    "print(VidenDE)\n",
    "print(goodnessDEB(VidenDE.x))"
   ]
  },
  {
   "cell_type": "markdown",
   "metadata": {},
   "source": [
    "8a. Solution"
   ]
  },
  {
   "cell_type": "code",
   "execution_count": 73,
   "metadata": {},
   "outputs": [],
   "source": [
    "##Sucrose\n",
    "S_iSucrose = dSucrose.Sinit[0]\n",
    "e_iSucrose = VidenDE.x[8]/4/dSucrose.WP[0]\n",
    "X1_iSucrose = dSucrose.B[0]/(VidenDE.x[7]*(0.25 + e_iSucrose))\n",
    "##Sodium acetate\n",
    "S_iSA = dSA.Sinit[0]\n",
    "e_iSA = VidenDE.x[8]/4/dSA.WP[0]\n",
    "X1_iSA = dSA.B[0]/(VidenDE.x[7]*(0.25 + e_iSA))\n",
    "\n",
    "y0Sucrose = np.array([S_iSucrose, e_iSucrose, X1_iSucrose, 0])\n",
    "y0SA = np.array([S_iSA, e_iSA, X1_iSA, 0])\n",
    "    \n",
    "#times\n",
    "t = np.arange(126)\n",
    "#model simulations\n",
    "yhatSucrose = predDEB(DEBmodel, VidenDE.x[np.array([0, 2, 3, 5, 6, 7, 8])], t, y0Sucrose)\n",
    "yhatSA = predDEB(DEBmodel, VidenDE.x[np.array([1, 2, 4, 5, 6, 7, 8])], t, y0SA)\n",
    "\n",
    "VidenPred = np.concatenate((yhatSucrose, yhatSA))\n",
    "np.savetxt('/mnt/580CBE2464C5F83D/pracovni/data_statistika/SoilMBVariability/PythonScripts/VidenPred.csv', VidenPred, delimiter=\",\")"
   ]
  },
  {
   "cell_type": "markdown",
   "metadata": {},
   "source": [
    "6b. Reading data - CB"
   ]
  },
  {
   "cell_type": "code",
   "execution_count": 74,
   "metadata": {},
   "outputs": [
    {
     "name": "stdout",
     "output_type": "stream",
     "text": [
      "   Unnamed: 0   Time         Rc          B        WP  Sinit\n",
      "0           1    0.1   0.106667  14.576667  2.270000  51.29\n",
      "1           2   24.0   6.813333  45.540000  1.353333  51.29\n",
      "2           3   48.0  20.923333  11.866667  3.146667  51.29\n",
      "3           4   72.0  18.010000  12.840000  5.286667  51.29\n",
      "4           5   96.0  18.853333  17.390000  2.793333  51.29\n",
      "5           6  120.0  18.305000  13.113333  3.416667  51.29\n",
      "   Unnamed: 0   Time         Rc          B        WP  Sinit\n",
      "0           1    0.1   0.096667  14.240000  2.270000  51.28\n",
      "1           2   24.0   2.720000  45.726667  1.871000  51.28\n",
      "2           3   48.0   9.675000   7.910000  4.275000  51.28\n",
      "3           4   72.0  10.980000  28.430000       NaN  51.28\n",
      "4           5   96.0  10.263333  14.746667  4.013333  51.28\n",
      "5           6  120.0   8.326667  20.703333  4.360000  51.28\n"
     ]
    }
   ],
   "source": [
    "dSucrose = pd.read_csv('/mnt/580CBE2464C5F83D/pracovni/data_statistika/SoilMBVariability/SoilMBVariabilityData/CBSucrose.csv', sep=',')\n",
    "dSA = pd.read_csv('/mnt/580CBE2464C5F83D/pracovni/data_statistika/SoilMBVariability/SoilMBVariabilityData/CBAmonniumAcetate.csv', sep=',')\n",
    "print(dSucrose)\n",
    "print(dSA)"
   ]
  },
  {
   "cell_type": "markdown",
   "metadata": {},
   "source": [
    "7b. Estimating parameters - CB"
   ]
  },
  {
   "cell_type": "code",
   "execution_count": 77,
   "metadata": {},
   "outputs": [
    {
     "name": "stderr",
     "output_type": "stream",
     "text": [
      "<ipython-input-59-f9ea69415c86>:13: RuntimeWarning: invalid value encountered in true_divide\n",
      "  WallsProto = (conversions[1]*conversions[0]/4)/(conversions[0]*y[:, 1])\n"
     ]
    }
   ],
   "source": [
    "CBDA=dual_annealing(obj_funDEB, [(0.05, 1), (0.05, 1), #yA_Sucrose, yA_SA\n",
    "                                           (10, 5000),\n",
    "                                           (0.001, 5), (0.001, 5), #v_Sucrose, v_SA\n",
    "                                           (1e-12, 0.1), (0.1, 3), (0.1, 10), (0, 1)])"
   ]
  },
  {
   "cell_type": "code",
   "execution_count": 78,
   "metadata": {},
   "outputs": [
    {
     "name": "stdout",
     "output_type": "stream",
     "text": [
      "     fun: 7.598616544784173\n",
      " message: ['Maximum number of iteration reached']\n",
      "    nfev: 42031\n",
      "    nhev: 0\n",
      "     nit: 1000\n",
      "    njev: 2403\n",
      "  status: 0\n",
      " success: True\n",
      "       x: array([5.00000000e-02, 3.44184993e-01, 4.24120970e+03, 2.05940864e-02,\n",
      "       8.96098117e-02, 1.00000000e-12, 2.27012317e-01, 1.00374593e-01,\n",
      "       1.35613851e-01])\n",
      "[ 0.4542152  -9.55123401 37.10246803]\n"
     ]
    }
   ],
   "source": [
    "print(CBDA)\n",
    "print(goodnessDEB(CBDA.x))"
   ]
  },
  {
   "cell_type": "code",
   "execution_count": 80,
   "metadata": {},
   "outputs": [],
   "source": [
    "CBDE=differential_evolution(obj_funDEB, [(0.05, 1), (0.05, 1), #yA_Sucrose, yA_SA\n",
    "                                           (10, 5000),\n",
    "                                           (0.001, 5), (0.001, 5), #v_Sucrose, v_SA\n",
    "                                           (1e-12, 0.1), (0.1, 3), (0.1, 10), (0, 1)])"
   ]
  },
  {
   "cell_type": "code",
   "execution_count": 81,
   "metadata": {},
   "outputs": [
    {
     "name": "stdout",
     "output_type": "stream",
     "text": [
      "     fun: 7.652114037753342\n",
      " message: 'Optimization terminated successfully.'\n",
      "    nfev: 14070\n",
      "     nit: 103\n",
      " success: True\n",
      "       x: array([8.59106028e-02, 8.39871858e-01, 2.69084976e+03, 2.20365727e-02,\n",
      "       1.46573275e-01, 7.34940301e-05, 5.39496034e-01, 7.68715701e-01,\n",
      "       2.00073798e-01])\n",
      "[ 0.45203463 -9.58939395 37.17878791]\n"
     ]
    }
   ],
   "source": [
    "print(CBDE)\n",
    "print(goodnessDEB(CBDE.x))"
   ]
  },
  {
   "cell_type": "code",
   "execution_count": 82,
   "metadata": {},
   "outputs": [],
   "source": [
    "##Sucrose\n",
    "S_iSucrose = dSucrose.Sinit[0]\n",
    "e_iSucrose = CBDE.x[8]/4/dSucrose.WP[0]\n",
    "X1_iSucrose = dSucrose.B[0]/(CBDE.x[7]*(0.25 + e_iSucrose))\n",
    "##Sodium acetate\n",
    "S_iSA = dSA.Sinit[0]\n",
    "e_iSA = CBDE.x[8]/4/dSA.WP[0]\n",
    "X1_iSA = dSA.B[0]/(CBDE.x[7]*(0.25 + e_iSA))\n",
    "\n",
    "y0Sucrose = np.array([S_iSucrose, e_iSucrose, X1_iSucrose, 0])\n",
    "y0SA = np.array([S_iSA, e_iSA, X1_iSA, 0])\n",
    "    \n",
    "#times\n",
    "t = np.arange(126)\n",
    "#model simulations\n",
    "yhatSucrose = predDEB(DEBmodel, CBDE.x[np.array([0, 2, 3, 5, 6, 7, 8])], t, y0Sucrose)\n",
    "yhatSA = predDEB(DEBmodel, CBDE.x[np.array([1, 2, 4, 5, 6, 7, 8])], t, y0SA)\n",
    "\n",
    "CBPred = np.concatenate((yhatSucrose, yhatSA))\n",
    "np.savetxt('/mnt/580CBE2464C5F83D/pracovni/data_statistika/SoilMBVariability/PythonScripts/CBPred.csv', CBPred, delimiter=\",\")"
   ]
  },
  {
   "cell_type": "code",
   "execution_count": null,
   "metadata": {},
   "outputs": [],
   "source": []
  }
 ],
 "metadata": {
  "kernelspec": {
   "display_name": "Python 3",
   "language": "python",
   "name": "python3"
  },
  "language_info": {
   "codemirror_mode": {
    "name": "ipython",
    "version": 3
   },
   "file_extension": ".py",
   "mimetype": "text/x-python",
   "name": "python",
   "nbconvert_exporter": "python",
   "pygments_lexer": "ipython3",
   "version": "3.8.10"
  }
 },
 "nbformat": 4,
 "nbformat_minor": 4
}
