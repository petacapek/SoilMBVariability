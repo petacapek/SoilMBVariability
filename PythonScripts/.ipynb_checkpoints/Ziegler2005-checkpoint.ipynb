{
 "cells": [
  {
   "cell_type": "markdown",
   "metadata": {},
   "source": [
    "# Ziegler et al. (2005)"
   ]
  },
  {
   "cell_type": "markdown",
   "metadata": {},
   "source": [
    "## DEB model calibration"
   ]
  },
  {
   "cell_type": "markdown",
   "metadata": {},
   "source": [
    "### Importing functions"
   ]
  },
  {
   "cell_type": "code",
   "execution_count": 1,
   "metadata": {},
   "outputs": [],
   "source": [
    "import numpy as np\n",
    "import pandas as pd\n",
    "from scipy.integrate import odeint\n",
    "from scipy.optimize import dual_annealing\n",
    "from scipy.optimize import differential_evolution"
   ]
  },
  {
   "cell_type": "markdown",
   "metadata": {},
   "source": [
    "### This is the DEB model"
   ]
  },
  {
   "cell_type": "code",
   "execution_count": 2,
   "metadata": {},
   "outputs": [],
   "source": [
    "def DEBmodel (y, t, pars):\n",
    "    #define initial pools (eu is assumed to be zero)\n",
    "    S=y[0];    e=y[1];    X1=y[2];     CO2=y[3];\n",
    "    \n",
    "    #define parameters\n",
    "    yA=pars[0]; \n",
    "    Km=pars[1];     \n",
    "    v=pars[2];\n",
    "    m=pars[3]; \n",
    "    g=pars[4]; \n",
    "    #k=pars[5];\n",
    "    ce=pars[5];\n",
    "    MX1=ce/4;\n",
    "    \n",
    "    #Scaling function for substrate uptake\n",
    "    f=S/(Km+S)\n",
    "    #Fluxes\n",
    "    uptake=(v*ce/yA)*X1*f\n",
    "    growth = (v*e-m*g)/(e + g)\n",
    "    \n",
    "    #Define derivatives\n",
    "    dSdt = -uptake\n",
    "    dedt = v*(f - e)\n",
    "    dX1dt = growth*X1 #- k*X1\n",
    "    dCO2dt = uptake*(1 - yA) + ce*(X1*e*(v-growth)) - growth*X1*MX1 \n",
    "           \n",
    "    return dSdt, dedt, dX1dt, dCO2dt;"
   ]
  },
  {
   "cell_type": "markdown",
   "metadata": {},
   "source": [
    "### The function below uses the output from DEBmodel to convert biomass pools $e$ and $X_{1}$ to microbial biomass ($B$) and measured biomass proxy-parameter PLFA "
   ]
  },
  {
   "cell_type": "code",
   "execution_count": 16,
   "metadata": {},
   "outputs": [],
   "source": [
    "def calcDEB (model, pars, t, y0):\n",
    "    #model parameters\n",
    "    ##yA, Km, v, m, g, ce\n",
    "    pars_model=pars[0:6]\n",
    "    #conversion factors\n",
    "    ##ce, lX1, le\n",
    "    conversions=pars[5:8]\n",
    "\n",
    "    #solve the model\n",
    "    y=odeint(model,y0,t, args=(pars_model,))\n",
    "\n",
    "    #calculate biomass (B) and PLFA\n",
    "    B=(conversions[0]/4 + conversions[0]*y[:, 1])*y[:, 2]\n",
    "    PLFA = (conversions[1]/4 + conversions[2]*y[:, 1]/(0.25 + y[:, 1]))*B\n",
    "    \n",
    "    #Create data with predictions\n",
    "    yhat = np.concatenate((y[:, 0].reshape(len(d.Time),1),#glucose\n",
    "                           #y[:, 3].reshape(len(d.Time[0:18]),1),#CO2\n",
    "                           Flush.reshape(len(d.Time),1),\n",
    "                           ATP.reshape(len(d.Time),1)), axis=1)\n",
    "\n",
    "    return yhat"
   ]
  },
  {
   "cell_type": "markdown",
   "metadata": {},
   "source": [
    "### Objective function is defined"
   ]
  },
  {
   "cell_type": "code",
   "execution_count": 22,
   "metadata": {},
   "outputs": [],
   "source": [
    "def obj_funDEB (x):\n",
    "    #define parameters\n",
    "    ##yA, Km, v, m, g, ce, nX1, tX1, te\n",
    "    pars = x\n",
    "\n",
    "    #initial conditions\n",
    "    S_i = d.Sinit[0]\n",
    "            \n",
    "    e_i = 0.25*((d.ATPinit[0]/d.Cmicinit[0])*pars[6] - pars[7])/(pars[8] - (d.ATPinit[0]/d.Cmicinit[0]))\n",
    "    X1_i = d.Cmicinit[0]/(0.25*pars[6] + e_i)*pars[5]\n",
    "    \n",
    "    y0 = np.array([S_i, e_i, X1_i, 0])\n",
    "    #times\n",
    "    t = d.Time\n",
    "\n",
    "    #model simulations\n",
    "    yhat_full = calcDEB(DEBmodel, pars, t, y0)\n",
    "    \n",
    "     \n",
    "    #observations\n",
    "    obs=np.concatenate((np.array([d.S]).reshape(len(d.Time),1),\n",
    "                        #np.array([d.CO2cumul]).reshape(len(d.Time),1),\n",
    "                        np.array([d.Cmic]).reshape(len(d.Time),1),\n",
    "                        #np.array([d.Cmic14]).reshape(len(d.Time),1),\n",
    "                        np.array([d.ATP]).reshape(len(d.Time),1)),\n",
    "                     axis=1)\n",
    "\n",
    "    #weights\n",
    "    weights=np.concatenate((np.nanstd(d.S).repeat(len(d.Time)).reshape(len(d.Time),1),\n",
    "                            #np.nanstd(d.CO2cumul[0:18]).repeat(len(d.Time[0:18])).reshape(len(d.Time[0:18]),1),\n",
    "                            np.nanstd((d.Cmic)).repeat(len(d.Time)).reshape(len(d.Time),1),\n",
    "                            #np.nanmean(d.Cmic14).repeat(len(d.Time)).reshape(len(d.Time),1),\n",
    "                            np.nanstd((d.ATP)).repeat(len(d.Time)).reshape(len(d.Time),1)),\n",
    "                       axis=1)\n",
    "    \n",
    "    out=np.nansum(((yhat_full-obs)/weights)**2)\n",
    "\n",
    "    return out"
   ]
  },
  {
   "cell_type": "markdown",
   "metadata": {},
   "source": [
    "### Goodness of fit is calculated"
   ]
  },
  {
   "cell_type": "code",
   "execution_count": 23,
   "metadata": {},
   "outputs": [],
   "source": [
    "def goodnessDEB (x):\n",
    "    #define parameters\n",
    "    ##yA, Km, v, m, g, ce, nX1, te\n",
    "    pars = x\n",
    "\n",
    "    #initial conditions\n",
    "    S_i = d.Sinit[0]\n",
    "            \n",
    "    e_i = 0.25*((d.ATPinit[0]/d.Cmicinit[0])*pars[6] - pars[7])/(pars[8] - (d.ATPinit[0]/d.Cmicinit[0]))\n",
    "    X1_i = d.Cmicinit[0]/(0.25*pars[6] + e_i)*pars[5]\n",
    "    \n",
    "    y0 = np.array([S_i, e_i, X1_i, 0])\n",
    "    #times\n",
    "    t = d.Time\n",
    "\n",
    "    #model simulations\n",
    "    yhat_full = calcDEB(DEBmodel, pars, t, y0)\n",
    "    \n",
    "    #Standardize the simulations\n",
    "    ##means\n",
    "    Smeans=np.concatenate((np.nanmean(yhat_full[:, 0]).repeat(len(d.Time)).reshape(len(d.Time),1),\n",
    "                            np.nanmean(yhat_full[:, 1]).repeat(len(d.Time)).reshape(len(d.Time),1),\n",
    "                            np.nanmean((yhat_full[:, 2])).repeat(len(d.Time)).reshape(len(d.Time),1)),\n",
    "                            #np.nanmean(d.Cmic14).repeat(len(d.Time)).reshape(len(d.Time),1),\n",
    "                            #np.nanmean(yhat_full[:, 3]).repeat(len(d.Time)).reshape(len(d.Time),1)),\n",
    "                       axis=1)\n",
    "    ##std\n",
    "    Sstd=np.concatenate((np.nanstd(yhat_full[:, 0]).repeat(len(d.Time)).reshape(len(d.Time),1),\n",
    "                            np.nanstd(yhat_full[:, 1]).repeat(len(d.Time)).reshape(len(d.Time),1),\n",
    "                            np.nanstd((yhat_full[:, 2])).repeat(len(d.Time)).reshape(len(d.Time),1)),\n",
    "                            #np.nanmean(d.Cmic14).repeat(len(d.Time)).reshape(len(d.Time),1),\n",
    "                            #np.nanmean(yhat_full[:, 3]).repeat(len(d.Time)).reshape(len(d.Time),1)),\n",
    "                       axis=1)\n",
    "     \n",
    "\n",
    "    #observations\n",
    "    obs=np.concatenate((np.array([d.S]).reshape(len(d.Time),1),\n",
    "                        #np.array([d.CO2cumul]).reshape(len(d.Time),1),\n",
    "                        np.array([d.Cmic]).reshape(len(d.Time),1),\n",
    "                        #np.array([d.Cmic14]).reshape(len(d.Time),1),\n",
    "                        np.array([d.ATP]).reshape(len(d.Time),1)),\n",
    "                     axis=1)\n",
    "    #Standardize the observations\n",
    "    ##means\n",
    "    Omeans=np.concatenate((np.nanmean(d.S).repeat(len(d.Time)).reshape(len(d.Time),1),\n",
    "                            #np.nanmean(d.CO2cumul[0:18]).repeat(18).reshape(18,1),\n",
    "                            np.nanmean((d.Cmic)).repeat(len(d.Time)).reshape(len(d.Time),1),\n",
    "                            #np.nanmean(d.Cmic14).repeat(len(d.Time)).reshape(len(d.Time),1),\n",
    "                            np.nanmean(d.ATP).repeat(len(d.Time)).reshape(len(d.Time),1)),\n",
    "                       axis=1)\n",
    "    ##std    \n",
    "    Ostd=np.concatenate((np.nanstd(d.S).repeat(len(d.Time)).reshape(len(d.Time),1),\n",
    "                            #np.nanstd(d.CO2cumul[0:18]).repeat(18).reshape(18,1),\n",
    "                            np.nanstd((d.Cmic)).repeat(len(d.Time)).reshape(len(d.Time),1),\n",
    "                            #np.nanmean(d.Cmic14).repeat(len(d.Time)).reshape(len(d.Time),1),\n",
    "                            np.nanstd(d.ATP).repeat(len(d.Time)).reshape(len(d.Time),1)),\n",
    "                       axis=1)\n",
    "        \n",
    "    R2=1-np.nansum((obs-yhat_full)**2)/np.nansum((obs-np.nanmean(obs))**2)\n",
    "    ll=-np.nansum((obs-yhat_full)**2)/2/np.nanstd(obs)**2\n",
    "    AIC = len(pars)*2 - 2*ll\n",
    "    \n",
    "    #Normalized residual sum of squares \n",
    "    Fnorm = np.nansum((((obs-Omeans)/Ostd)-((yhat_full-Smeans)/Sstd))**2)\n",
    "    \n",
    "    out = np.array([R2, ll, AIC, Fnorm])\n",
    "\n",
    "    return out"
   ]
  },
  {
   "cell_type": "code",
   "execution_count": 19,
   "metadata": {},
   "outputs": [],
   "source": [
    "def predDEB (model, pars, t, y0):\n",
    "    #model parameters\n",
    "    ##yA, Km, v, m, g, ce\n",
    "    pars_model=pars[0:6]\n",
    "    #conversion factors\n",
    "    ##ce, nX1, ne\n",
    "    conversions=pars[5:9]\n",
    "\n",
    "    #solve the model\n",
    "    y=odeint(model,y0,t, args=(pars_model,))\n",
    "\n",
    "    #calculate biomass (B), total ATP, and flush (Flush)\n",
    "    B=(conversions[0]/4 + conversions[0]*y[:, 1])*y[:, 2]\n",
    "    Flush = (conversions[1]/4 + y[:, 1])/(0.25 + y[:, 1])*B\n",
    "    ATP = (conversions[2]/4 + conversions[3]*y[:, 1]/(0.25 + y[:, 1]))*B\n",
    "    \n",
    "    #Create data with predictions\n",
    "    yhat = np.concatenate((y[:, 0].reshape(len(np.arange(0, 8.05, 0.05)),1),#glucose\n",
    "                           y[:, 1].reshape(len(np.arange(0, 8.05, 0.05)),1),#e\n",
    "                           y[:, 2].reshape(len(np.arange(0, 8.05, 0.05)),1),#X1\n",
    "                           B.reshape(len(np.arange(0, 8.05, 0.05)),1),#biomass\n",
    "                           #y[:, 3].reshape(len(np.arange(0, 9.05, 0.05)),1),#CO2\n",
    "                           Flush.reshape(len(np.arange(0, 8.05, 0.05)),1),\n",
    "                           ATP.reshape(len(np.arange(0, 8.05, 0.05)),1)), axis=1)\n",
    "\n",
    "    return yhat"
   ]
  },
  {
   "cell_type": "code",
   "execution_count": 20,
   "metadata": {},
   "outputs": [
    {
     "name": "stdout",
     "output_type": "stream",
     "text": [
      "                          Study  Soil Substrate  Clay   pH  Ctot      Ntot  \\\n",
      "0  Joergensen and Raubuch, 2002   NaN   Glucose     9  7.1   1.4  0.127273   \n",
      "1  Joergensen and Raubuch, 2002   NaN   Glucose     9  7.1   1.4  0.127273   \n",
      "2  Joergensen and Raubuch, 2002   NaN   Glucose     9  7.1   1.4  0.127273   \n",
      "3  Joergensen and Raubuch, 2002   NaN   Glucose     9  7.1   1.4  0.127273   \n",
      "4  Joergensen and Raubuch, 2002   NaN   Glucose     9  7.1   1.4  0.127273   \n",
      "5  Joergensen and Raubuch, 2002   NaN   Glucose     9  7.1   1.4  0.127273   \n",
      "6  Joergensen and Raubuch, 2002   NaN   Glucose     9  7.1   1.4  0.127273   \n",
      "\n",
      "   Time  Cmicinit  Nmicinit  ATPinit       Sinit       Cmic      Nmic  \\\n",
      "0  0.00  5.695254  1.194861   0.0114  133.217878   5.695254  1.194861   \n",
      "1  0.25  5.695254  1.194861   0.0114  133.217878  13.263947  1.310493   \n",
      "2  0.50  5.695254  1.194861   0.0114  133.217878  17.348043  1.773019   \n",
      "3  1.00  5.695254  1.194861   0.0114  133.217878  17.572856  1.580300   \n",
      "4  2.00  5.695254  1.194861   0.0114  133.217878  17.085762  1.464668   \n",
      "5  4.00  5.695254  1.194861   0.0114  133.217878        NaN  1.349036   \n",
      "6  8.00  5.695254  1.194861   0.0114  133.217878  13.338884  1.618844   \n",
      "\n",
      "            S     ATP  \n",
      "0  133.217878  0.0114  \n",
      "1  107.910075  0.0118  \n",
      "2   65.029142  0.0146  \n",
      "3   54.371357  0.0156  \n",
      "4    2.414654  0.0236  \n",
      "5    0.000000  0.0253  \n",
      "6    0.000000  0.0213  \n"
     ]
    },
    {
     "name": "stderr",
     "output_type": "stream",
     "text": [
      "<ipython-input-20-dff830669020>:4: SettingWithCopyWarning: \n",
      "A value is trying to be set on a copy of a slice from a DataFrame\n",
      "\n",
      "See the caveats in the documentation: https://pandas.pydata.org/pandas-docs/stable/user_guide/indexing.html#returning-a-view-versus-a-copy\n",
      "  d.Cmic[5] = np.nan\n"
     ]
    }
   ],
   "source": [
    "#reading the data\n",
    "d = pd.read_csv('/mnt/580CBE2464C5F83D/pracovni/data_statistika/SoilMBVariability/SoilMBVariabilityData/Joergensen2002.csv', sep=',')\n",
    "#remove one outlier \n",
    "d.Cmic[5] = np.nan\n",
    "print(d)"
   ]
  },
  {
   "cell_type": "code",
   "execution_count": 25,
   "metadata": {},
   "outputs": [
    {
     "name": "stderr",
     "output_type": "stream",
     "text": [
      "<ipython-input-22-d0931f597258>:10: RuntimeWarning: divide by zero encountered in double_scalars\n",
      "  X1_i = d.Cmicinit[0]/(0.25*pars[6] + e_i)*pars[5]\n",
      "<ipython-input-4-a3081a537b9a>:25: RuntimeWarning: invalid value encountered in double_scalars\n",
      "  dCO2dt = uptake*(1 - yA) + ce*(X1*e*(v-growth)) - growth*X1*MX1\n",
      "<ipython-input-16-49ab80854162>:13: RuntimeWarning: invalid value encountered in multiply\n",
      "  B=(conversions[0]/4 + conversions[0]*y[:, 1])*y[:, 2]\n",
      "<ipython-input-16-49ab80854162>:14: RuntimeWarning: invalid value encountered in true_divide\n",
      "  Flush = (conversions[1]/4 + y[:, 1])/(0.25 + y[:, 1])*B\n",
      "<ipython-input-16-49ab80854162>:15: RuntimeWarning: invalid value encountered in true_divide\n",
      "  ATP = (conversions[2]/4 + conversions[3]*y[:, 1]/(0.25 + y[:, 1]))*B\n",
      "<ipython-input-16-49ab80854162>:14: RuntimeWarning: invalid value encountered in multiply\n",
      "  Flush = (conversions[1]/4 + y[:, 1])/(0.25 + y[:, 1])*B\n",
      "<ipython-input-16-49ab80854162>:15: RuntimeWarning: invalid value encountered in multiply\n",
      "  ATP = (conversions[2]/4 + conversions[3]*y[:, 1]/(0.25 + y[:, 1]))*B\n"
     ]
    }
   ],
   "source": [
    "j_debpars=dual_annealing(obj_funDEB, [(0.05, 1), #yA\n",
    "                                             (10, 10000), #Km\n",
    "                                             (0.001, 20), #v\n",
    "                                             (1e-15, 0.1), #m\n",
    "                                             (0.1, 5), #g\n",
    "                                             #(1e-12, 0.1), #k\n",
    "                                             (0.1, 10), #ce\n",
    "                                             (0, 1), #nX1\n",
    "                                             (0, 1), #tX1\n",
    "                                             (0, 1)]) #te\n",
    "                                             #(0, 1)]) #iX1"
   ]
  },
  {
   "cell_type": "code",
   "execution_count": 26,
   "metadata": {},
   "outputs": [
    {
     "name": "stdout",
     "output_type": "stream",
     "text": [
      "     fun: 68.93643037865668\n",
      " message: ['Maximum number of iteration reached']\n",
      "    nfev: 18171\n",
      "    nhev: 0\n",
      "     nit: 1000\n",
      "    njev: 17\n",
      "  status: 0\n",
      " success: True\n",
      "       x: array([6.65478949e-01, 5.10901728e+03, 2.00000000e+01, 1.00000000e-01,\n",
      "       1.00000000e-01, 3.17842455e+00, 1.74240008e-01, 0.00000000e+00,\n",
      "       0.00000000e+00])\n",
      "[ 0.54708607 -4.5291393  27.0582786   3.13185932]\n"
     ]
    },
    {
     "name": "stderr",
     "output_type": "stream",
     "text": [
      "<ipython-input-23-2e0fa77a9c6f>:10: RuntimeWarning: divide by zero encountered in double_scalars\n",
      "  X1_i = d.Cmicinit[0]/(0.25*pars[6] + e_i)*pars[5]\n",
      "<ipython-input-4-a3081a537b9a>:25: RuntimeWarning: invalid value encountered in double_scalars\n",
      "  dCO2dt = uptake*(1 - yA) + ce*(X1*e*(v-growth)) - growth*X1*MX1\n",
      "<ipython-input-16-49ab80854162>:14: RuntimeWarning: invalid value encountered in multiply\n",
      "  Flush = (conversions[1]/4 + y[:, 1])/(0.25 + y[:, 1])*B\n",
      "<ipython-input-16-49ab80854162>:15: RuntimeWarning: invalid value encountered in multiply\n",
      "  ATP = (conversions[2]/4 + conversions[3]*y[:, 1]/(0.25 + y[:, 1]))*B\n",
      "<ipython-input-23-2e0fa77a9c6f>:64: RuntimeWarning: invalid value encountered in true_divide\n",
      "  Fnorm = np.nansum((((obs-Omeans)/Ostd)-((yhat_full-Smeans)/Sstd))**2)\n"
     ]
    }
   ],
   "source": [
    "print(j_debpars)\n",
    "print(goodnessDEB(j_debpars.x))"
   ]
  },
  {
   "cell_type": "code",
   "execution_count": 27,
   "metadata": {},
   "outputs": [],
   "source": [
    "j_debparsDE=differential_evolution(obj_funDEB, [(0.05, 1), #yA\n",
    "                                             (10, 10000), #Km\n",
    "                                             (0.001, 20), #v\n",
    "                                             (1e-15, 0.1), #m\n",
    "                                             (0.1, 5), #g\n",
    "                                             #(1e-12, 0.1), #k\n",
    "                                             (0.1, 10), #ce\n",
    "                                             (0, 1), #nX1\n",
    "                                             (0, 1), #tX1\n",
    "                                             (0, 1)]) #te"
   ]
  },
  {
   "cell_type": "code",
   "execution_count": 28,
   "metadata": {},
   "outputs": [
    {
     "name": "stdout",
     "output_type": "stream",
     "text": [
      "     fun: 2.2633048228980814\n",
      "     jac: array([ 1.35711442e-02, -1.68176450e-04,  1.06800702e-01, -9.08952913e-03,\n",
      "       -1.61479719e-03, -2.88473691e-02, -6.12227602e-02,  2.50883003e-01,\n",
      "        2.76188672e-01])\n",
      " message: 'Optimization terminated successfully.'\n",
      "    nfev: 37930\n",
      "     nit: 271\n",
      " success: True\n",
      "       x: array([1.10875815e-01, 4.25048523e+02, 1.42589028e+00, 2.62594988e-02,\n",
      "       1.19718013e-01, 1.29137700e+00, 2.78558533e-01, 1.92778569e-03,\n",
      "       1.44641993e-04])\n",
      "[ 0.97067489 -0.2932511  18.5865022   2.20323995]\n"
     ]
    }
   ],
   "source": [
    "print(j_debparsDE)\n",
    "print(goodnessDEB(j_debparsDE.x))"
   ]
  },
  {
   "cell_type": "code",
   "execution_count": 30,
   "metadata": {},
   "outputs": [],
   "source": [
    "np.savetxt('/mnt/580CBE2464C5F83D/pracovni/data_statistika/SoilMBVariability/PythonScripts/Joergensen2002Pars.csv', j_debparsDE.x.reshape(1,9), delimiter=\",\")"
   ]
  },
  {
   "cell_type": "markdown",
   "metadata": {},
   "source": [
    "## Solution over time for visualization in R"
   ]
  },
  {
   "cell_type": "code",
   "execution_count": 29,
   "metadata": {},
   "outputs": [],
   "source": [
    "#initial conditions\n",
    "S_i = d.Sinit[0]\n",
    "    \n",
    "e_i = 0.25*((d.ATPinit[0]/d.Cmicinit[0])*j_debparsDE.x[6] - j_debparsDE.x[7])/(j_debparsDE.x[8] - (d.ATPinit[0]/d.Cmicinit[0]))\n",
    "X1_i = d.Cmicinit[0]/(0.25*j_debparsDE.x[6] + e_i)*j_debparsDE.x[5]\n",
    "    \n",
    "y0 = np.array([S_i, e_i, X1_i, 0])\n",
    "\n",
    "#times\n",
    "t = np.arange(0, 8.05, 0.05)\n",
    "\n",
    "#model simulations\n",
    "Joergensen2002Pred = predDEB(DEBmodel, j_debparsDE.x, t, y0)\n",
    "   \n",
    "np.savetxt('/mnt/580CBE2464C5F83D/pracovni/data_statistika/SoilMBVariability/PythonScripts/Joergensen2002Pred.csv', Joergensen2002Pred, delimiter=\",\")"
   ]
  },
  {
   "cell_type": "markdown",
   "metadata": {},
   "source": [
    "# Monod and Pirt models are fitted for comparison to DEB"
   ]
  },
  {
   "cell_type": "markdown",
   "metadata": {},
   "source": [
    "## Monod model\n",
    "Model as well as supplementary functions are defined below"
   ]
  },
  {
   "cell_type": "code",
   "execution_count": 35,
   "metadata": {},
   "outputs": [],
   "source": [
    "def Mmodel (y, t, pars):\n",
    "    #define initial pools\n",
    "    S=y[0];    B=y[1];    CO2=y[2];\n",
    "    \n",
    "    #define parameters\n",
    "    v=pars[0]; \n",
    "    Km=pars[1];     \n",
    "    CUE=pars[2];\n",
    "    k=pars[3];\n",
    "        \n",
    "    #Fluxes\n",
    "    uptake = v*S*B/(S + Km)\n",
    "    growth = uptake*CUE\n",
    "    respiration = uptake*(1 - CUE)\n",
    "    death = B*k\n",
    "    \n",
    "    #Define derivatives\n",
    "    dSdt = -uptake\n",
    "    dBdt = growth - death\n",
    "    dCO2dt = respiration\n",
    "           \n",
    "    return dSdt, dBdt, dCO2dt;"
   ]
  },
  {
   "cell_type": "code",
   "execution_count": 36,
   "metadata": {},
   "outputs": [],
   "source": [
    "def calcM (model, pars, t, y0):\n",
    "    #model parameters\n",
    "    ##v, Km, CUE, k\n",
    "    pars_model=pars[0:4]\n",
    "    #conversion factors\n",
    "    ##kec, katp\n",
    "    conversions=pars[4:6]\n",
    "\n",
    "    #solve the model\n",
    "    y=odeint(model,y0,t, args=(pars_model,))\n",
    "\n",
    "    #calculate total ATP, and flush (Flush)\n",
    "    Flush = conversions[0]*y[:, 1]\n",
    "    ATP = conversions[1]*y[:, 1]\n",
    "    \n",
    "    #Create data with predictions\n",
    "    yhat = np.concatenate((y[:, 0].reshape(len(d.Time),1),#glucose\n",
    "                           #y[:, 2].reshape(len(d.Time),1),#CO2\n",
    "                           Flush.reshape(len(d.Time),1),\n",
    "                           ATP.reshape(len(d.Time),1)), axis=1)\n",
    "\n",
    "    return yhat"
   ]
  },
  {
   "cell_type": "code",
   "execution_count": 43,
   "metadata": {},
   "outputs": [],
   "source": [
    "def obj_funM (x):\n",
    "    #define parameters\n",
    "    ##v, Km, CUE, k, kec, katp\n",
    "    pars = x\n",
    "\n",
    "    #initial conditions\n",
    "    S_i = d.Sinit[0]\n",
    "       \n",
    "    B_i = d.Cmicinit[0]/pars[4]\n",
    "    \n",
    "    y0 = np.array([S_i, B_i, 0])\n",
    "    \n",
    "    #times\n",
    "    t = d.Time\n",
    "\n",
    "    #model simulations\n",
    "    yhat_full = calcM(Mmodel, pars, t, y0)\n",
    "    \n",
    "    #observations\n",
    "    obs=np.concatenate((np.array([d.S]).reshape(len(d.Time),1),\n",
    "                        #np.array([d.CO2cumul]).reshape(len(d.Time),1),\n",
    "                        np.array([d.Cmic]).reshape(len(d.Time),1),\n",
    "                        #np.array([d.Cmic14]).reshape(len(d.Time),1),\n",
    "                        np.array([d.ATP]).reshape(len(d.Time),1)),\n",
    "                     axis=1)\n",
    "\n",
    "    #weights\n",
    "    weights=np.concatenate((np.nanstd(d.S).repeat(len(d.Time)).reshape(len(d.Time),1),\n",
    "                            #np.nanstd(d.CO2cumul[0:18]).repeat(len(d.Time[0:18])).reshape(len(d.Time[0:18]),1),\n",
    "                            np.nanstd((d.Cmic)).repeat(len(d.Time)).reshape(len(d.Time),1),\n",
    "                            #np.nanmean(d.Cmic14).repeat(len(d.Time)).reshape(len(d.Time),1),\n",
    "                            np.nanstd((d.ATP)).repeat(len(d.Time)).reshape(len(d.Time),1)),\n",
    "                       axis=1)\n",
    "    \n",
    "    out=np.nansum(((yhat_full-obs)/weights)**2)\n",
    "\n",
    "    return out"
   ]
  },
  {
   "cell_type": "code",
   "execution_count": 44,
   "metadata": {},
   "outputs": [],
   "source": [
    "def goodnessM (x):\n",
    "    #define parameters\n",
    "    ##v, Km, CUE, k, kec, katp\n",
    "    pars = x\n",
    "\n",
    "    #initial conditions\n",
    "    S_i = d.Sinit[0]\n",
    "        \n",
    "    B_i = d.Cmicinit[0]/pars[4]\n",
    "    \n",
    "    y0 = np.array([S_i, B_i, 0])\n",
    "    \n",
    "    #times\n",
    "    t = d.Time\n",
    "\n",
    "    #model simulations\n",
    "    yhat_full = calcM(Mmodel, pars, t, y0)\n",
    "        \n",
    "    #Standardize the simulations\n",
    "    ##means\n",
    "    Smeans=np.concatenate((np.nanmean(yhat_full[:, 0]).repeat(len(d.Time)).reshape(len(d.Time),1),\n",
    "                            np.nanmean(yhat_full[:, 1]).repeat(len(d.Time)).reshape(len(d.Time),1),\n",
    "                            np.nanmean((yhat_full[:, 2])).repeat(len(d.Time)).reshape(len(d.Time),1)),\n",
    "                            #np.nanmean(d.Cmic14).repeat(len(d.Time)).reshape(len(d.Time),1),\n",
    "                            #np.nanmean(yhat_full[:, 3]).repeat(len(d.Time)).reshape(len(d.Time),1)),\n",
    "                       axis=1)\n",
    "    ##std\n",
    "    Sstd=np.concatenate((np.nanstd(yhat_full[:, 0]).repeat(len(d.Time)).reshape(len(d.Time),1),\n",
    "                            np.nanstd(yhat_full[:, 1]).repeat(len(d.Time)).reshape(len(d.Time),1),\n",
    "                            np.nanstd((yhat_full[:, 2])).repeat(len(d.Time)).reshape(len(d.Time),1)),\n",
    "                            #np.nanmean(d.Cmic14).repeat(len(d.Time)).reshape(len(d.Time),1),\n",
    "                            #np.nanmean(yhat_full[:, 3]).repeat(len(d.Time)).reshape(len(d.Time),1)),\n",
    "                       axis=1)\n",
    "     \n",
    "\n",
    "    #observations\n",
    "    obs=np.concatenate((np.array([d.S]).reshape(len(d.Time),1),\n",
    "                        #np.array([d.CO2cumul]).reshape(len(d.Time),1),\n",
    "                        np.array([d.Cmic]).reshape(len(d.Time),1),\n",
    "                        #np.array([d.Cmic14]).reshape(len(d.Time),1),\n",
    "                        np.array([d.ATP]).reshape(len(d.Time),1)),\n",
    "                     axis=1)\n",
    "    #Standardize the observations\n",
    "    ##means\n",
    "    Omeans=np.concatenate((np.nanmean(d.S).repeat(len(d.Time)).reshape(len(d.Time),1),\n",
    "                            #np.nanmean(d.CO2cumul[0:18]).repeat(18).reshape(18,1),\n",
    "                            np.nanmean((d.Cmic)).repeat(len(d.Time)).reshape(len(d.Time),1),\n",
    "                            #np.nanmean(d.Cmic14).repeat(len(d.Time)).reshape(len(d.Time),1),\n",
    "                            np.nanmean(d.ATP).repeat(len(d.Time)).reshape(len(d.Time),1)),\n",
    "                       axis=1)\n",
    "    ##std    \n",
    "    Ostd=np.concatenate((np.nanstd(d.S).repeat(len(d.Time)).reshape(len(d.Time),1),\n",
    "                            #np.nanstd(d.CO2cumul[0:18]).repeat(18).reshape(18,1),\n",
    "                            np.nanstd((d.Cmic)).repeat(len(d.Time)).reshape(len(d.Time),1),\n",
    "                            #np.nanmean(d.Cmic14).repeat(len(d.Time)).reshape(len(d.Time),1),\n",
    "                            np.nanstd(d.ATP).repeat(len(d.Time)).reshape(len(d.Time),1)),\n",
    "                       axis=1)\n",
    "        \n",
    "    R2=1-np.nansum((obs-yhat_full)**2)/np.nansum((obs-np.nanmean(obs))**2)\n",
    "    ll=-np.nansum((obs-yhat_full)**2)/2/np.nanstd(obs)**2\n",
    "    AIC = len(pars)*2 - 2*ll\n",
    "    \n",
    "    #Normalized residual sum of squares \n",
    "    Fnorm = np.nansum((((obs-Omeans)/Ostd)-((yhat_full-Smeans)/Sstd))**2)\n",
    "    \n",
    "    out = np.array([R2, ll, AIC, Fnorm])\n",
    "\n",
    "    return out"
   ]
  },
  {
   "cell_type": "code",
   "execution_count": 45,
   "metadata": {},
   "outputs": [],
   "source": [
    "def predM (model, pars, t, y0):\n",
    "    #model parameters\n",
    "    ##v, Km, CUE, k\n",
    "    pars_model=pars[0:4]\n",
    "    #conversion factors\n",
    "    ##kec, katp\n",
    "    conversions=pars[4:6]\n",
    "\n",
    "    #solve the model\n",
    "    y=odeint(model,y0,t, args=(pars_model,))\n",
    "\n",
    "    #calculate total ATP, and flush (Flush)\n",
    "    Flush = conversions[0]*y[:, 1]\n",
    "    ATP = conversions[1]*y[:, 1]\n",
    "    \n",
    "    yhat = np.concatenate((y[:, 0].reshape(len(np.arange(0, 8.05, 0.05)),1),#glucose\n",
    "                           #y[:, 2].reshape(len(np.arange(0, 8.05, 0.05)),1),#CO2\n",
    "                           Flush.reshape(len(np.arange(0, 8.05, 0.05)),1),\n",
    "                           ATP.reshape(len(np.arange(0, 8.05, 0.05)),1)), axis=1)\n",
    "\n",
    "    return yhat"
   ]
  },
  {
   "cell_type": "code",
   "execution_count": 46,
   "metadata": {},
   "outputs": [
    {
     "name": "stderr",
     "output_type": "stream",
     "text": [
      "<ipython-input-43-ff32436f51be>:9: RuntimeWarning: divide by zero encountered in double_scalars\n",
      "  B_i = d.Cmicinit[0]/pars[4]\n",
      "<ipython-input-35-15e34bf3de91>:19: RuntimeWarning: invalid value encountered in double_scalars\n",
      "  dBdt = growth - death\n",
      "<ipython-input-36-2cdba0c7e3f4>:13: RuntimeWarning: invalid value encountered in multiply\n",
      "  Flush = conversions[0]*y[:, 1]\n",
      "<ipython-input-36-2cdba0c7e3f4>:14: RuntimeWarning: invalid value encountered in multiply\n",
      "  ATP = conversions[1]*y[:, 1]\n"
     ]
    }
   ],
   "source": [
    "j_mpars=differential_evolution(obj_funM, [(0.0001, 20), #v\n",
    "                                             (0.1, 10000), #Km                                             \n",
    "                                             (0, 1), #CUE\n",
    "                                             (1e-12, 0.5), #k\n",
    "                                             (0, 1), #kec\n",
    "                                             (0, 1)]) #katp\n",
    "                                             #(0, 1)]) #iX1"
   ]
  },
  {
   "cell_type": "code",
   "execution_count": 47,
   "metadata": {},
   "outputs": [
    {
     "name": "stdout",
     "output_type": "stream",
     "text": [
      "     fun: 5.7892623418280715\n",
      " message: 'Optimization terminated successfully.'\n",
      "    nfev: 7311\n",
      "     nit: 80\n",
      " success: True\n",
      "       x: array([1.96639955e+01, 1.02308069e+03, 9.52148590e-01, 2.43054917e-02,\n",
      "       1.03841536e-01, 1.31931650e-04])\n",
      "[ 0.94045798 -0.59542022 13.19084044  5.09410345]\n"
     ]
    }
   ],
   "source": [
    "print(j_mpars)\n",
    "print(goodnessM(j_mpars.x))"
   ]
  },
  {
   "cell_type": "code",
   "execution_count": 48,
   "metadata": {},
   "outputs": [],
   "source": [
    "#initial conditions\n",
    "S_i = d.Sinit[0]\n",
    "    \n",
    "B_i = d.Cmicinit[0]/j_mpars.x[4]\n",
    "    \n",
    "y0 = np.array([S_i, B_i, 0])\n",
    "#times\n",
    "t = np.arange(0, 8.05, 0.05)\n",
    "\n",
    "#model simulations\n",
    "Joergensen2002PredM = predM(Mmodel, j_mpars.x, t, y0)\n",
    "    \n",
    "#model simulations\n",
    "np.savetxt('/mnt/580CBE2464C5F83D/pracovni/data_statistika/SoilMBVariability/PythonScripts/Joergensen2002PredM.csv', Joergensen2002PredM, delimiter=\",\")"
   ]
  },
  {
   "cell_type": "markdown",
   "metadata": {},
   "source": [
    "## Pirt model\n",
    "Model as well as supplementary functions are defined below"
   ]
  },
  {
   "cell_type": "code",
   "execution_count": 49,
   "metadata": {},
   "outputs": [],
   "source": [
    "def Pmodel (y, t, pars):\n",
    "    #define initial pools\n",
    "    S=y[0];    B=y[1];    CO2=y[2];\n",
    "    \n",
    "    #define parameters\n",
    "    v=pars[0]; \n",
    "    Km=pars[1];     \n",
    "    CUE=pars[2];\n",
    "    m = pars[3];\n",
    "    k = pars[4];\n",
    "        \n",
    "    #Fluxes\n",
    "    uptake = v*S*B/(S + Km)\n",
    "    growth = uptake*CUE\n",
    "    respiration = uptake*(1 - CUE) + B*m\n",
    "    death = B*k\n",
    "    \n",
    "    #Define derivatives\n",
    "    dSdt = -uptake\n",
    "    dBdt = growth - death\n",
    "    dCO2dt = respiration\n",
    "           \n",
    "    return dSdt, dBdt, dCO2dt;"
   ]
  },
  {
   "cell_type": "code",
   "execution_count": 50,
   "metadata": {},
   "outputs": [],
   "source": [
    "def calcP (model, pars, t, y0):\n",
    "    #model parameters\n",
    "    ##v, Km, CUE, m, k\n",
    "    pars_model=pars[0:5]\n",
    "    #conversion factors\n",
    "    ##kec, katp\n",
    "    conversions=pars[5:7]\n",
    "\n",
    "    #solve the model\n",
    "    y=odeint(model,y0,t, args=(pars_model,))\n",
    "\n",
    "    #calculate total ATP, and flush (Flush)\n",
    "    Flush = conversions[0]*y[:, 1]\n",
    "    ATP = conversions[1]*y[:, 1]\n",
    "    \n",
    "    #Create data with predictions\n",
    "    yhat = np.concatenate((y[:, 0].reshape(len(d.Time),1),#glucose\n",
    "                           #y[:, 2].reshape(len(d.Time[0:18]),1),#CO2\n",
    "                           Flush.reshape(len(d.Time),1),\n",
    "                           ATP.reshape(len(d.Time),1)), axis=1)\n",
    "\n",
    "    return yhat"
   ]
  },
  {
   "cell_type": "code",
   "execution_count": 52,
   "metadata": {},
   "outputs": [],
   "source": [
    "def obj_funP (x):\n",
    "    #define parameters\n",
    "    ##v, Km, CUE, m, k, kec, katp\n",
    "    pars = x\n",
    "\n",
    "    #initial conditions\n",
    "    S_i = d.Sinit[0]\n",
    "        \n",
    "    B_i = d.Cmicinit[0]/pars[5]\n",
    "    \n",
    "    y0 = np.array([S_i, B_i, 0])\n",
    "    #times\n",
    "    t = d.Time\n",
    "\n",
    "    #model simulations\n",
    "    yhat_full = calcP(Pmodel, pars, t, y0)\n",
    "        \n",
    "    #observations\n",
    "    obs=np.concatenate((np.array([d.S]).reshape(len(d.Time),1),\n",
    "                        #np.array([d.CO2cumul]).reshape(len(d.Time),1),\n",
    "                        np.array([d.Cmic]).reshape(len(d.Time),1),\n",
    "                        #np.array([d.Cmic14]).reshape(len(d.Time),1),\n",
    "                        np.array([d.ATP]).reshape(len(d.Time),1)),\n",
    "                     axis=1)\n",
    "\n",
    "     #weights\n",
    "    weights=np.concatenate((np.nanstd(d.S).repeat(len(d.Time)).reshape(len(d.Time),1),\n",
    "                            #np.nanstd(d.CO2cumul[0:18]).repeat(len(d.Time[0:18])).reshape(len(d.Time[0:18]),1),\n",
    "                            np.nanstd((d.Cmic)).repeat(len(d.Time)).reshape(len(d.Time),1),\n",
    "                            #np.nanmean(d.Cmic14).repeat(len(d.Time)).reshape(len(d.Time),1),\n",
    "                            np.nanstd((d.ATP)).repeat(len(d.Time)).reshape(len(d.Time),1)),\n",
    "                       axis=1)\n",
    "       \n",
    "    out=np.nansum(((yhat_full-obs)/weights)**2)\n",
    "\n",
    "    return out"
   ]
  },
  {
   "cell_type": "code",
   "execution_count": 53,
   "metadata": {},
   "outputs": [],
   "source": [
    "def goodnessP (x):\n",
    "    #define parameters\n",
    "    ##v, Km, CUE, k, kec, katp\n",
    "    pars = x\n",
    "\n",
    "    #initial conditions\n",
    "    S_i = d.Sinit[0]\n",
    "        \n",
    "    B_i = d.Cmicinit[0]/pars[5]\n",
    "    \n",
    "    y0 = np.array([S_i, B_i, 0])\n",
    "    \n",
    "    #times\n",
    "    t = d.Time\n",
    "\n",
    "    #model simulations\n",
    "    yhat_full = calcP(Pmodel, pars, t, y0)\n",
    "    \n",
    "    #Standardize the simulations\n",
    "    ##means\n",
    "    Smeans=np.concatenate((np.nanmean(yhat_full[:, 0]).repeat(len(d.Time)).reshape(len(d.Time),1),\n",
    "                            np.nanmean(yhat_full[:, 1]).repeat(len(d.Time)).reshape(len(d.Time),1),\n",
    "                            np.nanmean((yhat_full[:, 2])).repeat(len(d.Time)).reshape(len(d.Time),1)),\n",
    "                            #np.nanmean(d.Cmic14).repeat(len(d.Time)).reshape(len(d.Time),1),\n",
    "                            #np.nanmean(yhat_full[:, 3]).repeat(len(d.Time)).reshape(len(d.Time),1)),\n",
    "                       axis=1)\n",
    "    ##std\n",
    "    Sstd=np.concatenate((np.nanstd(yhat_full[:, 0]).repeat(len(d.Time)).reshape(len(d.Time),1),\n",
    "                            np.nanstd(yhat_full[:, 1]).repeat(len(d.Time)).reshape(len(d.Time),1),\n",
    "                            np.nanstd((yhat_full[:, 2])).repeat(len(d.Time)).reshape(len(d.Time),1)),\n",
    "                            #np.nanmean(d.Cmic14).repeat(len(d.Time)).reshape(len(d.Time),1),\n",
    "                            #np.nanmean(yhat_full[:, 3]).repeat(len(d.Time)).reshape(len(d.Time),1)),\n",
    "                       axis=1)\n",
    "    \n",
    "    #observations\n",
    "    obs=np.concatenate((np.array([d.S]).reshape(len(d.Time),1),\n",
    "                        #np.array([d.CO2cumul]).reshape(len(d.Time),1),\n",
    "                        np.array([d.Cmic]).reshape(len(d.Time),1),\n",
    "                        #np.array([d.Cmic14]).reshape(len(d.Time),1),\n",
    "                        np.array([d.ATP]).reshape(len(d.Time),1)),\n",
    "                     axis=1)\n",
    "    #Standardize the observations\n",
    "    ##means\n",
    "    Omeans=np.concatenate((np.nanmean(d.S).repeat(len(d.Time)).reshape(len(d.Time),1),\n",
    "                            #np.nanmean(d.CO2cumul[0:18]).repeat(18).reshape(18,1),\n",
    "                            np.nanmean((d.Cmic)).repeat(len(d.Time)).reshape(len(d.Time),1),\n",
    "                            #np.nanmean(d.Cmic14).repeat(len(d.Time)).reshape(len(d.Time),1),\n",
    "                            np.nanmean(d.ATP).repeat(len(d.Time)).reshape(len(d.Time),1)),\n",
    "                       axis=1)\n",
    "    \n",
    "    ##std    \n",
    "    Ostd=np.concatenate((np.nanstd(d.S).repeat(len(d.Time)).reshape(len(d.Time),1),\n",
    "                            #np.nanstd(d.CO2cumul[0:18]).repeat(18).reshape(18,1),\n",
    "                            np.nanstd((d.Cmic[0:18])).repeat(len(d.Time)).reshape(len(d.Time),1),\n",
    "                            #np.nanmean(d.Cmic14).repeat(len(d.Time)).reshape(len(d.Time),1),\n",
    "                            np.nanstd(d.ATP[0:18]).repeat(len(d.Time)).reshape(len(d.Time),1)),\n",
    "                       axis=1)\n",
    "        \n",
    "    R2=1-np.nansum((obs-yhat_full)**2)/np.nansum((obs-np.nanmean(obs))**2)\n",
    "    ll=-np.nansum((obs-yhat_full)**2)/2/np.nanstd(obs)**2\n",
    "    AIC = len(pars)*2 - 2*ll\n",
    "    \n",
    "    #Normalized residual sum of squares \n",
    "    Fnorm = np.nansum((((obs-Omeans)/Ostd)-((yhat_full-Smeans)/Sstd))**2)\n",
    "    \n",
    "    out = np.array([R2, ll, AIC, Fnorm])\n",
    "\n",
    "    return out"
   ]
  },
  {
   "cell_type": "code",
   "execution_count": 54,
   "metadata": {},
   "outputs": [],
   "source": [
    "def predP (model, pars, t, y0):\n",
    "    #model parameters\n",
    "    ##v, Km, CUE, m, k\n",
    "    pars_model=pars[0:5]\n",
    "    #conversion factors\n",
    "    ##kec, katp\n",
    "    conversions=pars[5:7]\n",
    "\n",
    "    #solve the model\n",
    "    y=odeint(model,y0,t, args=(pars_model,))\n",
    "\n",
    "    #calculate total DNA, and flush (Flush)\n",
    "    Flush = conversions[0]*y[:, 1]\n",
    "    ATP = conversions[1]*y[:, 1]\n",
    "    \n",
    "    #Create data with predictions\n",
    "    yhat = np.concatenate((y[:, 0].reshape(len(np.arange(0, 8.05, 0.05)),1),#glucose\n",
    "                           #y[:, 2].reshape(len(np.arange(0, 8.05, 0.05)),1),#CO2\n",
    "                           Flush.reshape(len(np.arange(0, 8.05, 0.05)),1),\n",
    "                           ATP.reshape(len(np.arange(0, 8.05, 0.05)),1)), axis=1)\n",
    "\n",
    "    return yhat"
   ]
  },
  {
   "cell_type": "code",
   "execution_count": 55,
   "metadata": {},
   "outputs": [],
   "source": [
    "j_ppars=differential_evolution(obj_funP, [(0.001, 500), #v\n",
    "                                             (0.1, 10000), #Km                                             \n",
    "                                             (0, 1), #CUE\n",
    "                                             (1e-12, 0.5), #k\n",
    "                                             (1e-12, 0.5), #m\n",
    "                                             (0, 1), #kec\n",
    "                                             (0, 1)]) #katp\n",
    "                                             #(0, 1)]) #iX1"
   ]
  },
  {
   "cell_type": "code",
   "execution_count": 56,
   "metadata": {},
   "outputs": [
    {
     "name": "stdout",
     "output_type": "stream",
     "text": [
      "     fun: 5.666462494288153\n",
      "     jac: array([ 8.79295938e-05, -2.84194252e-06,  1.69715797e-02,  1.49213974e-05,\n",
      "       -7.28765492e-02, -9.83498616e-02,  1.61464087e-01])\n",
      " message: 'Optimization terminated successfully.'\n",
      "    nfev: 7615\n",
      "     nit: 70\n",
      " success: True\n",
      "       x: array([4.32504743e+02, 8.98077960e+03, 3.58684104e-01, 2.44455045e-02,\n",
      "       2.53667050e-02, 2.77234934e-01, 3.50330343e-04])\n",
      "[ 0.94012183 -0.59878167 15.19756335  5.0362957 ]\n"
     ]
    }
   ],
   "source": [
    "print(j_ppars)\n",
    "print(goodnessP(j_ppars.x))"
   ]
  },
  {
   "cell_type": "code",
   "execution_count": 57,
   "metadata": {},
   "outputs": [],
   "source": [
    "#initial conditions\n",
    "S_i = d.Sinit[0]\n",
    "    \n",
    "B_i = d.Cmicinit[0]/j_ppars.x[5]\n",
    "    \n",
    "y0 = np.array([S_i, B_i, 0])\n",
    "\n",
    "#times\n",
    "t = np.arange(0, 8.05, 0.05)\n",
    "\n",
    "#model simulations\n",
    "Joergensen2002PredP = predP(Pmodel, j_ppars.x, t, y0)\n",
    "    \n",
    "np.savetxt('/mnt/580CBE2464C5F83D/pracovni/data_statistika/SoilMBVariability/PythonScripts/Joergensen2002PredP.csv', Joergensen2002PredP, delimiter=\",\")"
   ]
  },
  {
   "cell_type": "code",
   "execution_count": null,
   "metadata": {},
   "outputs": [],
   "source": []
  }
 ],
 "metadata": {
  "kernelspec": {
   "display_name": "Python 3",
   "language": "python",
   "name": "python3"
  },
  "language_info": {
   "codemirror_mode": {
    "name": "ipython",
    "version": 3
   },
   "file_extension": ".py",
   "mimetype": "text/x-python",
   "name": "python",
   "nbconvert_exporter": "python",
   "pygments_lexer": "ipython3",
   "version": "3.8.10"
  }
 },
 "nbformat": 4,
 "nbformat_minor": 2
}
