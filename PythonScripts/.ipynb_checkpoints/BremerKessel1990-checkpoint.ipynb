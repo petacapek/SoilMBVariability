{
 "cells": [
  {
   "cell_type": "markdown",
   "metadata": {},
   "source": [
    "# Testing the DEB model\n",
    "## Bremer and van Kessel (1990)\n",
    "1. Importing libraries"
   ]
  },
  {
   "cell_type": "code",
   "execution_count": 2,
   "metadata": {},
   "outputs": [],
   "source": [
    "import numpy as np\n",
    "import pandas as pd\n",
    "from scipy.integrate import odeint\n",
    "from scipy.optimize import dual_annealing\n",
    "from scipy.optimize import differential_evolution"
   ]
  },
  {
   "cell_type": "markdown",
   "metadata": {},
   "source": [
    "2. Defining DEB model"
   ]
  },
  {
   "cell_type": "code",
   "execution_count": 3,
   "metadata": {},
   "outputs": [],
   "source": [
    "def DEBmodel (y, t, pars):\n",
    "    #define initial pools (eu is assumed to be zero)\n",
    "    Sl=y[0];    el=y[1];    X1l=y[2];     CO2l=y[3];\n",
    "    X1u=y[4]\n",
    "    #define parameters\n",
    "    yA=1; \n",
    "    Km=pars[0];     \n",
    "    v=pars[1];\n",
    "    m=pars[2]; \n",
    "    g=pars[3]; \n",
    "    ce=pars[4];\n",
    "    MX1=ce/4;\n",
    "    #Scaling function for substrate uptake\n",
    "    f=Sl/(Km+Sl) #labelled substrate only\n",
    "    \n",
    "    #Isotope signals\n",
    "    eatm = 1\n",
    "    X1atm = X1l/(X1l + X1u)\n",
    "    \n",
    "    #Fluxes\n",
    "    uptake=(v*ce/yA)*(X1l+X1u)*f #labelled substrate only\n",
    "    growth = (v*el-m*g)/(el + g)\n",
    "    \n",
    "    #Define derivatives\n",
    "    ##Labelled pools\n",
    "    dSldt = -uptake\n",
    "    deldt = v*(f - el)\n",
    "    dX1ldt = max(0, (X1l + X1u)*growth) + min(0, (X1l + X1u)*growth*X1atm) \n",
    "    dCO2ldt = uptake*(1 - yA) + ce*((X1l + X1u)*el*(v-growth)) - max(0, (X1l + X1u)*growth)*MX1 - min(0, (X1l + X1u)*growth*X1atm)*MX1 \n",
    "    ##Unabelled pools\n",
    "    #dSudt\n",
    "    #deudt = - v*eu\n",
    "    dX1udt = min(0, (X1l + X1u)*growth*(1-X1atm)) \n",
    "        \n",
    "    return dSldt, deldt, dX1ldt, dCO2ldt, dX1udt;"
   ]
  },
  {
   "cell_type": "markdown",
   "metadata": {},
   "source": [
    "3. Defining outputs from DEB model"
   ]
  },
  {
   "cell_type": "code",
   "execution_count": 4,
   "metadata": {},
   "outputs": [],
   "source": [
    "def calcDEB (model, pars, t, y0):\n",
    "    #model parameters\n",
    "    ##Km, v, m, g, ce\n",
    "    pars_model=pars[0:5]\n",
    "    #conversion factors\n",
    "    ##ce, nX1\n",
    "    conversions=pars[4:6]\n",
    "    \n",
    "    #solve the model\n",
    "    y=odeint(model,y0,t, args=(pars_model,))\n",
    "    #calculate labelled biomass (Bl), kec factor, and labelled chloroform flush (Flush14C) \n",
    "    Bl=((conversions[0]/4 + conversions[0]*y[:, 1])*y[:, 2])\n",
    "    kec = (conversions[1]/4 + y[:, 1])/(0.25 + y[:, 1])\n",
    "            \n",
    "    #Create data with predictions\n",
    "    yhat = np.concatenate((y[:, 0].reshape(len(d.Time),1), #Glucose\n",
    "                           y[:, 3].reshape(len(d.Time),1),#CO2\n",
    "                           kec.reshape(len(d.Time),1),\n",
    "                           Bl.reshape(len(d.Time),1)), axis=1)\n",
    "    \n",
    "    return yhat"
   ]
  },
  {
   "cell_type": "markdown",
   "metadata": {},
   "source": [
    "4. Defining objective function"
   ]
  },
  {
   "cell_type": "code",
   "execution_count": 5,
   "metadata": {},
   "outputs": [],
   "source": [
    "def obj_funDEB (x):\n",
    "    #define parameters\n",
    "    ##Km, v, m, g, ce, nX1\n",
    "    pars = x\n",
    "    #initial conditions\n",
    "    Sl_i = d.Sinit[0]\n",
    "    # el_i = 0, Xl_i = 0, CO2l = 0, CO2u = 0, eu = 0  \n",
    "    X1u_i = d.Cmicinit[0]/(pars[4]*(pars[5]/4))\n",
    "    \n",
    "    y0 = np.array([Sl_i, 0, 0, 0,X1u_i])\n",
    "    #times\n",
    "    t = d.Time\n",
    "    #model simulations\n",
    "    yhat_full = calcDEB(DEBmodel, pars, t, y0)\n",
    "    #observations\n",
    "    obs=np.concatenate((np.array([d.S]).reshape(len(d.Time),1),\n",
    "                        np.array([d.CO214cumul]).reshape(len(d.Time),1),\n",
    "                        np.array([d.kec]).reshape(len(d.Time),1),\n",
    "                        np.array([d.Cmic14]).reshape(len(d.Time),1)), axis=1)\n",
    "    #weights\n",
    "    weights=np.concatenate((np.nanmean(d.S).repeat(len(d.Time)).reshape(len(d.Time),1),\n",
    "                            np.nanmean(d.CO214cumul).repeat(len(d.Time)).reshape(len(d.Time),1),\n",
    "                            np.nanmean(d.kec/5).repeat(len(d.Time)).reshape(len(d.Time),1),\n",
    "                            np.nanmean((d.Cmic14)).repeat(len(d.Time)).reshape(len(d.Time),1)),\n",
    "                       axis=1)\n",
    "    out=np.nansum(((yhat_full-obs)/weights)**2)\n",
    "    return out"
   ]
  },
  {
   "cell_type": "markdown",
   "metadata": {},
   "source": [
    "5. Calculate the goodness of fit"
   ]
  },
  {
   "cell_type": "code",
   "execution_count": 6,
   "metadata": {},
   "outputs": [],
   "source": [
    "def goodnessDEB (x):\n",
    "    #define parameters\n",
    "    ##Km, v, m, g, ce, nX1\n",
    "    pars = x\n",
    "    #initial conditions\n",
    "    Sl_i = d.Sinit[0]\n",
    "    # el_i = 0, Xl_i = 0, CO2l = 0, CO2u = 0, eu = 0  \n",
    "    X1u_i = d.Cmicinit[0]/(pars[4]*(pars[5]/4))\n",
    "    \n",
    "    y0 = np.array([Sl_i, 0, 0, 0,X1u_i])\n",
    "    #times\n",
    "    t = d.Time\n",
    "    #model simulations\n",
    "    yhat_full = calcDEB(DEBmodel, pars, t, y0)\n",
    "    \n",
    "    #observations\n",
    "    obs=np.concatenate((np.array([d.S]).reshape(len(d.Time),1),\n",
    "                        np.array([d.CO214cumul]).reshape(len(d.Time),1),\n",
    "                        np.array([d.kec]).reshape(len(d.Time),1),\n",
    "                        np.array([d.Cmic14]).reshape(len(d.Time),1)), axis=1)\n",
    "    \n",
    "    R2=1-np.nansum((obs-yhat_full)**2)/np.nansum((obs-np.nanmean(obs))**2)\n",
    "    ll=-np.nansum((obs-yhat_full)**2)/2/np.nanstd(obs)**2\n",
    "    AIC = len(pars)*2 - 2*ll\n",
    "    out = np.array([R2, ll, AIC])\n",
    "    return out"
   ]
  },
  {
   "cell_type": "markdown",
   "metadata": {},
   "source": [
    "Following function return the model solution for visualization in R"
   ]
  },
  {
   "cell_type": "code",
   "execution_count": 7,
   "metadata": {},
   "outputs": [],
   "source": [
    "def predDEB (model, pars, t, y0):\n",
    "    #model parameters\n",
    "    ##Km, v, m, g, ce\n",
    "    pars_model=pars[0:5]\n",
    "    #conversion factors\n",
    "    ##ce, nX1\n",
    "    conversions=pars[4:6]\n",
    "    \n",
    "    #solve the model\n",
    "    y=odeint(model,y0,t, args=(pars_model,))\n",
    "    #calculate labelled biomass (Bl), kec factor, and labelled chloroform flush (Flush14C) \n",
    "    Bl=((conversions[0]/4 + conversions[0]*y[:, 1])*y[:, 2])\n",
    "    kec = (conversions[1]/4 + y[:, 1])/(0.25 + y[:, 1])\n",
    "        \n",
    "    #Create data with predictions\n",
    "    yhat = np.concatenate((y[:, 0].reshape(len(np.arange(0, 7.1, 0.1)),1), #Glucose\n",
    "                           y[:, 3].reshape(len(np.arange(0, 7.1, 0.1)),1),#CO2\n",
    "                           kec.reshape(len(np.arange(0, 7.1, 0.1)),1),\n",
    "                           Bl.reshape(len(np.arange(0, 7.1, 0.1)),1)), axis=1)\n",
    "    \n",
    "    return yhat"
   ]
  },
  {
   "cell_type": "markdown",
   "metadata": {},
   "source": [
    "## High glucose/high N\n",
    "Reading data"
   ]
  },
  {
   "cell_type": "code",
   "execution_count": 7,
   "metadata": {},
   "outputs": [
    {
     "name": "stdout",
     "output_type": "stream",
     "text": [
      "   index                        Study        Soil Substrate  Clay   pH  Ctot  \\\n",
      "0     12  Bremer and van Kessel, 1990  silty loam   Glucose   NaN  7.4   1.3   \n",
      "1     13  Bremer and van Kessel, 1990  silty loam   Glucose   NaN  7.4   1.3   \n",
      "2     14  Bremer and van Kessel, 1990  silty loam   Glucose   NaN  7.4   1.3   \n",
      "3     15  Bremer and van Kessel, 1990  silty loam   Glucose   NaN  7.4   1.3   \n",
      "4     16  Bremer and van Kessel, 1990  silty loam   Glucose   NaN  7.4   1.3   \n",
      "5     17  Bremer and van Kessel, 1990  silty loam   Glucose   NaN  7.4   1.3   \n",
      "\n",
      "   Ntot  Temperature  Time   Cmicinit      Sinit     Cmic14  CO214cumul  \\\n",
      "0  0.17         22.5  0.00  11.606994  24.979184   0.000000    0.000000   \n",
      "1  0.17         22.5  0.25  11.606994  24.979184   9.682721    1.206915   \n",
      "2  0.17         22.5  0.50  11.606994  24.979184  19.286559    4.056026   \n",
      "3  0.17         22.5  1.00  11.606994  24.979184  17.452561    7.182134   \n",
      "4  0.17         22.5  3.00  11.606994  24.979184  15.973531    8.883686   \n",
      "5  0.17         22.5  7.00  11.606994  24.979184  15.362198    9.516822   \n",
      "\n",
      "           S       kec Treatment  \n",
      "0  24.979184       NaN      HCHN  \n",
      "1  13.933000  0.500000      HCHN  \n",
      "2   1.458366  0.447471      HCHN  \n",
      "3   0.000000  0.378599      HCHN  \n",
      "4   0.000000  0.359144      HCHN  \n",
      "5   0.000000  0.327237      HCHN  \n"
     ]
    }
   ],
   "source": [
    "dAll = pd.read_csv('/mnt/580CBE2464C5F83D/pracovni/data_statistika/SoilMBVariability/SoilMBVariabilityData/BremerKessel1990.csv', sep=',')\n",
    "d = dAll[(dAll.Treatment==\"HCHN\")]\n",
    "d = d.reset_index()\n",
    "print(d)"
   ]
  },
  {
   "cell_type": "markdown",
   "metadata": {},
   "source": [
    "Estimating parameters"
   ]
  },
  {
   "cell_type": "code",
   "execution_count": 8,
   "metadata": {},
   "outputs": [
    {
     "name": "stderr",
     "output_type": "stream",
     "text": [
      "<ipython-input-4-e982bd77c325>:8: RuntimeWarning: divide by zero encountered in double_scalars\n",
      "  X1u_i = d.Cmicinit[0]/(pars[4]*(pars[5]/4))\n",
      "<ipython-input-2-84d33bf8a466>:28: RuntimeWarning: invalid value encountered in double_scalars\n",
      "  dX1ldt = max(0, (X1l + X1u)*growth) + min(0, (X1l + X1u)*growth*X1atm)\n",
      "<ipython-input-2-84d33bf8a466>:29: RuntimeWarning: invalid value encountered in double_scalars\n",
      "  dCO2ldt = uptake*(1 - yA) + ce*((X1l + X1u)*el*(v-growth)) - max(0, (X1l + X1u)*growth)*MX1 - min(0, (X1l + X1u)*growth*X1atm)*MX1\n",
      "/usr/local/lib/python3.8/dist-packages/scipy/integrate/odepack.py:247: ODEintWarning: Illegal input detected (internal error). Run with full_output = 1 to get quantitative information.\n",
      "  warnings.warn(warning_msg, ODEintWarning)\n"
     ]
    }
   ],
   "source": [
    "BremerKessel1990DA=dual_annealing(obj_funDEB, [#(0.05, 1), #yA\n",
    "                                              (10, 1000), #Km\n",
    "                                              (0.001, 20), #v\n",
    "                                              (1e-12, 0.1), #m\n",
    "                                              (0.1, 3), #g\n",
    "                                              (0.1, 10), #ce\n",
    "                                              (0, 1)]) #nX1\n",
    "                                              #(0, 1) #ne\n",
    "                                              #(0, 1)]) #eu_i"
   ]
  },
  {
   "cell_type": "code",
   "execution_count": 9,
   "metadata": {},
   "outputs": [
    {
     "name": "stdout",
     "output_type": "stream",
     "text": [
      "     fun: 1.0179838511673385\n",
      " message: ['Maximum number of iteration reached']\n",
      "    nfev: 13492\n",
      "    nhev: 0\n",
      "     nit: 1000\n",
      "    njev: 213\n",
      "  status: 0\n",
      " success: True\n",
      "       x: array([1.71400780e+02, 4.97869063e+00, 2.62748954e-02, 3.25256360e-01,\n",
      "       6.57948241e+00, 3.58466896e-01])\n",
      "[ 0.94112226 -0.67709396 13.35418791]\n"
     ]
    }
   ],
   "source": [
    "print(BremerKessel1990DA)\n",
    "print(goodnessDEB(BremerKessel1990DA.x))"
   ]
  },
  {
   "cell_type": "code",
   "execution_count": 10,
   "metadata": {},
   "outputs": [
    {
     "name": "stderr",
     "output_type": "stream",
     "text": [
      "<ipython-input-4-e982bd77c325>:8: RuntimeWarning: divide by zero encountered in double_scalars\n",
      "  X1u_i = d.Cmicinit[0]/(pars[4]*(pars[5]/4))\n",
      "<ipython-input-2-84d33bf8a466>:28: RuntimeWarning: invalid value encountered in double_scalars\n",
      "  dX1ldt = max(0, (X1l + X1u)*growth) + min(0, (X1l + X1u)*growth*X1atm)\n",
      "<ipython-input-2-84d33bf8a466>:29: RuntimeWarning: invalid value encountered in double_scalars\n",
      "  dCO2ldt = uptake*(1 - yA) + ce*((X1l + X1u)*el*(v-growth)) - max(0, (X1l + X1u)*growth)*MX1 - min(0, (X1l + X1u)*growth*X1atm)*MX1\n"
     ]
    }
   ],
   "source": [
    "BremerKessel1990DE=differential_evolution(obj_funDEB, [#(0.05, 1), #yA\n",
    "                                              (10, 1000), #Km\n",
    "                                              (0.001, 20), #v\n",
    "                                              (1e-12, 0.1), #m\n",
    "                                              (0.1, 3), #g\n",
    "                                              (0.1, 10), #ce\n",
    "                                              (0, 1)]) #nX1\n",
    "                                              #(0, 1) #ne\n",
    "                                              #(0, 1)]) #eu_i"
   ]
  },
  {
   "cell_type": "code",
   "execution_count": 11,
   "metadata": {},
   "outputs": [
    {
     "name": "stdout",
     "output_type": "stream",
     "text": [
      "     fun: 1.0186089295339242\n",
      "     jac: array([-0.00022988,  0.00294269, -0.00085076, -0.00036853,  0.00040665,\n",
      "        0.00044034])\n",
      " message: 'Optimization terminated successfully.'\n",
      "    nfev: 3560\n",
      "     nit: 37\n",
      " success: True\n",
      "       x: array([1.66957115e+02, 4.89084341e+00, 2.60716674e-02, 3.25575342e-01,\n",
      "       2.30084563e-01, 3.57848480e-01])\n",
      "[ 0.94021891 -0.68748252 13.37496505]\n"
     ]
    }
   ],
   "source": [
    "print(BremerKessel1990DE)\n",
    "print(goodnessDEB(BremerKessel1990DE.x))"
   ]
  },
  {
   "cell_type": "code",
   "execution_count": 12,
   "metadata": {},
   "outputs": [],
   "source": [
    "np.savetxt('/mnt/580CBE2464C5F83D/pracovni/data_statistika/SoilMBVariability/PythonScripts/BremerHCHNPars.csv', BremerKessel1990DA.x.reshape(1,6), delimiter=\",\")"
   ]
  },
  {
   "cell_type": "markdown",
   "metadata": {},
   "source": [
    "Exporting solution for R"
   ]
  },
  {
   "cell_type": "code",
   "execution_count": 13,
   "metadata": {},
   "outputs": [],
   "source": [
    "#initial conditions\n",
    "Sl_i = d.Sinit[0]\n",
    "X1u_i = d.Cmicinit[0]/(BremerKessel1990DA.x[4]*(BremerKessel1990DA.x[5]/4))\n",
    "    \n",
    "y0 = np.array([Sl_i, 0, 0, 0,X1u_i])\n",
    "\n",
    "#times\n",
    "t = np.arange(0, 7.1, 0.1)\n",
    "#model simulations\n",
    "HCHNPred = predDEB(DEBmodel, BremerKessel1990DA.x, t, y0)\n",
    "#print(HCHNPred)"
   ]
  },
  {
   "cell_type": "markdown",
   "metadata": {},
   "source": [
    "## High glucose\n",
    "Reading data"
   ]
  },
  {
   "cell_type": "code",
   "execution_count": 14,
   "metadata": {},
   "outputs": [
    {
     "name": "stdout",
     "output_type": "stream",
     "text": [
      "   index                        Study        Soil Substrate  Clay   pH  Ctot  \\\n",
      "0      6  Bremer and van Kessel, 1990  silty loam   Glucose   NaN  7.4   1.3   \n",
      "1      7  Bremer and van Kessel, 1990  silty loam   Glucose   NaN  7.4   1.3   \n",
      "2      8  Bremer and van Kessel, 1990  silty loam   Glucose   NaN  7.4   1.3   \n",
      "3      9  Bremer and van Kessel, 1990  silty loam   Glucose   NaN  7.4   1.3   \n",
      "4     10  Bremer and van Kessel, 1990  silty loam   Glucose   NaN  7.4   1.3   \n",
      "5     11  Bremer and van Kessel, 1990  silty loam   Glucose   NaN  7.4   1.3   \n",
      "\n",
      "   Ntot  Temperature  Time   Cmicinit      Sinit     Cmic14  CO214cumul  \\\n",
      "0  0.17         22.5  0.00  11.606994  24.979184   0.000000    0.000000   \n",
      "1  0.17         22.5  0.25  11.606994  24.979184   9.367194    1.226701   \n",
      "2  0.17         22.5  0.50  11.606994  24.979184  16.525702    3.957098   \n",
      "3  0.17         22.5  1.00  11.606994  24.979184  17.077874    7.716342   \n",
      "4  0.17         22.5  3.00  11.606994  24.979184  15.717166    9.160683   \n",
      "5  0.17         22.5  7.00  11.606994  24.979184  14.553661   10.407169   \n",
      "\n",
      "           S       kec Treatment  \n",
      "0  24.979184       NaN        HC  \n",
      "1  14.359291  0.409728        HC  \n",
      "2   4.487279  0.389494        HC  \n",
      "3   0.179491  0.360311        HC  \n",
      "4   0.000000  0.338521        HC  \n",
      "5   0.000000  0.327237        HC  \n"
     ]
    }
   ],
   "source": [
    "d = dAll[(dAll.Treatment==\"HC\")]\n",
    "d = d.reset_index()\n",
    "print(d)"
   ]
  },
  {
   "cell_type": "markdown",
   "metadata": {},
   "source": [
    "Estimating parameters"
   ]
  },
  {
   "cell_type": "code",
   "execution_count": 15,
   "metadata": {},
   "outputs": [
    {
     "name": "stderr",
     "output_type": "stream",
     "text": [
      "<ipython-input-4-e982bd77c325>:8: RuntimeWarning: divide by zero encountered in double_scalars\n",
      "  X1u_i = d.Cmicinit[0]/(pars[4]*(pars[5]/4))\n",
      "<ipython-input-2-84d33bf8a466>:28: RuntimeWarning: invalid value encountered in double_scalars\n",
      "  dX1ldt = max(0, (X1l + X1u)*growth) + min(0, (X1l + X1u)*growth*X1atm)\n",
      "<ipython-input-2-84d33bf8a466>:29: RuntimeWarning: invalid value encountered in double_scalars\n",
      "  dCO2ldt = uptake*(1 - yA) + ce*((X1l + X1u)*el*(v-growth)) - max(0, (X1l + X1u)*growth)*MX1 - min(0, (X1l + X1u)*growth*X1atm)*MX1\n",
      "/usr/local/lib/python3.8/dist-packages/scipy/integrate/odepack.py:247: ODEintWarning: Illegal input detected (internal error). Run with full_output = 1 to get quantitative information.\n",
      "  warnings.warn(warning_msg, ODEintWarning)\n"
     ]
    }
   ],
   "source": [
    "BremerKessel1990DA=dual_annealing(obj_funDEB, [#(0.05, 1), #yA\n",
    "                                              (10, 1000), #Km\n",
    "                                              (0.001, 20), #v\n",
    "                                              (1e-12, 0.1), #m\n",
    "                                              (0.1, 3), #g\n",
    "                                              (0.1, 10), #ce\n",
    "                                              (0, 1)]) #nX1\n",
    "                                              #(0, 1) #ne\n",
    "                                              #(0, 1)]) #eu_i"
   ]
  },
  {
   "cell_type": "code",
   "execution_count": 16,
   "metadata": {},
   "outputs": [
    {
     "name": "stdout",
     "output_type": "stream",
     "text": [
      "     fun: 0.3738788415662432\n",
      " message: ['Maximum number of iteration reached']\n",
      "    nfev: 40638\n",
      "    nhev: 0\n",
      "     nit: 1000\n",
      "    njev: 4091\n",
      "  status: 0\n",
      " success: True\n",
      "       x: array([4.68808310e+02, 9.44001580e+00, 3.51137322e-02, 3.18923164e-01,\n",
      "       2.69789363e+00, 3.41735325e-01])\n",
      "[ 0.97855939 -0.24656706 12.49313412]\n"
     ]
    }
   ],
   "source": [
    "print(BremerKessel1990DA)\n",
    "print(goodnessDEB(BremerKessel1990DA.x))"
   ]
  },
  {
   "cell_type": "code",
   "execution_count": 17,
   "metadata": {},
   "outputs": [],
   "source": [
    "BremerKessel1990DE=differential_evolution(obj_funDEB, [#(0.05, 1), #yA\n",
    "                                              (10, 1000), #Km\n",
    "                                              (0.001, 20), #v\n",
    "                                              (1e-12, 0.1), #m\n",
    "                                              (0.1, 3), #g\n",
    "                                              (0.1, 10), #ce\n",
    "                                              (0, 1)]) #nX1\n",
    "                                              #(0, 1) #ne\n",
    "                                              #(0, 1)]) #eu_i"
   ]
  },
  {
   "cell_type": "code",
   "execution_count": 18,
   "metadata": {},
   "outputs": [
    {
     "name": "stdout",
     "output_type": "stream",
     "text": [
      "     fun: 0.37399276733374126\n",
      "     jac: array([ 0.45423025,  0.44918482, -0.05428203, -0.11388793,  0.45503761,\n",
      "        0.34117382])\n",
      " message: 'Optimization terminated successfully.'\n",
      "    nfev: 2722\n",
      "     nit: 28\n",
      " success: True\n",
      "       x: array([4.70294429e+02, 9.43166666e+00, 3.52129394e-02, 3.18653165e-01,\n",
      "       5.72176006e+00, 3.41844770e-01])\n",
      "[ 0.97838792 -0.2485389  12.49707779]\n"
     ]
    }
   ],
   "source": [
    "print(BremerKessel1990DE)\n",
    "print(goodnessDEB(BremerKessel1990DE.x))"
   ]
  },
  {
   "cell_type": "code",
   "execution_count": 19,
   "metadata": {},
   "outputs": [],
   "source": [
    "np.savetxt('/mnt/580CBE2464C5F83D/pracovni/data_statistika/SoilMBVariability/PythonScripts/BremerHCPars.csv', BremerKessel1990DA.x.reshape(1,6), delimiter=\",\")"
   ]
  },
  {
   "cell_type": "code",
   "execution_count": 20,
   "metadata": {},
   "outputs": [],
   "source": [
    "#initial conditions\n",
    "Sl_i = d.Sinit[0]\n",
    "X1u_i = d.Cmicinit[0]/(BremerKessel1990DA.x[4]*(BremerKessel1990DA.x[5]/4))\n",
    "    \n",
    "y0 = np.array([Sl_i, 0, 0, 0,X1u_i])\n",
    "\n",
    "#times\n",
    "t = np.arange(0, 7.1, 0.1)\n",
    "#model simulations\n",
    "HCPred = predDEB(DEBmodel, BremerKessel1990DA.x, t, y0)"
   ]
  },
  {
   "cell_type": "markdown",
   "metadata": {},
   "source": [
    "## Low glucose\n",
    "Reading data"
   ]
  },
  {
   "cell_type": "code",
   "execution_count": 21,
   "metadata": {},
   "outputs": [
    {
     "name": "stdout",
     "output_type": "stream",
     "text": [
      "   index                        Study        Soil Substrate  Clay   pH  Ctot  \\\n",
      "0      0  Bremer and van Kessel, 1990  silty loam   Glucose   NaN  7.4   1.3   \n",
      "1      1  Bremer and van Kessel, 1990  silty loam   Glucose   NaN  7.4   1.3   \n",
      "2      2  Bremer and van Kessel, 1990  silty loam   Glucose   NaN  7.4   1.3   \n",
      "3      3  Bremer and van Kessel, 1990  silty loam   Glucose   NaN  7.4   1.3   \n",
      "4      4  Bremer and van Kessel, 1990  silty loam   Glucose   NaN  7.4   1.3   \n",
      "5      5  Bremer and van Kessel, 1990  silty loam   Glucose   NaN  7.4   1.3   \n",
      "\n",
      "   Ntot  Temperature  Time   Cmicinit     Sinit    Cmic14  CO214cumul  \\\n",
      "0  0.17         22.5  0.00  11.606994  2.497918  0.000000    0.000000   \n",
      "1  0.17         22.5  0.25  11.606994  2.497918  2.196853    0.276997   \n",
      "2  0.17         22.5  0.50  11.606994  2.497918  2.088391    0.379881   \n",
      "3  0.17         22.5  1.00  11.606994  2.497918  2.035146    0.441216   \n",
      "4  0.17         22.5  3.00  11.606994  2.497918  1.932600    0.550037   \n",
      "5  0.17         22.5  7.00  11.606994  2.497918  1.871467    0.627200   \n",
      "\n",
      "          S       kec Treatment  \n",
      "0  2.497918       NaN        LC  \n",
      "1  0.000000  0.417510        LC  \n",
      "2  0.000000  0.408560        LC  \n",
      "3  0.000000  0.458755        LC  \n",
      "4  0.000000  0.488327        LC  \n",
      "5  0.000000  0.468482        LC  \n"
     ]
    }
   ],
   "source": [
    "d = dAll[(dAll.Treatment==\"LC\")]\n",
    "d = d.reset_index()\n",
    "print(d)"
   ]
  },
  {
   "cell_type": "markdown",
   "metadata": {},
   "source": [
    "Estimating parameters"
   ]
  },
  {
   "cell_type": "code",
   "execution_count": 22,
   "metadata": {},
   "outputs": [
    {
     "name": "stderr",
     "output_type": "stream",
     "text": [
      "<ipython-input-4-e982bd77c325>:8: RuntimeWarning: divide by zero encountered in double_scalars\n",
      "  X1u_i = d.Cmicinit[0]/(pars[4]*(pars[5]/4))\n",
      "<ipython-input-2-84d33bf8a466>:28: RuntimeWarning: invalid value encountered in double_scalars\n",
      "  dX1ldt = max(0, (X1l + X1u)*growth) + min(0, (X1l + X1u)*growth*X1atm)\n",
      "<ipython-input-2-84d33bf8a466>:29: RuntimeWarning: invalid value encountered in double_scalars\n",
      "  dCO2ldt = uptake*(1 - yA) + ce*((X1l + X1u)*el*(v-growth)) - max(0, (X1l + X1u)*growth)*MX1 - min(0, (X1l + X1u)*growth*X1atm)*MX1\n",
      "/usr/local/lib/python3.8/dist-packages/scipy/integrate/odepack.py:247: ODEintWarning: Illegal input detected (internal error). Run with full_output = 1 to get quantitative information.\n",
      "  warnings.warn(warning_msg, ODEintWarning)\n"
     ]
    }
   ],
   "source": [
    "BremerKessel1990DA=dual_annealing(obj_funDEB, [#(0.05, 1), #yA\n",
    "                                              (10, 1000), #Km\n",
    "                                              (0.001, 20), #v\n",
    "                                              (1e-12, 0.1), #m\n",
    "                                              (0.1, 3), #g\n",
    "                                              (0.1, 10), #ce\n",
    "                                              (0, 1)]) #nX1\n",
    "                                              #(0, 1) #ne\n",
    "                                              #(0, 1)]) #eu_i"
   ]
  },
  {
   "cell_type": "code",
   "execution_count": 23,
   "metadata": {},
   "outputs": [
    {
     "name": "stdout",
     "output_type": "stream",
     "text": [
      "     fun: 0.6382667887460138\n",
      " message: ['Maximum number of iteration reached']\n",
      "    nfev: 30082\n",
      "    nhev: 0\n",
      "     nit: 1000\n",
      "    njev: 2583\n",
      "  status: 0\n",
      " success: True\n",
      "       x: array([9.87668288e+01, 1.90755920e+01, 2.04916774e-02, 2.69313148e-01,\n",
      "       2.10471541e+00, 4.47912358e-01])\n",
      "[ 0.99812177 -0.02159964 12.04319928]\n"
     ]
    }
   ],
   "source": [
    "print(BremerKessel1990DA)\n",
    "print(goodnessDEB(BremerKessel1990DA.x))"
   ]
  },
  {
   "cell_type": "code",
   "execution_count": 24,
   "metadata": {},
   "outputs": [
    {
     "name": "stderr",
     "output_type": "stream",
     "text": [
      "<ipython-input-4-e982bd77c325>:8: RuntimeWarning: divide by zero encountered in double_scalars\n",
      "  X1u_i = d.Cmicinit[0]/(pars[4]*(pars[5]/4))\n",
      "<ipython-input-2-84d33bf8a466>:28: RuntimeWarning: invalid value encountered in double_scalars\n",
      "  dX1ldt = max(0, (X1l + X1u)*growth) + min(0, (X1l + X1u)*growth*X1atm)\n",
      "<ipython-input-2-84d33bf8a466>:29: RuntimeWarning: invalid value encountered in double_scalars\n",
      "  dCO2ldt = uptake*(1 - yA) + ce*((X1l + X1u)*el*(v-growth)) - max(0, (X1l + X1u)*growth)*MX1 - min(0, (X1l + X1u)*growth*X1atm)*MX1\n"
     ]
    }
   ],
   "source": [
    "BremerKessel1990DE=differential_evolution(obj_funDEB, [#(0.05, 1), #yA\n",
    "                                              (10, 1000), #Km\n",
    "                                              (0.001, 20), #v\n",
    "                                              (1e-12, 0.1), #m\n",
    "                                              (0.1, 3), #g\n",
    "                                              (0.1, 10), #ce\n",
    "                                              (0, 1)]) #nX1\n",
    "                                              #(0, 1) #ne\n",
    "                                              #(0, 1)]) #eu_i"
   ]
  },
  {
   "cell_type": "code",
   "execution_count": 25,
   "metadata": {},
   "outputs": [
    {
     "name": "stdout",
     "output_type": "stream",
     "text": [
      "     fun: 0.6358660961541327\n",
      "     jac: array([ 4.87165823e-05,  1.80566658e-04,  2.10865514e-01, -8.68189254e-01,\n",
      "       -4.16000570e-05,  6.25941166e-01])\n",
      " message: 'Optimization terminated successfully.'\n",
      "    nfev: 2991\n",
      "     nit: 32\n",
      " success: True\n",
      "       x: array([12.39269189, 13.17945761,  0.02080506,  0.26765075,  2.91908378,\n",
      "        0.44830432])\n",
      "[ 0.99826767 -0.01992182 12.03984364]\n"
     ]
    }
   ],
   "source": [
    "print(BremerKessel1990DE)\n",
    "print(goodnessDEB(BremerKessel1990DE.x))"
   ]
  },
  {
   "cell_type": "code",
   "execution_count": 26,
   "metadata": {},
   "outputs": [],
   "source": [
    "np.savetxt('/mnt/580CBE2464C5F83D/pracovni/data_statistika/SoilMBVariability/PythonScripts/BremerLCPars.csv', BremerKessel1990DE.x.reshape(1,6), delimiter=\",\")"
   ]
  },
  {
   "cell_type": "code",
   "execution_count": 27,
   "metadata": {},
   "outputs": [],
   "source": [
    "#initial conditions\n",
    "Sl_i = d.Sinit[0]\n",
    "X1u_i = d.Cmicinit[0]/(BremerKessel1990DE.x[4]*(BremerKessel1990DE.x[5]/4))\n",
    "    \n",
    "y0 = np.array([Sl_i, 0, 0, 0,X1u_i])\n",
    "\n",
    "#times\n",
    "t = np.arange(0, 7.1, 0.1)\n",
    "#model simulations\n",
    "LCPred = predDEB(DEBmodel, BremerKessel1990DE.x, t, y0)"
   ]
  },
  {
   "cell_type": "markdown",
   "metadata": {},
   "source": [
    "Merging and exporting solutions"
   ]
  },
  {
   "cell_type": "code",
   "execution_count": 28,
   "metadata": {},
   "outputs": [
    {
     "name": "stdout",
     "output_type": "stream",
     "text": [
      "[[ 2.49791840e+00  0.00000000e+00  4.48304324e-01  0.00000000e+00]\n",
      " [ 3.55467704e-05  1.66862733e-01  4.64127870e-01  1.56650055e+00]\n",
      " [ 7.33341892e-10  2.63362044e-01  4.52631132e-01  2.02989612e+00]\n",
      " [-4.99079984e-11  3.32187464e-01  4.49469234e-01  2.11094654e+00]\n",
      " [-4.16981961e-12  3.75801921e-01  4.48616635e-01  2.10746145e+00]\n",
      " [ 1.60317435e-09  3.90976899e-01  4.48387959e-01  2.10302522e+00]\n",
      " [ 1.25429512e-10  3.98232761e-01  4.48326714e-01  2.09863939e+00]\n",
      " [ 1.61432309e-09  4.03365230e-01  4.48310318e-01  2.09427368e+00]\n",
      " [-1.73435695e-10  4.07923759e-01  4.48305928e-01  2.08991999e+00]\n",
      " [-1.48264589e-10  4.12322318e-01  4.48304754e-01  2.08557613e+00]\n",
      " [-4.06437666e-11  4.16671543e-01  4.48304439e-01  2.08124152e+00]\n",
      " [ 9.27934997e-11  4.21001001e-01  4.48304355e-01  2.07691596e+00]\n",
      " [-5.10445345e-11  4.25318606e-01  4.48304332e-01  2.07259941e+00]\n",
      " [-8.87344314e-11  4.29626451e-01  4.48304326e-01  2.06829184e+00]\n",
      " [ 3.07374554e-11  4.33925151e-01  4.48304325e-01  2.06399322e+00]\n",
      " [-1.56371132e-11  4.38214867e-01  4.48304324e-01  2.05970353e+00]\n",
      " [ 1.53694771e-11  4.42495626e-01  4.48304324e-01  2.05542276e+00]\n",
      " [-3.76861408e-11  4.46767505e-01  4.48304324e-01  2.05115089e+00]\n",
      " [-2.07405402e-10  4.51030540e-01  4.48304323e-01  2.04688789e+00]\n",
      " [ 2.31372475e-10  4.55284649e-01  4.48304324e-01  2.04263376e+00]\n",
      " [ 2.79824460e-10  4.59529915e-01  4.48304324e-01  2.03838846e+00]\n",
      " [-6.91590507e-11  4.63766412e-01  4.48304324e-01  2.03415199e+00]\n",
      " [ 8.14208306e-11  4.67994079e-01  4.48304324e-01  2.02992433e+00]\n",
      " [-3.75734146e-11  4.72212953e-01  4.48304324e-01  2.02570545e+00]\n",
      " [ 4.97320502e-11  4.76423073e-01  4.48304324e-01  2.02149534e+00]\n",
      " [ 1.01143637e-10  4.80624436e-01  4.48304324e-01  2.01729398e+00]\n",
      " [-1.03838332e-10  4.84817058e-01  4.48304324e-01  2.01310135e+00]\n",
      " [ 8.92634948e-11  4.89000971e-01  4.48304324e-01  2.00891743e+00]\n",
      " [ 2.75848981e-10  4.93176193e-01  4.48304324e-01  2.00474221e+00]\n",
      " [-2.71477457e-10  4.97342738e-01  4.48304324e-01  2.00057567e+00]\n",
      " [-4.29309014e-10  5.01500621e-01  4.48304324e-01  1.99641779e+00]\n",
      " [ 2.40554408e-11  5.05649860e-01  4.48304324e-01  1.99226855e+00]\n",
      " [ 9.32204048e-11  5.09790476e-01  4.48304324e-01  1.98812793e+00]\n",
      " [-4.51977053e-11  5.13922488e-01  4.48304324e-01  1.98399592e+00]\n",
      " [-2.27595251e-10  5.18045914e-01  4.48304324e-01  1.97987249e+00]\n",
      " [-2.78282048e-10  5.22160768e-01  4.48304324e-01  1.97575764e+00]\n",
      " [-7.70956410e-11  5.26267070e-01  4.48304324e-01  1.97165134e+00]\n",
      " [-5.22554714e-11  5.30364838e-01  4.48304324e-01  1.96755357e+00]\n",
      " [ 3.25778140e-12  5.34454088e-01  4.48304324e-01  1.96346432e+00]\n",
      " [ 1.29814722e-11  5.38534840e-01  4.48304324e-01  1.95938357e+00]\n",
      " [ 6.54855490e-12  5.42607111e-01  4.48304324e-01  1.95531130e+00]\n",
      " [ 2.49655051e-12  5.46670918e-01  4.48304324e-01  1.95124749e+00]\n",
      " [-3.66824487e-12  5.50726279e-01  4.48304324e-01  1.94719213e+00]\n",
      " [-8.98597993e-12  5.54773211e-01  4.48304324e-01  1.94314519e+00]\n",
      " [-1.30226043e-11  5.58811732e-01  4.48304324e-01  1.93910667e+00]\n",
      " [-1.39915222e-11  5.62841860e-01  4.48304324e-01  1.93507655e+00]\n",
      " [-1.01061383e-11  5.66863613e-01  4.48304324e-01  1.93105479e+00]\n",
      " [-1.35756369e-12  5.70877007e-01  4.48304324e-01  1.92704140e+00]\n",
      " [-2.25280916e-12  5.74882058e-01  4.48304324e-01  1.92303635e+00]\n",
      " [-2.70730898e-12  5.78878786e-01  4.48304324e-01  1.91903962e+00]\n",
      " [-2.43957059e-12  5.82867208e-01  4.48304324e-01  1.91505120e+00]\n",
      " [-1.16810144e-12  5.86847340e-01  4.48304324e-01  1.91107107e+00]\n",
      " [ 1.38859105e-12  5.90819201e-01  4.48304324e-01  1.90709921e+00]\n",
      " [ 2.59925648e-12  5.94782806e-01  4.48304324e-01  1.90313560e+00]\n",
      " [ 2.84836178e-12  5.98738173e-01  4.48304324e-01  1.89918023e+00]\n",
      " [ 2.84914477e-12  6.02685319e-01  4.48304324e-01  1.89523309e+00]\n",
      " [ 2.54904483e-12  6.06624262e-01  4.48304324e-01  1.89129415e+00]\n",
      " [ 1.89550134e-12  6.10555020e-01  4.48304324e-01  1.88736339e+00]\n",
      " [ 1.51680527e-12  6.14477606e-01  4.48304324e-01  1.88344080e+00]\n",
      " [ 9.15832531e-13  6.18392041e-01  4.48304324e-01  1.87952637e+00]\n",
      " [ 4.42461540e-13  6.22298340e-01  4.48304324e-01  1.87562007e+00]\n",
      " [ 7.10493109e-14  6.26196520e-01  4.48304324e-01  1.87172189e+00]\n",
      " [-2.09646123e-13  6.30086599e-01  4.48304324e-01  1.86783181e+00]\n",
      " [-3.96465709e-13  6.33968594e-01  4.48304324e-01  1.86394981e+00]\n",
      " [-8.27570687e-13  6.37842519e-01  4.48304324e-01  1.86007589e+00]\n",
      " [-1.25536698e-12  6.41708392e-01  4.48304324e-01  1.85621002e+00]\n",
      " [-1.65469227e-12  6.45566230e-01  4.48304324e-01  1.85235218e+00]\n",
      " [-1.98913105e-12  6.49416052e-01  4.48304324e-01  1.84850236e+00]\n",
      " [-2.20935065e-12  6.53257872e-01  4.48304324e-01  1.84466054e+00]\n",
      " [-2.25310124e-12  6.57091707e-01  4.48304324e-01  1.84082670e+00]\n",
      " [-2.04521581e-12  6.60917576e-01  4.48304324e-01  1.83700083e+00]\n",
      " [ 2.49791840e+01  0.00000000e+00  3.41735325e-01  0.00000000e+00]\n",
      " [ 1.91572394e+01  5.56873513e-01  4.05477004e-01  1.62369428e+00]\n",
      " [ 1.43870964e+01  1.51226287e+00  4.14318099e-01  4.87078970e+00]\n",
      " [ 1.05246160e+01  2.53297651e+00  4.06762149e-01  8.19875064e+00]\n",
      " [ 7.50600931e+00  3.48353589e+00  3.94554560e-01  1.10266646e+01]\n",
      " [ 5.23757326e+00  4.30780264e+00  3.82216679e-01  1.32082977e+01]\n",
      " [ 3.59195458e+00  4.99334388e+00  3.71528227e-01  1.47838414e+01]\n",
      " [ 2.43186962e+00  5.55174807e+00  3.63012759e-01  1.58610799e+01]\n",
      " [ 1.63163862e+00  6.00512554e+00  3.56592754e-01  1.65581447e+01]\n",
      " [ 1.08818947e+00  6.37749640e+00  3.51938194e-01  1.69787902e+01]\n",
      " [ 7.23057871e-01  6.69027730e+00  3.48657659e-01  1.72048931e+01]\n",
      " [ 4.79449122e-01  6.96062987e+00  3.46392147e-01  1.72971230e+01]\n",
      " [ 3.17622296e-01  7.20142268e+00  3.44850065e-01  1.72986690e+01]\n",
      " [ 2.10387161e-01  7.40085688e+00  3.43810904e-01  1.72605776e+01]\n",
      " [ 1.39410997e-01  7.55361770e+00  3.43115382e-01  1.72149586e+01]\n",
      " [ 9.24480145e-02  7.67513764e+00  3.42651902e-01  1.71644511e+01]\n",
      " [ 6.13652164e-02  7.77582151e+00  3.42343872e-01  1.71107925e+01]\n",
      " [ 4.07790942e-02  7.86262437e+00  3.42139446e-01  1.70551256e+01]\n",
      " [ 2.71323123e-02  7.94017003e+00  3.42003852e-01  1.69982029e+01]\n",
      " [ 1.80758148e-02  8.01152231e+00  3.41913908e-01  1.69405197e+01]\n",
      " [ 1.20583700e-02  8.07870770e+00  3.41854215e-01  1.68824030e+01]\n",
      " [ 8.05507957e-03  8.14306562e+00  3.41814567e-01  1.68240681e+01]\n",
      " [ 5.38825580e-03  8.20548129e+00  3.41788207e-01  1.67656575e+01]\n",
      " [ 3.60933581e-03  8.26654014e+00  3.41770662e-01  1.67072653e+01]\n",
      " [ 2.42107812e-03  8.32662965e+00  3.41758969e-01  1.66489536e+01]\n",
      " [ 1.62627288e-03  8.38600661e+00  3.41751167e-01  1.65907635e+01]\n",
      " [ 1.09390722e-03  8.44484149e+00  3.41745954e-01  1.65327220e+01]\n",
      " [ 7.36832903e-04  8.50324764e+00  3.41742467e-01  1.64748470e+01]\n",
      " [ 4.97004233e-04  8.56130062e+00  3.41740130e-01  1.64171500e+01]\n",
      " [ 3.35697952e-04  8.61905096e+00  3.41738562e-01  1.63596387e+01]\n",
      " [ 2.27056651e-04  8.67653253e+00  3.41737509e-01  1.63023178e+01]\n",
      " [ 1.53784996e-04  8.73376817e+00  3.41736800e-01  1.62451903e+01]\n",
      " [ 1.04302940e-04  8.79077339e+00  3.41736323e-01  1.61882579e+01]\n",
      " [ 7.08363305e-05  8.84755876e+00  3.41736001e-01  1.61315218e+01]\n",
      " [ 4.81733253e-05  8.90413163e+00  3.41735784e-01  1.60749821e+01]\n",
      " [ 3.28054329e-05  8.96049712e+00  3.41735636e-01  1.60186392e+01]\n",
      " [ 2.23700330e-05  9.01665891e+00  3.41735537e-01  1.59624926e+01]\n",
      " [ 1.52751742e-05  9.07261972e+00  3.41735469e-01  1.59065422e+01]\n",
      " [ 1.04437041e-05  9.12838157e+00  3.41735423e-01  1.58507874e+01]\n",
      " [ 7.15006234e-06  9.18394608e+00  3.41735392e-01  1.57952276e+01]\n",
      " [ 4.90170389e-06  9.23931453e+00  3.41735371e-01  1.57398624e+01]\n",
      " [ 3.36470057e-06  9.29448804e+00  3.41735356e-01  1.56846912e+01]\n",
      " [ 2.31295283e-06  9.34946755e+00  3.41735346e-01  1.56297132e+01]\n",
      " [ 1.59164768e-06  9.40425395e+00  3.41735340e-01  1.55749278e+01]\n",
      " [ 1.09605136e-06  9.45884804e+00  3.41735335e-01  1.55203344e+01]\n",
      " [ 7.56310332e-07  9.51325057e+00  3.41735332e-01  1.54659324e+01]\n",
      " [ 5.23127145e-07  9.56746228e+00  3.41735330e-01  1.54117210e+01]\n",
      " [ 3.62096699e-07  9.62148388e+00  3.41735328e-01  1.53576997e+01]\n",
      " [ 2.51056582e-07  9.67531606e+00  3.41735327e-01  1.53038676e+01]\n",
      " [ 1.74638506e-07  9.72895950e+00  3.41735326e-01  1.52502243e+01]\n",
      " [ 1.21924997e-07  9.78241489e+00  3.41735326e-01  1.51967690e+01]\n",
      " [ 8.45559930e-08  9.83568288e+00  3.41735326e-01  1.51435010e+01]\n",
      " [ 5.75998461e-08  9.88876435e+00  3.41735325e-01  1.50904196e+01]\n",
      " [ 4.04300582e-08  9.94165936e+00  3.41735325e-01  1.50375246e+01]\n",
      " [ 2.79769110e-08  9.99436919e+00  3.41735325e-01  1.49848148e+01]\n",
      " [ 1.95021831e-08  1.00468942e+01  3.41735325e-01  1.49322898e+01]\n",
      " [ 1.36369966e-08  1.00992352e+01  3.41735325e-01  1.48799488e+01]\n",
      " [ 9.75603832e-09  1.01513926e+01  3.41735325e-01  1.48277915e+01]\n",
      " [ 7.25644045e-09  1.02033671e+01  3.41735324e-01  1.47758170e+01]\n",
      " [ 5.26766143e-09  1.02551595e+01  3.41735323e-01  1.47240246e+01]\n",
      " [ 3.43694392e-09  1.03067704e+01  3.41735323e-01  1.46724138e+01]\n",
      " [ 2.45085419e-09  1.03582003e+01  3.41735324e-01  1.46209838e+01]\n",
      " [ 1.73032315e-09  1.04094500e+01  3.41735325e-01  1.45697341e+01]\n",
      " [ 1.21864369e-09  1.04605200e+01  3.41735325e-01  1.45186640e+01]\n",
      " [ 8.60394698e-10  1.05114111e+01  3.41735325e-01  1.44677729e+01]\n",
      " [ 6.11827481e-10  1.05621237e+01  3.41735325e-01  1.44170603e+01]\n",
      " [ 4.38497892e-10  1.06126586e+01  3.41735325e-01  1.43665254e+01]\n",
      " [ 3.10825569e-10  1.06630164e+01  3.41735324e-01  1.43161677e+01]\n",
      " [ 2.17216748e-10  1.07131977e+01  3.41735324e-01  1.42659864e+01]\n",
      " [ 1.48426118e-10  1.07632030e+01  3.41735324e-01  1.42159811e+01]\n",
      " [ 1.01621012e-10  1.08130331e+01  3.41735324e-01  1.41661510e+01]\n",
      " [ 2.49791840e+01  0.00000000e+00  3.58466896e-01  0.00000000e+00]\n",
      " [ 1.78044910e+01  4.25558412e-01  4.51961106e-01  1.22545471e+00]\n",
      " [ 1.23126268e+01  1.22683145e+00  4.77392071e-01  4.07166896e+00]\n",
      " [ 8.20256432e+00  2.16034119e+00  4.76122793e-01  7.34452154e+00]\n",
      " [ 5.25980610e+00  3.09783727e+00  4.62692984e-01  1.03408257e+01]\n",
      " [ 3.25676067e+00  3.96084838e+00  4.44368882e-01  1.27557946e+01]\n",
      " [ 1.95784946e+00  4.70718811e+00  4.25436904e-01  1.45401825e+01]\n",
      " [ 1.15000798e+00  5.32414691e+00  4.08366795e-01  1.57741515e+01]\n",
      " [ 6.64033657e-01  5.81979300e+00  3.94294861e-01  1.65801492e+01]\n",
      " [ 3.78877842e-01  6.21335680e+00  3.83430453e-01  1.70760194e+01]\n",
      " [ 2.14485403e-01  6.52734503e+00  3.75448000e-01  1.73570096e+01]\n",
      " [ 1.20835637e-01  6.78265687e+00  3.69800404e-01  1.74933989e+01]\n",
      " [ 6.78919134e-02  6.99642410e+00  3.65918290e-01  1.75343744e+01]\n",
      " [ 3.80979724e-02  7.18162981e+00  3.63308006e-01  1.75132661e+01]\n",
      " [ 2.13732771e-02  7.33767719e+00  3.61582454e-01  1.74621715e+01]\n",
      " [ 1.19951060e-02  7.45466531e+00  3.60456718e-01  1.74119279e+01]\n",
      " [ 6.73722306e-03  7.54559376e+00  3.59729878e-01  1.73631816e+01]\n",
      " [ 3.78805550e-03  7.61974046e+00  3.59264450e-01  1.73155582e+01]\n",
      " [ 2.13247209e-03  7.68315070e+00  3.58968399e-01  1.72687559e+01]\n",
      " [ 1.20206247e-03  7.73972000e+00  3.58781111e-01  1.72225496e+01]\n",
      " [ 6.78539828e-04  7.79193697e+00  3.58663166e-01  1.71767801e+01]\n",
      " [ 3.83570376e-04  7.84138060e+00  3.58589172e-01  1.71313379e+01]\n",
      " [ 2.17143069e-04  7.88904717e+00  3.58542901e-01  1.70861493e+01]\n",
      " [ 1.23106767e-04  7.93556249e+00  3.58514046e-01  1.70411656e+01]\n",
      " [ 6.98987335e-05  7.98131816e+00  3.58496095e-01  1.69963551e+01]\n",
      " [ 3.97457149e-05  8.02655856e+00  3.58484950e-01  1.69516972e+01]\n",
      " [ 2.26344155e-05  8.07143571e+00  3.58478044e-01  1.69071785e+01]\n",
      " [ 1.29077533e-05  8.11604411e+00  3.58473772e-01  1.68627905e+01]\n",
      " [ 7.37196665e-06  8.16044232e+00  3.58471132e-01  1.68185276e+01]\n",
      " [ 4.21634373e-06  8.20466668e+00  3.58469503e-01  1.67743862e+01]\n",
      " [ 2.41521612e-06  8.24873972e+00  3.58468499e-01  1.67303641e+01]\n",
      " [ 1.38458298e-06  8.29267545e+00  3.58467881e-01  1.66864596e+01]\n",
      " [ 7.95741776e-07  8.33648257e+00  3.58467501e-01  1.66426715e+01]\n",
      " [ 4.57936637e-07  8.38016657e+00  3.58467267e-01  1.65989992e+01]\n",
      " [ 2.63967284e-07  8.42373095e+00  3.58467123e-01  1.65554420e+01]\n",
      " [ 1.52690605e-07  8.46717795e+00  3.58467035e-01  1.65119993e+01]\n",
      " [ 8.83054554e-08  8.51050907e+00  3.58466981e-01  1.64686709e+01]\n",
      " [ 5.11947503e-08  8.55372534e+00  3.58466948e-01  1.64254562e+01]\n",
      " [ 2.98561450e-08  8.59682751e+00  3.58466928e-01  1.63823550e+01]\n",
      " [ 1.74610332e-08  8.63981615e+00  3.58466916e-01  1.63393670e+01]\n",
      " [ 1.00027690e-08  8.68269173e+00  3.58466908e-01  1.62964918e+01]\n",
      " [ 5.53103696e-09  8.72545467e+00  3.58466903e-01  1.62537291e+01]\n",
      " [ 3.15677249e-09  8.76810526e+00  3.58466900e-01  1.62110786e+01]\n",
      " [ 1.78989959e-09  8.81064392e+00  3.58466899e-01  1.61685401e+01]\n",
      " [ 1.07623036e-09  8.85307092e+00  3.58466898e-01  1.61261131e+01]\n",
      " [ 6.85299719e-10  8.89538656e+00  3.58466897e-01  1.60837975e+01]\n",
      " [ 4.47660148e-10  8.93759112e+00  3.58466897e-01  1.60415930e+01]\n",
      " [ 2.95245710e-10  8.97968485e+00  3.58466896e-01  1.59994992e+01]\n",
      " [ 4.55525813e-11  9.02166814e+00  3.58466896e-01  1.59575160e+01]\n",
      " [-4.64047736e-10  9.06354132e+00  3.58466896e-01  1.59156428e+01]\n",
      " [-1.16763069e-09  9.10530465e+00  3.58466895e-01  1.58738795e+01]\n",
      " [-2.05993956e-09  9.14695839e+00  3.58466894e-01  1.58322258e+01]\n",
      " [-3.13700768e-09  9.18850285e+00  3.58466893e-01  1.57906814e+01]\n",
      " [-2.39870982e-09  9.22993821e+00  3.58466894e-01  1.57492460e+01]\n",
      " [-1.22750655e-09  9.27126483e+00  3.58466895e-01  1.57079193e+01]\n",
      " [-8.02919401e-10  9.31248303e+00  3.58466895e-01  1.56667011e+01]\n",
      " [-4.69795136e-10  9.35359311e+00  3.58466895e-01  1.56255910e+01]\n",
      " [-2.42564654e-10  9.39459532e+00  3.58466896e-01  1.55845888e+01]\n",
      " [-1.38599310e-10  9.43548993e+00  3.58466896e-01  1.55436942e+01]\n",
      " [-9.12427799e-11  9.47627724e+00  3.58466896e-01  1.55029069e+01]\n",
      " [-8.01576210e-11  9.51695743e+00  3.58466896e-01  1.54622267e+01]\n",
      " [-4.24270784e-11  9.55753086e+00  3.58466896e-01  1.54216533e+01]\n",
      " [ 8.64042000e-11  9.59799783e+00  3.58466896e-01  1.53811863e+01]\n",
      " [ 3.66632334e-10  9.63835866e+00  3.58466896e-01  1.53408254e+01]\n",
      " [ 8.03738097e-10  9.67861360e+00  3.58466896e-01  1.53005705e+01]\n",
      " [ 1.41846348e-09  9.71876290e+00  3.58466897e-01  1.52604212e+01]\n",
      " [ 2.24365660e-09  9.75880683e+00  3.58466897e-01  1.52203772e+01]\n",
      " [ 3.24348156e-09  9.79874569e+00  3.58466898e-01  1.51804383e+01]\n",
      " [ 2.66241791e-09  9.83857980e+00  3.58466898e-01  1.51406042e+01]\n",
      " [ 1.30425151e-09  9.87830940e+00  3.58466897e-01  1.51008747e+01]\n",
      " [ 7.03353073e-10  9.91793475e+00  3.58466896e-01  1.50612493e+01]]\n"
     ]
    }
   ],
   "source": [
    "BremerKessel1990Pred = np.concatenate((LCPred, HCPred, HCHNPred))\n",
    "print(BremerKessel1990Pred)\n",
    "np.savetxt('/mnt/580CBE2464C5F83D/pracovni/data_statistika/SoilMBVariability/PythonScripts/BremerKessel1990Pred.csv', BremerKessel1990Pred, delimiter=\",\")"
   ]
  }
 ],
 "metadata": {
  "kernelspec": {
   "display_name": "Python 3",
   "language": "python",
   "name": "python3"
  },
  "language_info": {
   "codemirror_mode": {
    "name": "ipython",
    "version": 3
   },
   "file_extension": ".py",
   "mimetype": "text/x-python",
   "name": "python",
   "nbconvert_exporter": "python",
   "pygments_lexer": "ipython3",
   "version": "3.8.10"
  }
 },
 "nbformat": 4,
 "nbformat_minor": 4
}
