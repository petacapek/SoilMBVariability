{
 "cells": [
  {
   "cell_type": "markdown",
   "metadata": {},
   "source": [
    "# Predicting CUE variability over time using DEB model\n",
    "1. Importing libraries"
   ]
  },
  {
   "cell_type": "code",
   "execution_count": 1,
   "metadata": {},
   "outputs": [],
   "source": [
    "import numpy as np\n",
    "import pandas as pd\n",
    "from scipy.integrate import odeint\n",
    "from scipy.optimize import dual_annealing\n",
    "from scipy.optimize import differential_evolution"
   ]
  },
  {
   "cell_type": "markdown",
   "metadata": {},
   "source": [
    "2. Defining DEB model"
   ]
  },
  {
   "cell_type": "code",
   "execution_count": 2,
   "metadata": {},
   "outputs": [],
   "source": [
    "def DEBmodel (y, t, pars):\n",
    "    #define initial pools (u denotes unlabeled, l denotes )\n",
    "    Sl=y[0];    el=y[1];    X1l=y[2];     CO2l=y[3];\n",
    "    eu=y[4];    X1u=y[5]\n",
    "    #define parameters\n",
    "    yA=pars[0]; \n",
    "    Km=pars[1];     \n",
    "    v=pars[2];\n",
    "    m=pars[3]; \n",
    "    g=pars[4]; \n",
    "    ce=pars[5];\n",
    "    MX1=ce/4;\n",
    "    #Scaling function for substrate uptake\n",
    "    f=Sl/(Km+Sl) #labelled substrate only\n",
    "    \n",
    "    #Isotope signals\n",
    "    eatm = 1\n",
    "    X1atm = X1l/(X1l + X1u)\n",
    "    \n",
    "    #Fluxes\n",
    "    uptake=(v*ce/yA)*(X1l+X1u)*f #labelled substrate only\n",
    "    growth = (v*el-m*g)/(el + g)\n",
    "    \n",
    "    #Define derivatives\n",
    "    ##Labelled pools\n",
    "    dSldt = -uptake\n",
    "    deldt = v*(f - el)\n",
    "    dX1ldt = max(0, (X1l + X1u)*growth) + min(0, (X1l + X1u)*growth*X1atm) \n",
    "    dCO2ldt = uptake*(1 - yA) + ce*((X1l + X1u)*el*(v-growth)) - max(0, (X1l + X1u)*growth)*MX1 - min(0, (X1l + X1u)*growth*X1atm)*MX1 \n",
    "    ##Unabelled pools\n",
    "    #dSudt\n",
    "    #deudt = - v*eu\n",
    "    dX1udt = min(0, (X1l + X1u)*growth*(1-X1atm)) \n",
    "        \n",
    "    return dSldt, deldt, dX1ldt, dCO2ldt, dX1udt;"
   ]
  },
  {
   "cell_type": "markdown",
   "metadata": {},
   "source": [
    "3. Defining outputs from DEB model"
   ]
  },
  {
   "cell_type": "code",
   "execution_count": 3,
   "metadata": {},
   "outputs": [],
   "source": [
    "def calcDEB (model, pars, t, y0):\n",
    "    #model parameters\n",
    "    ##yA, Km, v, m, g, ce\n",
    "    pars_model=pars[0:6]\n",
    "    #conversion factors\n",
    "    ##ce, nX1\n",
    "    conversions=pars[5:8]\n",
    "    \n",
    "    #solve the model\n",
    "    y=odeint(model,y0,t, args=(pars_model,))\n",
    "    #calculate labelled biomass (Bl), kec factor, and labelled chloroform flush (Flush14C) \n",
    "    Bl=((conversions[0]/4 + conversions[0]*y[:, 1])*y[:, 2])\n",
    "    kec = (conversions[1]/4 + conversions[2]*y[:, 1])/(0.25 + y[:, 1])\n",
    "    Flush14C = Bl*kec\n",
    "        \n",
    "    #Create data with predictions\n",
    "    yhat = np.concatenate((y[:, 0].reshape(len(d.Time),1), #Glucose\n",
    "                           y[:, 3].reshape(len(d.Time),1),#CO2\n",
    "                           kec.reshape(len(d.Time),1),\n",
    "                           Flush14C.reshape(len(d.Time),1)), axis=1)\n",
    "    \n",
    "    return yhat"
   ]
  },
  {
   "cell_type": "markdown",
   "metadata": {},
   "source": [
    "4. Defining objective function"
   ]
  },
  {
   "cell_type": "code",
   "execution_count": 4,
   "metadata": {},
   "outputs": [],
   "source": [
    "def obj_funDEB (x):\n",
    "    #define parameters\n",
    "    ##yA, Km, v, m, g, ce, nX1, ne\n",
    "    pars = x\n",
    "    #initial conditions\n",
    "    Sl_i = d.Sinit[0]\n",
    "    # el_i = 0, Xl_i = 0, CO2l = 0, CO2u = 0, eu = 0  \n",
    "    X1u_i = d.Cmicinit[0]/(pars[5]*(pars[6]/4))\n",
    "    \n",
    "    y0 = np.array([Sl_i, 0, 0, 0,X1u_i])\n",
    "    #times\n",
    "    t = d.Time\n",
    "    #model simulations\n",
    "    yhat_full = calcDEB(DEBmodel, pars, t, y0)\n",
    "    #observations\n",
    "    obs=np.concatenate((np.array([d.S]).reshape(len(d.Time),1),\n",
    "                        np.array([d.CO214cumul]).reshape(len(d.Time),1),\n",
    "                        np.array([d.kec]).reshape(len(d.Time),1),\n",
    "                        np.array([d.Cmic14]).reshape(len(d.Time),1)), axis=1)\n",
    "    #weights\n",
    "    weights=np.concatenate((np.nanmean(d.S).repeat(len(d.Time)).reshape(len(d.Time),1),\n",
    "                            np.nanmean(d.CO214cumul).repeat(len(d.Time)).reshape(len(d.Time),1),\n",
    "                            np.nanmean(d.kec/5).repeat(len(d.Time)).reshape(len(d.Time),1),\n",
    "                            np.nanmean((d.Cmic14)).repeat(len(d.Time)).reshape(len(d.Time),1)),\n",
    "                       axis=1)\n",
    "    out=np.nansum(((yhat_full-obs)/weights)**2)\n",
    "    return out"
   ]
  },
  {
   "cell_type": "markdown",
   "metadata": {},
   "source": [
    "5. Calculate the goodness of fit"
   ]
  },
  {
   "cell_type": "code",
   "execution_count": 5,
   "metadata": {},
   "outputs": [],
   "source": [
    "def goodnessDEB (x):\n",
    "    #define parameters\n",
    "    ##Km, v, m, g, ce, nX1, ne\n",
    "    pars = x\n",
    "    #initial conditions\n",
    "    Sl_i = d.Sinit[0]\n",
    "    # el_i = 0, Xl_i = 0, CO2l = 0, CO2u = 0, eu = 0  \n",
    "    X1u_i = d.Cmicinit[0]/(pars[5]*(pars[6]/4))\n",
    "    \n",
    "    y0 = np.array([Sl_i, 0, 0, 0,X1u_i])\n",
    "    #times\n",
    "    t = d.Time\n",
    "    #model simulations\n",
    "    yhat_full = calcDEB(DEBmodel, pars, t, y0)\n",
    "    \n",
    "    #observations\n",
    "    obs=np.concatenate((np.array([d.S]).reshape(len(d.Time),1),\n",
    "                        np.array([d.CO214cumul]).reshape(len(d.Time),1),\n",
    "                        np.array([d.kec]).reshape(len(d.Time),1),\n",
    "                        np.array([d.Cmic14]).reshape(len(d.Time),1)), axis=1)\n",
    "    \n",
    "    R2=1-np.nansum((obs-yhat_full)**2)/np.nansum((obs-np.nanmean(obs))**2)\n",
    "    ll=-np.nansum((obs-yhat_full)**2)/2/np.nanstd(obs)**2\n",
    "    AIC = len(pars)*2 - 2*ll\n",
    "    out = np.array([R2, ll, AIC])\n",
    "    return out"
   ]
  },
  {
   "cell_type": "markdown",
   "metadata": {},
   "source": [
    "Following function return the model solution for visualization in R"
   ]
  },
  {
   "cell_type": "code",
   "execution_count": 6,
   "metadata": {},
   "outputs": [],
   "source": [
    "def predDEB (model, pars, t, y0):\n",
    "    #model parameters\n",
    "    ##yA, Km, v, m, g, ce\n",
    "    pars_model=pars[0:6]\n",
    "    #conversion factors\n",
    "    ##ce, nX1\n",
    "    conversions=pars[5:8]\n",
    "    \n",
    "    #solve the model\n",
    "    y=odeint(model,y0,t, args=(pars_model,))\n",
    "    #calculate labelled biomass (Bl), kec factor, and labelled chloroform flush (Flush14C) \n",
    "    Bl=((conversions[0]/4 + conversions[0]*y[:, 1])*y[:, 2])\n",
    "    kec = (conversions[1]/4 + conversions[2]*y[:, 1])/(0.25 + y[:, 1])\n",
    "    Flush14C = Bl*kec\n",
    "    \n",
    "    #Create data with predictions\n",
    "    yhat = np.concatenate((y[:, 0].reshape(61,1), #Glucose\n",
    "                           y[:, 3].reshape(61,1),#CO2\n",
    "                           kec.reshape(61,1),\n",
    "                           Flush14C.reshape(61,1)), axis=1)\n",
    "    \n",
    "    return yhat"
   ]
  },
  {
   "cell_type": "markdown",
   "metadata": {},
   "source": [
    "Reading data"
   ]
  },
  {
   "cell_type": "code",
   "execution_count": 7,
   "metadata": {},
   "outputs": [
    {
     "name": "stdout",
     "output_type": "stream",
     "text": [
      "                      Study        Soil Substrate  Clay    pH  Ctot  Ntot  \\\n",
      "0  Santruckova et al., 2004  sandy loam   Glucose    20  5.47  1.37  0.15   \n",
      "1  Santruckova et al., 2004  sandy loam   Glucose    20  5.47  1.37  0.15   \n",
      "2  Santruckova et al., 2004  sandy loam   Glucose    20  5.47  1.37  0.15   \n",
      "3  Santruckova et al., 2004  sandy loam   Glucose    20  5.47  1.37  0.15   \n",
      "4  Santruckova et al., 2004  sandy loam   Glucose    20  5.47  1.37  0.15   \n",
      "5  Santruckova et al., 2004  sandy loam   Glucose    20  5.47  1.37  0.15   \n",
      "\n",
      "       Time  Cmicinit      Sinit     Cmic12    Cmic14     CO214  CO214cumul  \\\n",
      "0  0.000000  7.694132  26.376234   7.694132  0.000000  0.000000    0.000000   \n",
      "1  0.333333  7.694132  26.376234   8.904390  3.680103  5.101495    1.700498   \n",
      "2  0.666667  7.694132  26.376234  10.150397  4.562771  5.468979    3.523491   \n",
      "3  1.000000  7.694132  26.376234  11.714008  4.819833  5.624263    5.398246   \n",
      "4  2.000000  7.694132  26.376234  10.586995  4.428162  1.129519    6.527764   \n",
      "5  3.000000  7.694132  26.376234  10.566435  4.144564  0.439491    6.967255   \n",
      "\n",
      "           S   kec Treatment  \n",
      "0  26.376234   NaN     OX-OX  \n",
      "1  15.759969   NaN     OX-OX  \n",
      "2   5.939155  0.32     OX-OX  \n",
      "3   0.000000  0.26     OX-OX  \n",
      "4   0.000000  0.23     OX-OX  \n",
      "5   0.000000  0.22     OX-OX  \n"
     ]
    }
   ],
   "source": [
    "d = pd.read_csv('/mnt/580CBE2464C5F83D/pracovni/data_statistika/SoilMBVariability/SoilMBVariabilityData/Santruckova2004.csv', sep=',')\n",
    "print(d)"
   ]
  },
  {
   "cell_type": "markdown",
   "metadata": {},
   "source": [
    "Estimating parameters"
   ]
  },
  {
   "cell_type": "code",
   "execution_count": 8,
   "metadata": {},
   "outputs": [],
   "source": [
    "Santruckova2004DA=dual_annealing(obj_funDEB, [(0.05, 1), #yA\n",
    "                                              (10, 1000), #Km\n",
    "                                              (0.001, 20), #v\n",
    "                                              (1e-12, 0.1), #m\n",
    "                                              (0.1, 3), #g\n",
    "                                              (0.1, 10), #ce\n",
    "                                              (0, 1), #nX1\n",
    "                                              (0, 1)]) #ne\n",
    "                                              #(0, 1)]) #eu_i"
   ]
  },
  {
   "cell_type": "code",
   "execution_count": 9,
   "metadata": {},
   "outputs": [
    {
     "name": "stdout",
     "output_type": "stream",
     "text": [
      "     fun: 0.5136165157638093\n",
      " message: ['Maximum number of iteration reached']\n",
      "    nfev: 20708\n",
      "    nhev: 0\n",
      "     nit: 1000\n",
      "    njev: 523\n",
      "  status: 0\n",
      " success: True\n",
      "       x: array([1.00000000e+00, 2.77003432e+02, 4.56650617e+00, 1.32241343e-02,\n",
      "       3.14383257e-01, 1.80567708e+00, 2.26544752e-01, 1.00000000e+00])\n",
      "[ 0.97892925 -0.23177826 16.46355652]\n"
     ]
    }
   ],
   "source": [
    "print(Santruckova2004DA)\n",
    "print(goodnessDEB(Santruckova2004DA.x))"
   ]
  },
  {
   "cell_type": "code",
   "execution_count": 10,
   "metadata": {},
   "outputs": [],
   "source": [
    "Santruckova2004DE=differential_evolution(obj_funDEB, [(0.05, 1), #yA\n",
    "                                              (10, 1000), #Km\n",
    "                                              (0.001, 20), #v\n",
    "                                              (1e-12, 0.1), #m\n",
    "                                              (0.1, 3), #g\n",
    "                                              (0.1, 10), #ce\n",
    "                                              (0, 1), #nX1\n",
    "                                              (0, 1)]) #ne\n",
    "                                              #(0, 1)]) #eu_i"
   ]
  },
  {
   "cell_type": "code",
   "execution_count": 11,
   "metadata": {},
   "outputs": [
    {
     "name": "stdout",
     "output_type": "stream",
     "text": [
      "     fun: 0.5136435009381198\n",
      "     jac: array([-3.48122485e-01, -5.72874626e-05, -8.86624113e-05, -1.22946098e-04,\n",
      "       -6.39155396e-05,  4.80726573e-06, -1.48236978e-04, -7.32921409e-01])\n",
      " message: 'Optimization terminated successfully.'\n",
      "    nfev: 10464\n",
      "     nit: 85\n",
      " success: True\n",
      "       x: array([1.00000000e+00, 2.75871601e+02, 4.55532555e+00, 1.31927269e-02,\n",
      "       3.14421507e-01, 2.11635901e+00, 2.26471309e-01, 1.00000000e+00])\n",
      "[ 0.97881517 -0.23303315 16.46606629]\n"
     ]
    }
   ],
   "source": [
    "print(Santruckova2004DE)\n",
    "print(goodnessDEB(Santruckova2004DE.x))"
   ]
  },
  {
   "cell_type": "code",
   "execution_count": 14,
   "metadata": {},
   "outputs": [],
   "source": [
    "np.savetxt('/mnt/580CBE2464C5F83D/pracovni/data_statistika/SoilMBVariability/PythonScripts/Santruckova2004Pars.csv', Santruckova2004DA.x.reshape(1,8), delimiter=\",\")"
   ]
  },
  {
   "cell_type": "markdown",
   "metadata": {},
   "source": [
    "Exporting solution for R"
   ]
  },
  {
   "cell_type": "code",
   "execution_count": 15,
   "metadata": {},
   "outputs": [
    {
     "name": "stdout",
     "output_type": "stream",
     "text": [
      "[[2.63762341e+01 0.00000000e+00 2.26544752e-01 0.00000000e+00]\n",
      " [2.37976767e+01 7.69718734e-02 2.75543974e-01 5.63501417e-02]\n",
      " [2.14290725e+01 2.39158254e-01 3.06503966e-01 2.42804932e-01]\n",
      " [1.92430450e+01 4.59230783e-01 3.25942353e-01 5.42955290e-01]\n",
      " [1.72228801e+01 7.19510552e-01 3.37596391e-01 9.25032674e-01]\n",
      " [1.53579522e+01 1.00741206e+00 3.43778971e-01 1.35567877e+00]\n",
      " [1.36410056e+01 1.31341396e+00 3.46012263e-01 1.80539092e+00]\n",
      " [1.20664560e+01 1.62998133e+00 3.45350900e-01 2.25039923e+00]\n",
      " [1.06293120e+01 1.95097246e+00 3.42558249e-01 2.67293640e+00]\n",
      " [9.32450363e+00 2.27130518e+00 3.38207614e-01 3.06078258e+00]\n",
      " [8.14649869e+00 2.58676564e+00 3.32742686e-01 3.40650160e+00]\n",
      " [7.08912608e+00 2.89389481e+00 3.26514739e-01 3.70657442e+00]\n",
      " [6.14555025e+00 3.18991534e+00 3.19806080e-01 3.96053598e+00]\n",
      " [5.30834962e+00 3.47267646e+00 3.12845185e-01 4.17017347e+00]\n",
      " [4.56966134e+00 3.74060439e+00 3.05816757e-01 4.33881758e+00]\n",
      " [3.92136021e+00 3.99265123e+00 2.98868715e-01 4.47074297e+00]\n",
      " [3.35524681e+00 4.22823967e+00 2.92117357e-01 4.57068342e+00]\n",
      " [2.86322563e+00 4.44720327e+00 2.85651492e-01 4.64345884e+00]\n",
      " [2.43746062e+00 4.64972378e+00 2.79535993e-01 4.69370534e+00]\n",
      " [2.07050080e+00 4.83626762e+00 2.73815038e-01 4.72569538e+00]\n",
      " [1.75537335e+00 5.00752393e+00 2.68515168e-01 4.74323259e+00]\n",
      " [1.48564485e+00 5.16434647e+00 2.63648184e-01 4.74960530e+00]\n",
      " [1.25545387e+00 5.30770098e+00 2.59213871e-01 4.74758358e+00]\n",
      " [1.05951937e+00 5.43861923e+00 2.55202531e-01 4.73944605e+00]\n",
      " [8.93129837e-01 5.55816029e+00 2.51597265e-01 4.72702530e+00]\n",
      " [7.52118158e-01 5.66737915e+00 2.48375993e-01 4.71176285e+00]\n",
      " [6.32826656e-01 5.76730229e+00 2.45513186e-01 4.69476711e+00]\n",
      " [5.32066135e-01 5.85890959e+00 2.42981316e-01 4.67686982e+00]\n",
      " [4.47072005e-01 5.94312182e+00 2.40752025e-01 4.65867803e+00]\n",
      " [3.75459858e-01 6.02079277e+00 2.38797051e-01 4.64062020e+00]\n",
      " [3.15182212e-01 6.09270522e+00 2.37088914e-01 4.62298560e+00]\n",
      " [2.64487587e-01 6.15956990e+00 2.35601424e-01 4.60595743e+00]\n",
      " [2.21882626e-01 6.22202667e+00 2.34310008e-01 4.58963962e+00]\n",
      " [1.86097661e-01 6.28064741e+00 2.33191917e-01 4.57407847e+00]\n",
      " [1.56055823e-01 6.33593991e+00 2.32226324e-01 4.55927948e+00]\n",
      " [1.30845667e-01 6.38835254e+00 2.31394343e-01 4.54522043e+00]\n",
      " [1.09697127e-01 6.43827923e+00 2.30678983e-01 4.53186116e+00]\n",
      " [9.19605739e-02 6.48606450e+00 2.30065071e-01 4.51915091e+00]\n",
      " [7.70886733e-02 6.53200855e+00 2.29539136e-01 4.50703361e+00]\n",
      " [6.46207967e-02 6.57573152e+00 2.29089290e-01 4.49559882e+00]\n",
      " [5.41695635e-02 6.61506441e+00 2.28705082e-01 4.48533807e+00]\n",
      " [4.54095775e-02 6.65039438e+00 2.28377372e-01 4.47614952e+00]\n",
      " [3.80675406e-02 6.68231049e+00 2.28098192e-01 4.46788405e+00]\n",
      " [3.19141191e-02 6.71131866e+00 2.27860621e-01 4.46041164e+00]\n",
      " [2.67569286e-02 6.73785253e+00 2.27658666e-01 4.45361929e+00]\n",
      " [2.24346307e-02 6.76228314e+00 2.27487147e-01 4.44740914e+00]\n",
      " [1.88119271e-02 6.78492747e+00 2.27341603e-01 4.44169666e+00]\n",
      " [1.57755220e-02 6.80605576e+00 2.27218198e-01 4.43640902e+00]\n",
      " [1.32303520e-02 6.82589832e+00 2.27113642e-01 4.43148362e+00]\n",
      " [1.10968283e-02 6.84465104e+00 2.27025114e-01 4.42686676e+00]\n",
      " [9.30823994e-03 6.86248038e+00 2.26950203e-01 4.42251244e+00]\n",
      " [7.80870424e-03 6.87952769e+00 2.26886852e-01 4.41838136e+00]\n",
      " [6.55140247e-03 6.89591283e+00 2.26833303e-01 4.41443996e+00]\n",
      " [5.49710976e-03 6.91173738e+00 2.26788063e-01 4.41065965e+00]\n",
      " [4.61296675e-03 6.92708738e+00 2.26749858e-01 4.40701606e+00]\n",
      " [3.87144108e-03 6.94203561e+00 2.26717609e-01 4.40348850e+00]\n",
      " [3.24946598e-03 6.95664363e+00 2.26690396e-01 4.40005938e+00]\n",
      " [2.72771413e-03 6.97096347e+00 2.26667441e-01 4.39671377e+00]\n",
      " [2.28999018e-03 6.98503909e+00 2.26648084e-01 4.39343901e+00]\n",
      " [1.92272261e-03 6.99890760e+00 2.26631766e-01 4.39022438e+00]\n",
      " [1.61453730e-03 7.01260030e+00 2.26618013e-01 4.38706081e+00]]\n"
     ]
    }
   ],
   "source": [
    "#initial conditions\n",
    "Sl_i = d.Sinit[0]\n",
    "X1u_i = d.Cmicinit[0]/(Santruckova2004DA.x[5]*(Santruckova2004DA.x[6]/4))\n",
    "    \n",
    "y0 = np.array([Sl_i, 0, 0, 0,X1u_i])\n",
    "\n",
    "#times\n",
    "t = np.arange(0, 3.05, 0.05)\n",
    "#model simulations\n",
    "Santruckova2004Pred = predDEB(DEBmodel, Santruckova2004DA.x, t, y0)\n",
    "np.savetxt('/mnt/580CBE2464C5F83D/pracovni/data_statistika/SoilMBVariability/PythonScripts/Santruckova2004Pred.csv', Santruckova2004Pred, delimiter=\",\")\n",
    "print(Santruckova2004Pred)"
   ]
  },
  {
   "cell_type": "code",
   "execution_count": null,
   "metadata": {},
   "outputs": [],
   "source": []
  }
 ],
 "metadata": {
  "kernelspec": {
   "display_name": "Python 3",
   "language": "python",
   "name": "python3"
  },
  "language_info": {
   "codemirror_mode": {
    "name": "ipython",
    "version": 3
   },
   "file_extension": ".py",
   "mimetype": "text/x-python",
   "name": "python",
   "nbconvert_exporter": "python",
   "pygments_lexer": "ipython3",
   "version": "3.8.10"
  }
 },
 "nbformat": 4,
 "nbformat_minor": 4
}
