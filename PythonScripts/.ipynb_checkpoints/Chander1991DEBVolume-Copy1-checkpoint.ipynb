{
 "cells": [
  {
   "cell_type": "markdown",
   "metadata": {},
   "source": [
    "# Chander and Brookes (1991)"
   ]
  },
  {
   "cell_type": "markdown",
   "metadata": {},
   "source": [
    "## DEB model calibration"
   ]
  },
  {
   "cell_type": "markdown",
   "metadata": {},
   "source": [
    "### Importing functions"
   ]
  },
  {
   "cell_type": "code",
   "execution_count": 3,
   "metadata": {},
   "outputs": [],
   "source": [
    "import numpy as np\n",
    "import pandas as pd\n",
    "from scipy.integrate import odeint\n",
    "from scipy.optimize import dual_annealing\n",
    "from scipy.optimize import differential_evolution"
   ]
  },
  {
   "cell_type": "markdown",
   "metadata": {},
   "source": [
    "### This is the DEB model"
   ]
  },
  {
   "cell_type": "code",
   "execution_count": 9,
   "metadata": {},
   "outputs": [],
   "source": [
    "def DEBmodel (y, t, pars):\n",
    "    #define initial pools (eu is assumed to be zero)\n",
    "    S=y[0];    e=y[1];    X1=y[2];     CO2=y[3];\n",
    "    \n",
    "    #define parameters\n",
    "    yA=pars[0]; \n",
    "    Km=pars[1];     \n",
    "    v=pars[2];\n",
    "    m=pars[3]; \n",
    "    g=pars[4]; \n",
    "    #k=pars[4];\n",
    "    ce=pars[5];\n",
    "    MX1=ce/4;\n",
    "    \n",
    "    #Scaling function for substrate uptake\n",
    "    f=S/(Km+S)\n",
    "    #Fluxes\n",
    "    uptake=(v*ce/yA)*X1*f\n",
    "    growth = (v*e-m*g)/(e + g)\n",
    "    \n",
    "    #Define derivatives\n",
    "    dSdt = -uptake\n",
    "    dedt = v*(f - e)\n",
    "    dX1dt = growth*X1 #- k*X1\n",
    "    dCO2dt = uptake*(1 - yA) + ce*(X1*e*(v-growth)) - growth*X1*MX1 \n",
    "           \n",
    "    return dSdt, dedt, dX1dt, dCO2dt;"
   ]
  },
  {
   "cell_type": "markdown",
   "metadata": {},
   "source": [
    "### The function below uses the output from DEBmodel to convert biomass pools $e$ and $X_{1}$ to microbial biomass ($B$) and measured biomass proxy-parameters ATP and Flush (after chloroform fumigation) "
   ]
  },
  {
   "cell_type": "code",
   "execution_count": 10,
   "metadata": {},
   "outputs": [],
   "source": [
    "def calcDEB (model, pars, t, y0):\n",
    "    #model parameters\n",
    "    ##yA, Km, v, m, g, ce\n",
    "    pars_model=pars[0:6]\n",
    "    #conversion factors\n",
    "    ##ce, nX1, ne\n",
    "    conversions=pars[5:8]\n",
    "\n",
    "    #solve the model\n",
    "    y=odeint(model,y0,t, args=(pars_model,))\n",
    "\n",
    "    #calculate biomass (B), total DNA, and flush (Flush)\n",
    "    B=(conversions[0]/4 + conversions[0]*y[:, 1])*y[:, 2]\n",
    "    Flush = (conversions[1]/4 + y[:, 1])/(0.25 + y[:, 1])*B\n",
    "    ATP =  (conversions[2]*y[:, 1]/(0.25 + y[:, 1]))*B\n",
    "    \n",
    "    #Create data with predictions\n",
    "    yhat = np.concatenate((#y[:, 0].reshape(len(d.Time),1),#glucose\n",
    "                           y[:, 3].reshape(len(d.Time),1),#CO2\n",
    "                           Flush.reshape(len(d.Time),1),\n",
    "                           ATP.reshape(len(d.Time),1)), axis=1)\n",
    "\n",
    "    return yhat"
   ]
  },
  {
   "cell_type": "markdown",
   "metadata": {},
   "source": [
    "### Objective function is defined"
   ]
  },
  {
   "cell_type": "code",
   "execution_count": 25,
   "metadata": {},
   "outputs": [],
   "source": [
    "def obj_funDEB (x):\n",
    "    #define parameters\n",
    "    ##yA, Km, v, m, g, ce, nX1, ne\n",
    "    pars = x\n",
    "\n",
    "    #initial conditions\n",
    "    S_i = d.Sinit[0]\n",
    "    e_i = 0.25*pars[6]/(pars[7]*d.Cmicinit[0]/d.ATPinit[0] - 1)\n",
    "    X1_i = d.ATPinit[0]/(pars[7]*e_i*pars[5])\n",
    "    \n",
    "    y0 = np.array([S_i, e_i, X1_i, 0])\n",
    "\n",
    "    #times\n",
    "    t = d.Time\n",
    "\n",
    "    #model simulations\n",
    "    yhat_full = calcDEB(DEBmodel, pars, t, y0)\n",
    "\n",
    "    #observations\n",
    "    obs=np.concatenate((#np.array([d.S]).reshape(len(d.Time),1),\n",
    "                        np.array([d.CO2cumul]).reshape(len(d.Time),1),\n",
    "                        np.array([d.Cmic12 + d.Cmic14]).reshape(len(d.Time),1),\n",
    "                        #np.array([d.Cmic14]).reshape(len(d.Time),1),\n",
    "                        np.array([d.ATP]).reshape(len(d.Time),1)),\n",
    "                     axis=1)\n",
    "\n",
    "    #weights\n",
    "    weights=np.concatenate((#np.nanstd(d.S).repeat(len(d.Time)).reshape(len(d.Time),1),\n",
    "                            np.nanmean(d.CO2cumul).repeat(len(d.Time)).reshape(len(d.Time),1),\n",
    "                            np.nanmean((d.Cmic12 + d.Cmic14)/5).repeat(len(d.Time)).reshape(len(d.Time),1),\n",
    "                            #np.nanmean(d.Cmic14).repeat(len(d.Time)).reshape(len(d.Time),1),\n",
    "                            np.nanmean(d.ATP).repeat(len(d.Time)).reshape(len(d.Time),1)),\n",
    "                       axis=1)\n",
    "\n",
    "\n",
    "    out=np.nansum(((yhat_full-obs)/weights)**2)\n",
    "\n",
    "    return out"
   ]
  },
  {
   "cell_type": "markdown",
   "metadata": {},
   "source": [
    "### Goodness of fit is calculated"
   ]
  },
  {
   "cell_type": "code",
   "execution_count": 19,
   "metadata": {},
   "outputs": [],
   "source": [
    "def goodnessDEB (x):\n",
    "    #define parameters\n",
    "    ##yA, Km, v, m, g, ce, nX1, ne\n",
    "    pars = x\n",
    "\n",
    "    #initial conditions\n",
    "    S_i = d.Sinit[0]\n",
    "    e_i = 0.25*pars[6]/(pars[7]*d.Cmicinit[0]/d.ATPinit[0] - 1)\n",
    "    X1_i = d.ATPinit[0]/(pars[7]*e_i*pars[5])\n",
    "    \n",
    "    y0 = np.array([S_i, e_i, X1_i, 0])\n",
    "\n",
    "    #times\n",
    "    t = d.Time\n",
    "\n",
    "    #model simulations\n",
    "    yhat_full = calcDEB(DEBmodel, pars, t, y0)\n",
    "    \n",
    "    #Standardize the simulations\n",
    "    ##means\n",
    "    Smeans=np.concatenate((np.nanmean(yhat_full[:, 0]).repeat(len(d.Time)).reshape(len(d.Time),1),\n",
    "                            np.nanmean(yhat_full[:, 1]).repeat(len(d.Time)).reshape(len(d.Time),1),\n",
    "                            np.nanmean((yhat_full[:, 2])).repeat(len(d.Time)).reshape(len(d.Time),1)),\n",
    "                            #np.nanmean(d.Cmic14).repeat(len(d.Time)).reshape(len(d.Time),1),\n",
    "                            #np.nanmean(yhat_full[:, 3]).repeat(len(d.Time)).reshape(len(d.Time),1)),\n",
    "                       axis=1)\n",
    "    ##std\n",
    "    Sstd=np.concatenate((np.nanstd(yhat_full[:, 0]).repeat(len(d.Time)).reshape(len(d.Time),1),\n",
    "                            np.nanstd(yhat_full[:, 1]).repeat(len(d.Time)).reshape(len(d.Time),1),\n",
    "                            np.nanstd((yhat_full[:, 2])).repeat(len(d.Time)).reshape(len(d.Time),1)),\n",
    "                            #np.nanmean(d.Cmic14).repeat(len(d.Time)).reshape(len(d.Time),1),\n",
    "                            #np.nanstd(yhat_full[:, 3]).repeat(len(d.Time)).reshape(len(d.Time),1)),\n",
    "                       axis=1)\n",
    "    \n",
    "\n",
    "    #observations\n",
    "    obs=np.concatenate((#np.array([d.S]).reshape(len(d.Time),1),\n",
    "                        np.array([d.CO2cumul]).reshape(len(d.Time),1),\n",
    "                        np.array([d.Cmic12 + d.Cmic14]).reshape(len(d.Time),1),\n",
    "                        #np.array([d.Cmic14]).reshape(len(d.Time),1),\n",
    "                        np.array([d.ATP]).reshape(len(d.Time),1)),\n",
    "                     axis=1)\n",
    "    #Standardize the observations\n",
    "    ##means\n",
    "    Omeans=np.concatenate((#np.nanmean(d.S).repeat(len(d.Time)).reshape(len(d.Time),1),\n",
    "                            np.nanmean(d.CO2cumul).repeat(len(d.Time)).reshape(len(d.Time),1),\n",
    "                            np.nanmean((d.Cmic12 + d.Cmic14)).repeat(len(d.Time)).reshape(len(d.Time),1),\n",
    "                            #np.nanmean(d.Cmic14).repeat(len(d.Time)).reshape(len(d.Time),1),\n",
    "                            np.nanmean(d.ATP).repeat(len(d.Time)).reshape(len(d.Time),1)),\n",
    "                       axis=1)\n",
    "    ##std\n",
    "    Ostd=np.concatenate((#np.nanstd(d.S).repeat(len(d.Time)).reshape(len(d.Time),1),\n",
    "                            np.nanstd(d.CO2cumul).repeat(len(d.Time)).reshape(len(d.Time),1),\n",
    "                            np.nanstd((d.Cmic12 + d.Cmic14)).repeat(len(d.Time)).reshape(len(d.Time),1),\n",
    "                            #np.nanmean(d.Cmic14).repeat(len(d.Time)).reshape(len(d.Time),1),\n",
    "                            np.nanstd(d.ATP).repeat(len(d.Time)).reshape(len(d.Time),1)),\n",
    "                       axis=1)\n",
    "    \n",
    "    R2=1-np.nansum((obs-yhat_full)**2)/np.nansum((obs-np.nanmean(obs))**2)\n",
    "    ll=-np.nansum((obs-yhat_full)**2)/2/np.nanstd(obs)**2\n",
    "    AIC = len(pars)*2 - 2*ll\n",
    "    \n",
    "    #Normalized residual sum of squares \n",
    "    Fnorm = np.nansum((((obs-Omeans)/Ostd)-((yhat_full-Smeans)/Sstd))**2)\n",
    "    \n",
    "    out = np.array([R2, ll, AIC, Fnorm])\n",
    "\n",
    "    return out"
   ]
  },
  {
   "cell_type": "code",
   "execution_count": 13,
   "metadata": {},
   "outputs": [],
   "source": [
    "def predDEB (model, pars, t, y0):\n",
    "    #model parameters\n",
    "    ##yA, Km, v, m, g, ce\n",
    "    pars_model=pars[0:6]\n",
    "    #conversion factors\n",
    "    ##ce, nX1, ne\n",
    "    conversions=pars[5:8]\n",
    "\n",
    "    #solve the model\n",
    "    y=odeint(model,y0,t, args=(pars_model,))\n",
    "\n",
    "    #calculate biomass (B), total DNA, and flush (Flush)\n",
    "    B=(conversions[0]/4 + conversions[0]*y[:, 1])*y[:, 2]\n",
    "    Flush = (conversions[1]/4 + y[:, 1])/(0.25 + y[:, 1])*B\n",
    "    ATP =  (conversions[2]*y[:, 1]/(0.25 + y[:, 1]))*B\n",
    "    \n",
    "    #Create data with predictions\n",
    "    yhat = np.concatenate((#y[:, 0].reshape(len(np.arange(0, 9.05, 0.05)),1),#glucose\n",
    "                           y[:, 3].reshape(len(np.arange(0, 51, 1)),1),#CO2\n",
    "                           Flush.reshape(len(np.arange(0, 51, 1)),1),\n",
    "                           ATP.reshape(len(np.arange(0, 51, 1)),1)), axis=1)\n",
    "\n",
    "    return yhat"
   ]
  },
  {
   "cell_type": "code",
   "execution_count": 14,
   "metadata": {},
   "outputs": [
    {
     "name": "stdout",
     "output_type": "stream",
     "text": [
      "                       Study        Soil Substrate  Clay    pH  Ctot  Ntot  \\\n",
      "0  Chander and Brookes, 1991  Loamy sand   Glucose     9  7.06  1.25  0.13   \n",
      "1  Chander and Brookes, 1991  Loamy sand   Glucose     9  7.06  2.25  0.13   \n",
      "2  Chander and Brookes, 1991  Loamy sand   Glucose     9  7.06  1.25  0.13   \n",
      "3  Chander and Brookes, 1991  Loamy sand   Glucose     9  7.06  1.25  0.13   \n",
      "4  Chander and Brookes, 1991  Loamy sand   Glucose     9  7.06  1.25  0.13   \n",
      "5  Chander and Brookes, 1991  Loamy sand   Glucose     9  7.06  1.25  0.13   \n",
      "\n",
      "   Time  Cmicinit      Sinit    Cmic14   S    Cmic12   CO2cumul      ATP  \\\n",
      "0     0  6.600268  71.377587  0.000000 NaN  6.600268   0.000000  0.00224   \n",
      "1     2  6.600268  71.377587       NaN NaN       NaN  27.786275      NaN   \n",
      "2     5  6.600268  71.377587  5.808235 NaN  4.463038  33.054621      NaN   \n",
      "3    10  6.600268  71.377587  4.412750 NaN  5.141923  36.198634  0.00331   \n",
      "4    25  6.600268  71.377587  3.281276 NaN  5.569369  39.257673  0.00302   \n",
      "5    50  6.600268  71.377587  2.426384 NaN  5.544225  42.146766  0.00254   \n",
      "\n",
      "   ATPinit  \n",
      "0  0.00224  \n",
      "1  0.00224  \n",
      "2  0.00224  \n",
      "3  0.00224  \n",
      "4  0.00224  \n",
      "5  0.00224  \n"
     ]
    }
   ],
   "source": [
    "#reading the data\n",
    "d = pd.read_csv('/mnt/580CBE2464C5F83D/pracovni/data_statistika/SoilMBVariability/SoilMBVariabilityData/Chander1991.csv', sep=',')\n",
    "print(d)"
   ]
  },
  {
   "cell_type": "code",
   "execution_count": 38,
   "metadata": {},
   "outputs": [
    {
     "name": "stderr",
     "output_type": "stream",
     "text": [
      "<ipython-input-25-4b5965dbac4a>:9: RuntimeWarning: divide by zero encountered in double_scalars\n",
      "  X1_i = d.ATPinit[0]/(pars[7]*e_i*pars[5])\n",
      "<ipython-input-9-c52ab644af63>:25: RuntimeWarning: invalid value encountered in double_scalars\n",
      "  dCO2dt = uptake*(1 - yA) + ce*(X1*e*(v-growth)) - growth*X1*MX1\n",
      "<ipython-input-10-13ce693896be>:14: RuntimeWarning: invalid value encountered in multiply\n",
      "  Flush = (conversions[1]/4 + y[:, 1])/(0.25 + y[:, 1])*B\n",
      "<ipython-input-10-13ce693896be>:15: RuntimeWarning: invalid value encountered in multiply\n",
      "  ATP =  (conversions[2]*y[:, 1]/(0.25 + y[:, 1]))*B\n"
     ]
    }
   ],
   "source": [
    "chan_debpars=dual_annealing(obj_funDEB, [(0.05, 1), #yA\n",
    "                                             (10, 10000), #Km\n",
    "                                             (0.01, 20), #v\n",
    "                                             (1e-12, 0.1), #m\n",
    "                                             (0.1, 3), #g\n",
    "                                             #(1e-12, 0.1), #k\n",
    "                                             (0.1, 10), #ce\n",
    "                                             (0, 1), #nX1\n",
    "                                             (0, 0.01)]) #ne\n",
    "                                             #(0, 1)]) #iX1"
   ]
  },
  {
   "cell_type": "code",
   "execution_count": 39,
   "metadata": {},
   "outputs": [
    {
     "name": "stdout",
     "output_type": "stream",
     "text": [
      "     fun: 2.146057110741296\n",
      " message: ['Maximum number of iteration reached']\n",
      "    nfev: 53729\n",
      "    nhev: 0\n",
      "     nit: 1000\n",
      "    njev: 4192\n",
      "  status: 0\n",
      " success: True\n",
      "       x: array([2.09018961e-01, 4.08502423e+03, 8.07930512e-01, 2.32987528e-03,\n",
      "       1.00000000e-01, 3.44875590e+00, 7.62435999e-02, 1.00000000e-02])\n",
      "[ 0.98328252 -0.12538113 16.25076227  6.3035017 ]\n"
     ]
    }
   ],
   "source": [
    "print(chan_debpars)\n",
    "print(goodnessDEB(chan_debpars.x))"
   ]
  },
  {
   "cell_type": "code",
   "execution_count": 40,
   "metadata": {},
   "outputs": [],
   "source": [
    "chan_debparsDE=differential_evolution(obj_funDEB, [(0.05, 1), #yA\n",
    "                                             (10, 10000), #Km\n",
    "                                             (0.01, 20), #v\n",
    "                                             (1e-12, 0.1), #m\n",
    "                                             (0.1, 3), #g\n",
    "                                             #(1e-12, 0.1), #k\n",
    "                                             (0.1, 10), #ce\n",
    "                                             (0, 1), #nX1\n",
    "                                             (0, 0.01)]) #ne\n",
    "                                             #(0, 1)]) #iX1"
   ]
  },
  {
   "cell_type": "code",
   "execution_count": 41,
   "metadata": {},
   "outputs": [
    {
     "name": "stdout",
     "output_type": "stream",
     "text": [
      "     fun: 2.146076630037087\n",
      "     jac: array([ 4.11670698e-05, -1.21237636e-05, -2.43804975e-05, -2.62545541e-04,\n",
      "        1.60762159e+00, -8.88178425e-06,  1.10000897e-04, -2.59532222e+00])\n",
      " message: 'Optimization terminated successfully.'\n",
      "    nfev: 14049\n",
      "     nit: 113\n",
      " success: True\n",
      "       x: array([2.09080191e-01, 4.10002039e+03, 8.09344931e-01, 2.33022476e-03,\n",
      "       1.00000000e-01, 2.00444932e+00, 7.62210668e-02, 1.00000000e-02])\n",
      "[ 0.98315819 -0.12631355 16.25262711  6.30281891]\n"
     ]
    }
   ],
   "source": [
    "print(chan_debparsDE)\n",
    "print(goodnessDEB(chan_debparsDE.x))"
   ]
  },
  {
   "cell_type": "code",
   "execution_count": 42,
   "metadata": {},
   "outputs": [],
   "source": [
    "np.savetxt('/mnt/580CBE2464C5F83D/pracovni/data_statistika/SoilMBVariability/PythonScripts/Chander1999Pars.csv', chan_debparsDE.x.reshape(1,8), delimiter=\",\")"
   ]
  },
  {
   "cell_type": "markdown",
   "metadata": {},
   "source": [
    "## Solution over time for visualization in R"
   ]
  },
  {
   "cell_type": "code",
   "execution_count": 43,
   "metadata": {},
   "outputs": [],
   "source": [
    "#initial conditions\n",
    "S_i = d.Sinit[0]\n",
    "e_i = 0.25*chan_debparsDE.x[6]/(chan_debparsDE.x[7]*d.Cmicinit[0]/d.ATPinit[0] - 1)\n",
    "X1_i = d.ATPinit[0]/(chan_debparsDE.x[7]*e_i*chan_debparsDE.x[5])\n",
    "    \n",
    "y0 = np.array([S_i, e_i, X1_i, 0])\n",
    "\n",
    "#times\n",
    "t = np.arange(0, 51, 1)\n",
    "\n",
    "#model simulations\n",
    "Chander1991Pred = predDEB(DEBmodel, chan_debparsDE.x, t, y0)\n",
    "np.savetxt('/mnt/580CBE2464C5F83D/pracovni/data_statistika/SoilMBVariability/PythonScripts/Chander1991Pred.csv', Chander1991Pred, delimiter=\",\")"
   ]
  },
  {
   "cell_type": "markdown",
   "metadata": {},
   "source": [
    "# Monod and Pirt models are fitted for comparison to DEB"
   ]
  },
  {
   "cell_type": "markdown",
   "metadata": {},
   "source": [
    "## Monod model\n",
    "Model as well as supplementary functions are defined below"
   ]
  },
  {
   "cell_type": "code",
   "execution_count": 58,
   "metadata": {},
   "outputs": [],
   "source": [
    "def Mmodel (y, t, pars):\n",
    "    #define initial pools\n",
    "    S=y[0];    B=y[1];    CO2=y[2];\n",
    "    \n",
    "    #define parameters\n",
    "    v=pars[0]; \n",
    "    Km=pars[1];     \n",
    "    CUE=pars[2];\n",
    "    k=pars[3];\n",
    "        \n",
    "    #Fluxes\n",
    "    uptake = v*S*B/(S + Km)\n",
    "    growth = uptake*CUE\n",
    "    respiration = uptake*(1 - CUE)\n",
    "    death = B*k\n",
    "    \n",
    "    #Define derivatives\n",
    "    dSdt = -uptake\n",
    "    dBdt = growth - death\n",
    "    dCO2dt = respiration\n",
    "           \n",
    "    return dSdt, dBdt, dCO2dt;"
   ]
  },
  {
   "cell_type": "code",
   "execution_count": 59,
   "metadata": {},
   "outputs": [],
   "source": [
    "def calcM (model, pars, t, y0):\n",
    "    #model parameters\n",
    "    ##v, Km, CUE, k\n",
    "    pars_model=pars[0:4]\n",
    "    #conversion factors\n",
    "    ##kec, katp\n",
    "    conversions=pars[4:6]\n",
    "\n",
    "    #solve the model\n",
    "    y=odeint(model,y0,t, args=(pars_model,))\n",
    "\n",
    "    #calculate total DNA, and flush (Flush)\n",
    "    Flush = conversions[0]*y[:, 1]\n",
    "    ATP = conversions[1]*y[:, 1]\n",
    "    \n",
    "    #Create data with predictions\n",
    "    yhat = np.concatenate((#y[:, 0].reshape(len(d.Time),1),#glucose\n",
    "                           y[:, 2].reshape(len(d.Time),1),#CO2\n",
    "                           Flush.reshape(len(d.Time),1),\n",
    "                           ATP.reshape(len(d.Time),1)), axis=1)\n",
    "\n",
    "    return yhat"
   ]
  },
  {
   "cell_type": "code",
   "execution_count": 60,
   "metadata": {},
   "outputs": [],
   "source": [
    "def obj_funM (x):\n",
    "    #define parameters\n",
    "    ##v, Km, CUE, k, kec, katp\n",
    "    pars = x\n",
    "\n",
    "    #initial conditions\n",
    "    S_i = d.Sinit[0]\n",
    "    B_i = d.Cmicinit[0]/pars[4]\n",
    "    \n",
    "    y0 = np.array([S_i, B_i, 0])\n",
    "\n",
    "    #times\n",
    "    t = d.Time\n",
    "\n",
    "    #model simulations\n",
    "    yhat_full = calcM(Mmodel, pars, t, y0)\n",
    "\n",
    "    #observations\n",
    "    obs=np.concatenate((#np.array([d.S]).reshape(len(d.Time),1),\n",
    "                        np.array([d.CO2cumul]).reshape(len(d.Time),1),\n",
    "                        np.array([d.Cmic12 + d.Cmic14]).reshape(len(d.Time),1),\n",
    "                        #np.array([d.Cmic14]).reshape(len(d.Time),1),\n",
    "                        np.array([d.ATP]).reshape(len(d.Time),1)),\n",
    "                     axis=1)\n",
    "\n",
    "    #weights\n",
    "    weights=np.concatenate((#np.nanstd(d.S).repeat(len(d.Time)).reshape(len(d.Time),1),\n",
    "                            np.nanmean(d.CO2cumul).repeat(len(d.Time)).reshape(len(d.Time),1),\n",
    "                            np.nanmean((d.Cmic12 + d.Cmic14)/5).repeat(len(d.Time)).reshape(len(d.Time),1),\n",
    "                            #np.nanmean(d.Cmic14).repeat(len(d.Time)).reshape(len(d.Time),1),\n",
    "                            np.nanmean(d.ATP).repeat(len(d.Time)).reshape(len(d.Time),1)),\n",
    "                       axis=1)\n",
    "\n",
    "\n",
    "    out=np.nansum(((yhat_full-obs)/weights)**2)\n",
    "\n",
    "    return out"
   ]
  },
  {
   "cell_type": "code",
   "execution_count": 61,
   "metadata": {},
   "outputs": [],
   "source": [
    "def goodnessM (x):\n",
    "    #define parameters\n",
    "    ##v, Km, CUE, k, kec, katp\n",
    "    pars = x\n",
    "\n",
    "    #initial conditions\n",
    "    S_i = d.Sinit[0]\n",
    "    B_i = d.Cmicinit[0]/pars[4]\n",
    "    \n",
    "    y0 = np.array([S_i, B_i, 0])\n",
    "\n",
    "    #times\n",
    "    t = d.Time\n",
    "\n",
    "    #model simulations\n",
    "    yhat_full = calcM(Mmodel, pars, t, y0)\n",
    "\n",
    "    #Standardize the simulations\n",
    "    ##means\n",
    "    Smeans=np.concatenate((np.nanmean(yhat_full[:, 0]).repeat(len(d.Time)).reshape(len(d.Time),1),\n",
    "                            np.nanmean(yhat_full[:, 1]).repeat(len(d.Time)).reshape(len(d.Time),1),\n",
    "                            np.nanmean((yhat_full[:, 2])).repeat(len(d.Time)).reshape(len(d.Time),1)),\n",
    "                            #np.nanmean(d.Cmic14).repeat(len(d.Time)).reshape(len(d.Time),1),\n",
    "                            #np.nanmean(yhat_full[:, 3]).repeat(len(d.Time)).reshape(len(d.Time),1)),\n",
    "                       axis=1)\n",
    "    ##std\n",
    "    Sstd=np.concatenate((np.nanstd(yhat_full[:, 0]).repeat(len(d.Time)).reshape(len(d.Time),1),\n",
    "                            np.nanstd(yhat_full[:, 1]).repeat(len(d.Time)).reshape(len(d.Time),1),\n",
    "                            np.nanstd((yhat_full[:, 2])).repeat(len(d.Time)).reshape(len(d.Time),1)),\n",
    "                            #np.nanmean(d.Cmic14).repeat(len(d.Time)).reshape(len(d.Time),1),\n",
    "                            #np.nanstd(yhat_full[:, 3]).repeat(len(d.Time)).reshape(len(d.Time),1)),\n",
    "                       axis=1)\n",
    "    \n",
    "\n",
    "    #observations\n",
    "    obs=np.concatenate((#np.array([d.S]).reshape(len(d.Time),1),\n",
    "                        np.array([d.CO2cumul]).reshape(len(d.Time),1),\n",
    "                        np.array([d.Cmic12 + d.Cmic14]).reshape(len(d.Time),1),\n",
    "                        #np.array([d.Cmic14]).reshape(len(d.Time),1),\n",
    "                        np.array([d.ATP]).reshape(len(d.Time),1)),\n",
    "                     axis=1)\n",
    "    #Standardize the observations\n",
    "    ##means\n",
    "    Omeans=np.concatenate((#np.nanmean(d.S).repeat(len(d.Time)).reshape(len(d.Time),1),\n",
    "                            np.nanmean(d.CO2cumul).repeat(len(d.Time)).reshape(len(d.Time),1),\n",
    "                            np.nanmean((d.Cmic12 + d.Cmic14)).repeat(len(d.Time)).reshape(len(d.Time),1),\n",
    "                            #np.nanmean(d.Cmic14).repeat(len(d.Time)).reshape(len(d.Time),1),\n",
    "                            np.nanmean(d.ATP).repeat(len(d.Time)).reshape(len(d.Time),1)),\n",
    "                       axis=1)\n",
    "    ##std\n",
    "    Ostd=np.concatenate((#np.nanstd(d.S).repeat(len(d.Time)).reshape(len(d.Time),1),\n",
    "                            np.nanstd(d.CO2cumul).repeat(len(d.Time)).reshape(len(d.Time),1),\n",
    "                            np.nanstd((d.Cmic12 + d.Cmic14)).repeat(len(d.Time)).reshape(len(d.Time),1),\n",
    "                            #np.nanmean(d.Cmic14).repeat(len(d.Time)).reshape(len(d.Time),1),\n",
    "                            np.nanstd(d.ATP).repeat(len(d.Time)).reshape(len(d.Time),1)),\n",
    "                       axis=1)\n",
    "    \n",
    "    R2=1-np.nansum((obs-yhat_full)**2)/np.nansum((obs-np.nanmean(obs))**2)\n",
    "    ll=-np.nansum((obs-yhat_full)**2)/2/np.nanstd(obs)**2\n",
    "    AIC = len(pars)*2 - 2*ll\n",
    "    \n",
    "    #Normalized residual sum of squares \n",
    "    Fnorm = np.nansum((((obs-Omeans)/Ostd)-((yhat_full-Smeans)/Sstd))**2)\n",
    "    \n",
    "    out = np.array([R2, ll, AIC, Fnorm])\n",
    "\n",
    "    return out"
   ]
  },
  {
   "cell_type": "code",
   "execution_count": 62,
   "metadata": {},
   "outputs": [],
   "source": [
    "def predM (model, pars, t, y0):\n",
    "    #model parameters\n",
    "    ##v, Km, CUE, k\n",
    "    pars_model=pars[0:4]\n",
    "    #conversion factors\n",
    "    ##kec, katp\n",
    "    conversions=pars[4:6]\n",
    "\n",
    "    #solve the model\n",
    "    y=odeint(model,y0,t, args=(pars_model,))\n",
    "\n",
    "    #calculate total DNA, and flush (Flush)\n",
    "    Flush = conversions[0]*y[:, 1]\n",
    "    ATP = conversions[1]*y[:, 1]\n",
    "    \n",
    "    #Create data with predictions\n",
    "    yhat = np.concatenate((#y[:, 0].reshape(len(np.arange(0, 51, 1)),1),#glucose\n",
    "                           y[:, 2].reshape(len(np.arange(0, 51, 1)),1),#CO2\n",
    "                           Flush.reshape(len(np.arange(0, 51, 1)),1),\n",
    "                           ATP.reshape(len(np.arange(0, 51, 1)),1)), axis=1)\n",
    "\n",
    "    return yhat"
   ]
  },
  {
   "cell_type": "code",
   "execution_count": 63,
   "metadata": {},
   "outputs": [
    {
     "name": "stderr",
     "output_type": "stream",
     "text": [
      "<ipython-input-60-cdde40f76b01>:8: RuntimeWarning: divide by zero encountered in double_scalars\n",
      "  B_i = d.Cmicinit[0]/pars[4]\n",
      "<ipython-input-58-15e34bf3de91>:13: RuntimeWarning: invalid value encountered in double_scalars\n",
      "  growth = uptake*CUE\n",
      "<ipython-input-59-159fb370e410>:13: RuntimeWarning: invalid value encountered in multiply\n",
      "  Flush = conversions[0]*y[:, 1]\n",
      "<ipython-input-59-159fb370e410>:14: RuntimeWarning: invalid value encountered in multiply\n",
      "  ATP = conversions[1]*y[:, 1]\n",
      "<ipython-input-58-15e34bf3de91>:19: RuntimeWarning: invalid value encountered in double_scalars\n",
      "  dBdt = growth - death\n"
     ]
    }
   ],
   "source": [
    "chan_mpars=dual_annealing(obj_funM, [(0.001, 20), #v\n",
    "                                             (0.1, 10000), #Km                                             \n",
    "                                             (0, 1), #CUE\n",
    "                                             (1e-12, 0.1), #k\n",
    "                                             (0, 1), #kec\n",
    "                                             (0, 1)]) #katp\n",
    "                                             #(0, 1)]) #iX1"
   ]
  },
  {
   "cell_type": "code",
   "execution_count": 64,
   "metadata": {},
   "outputs": [
    {
     "name": "stdout",
     "output_type": "stream",
     "text": [
      "     fun: 0.10442712259979103\n",
      " message: ['Maximum number of iteration reached']\n",
      "    nfev: 34954\n",
      "    nhev: 0\n",
      "     nit: 1000\n",
      "    njev: 3279\n",
      "  status: 0\n",
      " success: True\n",
      "       x: array([1.38736487e+01, 1.41437602e+03, 4.72112461e-01, 5.51540410e-03,\n",
      "       1.10154955e-01, 3.68292502e-05])\n",
      "[ 0.98857646 -0.08567652 12.17135304  1.02186378]\n"
     ]
    }
   ],
   "source": [
    "print(chan_mpars)\n",
    "print(goodnessM(chan_mpars.x))"
   ]
  },
  {
   "cell_type": "code",
   "execution_count": 65,
   "metadata": {},
   "outputs": [],
   "source": [
    "#initial conditions\n",
    "S_i = d.Sinit[0]\n",
    "B_i = d.Cmicinit[0]/chan_mpars.x[4]\n",
    "    \n",
    "y0 = np.array([S_i, B_i, 0])\n",
    "\n",
    "#times\n",
    "t = np.arange(0, 51, 1)\n",
    "\n",
    "#model simulations\n",
    "Chander1991PredM = predM(Mmodel, chan_mpars.x, t, y0)\n",
    "np.savetxt('/mnt/580CBE2464C5F83D/pracovni/data_statistika/SoilMBVariability/PythonScripts/Chander1991PredM.csv', Chander1991PredM, delimiter=\",\")"
   ]
  },
  {
   "cell_type": "markdown",
   "metadata": {},
   "source": [
    "## Pirt model\n",
    "Model as well as supplementary functions are defined below"
   ]
  },
  {
   "cell_type": "code",
   "execution_count": 24,
   "metadata": {},
   "outputs": [],
   "source": [
    "def Pmodel (y, t, pars):\n",
    "    #define initial pools\n",
    "    S=y[0];    B=y[1];    CO2=y[2];\n",
    "    \n",
    "    #define parameters\n",
    "    v=pars[0]; \n",
    "    Km=pars[1];     \n",
    "    CUE=pars[2];\n",
    "    m = pars[3];\n",
    "    k = pars[4];\n",
    "        \n",
    "    #Fluxes\n",
    "    uptake = v*S*B/(S + Km)\n",
    "    growth = uptake*CUE\n",
    "    respiration = uptake*(1 - CUE) + B*m\n",
    "    death = B*k\n",
    "    \n",
    "    #Define derivatives\n",
    "    dSdt = -uptake\n",
    "    dBdt = growth - death\n",
    "    dCO2dt = respiration\n",
    "           \n",
    "    return dSdt, dBdt, dCO2dt;"
   ]
  },
  {
   "cell_type": "code",
   "execution_count": 25,
   "metadata": {},
   "outputs": [],
   "source": [
    "def calcP (model, pars, t, y0):\n",
    "    #model parameters\n",
    "    ##v, Km, CUE, m, k\n",
    "    pars_model=pars[0:5]\n",
    "    #conversion factors\n",
    "    ##kec, kdna\n",
    "    conversions=pars[5:7]\n",
    "\n",
    "    #solve the model\n",
    "    y=odeint(model,y0,t, args=(pars_model,))\n",
    "\n",
    "    #calculate total DNA, and flush (Flush)\n",
    "    Flush = conversions[0]*y[:, 1]\n",
    "    DNA = conversions[1]*y[:, 1]\n",
    "    \n",
    "    #Create data with predictions\n",
    "    yhat = np.concatenate((y[:, 0].reshape(len(d.Time),1),#glucose\n",
    "                           y[:, 2].reshape(len(d.Time),1),#CO2\n",
    "                           Flush.reshape(len(d.Time),1),\n",
    "                           DNA.reshape(len(d.Time),1)), axis=1)\n",
    "\n",
    "    return yhat"
   ]
  },
  {
   "cell_type": "code",
   "execution_count": 26,
   "metadata": {},
   "outputs": [],
   "source": [
    "def obj_funP (x):\n",
    "    #define parameters\n",
    "    ##v, Km, CUE, m, k, kec, kdna\n",
    "    pars = x\n",
    "\n",
    "    #initial conditions\n",
    "    S_i = d.Sinit[0]\n",
    "    B_i = d.Cmicinit[0]/pars[5]\n",
    "    \n",
    "    y0 = np.array([S_i, B_i, 0])\n",
    "\n",
    "    #times\n",
    "    t = d.Time\n",
    "\n",
    "    #model simulations\n",
    "    yhat_full = calcP(Pmodel, pars, t, y0)\n",
    "\n",
    "    #observations\n",
    "    obs=np.concatenate((np.array([d.S]).reshape(len(d.Time),1),\n",
    "                        np.array([d.CO212cumul]).reshape(len(d.Time),1),\n",
    "                        np.array([d.Cmic12 + d.Cmic14]).reshape(len(d.Time),1),\n",
    "                        #np.array([d.Cmic14]).reshape(len(d.Time),1),\n",
    "                        np.array([d.DNA]).reshape(len(d.Time),1)),\n",
    "                     axis=1)\n",
    "\n",
    "    #weights\n",
    "    weights=np.concatenate((np.nanstd(d.S).repeat(len(d.Time)).reshape(len(d.Time),1),\n",
    "                            np.nanstd(d.CO212cumul).repeat(len(d.Time)).reshape(len(d.Time),1),\n",
    "                            np.nanstd((d.Cmic12 + d.Cmic14)).repeat(len(d.Time)).reshape(len(d.Time),1),\n",
    "                            #np.nanmean(d.Cmic14).repeat(len(d.Time)).reshape(len(d.Time),1),\n",
    "                            np.nanstd(d.DNA).repeat(len(d.Time)).reshape(len(d.Time),1)),\n",
    "                       axis=1)\n",
    "\n",
    "\n",
    "    out=np.nansum(((yhat_full-obs)/weights)**2)\n",
    "\n",
    "    return out"
   ]
  },
  {
   "cell_type": "code",
   "execution_count": 27,
   "metadata": {},
   "outputs": [],
   "source": [
    "def goodnessP (x):\n",
    "    #define parameters\n",
    "    ##v, Km, CUE, k, kec, kdna\n",
    "    pars = x\n",
    "\n",
    "    #initial conditions\n",
    "    S_i = d.Sinit[0]\n",
    "    B_i = d.Cmicinit[0]/pars[5]\n",
    "    \n",
    "    y0 = np.array([S_i, B_i, 0])\n",
    "\n",
    "    #times\n",
    "    t = d.Time\n",
    "\n",
    "    #model simulations\n",
    "    yhat_full = calcP(Pmodel, pars, t, y0)\n",
    "\n",
    "    #Standardize the simulations\n",
    "    ##means\n",
    "    Smeans=np.concatenate((np.nanmean(yhat_full[:, 0]).repeat(len(d.Time)).reshape(len(d.Time),1),\n",
    "                            np.nanmean(yhat_full[:, 1]).repeat(len(d.Time)).reshape(len(d.Time),1),\n",
    "                            np.nanmean((yhat_full[:, 2])).repeat(len(d.Time)).reshape(len(d.Time),1),\n",
    "                            #np.nanmean(d.Cmic14).repeat(len(d.Time)).reshape(len(d.Time),1),\n",
    "                            np.nanmean(yhat_full[:, 3]).repeat(len(d.Time)).reshape(len(d.Time),1)),\n",
    "                       axis=1)\n",
    "    ##std\n",
    "    Sstd=np.concatenate((np.nanstd(yhat_full[:, 0]).repeat(len(d.Time)).reshape(len(d.Time),1),\n",
    "                            np.nanstd(yhat_full[:, 1]).repeat(len(d.Time)).reshape(len(d.Time),1),\n",
    "                            np.nanstd((yhat_full[:, 2])).repeat(len(d.Time)).reshape(len(d.Time),1),\n",
    "                            #np.nanmean(d.Cmic14).repeat(len(d.Time)).reshape(len(d.Time),1),\n",
    "                            np.nanstd(yhat_full[:, 3]).repeat(len(d.Time)).reshape(len(d.Time),1)),\n",
    "                       axis=1)\n",
    "    \n",
    "\n",
    "    #observations\n",
    "    obs=np.concatenate((np.array([d.S]).reshape(len(d.Time),1),\n",
    "                        np.array([d.CO212cumul]).reshape(len(d.Time),1),\n",
    "                        np.array([d.Cmic12 + d.Cmic14]).reshape(len(d.Time),1),\n",
    "                        #np.array([d.Cmic14]).reshape(len(d.Time),1),\n",
    "                        np.array([d.DNA]).reshape(len(d.Time),1)),\n",
    "                     axis=1)\n",
    "    #Standardize the observations\n",
    "    ##means\n",
    "    Omeans=np.concatenate((np.nanmean(d.S).repeat(len(d.Time)).reshape(len(d.Time),1),\n",
    "                            np.nanmean(d.CO212cumul).repeat(len(d.Time)).reshape(len(d.Time),1),\n",
    "                            np.nanmean((d.Cmic12 + d.Cmic14)).repeat(len(d.Time)).reshape(len(d.Time),1),\n",
    "                            #np.nanmean(d.Cmic14).repeat(len(d.Time)).reshape(len(d.Time),1),\n",
    "                            np.nanmean(d.DNA).repeat(len(d.Time)).reshape(len(d.Time),1)),\n",
    "                       axis=1)\n",
    "    ##std\n",
    "    Ostd=np.concatenate((np.nanstd(d.S).repeat(len(d.Time)).reshape(len(d.Time),1),\n",
    "                            np.nanstd(d.CO212cumul).repeat(len(d.Time)).reshape(len(d.Time),1),\n",
    "                            np.nanstd((d.Cmic12 + d.Cmic14)).repeat(len(d.Time)).reshape(len(d.Time),1),\n",
    "                            #np.nanmean(d.Cmic14).repeat(len(d.Time)).reshape(len(d.Time),1),\n",
    "                            np.nanstd(d.DNA).repeat(len(d.Time)).reshape(len(d.Time),1)),\n",
    "                       axis=1)\n",
    "    \n",
    "    R2=1-np.nansum((obs-yhat_full)**2)/np.nansum((obs-np.nanmean(obs))**2)\n",
    "    ll=-np.nansum((obs-yhat_full)**2)/2/np.nanstd(obs)**2\n",
    "    AIC = len(pars)*2 - 2*ll\n",
    "    \n",
    "    #Normalized residual sum of squares \n",
    "    Fnorm = np.nansum((((obs-Omeans)/Ostd)-((yhat_full-Smeans)/Sstd))**2)\n",
    "    \n",
    "    out = np.array([R2, ll, AIC, Fnorm])\n",
    "\n",
    "    return out"
   ]
  },
  {
   "cell_type": "code",
   "execution_count": 28,
   "metadata": {},
   "outputs": [],
   "source": [
    "def predP (model, pars, t, y0):\n",
    "    #model parameters\n",
    "    ##v, Km, CUE, m, k\n",
    "    pars_model=pars[0:5]\n",
    "    #conversion factors\n",
    "    ##kec, kdna\n",
    "    conversions=pars[5:7]\n",
    "\n",
    "    #solve the model\n",
    "    y=odeint(model,y0,t, args=(pars_model,))\n",
    "\n",
    "    #calculate total DNA, and flush (Flush)\n",
    "    Flush = conversions[0]*y[:, 1]\n",
    "    DNA = conversions[1]*y[:, 1]\n",
    "    \n",
    "    #Create data with predictions\n",
    "    yhat = np.concatenate((y[:, 0].reshape(len(np.arange(0, 9.05, 0.05)),1),#glucose\n",
    "                           y[:, 2].reshape(len(np.arange(0, 9.05, 0.05)),1),#CO2\n",
    "                           Flush.reshape(len(np.arange(0, 9.05, 0.05)),1),\n",
    "                           DNA.reshape(len(np.arange(0, 9.05, 0.05)),1)), axis=1)\n",
    "\n",
    "    return yhat"
   ]
  },
  {
   "cell_type": "code",
   "execution_count": 29,
   "metadata": {},
   "outputs": [
    {
     "name": "stderr",
     "output_type": "stream",
     "text": [
      "<ipython-input-26-34875188557e>:8: RuntimeWarning: divide by zero encountered in double_scalars\n",
      "  B_i = d.Cmicinit[0]/pars[5]\n",
      "<ipython-input-24-c3d2819ce9aa>:15: RuntimeWarning: invalid value encountered in double_scalars\n",
      "  respiration = uptake*(1 - CUE) + B*m\n",
      "<ipython-input-24-c3d2819ce9aa>:20: RuntimeWarning: invalid value encountered in double_scalars\n",
      "  dBdt = growth - death\n",
      "<ipython-input-25-96a642f02f6a>:13: RuntimeWarning: invalid value encountered in multiply\n",
      "  Flush = conversions[0]*y[:, 1]\n",
      "<ipython-input-25-96a642f02f6a>:14: RuntimeWarning: invalid value encountered in multiply\n",
      "  DNA = conversions[1]*y[:, 1]\n",
      "<ipython-input-24-c3d2819ce9aa>:14: RuntimeWarning: invalid value encountered in double_scalars\n",
      "  growth = uptake*CUE\n"
     ]
    }
   ],
   "source": [
    "marstorp_ppars=dual_annealing(obj_funP, [(0.001, 20), #v\n",
    "                                             (0.1, 10000), #Km                                             \n",
    "                                             (0, 1), #CUE\n",
    "                                             (1e-12, 0.1), #k\n",
    "                                             (1e-12, 0.1), #m\n",
    "                                             (0, 1), #kec\n",
    "                                             (0, 1)]) #kDNA\n",
    "                                             #(0, 1)]) #iX1"
   ]
  },
  {
   "cell_type": "code",
   "execution_count": 30,
   "metadata": {},
   "outputs": [
    {
     "name": "stdout",
     "output_type": "stream",
     "text": [
      "     fun: 27.499262104233654\n",
      " message: ['Maximum number of iteration reached']\n",
      "    nfev: 21289\n",
      "    nhev: 0\n",
      "     nit: 1000\n",
      "    njev: 911\n",
      "  status: 0\n",
      " success: True\n",
      "       x: array([1.99233080e+01, 6.59761169e+02, 8.82259408e-01, 9.67126018e-03,\n",
      "       3.81344518e-02, 1.71545372e-01, 2.52140101e-02])\n",
      "[ 0.91650572 -2.88055277 19.76110554 44.10809363]\n"
     ]
    }
   ],
   "source": [
    "print(marstorp_ppars)\n",
    "print(goodnessP(marstorp_ppars.x))"
   ]
  },
  {
   "cell_type": "code",
   "execution_count": 31,
   "metadata": {},
   "outputs": [],
   "source": [
    "#initial conditions\n",
    "S_i = d.Sinit[0]\n",
    "B_i = d.Cmicinit[0]/marstorp_ppars.x[5]\n",
    "    \n",
    "y0 = np.array([S_i, B_i, 0])\n",
    "\n",
    "#times\n",
    "t = np.arange(0, 9.05, 0.05)\n",
    "\n",
    "#model simulations\n",
    "Marstorp1999PredP = predP(Pmodel, marstorp_ppars.x, t, y0)\n",
    "np.savetxt('/mnt/580CBE2464C5F83D/pracovni/data_statistika/SoilMBVariability/PythonScripts/Marstorp1999PredP.csv', Marstorp1999PredP, delimiter=\",\")"
   ]
  },
  {
   "cell_type": "code",
   "execution_count": null,
   "metadata": {},
   "outputs": [],
   "source": []
  }
 ],
 "metadata": {
  "kernelspec": {
   "display_name": "Python 3",
   "language": "python",
   "name": "python3"
  },
  "language_info": {
   "codemirror_mode": {
    "name": "ipython",
    "version": 3
   },
   "file_extension": ".py",
   "mimetype": "text/x-python",
   "name": "python",
   "nbconvert_exporter": "python",
   "pygments_lexer": "ipython3",
   "version": "3.8.10"
  }
 },
 "nbformat": 4,
 "nbformat_minor": 2
}
