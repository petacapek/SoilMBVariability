{
 "cells": [
  {
   "cell_type": "markdown",
   "metadata": {},
   "source": [
    "# Testing the DEB model\n",
    "## Santruckova et al. (2004)\n",
    "1. Importing libraries"
   ]
  },
  {
   "cell_type": "code",
   "execution_count": 1,
   "metadata": {},
   "outputs": [],
   "source": [
    "import numpy as np\n",
    "import pandas as pd\n",
    "from scipy.integrate import odeint\n",
    "from scipy.optimize import dual_annealing\n",
    "from scipy.optimize import differential_evolution"
   ]
  },
  {
   "cell_type": "markdown",
   "metadata": {},
   "source": [
    "2. Defining DEB model"
   ]
  },
  {
   "cell_type": "code",
   "execution_count": 10,
   "metadata": {},
   "outputs": [],
   "source": [
    "def DEBmodel (y, t, pars):\n",
    "    #define initial pools (eu is assumed to be zero)\n",
    "    Sl=y[0];    el=y[1];    X1l=y[2];     CO2l=y[3];\n",
    "    X1u=y[4]\n",
    "    #define parameters\n",
    "    yA=pars[0]; \n",
    "    Km=pars[1];     \n",
    "    v=pars[2];\n",
    "    m=pars[3]; \n",
    "    g=pars[4]; \n",
    "    ce=pars[5];\n",
    "    MX1=ce/4;\n",
    "    #Scaling function for substrate uptake\n",
    "    f=Sl/(Km+Sl) #labelled substrate only\n",
    "    \n",
    "    #Isotope signals\n",
    "    eatm = 1\n",
    "    X1atm = X1l/(X1l + X1u)\n",
    "    \n",
    "    #Fluxes\n",
    "    uptake=(v*ce/yA)*(X1l+X1u)*f #labelled substrate only\n",
    "    growth = (v*el-m*g)/(el + g)\n",
    "    \n",
    "    #Define derivatives\n",
    "    ##Labelled pools\n",
    "    dSldt = -uptake\n",
    "    deldt = v*(f - el)\n",
    "    dX1ldt = max(0, (X1l + X1u)*growth) + min(0, (X1l + X1u)*growth*X1atm) \n",
    "    dCO2ldt = uptake*(1 - yA) + ce*((X1l + X1u)*el*(v-growth)) - max(0, (X1l + X1u)*growth)*MX1 - min(0, (X1l + X1u)*growth*X1atm)*MX1 \n",
    "    ##Unabelled pools\n",
    "    #dSudt\n",
    "    #deudt = - v*eu\n",
    "    dX1udt = min(0, (X1l + X1u)*growth*(1-X1atm)) \n",
    "        \n",
    "    return dSldt, deldt, dX1ldt, dCO2ldt, dX1udt;"
   ]
  },
  {
   "cell_type": "markdown",
   "metadata": {},
   "source": [
    "3. Defining outputs from DEB model"
   ]
  },
  {
   "cell_type": "code",
   "execution_count": 11,
   "metadata": {},
   "outputs": [],
   "source": [
    "def calcDEB (model, pars, t, y0):\n",
    "    #model parameters\n",
    "    ##yA, Km, v, m, g, ce\n",
    "    pars_model=pars[0:6]\n",
    "    #conversion factors\n",
    "    ##ce, nX1\n",
    "    conversions=pars[5:8]\n",
    "    \n",
    "    #solve the model\n",
    "    y=odeint(model,y0,t, args=(pars_model,))\n",
    "    #calculate labelled biomass (Bl), kec factor, and labelled chloroform flush (Flush14C) \n",
    "    Bl=((conversions[0]/4 + conversions[0]*y[:, 1])*y[:, 2])\n",
    "    kec = (conversions[1]/4 + conversions[2]*y[:, 1])/(0.25 + y[:, 1])\n",
    "    Flush14C = Bl*kec\n",
    "        \n",
    "    #Create data with predictions\n",
    "    yhat = np.concatenate((y[:, 0].reshape(len(d.Time),1), #Glucose\n",
    "                           y[:, 3].reshape(len(d.Time),1),#CO2\n",
    "                           kec.reshape(len(d.Time),1),\n",
    "                           Flush14C.reshape(len(d.Time),1)), axis=1)\n",
    "    \n",
    "    return yhat"
   ]
  },
  {
   "cell_type": "markdown",
   "metadata": {},
   "source": [
    "4. Defining objective function"
   ]
  },
  {
   "cell_type": "code",
   "execution_count": 12,
   "metadata": {},
   "outputs": [],
   "source": [
    "def obj_funDEB (x):\n",
    "    #define parameters\n",
    "    ##yA, Km, v, m, g, ce, nX1, ne\n",
    "    pars = x\n",
    "    #initial conditions\n",
    "    Sl_i = d.Sinit[0]\n",
    "    # el_i = 0, Xl_i = 0, CO2l = 0, CO2u = 0, eu = 0  \n",
    "    X1u_i = d.Cmicinit[0]/(pars[5]*(pars[6]/4))\n",
    "    \n",
    "    y0 = np.array([Sl_i, 0, 0, 0,X1u_i])\n",
    "    #times\n",
    "    t = d.Time\n",
    "    #model simulations\n",
    "    yhat_full = calcDEB(DEBmodel, pars, t, y0)\n",
    "    #observations\n",
    "    obs=np.concatenate((np.array([d.S]).reshape(len(d.Time),1),\n",
    "                        np.array([d.CO214cumul]).reshape(len(d.Time),1),\n",
    "                        np.array([d.kec]).reshape(len(d.Time),1),\n",
    "                        np.array([d.Cmic14]).reshape(len(d.Time),1)), axis=1)\n",
    "    #weights\n",
    "    weights=np.concatenate((np.nanmean(d.S).repeat(len(d.Time)).reshape(len(d.Time),1),\n",
    "                            np.nanmean(d.CO214cumul).repeat(len(d.Time)).reshape(len(d.Time),1),\n",
    "                            np.nanmean(d.kec).repeat(len(d.Time)).reshape(len(d.Time),1),\n",
    "                            np.nanmean((d.Cmic14)).repeat(len(d.Time)).reshape(len(d.Time),1)),\n",
    "                       axis=1)\n",
    "    out=np.nansum(((yhat_full-obs)/weights)**2)\n",
    "    return out"
   ]
  },
  {
   "cell_type": "markdown",
   "metadata": {},
   "source": [
    "5. Calculate the goodness of fit"
   ]
  },
  {
   "cell_type": "code",
   "execution_count": 13,
   "metadata": {},
   "outputs": [],
   "source": [
    "def goodnessDEB (x):\n",
    "    #define parameters\n",
    "    ##Km, v, m, g, ce, nX1, ne\n",
    "    pars = x\n",
    "    #initial conditions\n",
    "    Sl_i = d.Sinit[0]\n",
    "    # el_i = 0, Xl_i = 0, CO2l = 0, CO2u = 0, eu = 0  \n",
    "    X1u_i = d.Cmicinit[0]/(pars[5]*(pars[6]/4))\n",
    "    \n",
    "    y0 = np.array([Sl_i, 0, 0, 0,X1u_i])\n",
    "    #times\n",
    "    t = d.Time\n",
    "    #model simulations\n",
    "    yhat_full = calcDEB(DEBmodel, pars, t, y0)\n",
    "    \n",
    "    #observations\n",
    "    obs=np.concatenate((np.array([d.S]).reshape(len(d.Time),1),\n",
    "                        np.array([d.CO214cumul]).reshape(len(d.Time),1),\n",
    "                        np.array([d.kec]).reshape(len(d.Time),1),\n",
    "                        np.array([d.Cmic14]).reshape(len(d.Time),1)), axis=1)\n",
    "    \n",
    "    R2=1-np.nansum((obs-yhat_full)**2)/np.nansum((obs-np.nanmean(obs))**2)\n",
    "    ll=-np.nansum((obs-yhat_full)**2)/2/np.nanstd(obs)**2\n",
    "    AIC = len(pars)*2 - 2*ll\n",
    "    out = np.array([R2, ll, AIC])\n",
    "    return out"
   ]
  },
  {
   "cell_type": "markdown",
   "metadata": {},
   "source": [
    "Following function return the model solution for visualization in R"
   ]
  },
  {
   "cell_type": "code",
   "execution_count": 6,
   "metadata": {},
   "outputs": [],
   "source": [
    "def predDEB (model, pars, t, y0):\n",
    "    #model parameters\n",
    "    ##yA, Km, v, m, g, ce\n",
    "    pars_model=pars[0:6]\n",
    "    #conversion factors\n",
    "    ##ce, nX1\n",
    "    conversions=pars[5:8]\n",
    "    \n",
    "    #solve the model\n",
    "    y=odeint(model,y0,t, args=(pars_model,))\n",
    "    #calculate labelled biomass (Bl), kec factor, and labelled chloroform flush (Flush14C) \n",
    "    Bl=((conversions[0]/4 + conversions[0]*y[:, 1])*y[:, 2])\n",
    "    kec = (conversions[1]/4 + conversions[2]*y[:, 1])/(0.25 + y[:, 1])\n",
    "    Flush14C = Bl*kec\n",
    "    \n",
    "    #Create data with predictions\n",
    "    yhat = np.concatenate((y[:, 0].reshape(61,1), #Glucose\n",
    "                           y[:, 3].reshape(61,1),#CO2\n",
    "                           kec.reshape(61,1),\n",
    "                           Flush14C.reshape(61,1)), axis=1)\n",
    "    \n",
    "    return yhat"
   ]
  },
  {
   "cell_type": "markdown",
   "metadata": {},
   "source": [
    "Reading data"
   ]
  },
  {
   "cell_type": "code",
   "execution_count": 7,
   "metadata": {},
   "outputs": [
    {
     "name": "stdout",
     "output_type": "stream",
     "text": [
      "                      Study        Soil Substrate  Clay    pH  Ctot  Ntot  \\\n",
      "0  Santruckova et al., 2004  sandy loam   Glucose    20  5.47  1.37  0.15   \n",
      "1  Santruckova et al., 2004  sandy loam   Glucose    20  5.47  1.37  0.15   \n",
      "2  Santruckova et al., 2004  sandy loam   Glucose    20  5.47  1.37  0.15   \n",
      "3  Santruckova et al., 2004  sandy loam   Glucose    20  5.47  1.37  0.15   \n",
      "4  Santruckova et al., 2004  sandy loam   Glucose    20  5.47  1.37  0.15   \n",
      "5  Santruckova et al., 2004  sandy loam   Glucose    20  5.47  1.37  0.15   \n",
      "\n",
      "       Time  Cmicinit      Sinit     Cmic12    Cmic14     CO214  CO214cumul  \\\n",
      "0  0.000000  7.694132  26.376234   7.694132  0.000000  0.000000    0.000000   \n",
      "1  0.333333  7.694132  26.376234   8.904390  3.680103  5.101495    1.700498   \n",
      "2  0.666667  7.694132  26.376234  10.150397  4.562771  5.468979    3.523491   \n",
      "3  1.000000  7.694132  26.376234  11.714008  4.819833  5.624263    5.398246   \n",
      "4  2.000000  7.694132  26.376234  10.586995  4.428162  1.129519    6.527764   \n",
      "5  3.000000  7.694132  26.376234  10.566435  4.144564  0.439491    6.967255   \n",
      "\n",
      "           S   kec Treatment  \n",
      "0  26.376234   NaN     OX-OX  \n",
      "1  15.759969   NaN     OX-OX  \n",
      "2   5.939155  0.32     OX-OX  \n",
      "3   0.000000  0.26     OX-OX  \n",
      "4   0.000000  0.23     OX-OX  \n",
      "5   0.000000  0.22     OX-OX  \n"
     ]
    }
   ],
   "source": [
    "d = pd.read_csv('/mnt/580CBE2464C5F83D/pracovni/data_statistika/SoilMBVariability/SoilMBVariabilityData/Santruckova2004.csv', sep=',')\n",
    "print(d)"
   ]
  },
  {
   "cell_type": "markdown",
   "metadata": {},
   "source": [
    "Estimating parameters"
   ]
  },
  {
   "cell_type": "code",
   "execution_count": 14,
   "metadata": {},
   "outputs": [
    {
     "name": "stderr",
     "output_type": "stream",
     "text": [
      "<ipython-input-12-d86f80ecbc00>:8: RuntimeWarning: divide by zero encountered in double_scalars\n",
      "  X1u_i = d.Cmicinit[0]/(pars[5]*(pars[6]/8))\n",
      "<ipython-input-10-84ccfbbb5487>:28: RuntimeWarning: invalid value encountered in double_scalars\n",
      "  dX1ldt = max(0, (X1l + X1u)*growth) + min(0, (X1l + X1u)*growth*X1atm)\n",
      "<ipython-input-10-84ccfbbb5487>:29: RuntimeWarning: invalid value encountered in double_scalars\n",
      "  dCO2ldt = uptake*(1 - yA) + ce*((X1l + X1u)*el*(v-growth)) - max(0, (X1l + X1u)*growth)*MX1 - min(0, (X1l + X1u)*growth*X1atm)*MX1\n"
     ]
    }
   ],
   "source": [
    "Santruckova2004DA=dual_annealing(obj_funDEB, [(0.05, 1), #yA\n",
    "                                              (10, 1000), #Km\n",
    "                                              (0.001, 20), #v\n",
    "                                              (1e-12, 0.1), #m\n",
    "                                              (0.1, 3), #g\n",
    "                                              (0.1, 10), #ce\n",
    "                                              (0, 1), #nX1\n",
    "                                              (0, 1)]) #ne\n",
    "                                              #(0, 1)]) #eu_i"
   ]
  },
  {
   "cell_type": "code",
   "execution_count": 15,
   "metadata": {},
   "outputs": [
    {
     "name": "stdout",
     "output_type": "stream",
     "text": [
      "     fun: 0.36238526422314876\n",
      " message: ['Maximum number of iteration reached']\n",
      "    nfev: 24146\n",
      "    nhev: 0\n",
      "     nit: 1000\n",
      "    njev: 905\n",
      "  status: 0\n",
      " success: True\n",
      "       x: array([1.00000000e+00, 9.99999896e+02, 7.72884561e+00, 2.48357785e-02,\n",
      "       1.50434200e-01, 5.03646411e+00, 2.41914739e-01, 1.00000000e+00])\n",
      "[ 0.98308939 -0.18601673 16.37203347]\n"
     ]
    }
   ],
   "source": [
    "print(Santruckova2004DA)\n",
    "print(goodnessDEB(Santruckova2004DA.x))"
   ]
  },
  {
   "cell_type": "code",
   "execution_count": 75,
   "metadata": {},
   "outputs": [],
   "source": [
    "Santruckova2004DE=differential_evolution(obj_funDEB, [(0.05, 1), #yA\n",
    "                                              (10, 1000), #Km\n",
    "                                              (0.001, 20), #v\n",
    "                                              (1e-12, 0.1), #m\n",
    "                                              (0.1, 3), #g\n",
    "                                              (0.1, 10), #ce\n",
    "                                              (0, 1), #nX1\n",
    "                                              (0, 1)]) #ne\n",
    "                                              #(0, 1)]) #eu_i"
   ]
  },
  {
   "cell_type": "code",
   "execution_count": 76,
   "metadata": {},
   "outputs": [
    {
     "name": "stdout",
     "output_type": "stream",
     "text": [
      "     fun: 0.3579161516036447\n",
      "     jac: array([-2.27186402e-01,  2.83661758e-06, -4.89608313e-06,  3.26405569e-06,\n",
      "       -7.92144128e-06, -1.26954004e-05, -3.60822483e-07, -2.21705880e-01])\n",
      " message: 'Optimization terminated successfully.'\n",
      "    nfev: 11550\n",
      "     nit: 93\n",
      " success: True\n",
      "       x: array([1.00000000e+00, 5.53103804e+02, 8.58043882e+00, 2.66150891e-02,\n",
      "       2.98892647e-01, 5.46961193e+00, 2.42691751e-01, 1.00000000e+00])\n",
      "[ 0.983735   -0.17891504 16.35783007]\n"
     ]
    }
   ],
   "source": [
    "print(Santruckova2004DE)\n",
    "print(goodnessDEB(Santruckova2004DE.x))"
   ]
  },
  {
   "cell_type": "code",
   "execution_count": 78,
   "metadata": {},
   "outputs": [],
   "source": [
    "np.savetxt('/mnt/580CBE2464C5F83D/pracovni/data_statistika/SoilMBVariability/PythonScripts/Santruckova2004Pars.csv', Santruckova2004DE.x.reshape(1,8), delimiter=\",\")"
   ]
  },
  {
   "cell_type": "markdown",
   "metadata": {},
   "source": [
    "Exporting solution for R"
   ]
  },
  {
   "cell_type": "code",
   "execution_count": 77,
   "metadata": {},
   "outputs": [
    {
     "name": "stdout",
     "output_type": "stream",
     "text": [
      "[[2.63762341e+01 0.00000000e+00 2.42691751e-01 0.00000000e+00]\n",
      " [2.40002422e+01 1.12796041e-01 2.85925723e-01 9.82911130e-02]\n",
      " [2.17912149e+01 3.25684782e-01 3.08190667e-01 3.87652453e-01]\n",
      " [1.97204721e+01 5.95872021e-01 3.18918283e-01 8.01050755e-01]\n",
      " [1.77762389e+01 8.99142125e-01 3.22886485e-01 1.27415964e+00]\n",
      " [1.59549332e+01 1.21995374e+00 3.22761937e-01 1.76007516e+00]\n",
      " [1.42565823e+01 1.54762803e+00 3.20136351e-01 2.22838982e+00]\n",
      " [1.26822356e+01 1.87452388e+00 3.16006618e-01 2.66122293e+00]\n",
      " [1.12324908e+01 2.19508069e+00 3.11019367e-01 3.04944551e+00]\n",
      " [9.90670871e+00 2.50527113e+00 3.05604683e-01 3.38976496e+00]\n",
      " [8.70268005e+00 2.80225892e+00 3.00053213e-01 3.68262932e+00]\n",
      " [7.61659256e+00 3.08416296e+00 2.94562505e-01 3.93076316e+00]\n",
      " [6.64319014e+00 3.34987845e+00 2.89265868e-01 4.13815839e+00]\n",
      " [5.77604213e+00 3.59893016e+00 2.84250965e-01 4.30938702e+00]\n",
      " [5.00786163e+00 3.83134576e+00 2.79572260e-01 4.44914258e+00]\n",
      " [4.33082855e+00 4.04754388e+00 2.75259699e-01 4.56194572e+00]\n",
      " [3.73688755e+00 4.24823516e+00 2.71325021e-01 4.65196786e+00]\n",
      " [3.21800344e+00 4.43433580e+00 2.67766540e-01 4.72293935e+00]\n",
      " [2.76636582e+00 4.60689395e+00 2.64572851e-01 4.77811643e+00]\n",
      " [2.37454298e+00 4.76702846e+00 2.61725794e-01 4.82028764e+00]\n",
      " [2.03558591e+00 4.91588025e+00 2.59202764e-01 4.85180437e+00]\n",
      " [1.74309311e+00 5.05457444e+00 2.56978576e-01 4.87462508e+00]\n",
      " [1.49124019e+00 5.18419277e+00 2.55026894e-01 4.89036495e+00]\n",
      " [1.27478322e+00 5.30575454e+00 2.53321311e-01 4.90034594e+00]\n",
      " [1.08904290e+00 5.42020470e+00 2.51836145e-01 4.90564383e+00]\n",
      " [9.29875186e-01 5.52840757e+00 2.50546984e-01 4.90713059e+00]\n",
      " [7.93633579e-01 5.63114489e+00 2.49431046e-01 4.90551128e+00]\n",
      " [6.77126830e-01 5.72911712e+00 2.48467376e-01 4.90135533e+00]\n",
      " [5.77574979e-01 5.82294685e+00 2.47636933e-01 4.89512273e+00]\n",
      " [4.92565815e-01 5.91318379e+00 2.46922592e-01 4.88718541e+00]\n",
      " [4.20013150e-01 6.00031049e+00 2.46309074e-01 4.87784474e+00]\n",
      " [3.58117785e-01 6.08474848e+00 2.45782850e-01 4.86734549e+00]\n",
      " [3.05331679e-01 6.16642206e+00 2.45332010e-01 4.85599606e+00]\n",
      " [2.60325529e-01 6.24116750e+00 2.44946125e-01 4.84505989e+00]\n",
      " [2.21959742e-01 6.30879833e+00 2.44616103e-01 4.83477757e+00]\n",
      " [1.89258710e-01 6.37033832e+00 2.44334046e-01 4.82506166e+00]\n",
      " [1.61388180e-01 6.42666776e+00 2.44093115e-01 4.81583521e+00]\n",
      " [1.37635401e-01 6.47854227e+00 2.43887406e-01 4.80703088e+00]\n",
      " [1.17391984e-01 6.52660941e+00 2.43711833e-01 4.79859003e+00]\n",
      " [1.00138890e-01 6.57142344e+00 2.43562023e-01 4.79046183e+00]\n",
      " [8.54335246e-02 6.61345830e+00 2.43434222e-01 4.78260233e+00]\n",
      " [7.28986598e-02 6.65311885e+00 2.43325215e-01 4.77497368e+00]\n",
      " [6.22128624e-02 6.69075069e+00 2.43232246e-01 4.76754333e+00]\n",
      " [5.31023101e-02 6.72664869e+00 2.43152961e-01 4.76028337e+00]\n",
      " [4.53337844e-02 6.76106426e+00 2.43085347e-01 4.75316990e+00]\n",
      " [3.87086589e-02 6.79421173e+00 2.43027685e-01 4.74618245e+00]\n",
      " [3.30577884e-02 6.82627374e+00 2.42978508e-01 4.73930357e+00]\n",
      " [2.82371343e-02 6.85740590e+00 2.42936566e-01 4.73251834e+00]\n",
      " [2.41240350e-02 6.88774074e+00 2.42900790e-01 4.72581406e+00]\n",
      " [2.06140317e-02 6.91739116e+00 2.42870271e-01 4.71917990e+00]\n",
      " [1.76181596e-02 6.94645333e+00 2.42844233e-01 4.71260663e+00]\n",
      " [1.50606451e-02 6.97500915e+00 2.42822015e-01 4.70608640e+00]\n",
      " [1.28769440e-02 7.00312834e+00 2.42803055e-01 4.69961251e+00]\n",
      " [1.10120611e-02 7.03087035e+00 2.42786872e-01 4.69317928e+00]\n",
      " [9.41914336e-03 7.05828579e+00 2.42773057e-01 4.68678187e+00]\n",
      " [8.05826692e-03 7.08541776e+00 2.42761262e-01 4.68041616e+00]\n",
      " [6.89540268e-03 7.11230299e+00 2.42751189e-01 4.67407865e+00]\n",
      " [5.90154261e-03 7.13897281e+00 2.42742586e-01 4.66776636e+00]\n",
      " [5.05195706e-03 7.16545390e+00 2.42735236e-01 4.66147673e+00]\n",
      " [4.32555689e-03 7.19176897e+00 2.42728957e-01 4.65520764e+00]\n",
      " [3.70435646e-03 7.21793744e+00 2.42723591e-01 4.64895723e+00]]\n"
     ]
    }
   ],
   "source": [
    "#initial conditions\n",
    "Sl_i = d.Sinit[0]\n",
    "X1u_i = d.Cmicinit[0]/(Santruckova2004DE.x[5]*(Santruckova2004DE.x[6]/4))\n",
    "    \n",
    "y0 = np.array([Sl_i, 0, 0, 0,X1u_i])\n",
    "\n",
    "#times\n",
    "t = np.arange(0, 3.05, 0.05)\n",
    "#model simulations\n",
    "Santruckova2004Pred = predDEB(DEBmodel, Santruckova2004DE.x, t, y0)\n",
    "np.savetxt('/mnt/580CBE2464C5F83D/pracovni/data_statistika/SoilMBVariability/PythonScripts/Santruckova2004Pred.csv', Santruckova2004Pred, delimiter=\",\")\n",
    "print(Santruckova2004Pred)"
   ]
  },
  {
   "cell_type": "code",
   "execution_count": null,
   "metadata": {},
   "outputs": [],
   "source": []
  }
 ],
 "metadata": {
  "kernelspec": {
   "display_name": "Python 3",
   "language": "python",
   "name": "python3"
  },
  "language_info": {
   "codemirror_mode": {
    "name": "ipython",
    "version": 3
   },
   "file_extension": ".py",
   "mimetype": "text/x-python",
   "name": "python",
   "nbconvert_exporter": "python",
   "pygments_lexer": "ipython3",
   "version": "3.8.10"
  }
 },
 "nbformat": 4,
 "nbformat_minor": 4
}
