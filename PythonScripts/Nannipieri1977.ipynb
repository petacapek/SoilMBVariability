{
 "cells": [
  {
   "cell_type": "markdown",
   "metadata": {},
   "source": [
    "# Nannipieri et al. (1977)"
   ]
  },
  {
   "cell_type": "markdown",
   "metadata": {},
   "source": [
    "## DEB model calibration"
   ]
  },
  {
   "cell_type": "markdown",
   "metadata": {},
   "source": [
    "### Importing functions"
   ]
  },
  {
   "cell_type": "code",
   "execution_count": 1,
   "metadata": {},
   "outputs": [],
   "source": [
    "import numpy as np\n",
    "import pandas as pd\n",
    "from scipy.integrate import odeint\n",
    "from scipy.optimize import dual_annealing\n",
    "from scipy.optimize import differential_evolution"
   ]
  },
  {
   "cell_type": "markdown",
   "metadata": {},
   "source": [
    "### This is the DEB model"
   ]
  },
  {
   "cell_type": "code",
   "execution_count": 2,
   "metadata": {},
   "outputs": [],
   "source": [
    "def DEBmodel (y, t, pars):\n",
    "    #define initial pools (eu is assumed to be zero)\n",
    "    S=y[0];    e=y[1];    X1=y[2];     CO2=y[3];\n",
    "    \n",
    "    #define parameters\n",
    "    yA=pars[0]; \n",
    "    Km=pars[1];     \n",
    "    v=pars[2];\n",
    "    m=pars[3]; \n",
    "    g=pars[4]; \n",
    "    #k=pars[5];\n",
    "    ce=pars[5];\n",
    "    MX1=ce/4;\n",
    "    \n",
    "    #Scaling function for substrate uptake\n",
    "    f=S/(Km+S)\n",
    "    #Fluxes\n",
    "    uptake=(v*ce/yA)*X1*f\n",
    "    growth = (v*e-m*g)/(e + g)\n",
    "    \n",
    "    #Define derivatives\n",
    "    dSdt = -uptake\n",
    "    dedt = v*(f - e)\n",
    "    dX1dt = growth*X1 #- k*X1\n",
    "    dCO2dt = uptake*(1 - yA) + ce*(X1*e*(v-growth)) - growth*X1*MX1 \n",
    "           \n",
    "    return dSdt, dedt, dX1dt, dCO2dt;"
   ]
  },
  {
   "cell_type": "markdown",
   "metadata": {},
   "source": [
    "### The function below uses the output from DEBmodel to convert biomass pools $e$ and $X_{1}$ to microbial biomass ($B$) and biomass proxy-parameter ATP. "
   ]
  },
  {
   "cell_type": "markdown",
   "metadata": {},
   "source": [
    "Both, $B$ and ATP are in C1-mols. However, the biomass of microbes in soil was measured as a dry weight of all microbes extracted from soil denoted below by symbol $W$. Two additional parameters converting C1-mols to total mass of $X_{1}$ and $e$ are defined, $M_{W_{X_{1}}}$ and $M_{W_{e}}$ respectively."
   ]
  },
  {
   "cell_type": "code",
   "execution_count": 3,
   "metadata": {},
   "outputs": [],
   "source": [
    "def calcDEB (model, pars, t, y0):\n",
    "    #model parameters\n",
    "    ##yA, Km, v, m, g, ce\n",
    "    pars_model=pars[0:6]\n",
    "    #conversion factors\n",
    "    ##ce, tX1, te, MwX1, Mwe\n",
    "    conversions=pars[5:10]\n",
    "\n",
    "    #solve the model\n",
    "    y=odeint(model,y0,t, args=(pars_model,))\n",
    "\n",
    "    #calculate biomass (B) and total ATP\n",
    "    B=(conversions[0]/4 + conversions[0]*y[:, 1])*y[:, 2]\n",
    "    #Flush = (conversions[1]/4 + y[:, 1])/(0.25 + y[:, 1])*B\n",
    "    ATP = (conversions[1]/4 + conversions[2]*y[:, 1])/(0.25 + y[:, 1])*B\n",
    "    W = (conversions[3]*conversions[0]/4 + conversions[4]*conversions[0]*y[:, 1])*y[:, 2]\n",
    "    \n",
    "    #Create data with predictions\n",
    "    yhat = np.concatenate((#y[:, 0].reshape(len(d.Time),1),#glucose\n",
    "                           y[:, 3].reshape(len(d.Time),1),#CO2\n",
    "                           W.reshape(len(d.Time),1),\n",
    "                           ATP.reshape(len(d.Time),1)), axis=1)\n",
    "\n",
    "    return yhat"
   ]
  },
  {
   "cell_type": "markdown",
   "metadata": {},
   "source": [
    "### Objective function is defined"
   ]
  },
  {
   "cell_type": "code",
   "execution_count": 4,
   "metadata": {},
   "outputs": [],
   "source": [
    "def obj_funDEB (x):\n",
    "    #define parameters\n",
    "    ##yA, Km, v, m, g, ce, tX1, te, MwX1, Mwe\n",
    "    pars = x\n",
    "\n",
    "    #initial conditions\n",
    "    S_i = d.Sinit[0]\n",
    "            \n",
    "    e_i = 0.25*(pars[6] - d.ATPinit[0]/d.Winit[0]*pars[8])/(d.ATPinit[0]/d.Winit[0]*(pars[9] - pars[7]))\n",
    "    X1_i = d.Winit[0]/(pars[5]*(0.25*pars[8] + pars[9]*e_i))\n",
    "    \n",
    "    y0 = np.array([S_i, e_i, X1_i, 0])\n",
    "    #times\n",
    "    t = d.Time\n",
    "\n",
    "    #model simulations\n",
    "    yhat_full = calcDEB(DEBmodel, pars, t, y0)\n",
    "    \n",
    "     \n",
    "    #observations\n",
    "    obs=np.concatenate((#np.array([d.S]).reshape(len(d.Time),1),\n",
    "                        np.array([d.CO2]).reshape(len(d.Time),1),\n",
    "                        np.array([d.W]).reshape(len(d.Time),1),\n",
    "                        #np.array([d.Cmic14]).reshape(len(d.Time),1),\n",
    "                        np.array([d.ATP]).reshape(len(d.Time),1)),\n",
    "                     axis=1)\n",
    "\n",
    "    #weights\n",
    "    weights=np.concatenate((#np.nanstd(d.S).repeat(len(d.Time)).reshape(len(d.Time),1),\n",
    "                            np.nanstd(d.CO2).repeat(len(d.Time)).reshape(len(d.Time),1),\n",
    "                            np.nanstd((d.W)).repeat(len(d.Time)).reshape(len(d.Time),1),\n",
    "                            #np.nanmean(d.Cmic14).repeat(len(d.Time)).reshape(len(d.Time),1),\n",
    "                            np.nanstd((d.ATP)).repeat(len(d.Time)).reshape(len(d.Time),1)),\n",
    "                       axis=1)\n",
    "    \n",
    "    out=np.nansum(((yhat_full-obs)/weights)**2)\n",
    "\n",
    "    return out"
   ]
  },
  {
   "cell_type": "markdown",
   "metadata": {},
   "source": [
    "### Goodness of fit is calculated"
   ]
  },
  {
   "cell_type": "code",
   "execution_count": 5,
   "metadata": {},
   "outputs": [],
   "source": [
    "def goodnessDEB (x):\n",
    "    #define parameters\n",
    "    ##yA, Km, v, m, g, ce, tX1, te, MwX1, Mwe\n",
    "    pars = x\n",
    "\n",
    "    #initial conditions\n",
    "    S_i = d.Sinit[0]\n",
    "            \n",
    "    e_i = 0.25*(pars[6] - d.ATPinit[0]/d.Winit[0]*pars[8])/(d.ATPinit[0]/d.Winit[0]*(pars[9] - pars[7]))\n",
    "    X1_i = d.Winit[0]/(pars[5]*(0.25*pars[8] + pars[9]*e_i))\n",
    "    \n",
    "    y0 = np.array([S_i, e_i, X1_i, 0])\n",
    "    #times\n",
    "    t = d.Time\n",
    "\n",
    "    #model simulations\n",
    "    yhat_full = calcDEB(DEBmodel, pars, t, y0)\n",
    "    \n",
    "    #Standardize the simulations\n",
    "    ##means\n",
    "    Smeans=np.concatenate((np.nanmean(yhat_full[:, 0]).repeat(len(d.Time)).reshape(len(d.Time),1),\n",
    "                            np.nanmean(yhat_full[:, 1]).repeat(len(d.Time)).reshape(len(d.Time),1),\n",
    "                            np.nanmean((yhat_full[:, 2])).repeat(len(d.Time)).reshape(len(d.Time),1)),\n",
    "                            #np.nanmean(d.Cmic14).repeat(len(d.Time)).reshape(len(d.Time),1),\n",
    "                            #np.nanmean(yhat_full[:, 3]).repeat(len(d.Time)).reshape(len(d.Time),1)),\n",
    "                       axis=1)\n",
    "    ##std\n",
    "    Sstd=np.concatenate((np.nanstd(yhat_full[:, 0]).repeat(len(d.Time)).reshape(len(d.Time),1),\n",
    "                            np.nanstd(yhat_full[:, 1]).repeat(len(d.Time)).reshape(len(d.Time),1),\n",
    "                            np.nanstd((yhat_full[:, 2])).repeat(len(d.Time)).reshape(len(d.Time),1)),\n",
    "                            #np.nanmean(d.Cmic14).repeat(len(d.Time)).reshape(len(d.Time),1),\n",
    "                            #np.nanmean(yhat_full[:, 3]).repeat(len(d.Time)).reshape(len(d.Time),1)),\n",
    "                       axis=1)\n",
    "     \n",
    "\n",
    "    #observations\n",
    "    obs=np.concatenate((#np.array([d.S]).reshape(len(d.Time),1),\n",
    "                        np.array([d.CO2]).reshape(len(d.Time),1),\n",
    "                        np.array([d.W]).reshape(len(d.Time),1),\n",
    "                        #np.array([d.Cmic14]).reshape(len(d.Time),1),\n",
    "                        np.array([d.ATP]).reshape(len(d.Time),1)),\n",
    "                     axis=1)\n",
    "    #Standardize the observations\n",
    "    ##means\n",
    "    Omeans=np.concatenate((#np.nanmean(d.S).repeat(len(d.Time)).reshape(len(d.Time),1),\n",
    "                            np.nanmean(d.CO2).repeat(len(d.Time)).reshape(len(d.Time),1),\n",
    "                            np.nanmean((d.W)).repeat(len(d.Time)).reshape(len(d.Time),1),\n",
    "                            #np.nanmean(d.Cmic14).repeat(len(d.Time)).reshape(len(d.Time),1),\n",
    "                            np.nanmean(d.ATP).repeat(len(d.Time)).reshape(len(d.Time),1)),\n",
    "                       axis=1)\n",
    "    ##std    \n",
    "    Ostd=np.concatenate((#np.nanstd(d.S).repeat(len(d.Time)).reshape(len(d.Time),1),\n",
    "                            np.nanstd(d.CO2).repeat(len(d.Time)).reshape(len(d.Time),1),\n",
    "                            np.nanstd((d.W)).repeat(len(d.Time)).reshape(len(d.Time),1),\n",
    "                            #np.nanmean(d.Cmic14).repeat(len(d.Time)).reshape(len(d.Time),1),\n",
    "                            np.nanstd(d.ATP).repeat(len(d.Time)).reshape(len(d.Time),1)),\n",
    "                       axis=1)\n",
    "        \n",
    "    R2=1-np.nansum((obs-yhat_full)**2)/np.nansum((obs-np.nanmean(obs))**2)\n",
    "    ll=-np.nansum((obs-yhat_full)**2)/2/np.nanstd(obs)**2\n",
    "    AIC = len(pars)*2 - 2*ll\n",
    "    \n",
    "    #Normalized residual sum of squares \n",
    "    Fnorm = np.nansum((((obs-Omeans)/Ostd)-((yhat_full-Smeans)/Sstd))**2)\n",
    "    \n",
    "    out = np.array([R2, ll, AIC, Fnorm])\n",
    "\n",
    "    return out"
   ]
  },
  {
   "cell_type": "code",
   "execution_count": 6,
   "metadata": {},
   "outputs": [],
   "source": [
    "def predDEB (model, pars, t, y0):\n",
    "    #model parameters\n",
    "    ##yA, Km, v, m, g, ce\n",
    "    pars_model=pars[0:6]\n",
    "    #conversion factors\n",
    "    ##ce, tX1, te, MwX1, Mwe\n",
    "    conversions=pars[5:10]\n",
    "\n",
    "    #solve the model\n",
    "    y=odeint(model,y0,t, args=(pars_model,))\n",
    "\n",
    "    #calculate biomass (B) and total ATP\n",
    "    B=(conversions[0]/4 + conversions[0]*y[:, 1])*y[:, 2]\n",
    "    #Flush = (conversions[1]/4 + y[:, 1])/(0.25 + y[:, 1])*B\n",
    "    ATP = (conversions[1]/4 + conversions[2]*y[:, 1])/(0.25 + y[:, 1])*B\n",
    "    W = (conversions[3]*conversions[0]/4 + conversions[4]*conversions[0]*y[:, 1])*y[:, 2]\n",
    "    \n",
    "    #Create data with predictions\n",
    "    yhat = np.concatenate((y[:, 0].reshape(len(np.arange(0, 3.60, 0.05)),1),#glucose\n",
    "                           y[:, 1].reshape(len(np.arange(0, 3.60, 0.05)),1),#e\n",
    "                           y[:, 2].reshape(len(np.arange(0, 3.60, 0.05)),1),#X1\n",
    "                           W.reshape(len(np.arange(0, 3.60, 0.05)),1),#biomass in ug/g\n",
    "                           B.reshape(len(np.arange(0, 3.60, 0.05)),1),#biomass in umols(C)/g\n",
    "                           y[:, 3].reshape(len(np.arange(0, 3.60, 0.05)),1),#CO2\n",
    "                           #Flush.reshape(len(np.arange(0, 8.05, 0.05)),1),\n",
    "                           ATP.reshape(len(np.arange(0, 3.60, 0.05)),1)), axis=1)\n",
    "\n",
    "    return yhat"
   ]
  },
  {
   "cell_type": "markdown",
   "metadata": {},
   "source": [
    "## Treatment A"
   ]
  },
  {
   "cell_type": "code",
   "execution_count": 7,
   "metadata": {},
   "outputs": [
    {
     "name": "stdout",
     "output_type": "stream",
     "text": [
      "                      Study       Soil Substrate  Clay  pH  Ctot  Ntot  \\\n",
      "0  Nannipieri et al. (1977)  Chernozem   Glucose   NaN   7     2   NaN   \n",
      "1  Nannipieri et al. (1977)  Chernozem   Glucose   NaN   7     2   NaN   \n",
      "2  Nannipieri et al. (1977)  Chernozem   Glucose   NaN   7     2   NaN   \n",
      "3  Nannipieri et al. (1977)  Chernozem   Glucose   NaN   7     2   NaN   \n",
      "4  Nannipieri et al. (1977)  Chernozem   Glucose   NaN   7     2   NaN   \n",
      "5  Nannipieri et al. (1977)  Chernozem   Glucose   NaN   7     2   NaN   \n",
      "6  Nannipieri et al. (1977)  Chernozem   Glucose   NaN   7     2   NaN   \n",
      "7  Nannipieri et al. (1977)  Chernozem   Glucose   NaN   7     2   NaN   \n",
      "\n",
      "       Time       Winit   ATPinit      Sinit            W       ATP  \\\n",
      "0  0.000000  824.322727  0.018547  249.79184   824.322727  0.018547   \n",
      "1  0.250000  824.322727  0.018547  249.79184   837.861273  0.024626   \n",
      "2  0.500000  824.322727  0.018547  249.79184  1137.019455  0.075747   \n",
      "3  1.000000  824.322727  0.018547  249.79184  1141.823455  0.117843   \n",
      "4  1.250000  824.322727  0.018547  249.79184  1155.362000  0.207383   \n",
      "5  2.000000  824.322727  0.018547  249.79184  1366.738000  0.197268   \n",
      "6  2.500000  824.322727  0.018547  249.79184  1155.580364  0.159876   \n",
      "7  3.541667  824.322727  0.018547  249.79184          NaN  0.108415   \n",
      "\n",
      "          CO2 Treatment  \n",
      "0    0.000000         A  \n",
      "1    0.370999         A  \n",
      "2   35.405496         A  \n",
      "3   84.261709         A  \n",
      "4   92.165510         A  \n",
      "5  110.509476         A  \n",
      "6  119.680054         A  \n",
      "7  141.816854         A  \n"
     ]
    }
   ],
   "source": [
    "#reading the data\n",
    "dall = pd.read_csv('/mnt/580CBE2464C5F83D/pracovni/data_statistika/SoilMBVariability/SoilMBVariabilityData/Nannipieri1977.csv', sep=',')\n",
    "#select treatment A\n",
    "d = dall[dall.Treatment == \"A\"]\n",
    "print(d)"
   ]
  },
  {
   "cell_type": "code",
   "execution_count": 8,
   "metadata": {},
   "outputs": [
    {
     "name": "stderr",
     "output_type": "stream",
     "text": [
      "<ipython-input-4-09ab2a41bc05>:10: RuntimeWarning: divide by zero encountered in double_scalars\n",
      "  X1_i = d.Winit[0]/(pars[5]*(0.25*pars[8] + pars[9]*e_i))\n",
      "<ipython-input-2-a3081a537b9a>:25: RuntimeWarning: invalid value encountered in double_scalars\n",
      "  dCO2dt = uptake*(1 - yA) + ce*(X1*e*(v-growth)) - growth*X1*MX1\n",
      "/usr/local/lib/python3.8/dist-packages/scipy/integrate/odepack.py:247: ODEintWarning: Illegal input detected (internal error). Run with full_output = 1 to get quantitative information.\n",
      "  warnings.warn(warning_msg, ODEintWarning)\n",
      "<ipython-input-3-107b63ff77bc>:15: RuntimeWarning: invalid value encountered in multiply\n",
      "  ATP = (conversions[1]/4 + conversions[2]*y[:, 1])/(0.25 + y[:, 1])*B\n",
      "<ipython-input-3-107b63ff77bc>:16: RuntimeWarning: invalid value encountered in multiply\n",
      "  W = (conversions[3]*conversions[0]/4 + conversions[4]*conversions[0]*y[:, 1])*y[:, 2]\n",
      "/usr/local/lib/python3.8/dist-packages/scipy/integrate/odepack.py:247: ODEintWarning: Excess work done on this call (perhaps wrong Dfun type). Run with full_output = 1 to get quantitative information.\n",
      "  warnings.warn(warning_msg, ODEintWarning)\n",
      "<ipython-input-3-107b63ff77bc>:13: RuntimeWarning: invalid value encountered in multiply\n",
      "  B=(conversions[0]/4 + conversions[0]*y[:, 1])*y[:, 2]\n",
      "<ipython-input-3-107b63ff77bc>:15: RuntimeWarning: invalid value encountered in true_divide\n",
      "  ATP = (conversions[1]/4 + conversions[2]*y[:, 1])/(0.25 + y[:, 1])*B\n",
      "/usr/local/lib/python3.8/dist-packages/scipy/optimize/_numdiff.py:497: RuntimeWarning: invalid value encountered in subtract\n",
      "  df = fun(x) - f0\n"
     ]
    }
   ],
   "source": [
    "n_debparsA=dual_annealing(obj_funDEB, [(0.05, 1), #yA\n",
    "                                             (10, 10000), #Km\n",
    "                                             (0.001, 20), #v\n",
    "                                             (1e-15, 0.1), #m\n",
    "                                             (0.1, 5), #g\n",
    "                                             #(1e-12, 0.1), #k\n",
    "                                             (0.1, 10), #ce\n",
    "                                             #(0, 1), #nX1\n",
    "                                             (0, 1), #tX1\n",
    "                                             (0, 1), #te\n",
    "                                              (10, 1000), #MwX1\n",
    "                                              (10, 1000)]) #Mwe\n",
    "                                             #(0, 1)]) #iX1"
   ]
  },
  {
   "cell_type": "code",
   "execution_count": 9,
   "metadata": {},
   "outputs": [
    {
     "name": "stdout",
     "output_type": "stream",
     "text": [
      "     fun: 6.502436990732981\n",
      " message: ['Maximum number of iteration reached']\n",
      "    nfev: 79313\n",
      "    nhev: 0\n",
      "     nit: 1000\n",
      "    njev: 5392\n",
      "  status: 0\n",
      " success: True\n",
      "       x: array([5.00000000e-02, 1.42505176e+03, 3.97317669e+00, 1.00000000e-01,\n",
      "       1.91361889e+00, 1.72591343e+00, 1.71096136e-02, 2.12417902e-01,\n",
      "       7.96361760e+02, 2.98420984e+02])\n",
      "[ 0.98904397 -0.12599434 20.25198867  6.91722989]\n"
     ]
    }
   ],
   "source": [
    "print(n_debparsA)\n",
    "print(goodnessDEB(n_debparsA.x))"
   ]
  },
  {
   "cell_type": "code",
   "execution_count": 10,
   "metadata": {},
   "outputs": [],
   "source": [
    "n_debparsDEA=differential_evolution(obj_funDEB, [(0.05, 1), #yA\n",
    "                                             (10, 10000), #Km\n",
    "                                             (0.001, 20), #v\n",
    "                                             (1e-15, 0.1), #m\n",
    "                                             (0.1, 5), #g\n",
    "                                             #(1e-12, 0.1), #k\n",
    "                                             (0.1, 10), #ce\n",
    "                                             #(0, 1), #nX1\n",
    "                                             (0, 1), #tX1\n",
    "                                             (0, 1), #te\n",
    "                                              (10, 1000), #MwX1\n",
    "                                              (10, 1000)]) #Mwe"
   ]
  },
  {
   "cell_type": "code",
   "execution_count": 11,
   "metadata": {},
   "outputs": [
    {
     "name": "stdout",
     "output_type": "stream",
     "text": [
      "     fun: 3.4979828894891547\n",
      "     jac: array([ 1.17788446e-02,  5.66575006e-04,  7.75813188e-02,  2.04702921e-02,\n",
      "       -4.53379559e-03, -1.94955147e-05, -1.39632084e-01,  5.32924815e-03,\n",
      "       -9.96002490e-04,  7.43493565e-04])\n",
      " message: 'Optimization terminated successfully.'\n",
      "    nfev: 47639\n",
      "     nit: 313\n",
      " success: True\n",
      "       x: array([5.07036384e-02, 1.04924814e+03, 7.23636776e-01, 9.42199189e-02,\n",
      "       2.06965160e+00, 8.44908449e+00, 2.67718195e-03, 6.04368151e-02,\n",
      "       1.28335792e+02, 1.77289307e+02])\n",
      "[ 0.99139387 -0.09897052 20.19794105  3.67133953]\n"
     ]
    }
   ],
   "source": [
    "print(n_debparsDEA)\n",
    "print(goodnessDEB(n_debparsDEA.x))"
   ]
  },
  {
   "cell_type": "markdown",
   "metadata": {},
   "source": [
    "## Solution over time for visualization in R"
   ]
  },
  {
   "cell_type": "code",
   "execution_count": 12,
   "metadata": {},
   "outputs": [],
   "source": [
    "#initial conditions\n",
    "S_i = d.Sinit[0]\n",
    "    \n",
    "e_i = 0.25*(n_debparsDEA.x[6] - d.ATPinit[0]/d.Winit[0]*n_debparsDEA.x[8])/(d.ATPinit[0]/d.Winit[0]*(n_debparsDEA.x[9] - n_debparsDEA.x[7]))\n",
    "X1_i = d.Winit[0]/(n_debparsDEA.x[5]*(0.25*n_debparsDEA.x[8] + n_debparsDEA.x[9]*e_i))\n",
    "    \n",
    "y0 = np.array([S_i, e_i, X1_i, 0])\n",
    "\n",
    "#times\n",
    "t = np.arange(0, 3.60, 0.05)\n",
    "\n",
    "#model simulations\n",
    "nPredA = predDEB(DEBmodel, n_debparsDEA.x, t, y0)\n",
    "   \n",
    "#np.savetxt('/mnt/580CBE2464C5F83D/pracovni/data_statistika/SoilMBVariability/PythonScripts/Joergensen2002Pred.csv', Joergensen2002Pred, delimiter=\",\")"
   ]
  },
  {
   "cell_type": "markdown",
   "metadata": {},
   "source": [
    "## Treatment B"
   ]
  },
  {
   "cell_type": "code",
   "execution_count": 13,
   "metadata": {},
   "outputs": [
    {
     "name": "stdout",
     "output_type": "stream",
     "text": [
      "   index                     Study       Soil Substrate  Clay  pH  Ctot  Ntot  \\\n",
      "0      8  Nannipieri et al. (1977)  Chernozem   Glucose   NaN   7     2   NaN   \n",
      "1      9  Nannipieri et al. (1977)  Chernozem   Glucose   NaN   7     2   NaN   \n",
      "2     10  Nannipieri et al. (1977)  Chernozem   Glucose   NaN   7     2   NaN   \n",
      "3     11  Nannipieri et al. (1977)  Chernozem   Glucose   NaN   7     2   NaN   \n",
      "4     12  Nannipieri et al. (1977)  Chernozem   Glucose   NaN   7     2   NaN   \n",
      "5     13  Nannipieri et al. (1977)  Chernozem   Glucose   NaN   7     2   NaN   \n",
      "6     14  Nannipieri et al. (1977)  Chernozem   Glucose   NaN   7     2   NaN   \n",
      "7     15  Nannipieri et al. (1977)  Chernozem   Glucose   NaN   7     2   NaN   \n",
      "\n",
      "       Time       Winit   ATPinit      Sinit            W       ATP  \\\n",
      "0  0.000000  835.240909  0.019872  249.79184   835.240909  0.019872   \n",
      "1  0.250000  835.240909  0.019872  249.79184   778.248000  0.025421   \n",
      "2  0.500000  835.240909  0.019872  249.79184  1031.986545  0.054550   \n",
      "3  1.000000  835.240909  0.019872  249.79184  1116.711636  0.157585   \n",
      "4  1.250000  835.240909  0.019872  249.79184   948.571636  0.149621   \n",
      "5  2.000000  835.240909  0.019872  249.79184  1291.620909  0.131557   \n",
      "6  2.500000  835.240909  0.019872  249.79184  1262.141818  0.107943   \n",
      "7  3.541667  835.240909  0.019872  249.79184          NaN  0.075296   \n",
      "\n",
      "          CO2 Treatment  \n",
      "0    0.000000         B  \n",
      "1    0.244923         B  \n",
      "2   27.587619         B  \n",
      "3   74.426626         B  \n",
      "4   89.894949         B  \n",
      "5  112.396993         B  \n",
      "6  124.341229         B  \n",
      "7  152.780124         B  \n"
     ]
    }
   ],
   "source": [
    "#select treatment B\n",
    "d = dall[dall.Treatment == \"B\"]\n",
    "d = d.reset_index()\n",
    "print(d)"
   ]
  },
  {
   "cell_type": "code",
   "execution_count": 14,
   "metadata": {},
   "outputs": [
    {
     "name": "stderr",
     "output_type": "stream",
     "text": [
      "/usr/local/lib/python3.8/dist-packages/scipy/integrate/odepack.py:247: ODEintWarning: Excess work done on this call (perhaps wrong Dfun type). Run with full_output = 1 to get quantitative information.\n",
      "  warnings.warn(warning_msg, ODEintWarning)\n",
      "<ipython-input-4-09ab2a41bc05>:10: RuntimeWarning: divide by zero encountered in double_scalars\n",
      "  X1_i = d.Winit[0]/(pars[5]*(0.25*pars[8] + pars[9]*e_i))\n",
      "<ipython-input-2-a3081a537b9a>:25: RuntimeWarning: invalid value encountered in double_scalars\n",
      "  dCO2dt = uptake*(1 - yA) + ce*(X1*e*(v-growth)) - growth*X1*MX1\n",
      "/usr/local/lib/python3.8/dist-packages/scipy/integrate/odepack.py:247: ODEintWarning: Illegal input detected (internal error). Run with full_output = 1 to get quantitative information.\n",
      "  warnings.warn(warning_msg, ODEintWarning)\n",
      "<ipython-input-3-107b63ff77bc>:15: RuntimeWarning: invalid value encountered in multiply\n",
      "  ATP = (conversions[1]/4 + conversions[2]*y[:, 1])/(0.25 + y[:, 1])*B\n",
      "/usr/local/lib/python3.8/dist-packages/scipy/optimize/_numdiff.py:497: RuntimeWarning: invalid value encountered in subtract\n",
      "  df = fun(x) - f0\n",
      "<ipython-input-3-107b63ff77bc>:16: RuntimeWarning: invalid value encountered in multiply\n",
      "  W = (conversions[3]*conversions[0]/4 + conversions[4]*conversions[0]*y[:, 1])*y[:, 2]\n"
     ]
    }
   ],
   "source": [
    "n_debparsB=dual_annealing(obj_funDEB, [(0.05, 1), #yA\n",
    "                                             (10, 10000), #Km\n",
    "                                             (0.001, 20), #v\n",
    "                                             (1e-15, 0.1), #m\n",
    "                                             (0.1, 5), #g\n",
    "                                             #(1e-12, 0.1), #k\n",
    "                                             (0.1, 10), #ce\n",
    "                                             #(0, 1), #nX1\n",
    "                                             (0, 1), #tX1\n",
    "                                             (0, 1), #te\n",
    "                                              (10, 1000), #MwX1\n",
    "                                              (10, 1000)]) #Mwe\n",
    "                                             #(0, 1)]) #iX1"
   ]
  },
  {
   "cell_type": "code",
   "execution_count": 15,
   "metadata": {},
   "outputs": [
    {
     "name": "stdout",
     "output_type": "stream",
     "text": [
      "     fun: 4.340764335686849\n",
      " message: ['Maximum number of iteration reached']\n",
      "    nfev: 84450\n",
      "    nhev: 0\n",
      "     nit: 1000\n",
      "    njev: 5859\n",
      "  status: 0\n",
      " success: True\n",
      "       x: array([5.00000000e-02, 6.48748016e+02, 2.46677329e+00, 1.00000000e-01,\n",
      "       1.88247573e+00, 4.07676929e+00, 1.73422186e-02, 8.87152897e-02,\n",
      "       7.51574283e+02, 1.05758500e+02])\n",
      "[ 0.98954258 -0.12026028 20.24052055  4.76272824]\n"
     ]
    }
   ],
   "source": [
    "print(n_debparsB)\n",
    "print(goodnessDEB(n_debparsB.x))"
   ]
  },
  {
   "cell_type": "code",
   "execution_count": 16,
   "metadata": {},
   "outputs": [],
   "source": [
    "n_debparsDEB=differential_evolution(obj_funDEB, [(0.05, 1), #yA\n",
    "                                             (10, 10000), #Km\n",
    "                                             (0.001, 20), #v\n",
    "                                             (1e-15, 0.1), #m\n",
    "                                             (0.1, 5), #g\n",
    "                                             #(1e-12, 0.1), #k\n",
    "                                             (0.1, 10), #ce\n",
    "                                             #(0, 1), #nX1\n",
    "                                             (0, 1), #tX1\n",
    "                                             (0, 1), #te\n",
    "                                              (10, 1000), #MwX1\n",
    "                                              (10, 1000)]) #Mwe"
   ]
  },
  {
   "cell_type": "code",
   "execution_count": 17,
   "metadata": {},
   "outputs": [
    {
     "name": "stdout",
     "output_type": "stream",
     "text": [
      "     fun: 4.123320670995511\n",
      "     jac: array([ 1.18571819e-03, -3.47281435e-05,  4.87013099e-02, -3.27119665e-02,\n",
      "        9.29533779e-02,  8.88178420e-08, -8.90489460e-02, -2.05382378e-03,\n",
      "        1.73017019e-04, -3.34132931e-04])\n",
      " message: 'Optimization terminated successfully.'\n",
      "    nfev: 35609\n",
      "     nit: 235\n",
      " success: True\n",
      "       x: array([5.01248920e-02, 1.31228922e+03, 2.00985028e+00, 7.72345547e-02,\n",
      "       9.36798750e-01, 3.48519680e-01, 7.45920583e-03, 7.36924214e-02,\n",
      "       3.23836566e+02, 9.67104088e+01])\n",
      "[ 0.98940097 -0.1218889  20.2437778   4.45023757]\n"
     ]
    }
   ],
   "source": [
    "print(n_debparsDEB)\n",
    "print(goodnessDEB(n_debparsDEB.x))"
   ]
  },
  {
   "cell_type": "markdown",
   "metadata": {},
   "source": [
    "## Solution over time for visualization in R"
   ]
  },
  {
   "cell_type": "code",
   "execution_count": 18,
   "metadata": {},
   "outputs": [],
   "source": [
    "#initial conditions\n",
    "S_i = d.Sinit[0]\n",
    "    \n",
    "e_i = 0.25*(n_debparsDEB.x[6] - d.ATPinit[0]/d.Winit[0]*n_debparsDEB.x[8])/(d.ATPinit[0]/d.Winit[0]*(n_debparsDEB.x[9] - n_debparsDEB.x[7]))\n",
    "X1_i = d.Winit[0]/(n_debparsDEB.x[5]*(0.25*n_debparsDEB.x[8] + n_debparsDEB.x[9]*e_i))\n",
    "    \n",
    "y0 = np.array([S_i, e_i, X1_i, 0])\n",
    "\n",
    "#times\n",
    "t = np.arange(0, 3.60, 0.05)\n",
    "\n",
    "#model simulations\n",
    "nPredB = predDEB(DEBmodel, n_debparsDEB.x, t, y0)\n",
    "   \n",
    "#np.savetxt('/mnt/580CBE2464C5F83D/pracovni/data_statistika/SoilMBVariability/PythonScripts/Joergensen2002Pred.csv', Joergensen2002Pred, delimiter=\",\")"
   ]
  },
  {
   "cell_type": "markdown",
   "metadata": {},
   "source": [
    "## Treatment C"
   ]
  },
  {
   "cell_type": "code",
   "execution_count": 19,
   "metadata": {},
   "outputs": [
    {
     "name": "stdout",
     "output_type": "stream",
     "text": [
      "   index                     Study       Soil Substrate  Clay  pH  Ctot  Ntot  \\\n",
      "0     16  Nannipieri et al. (1977)  Chernozem   Glucose   NaN   7     2   NaN   \n",
      "1     17  Nannipieri et al. (1977)  Chernozem   Glucose   NaN   7     2   NaN   \n",
      "2     18  Nannipieri et al. (1977)  Chernozem   Glucose   NaN   7     2   NaN   \n",
      "3     19  Nannipieri et al. (1977)  Chernozem   Glucose   NaN   7     2   NaN   \n",
      "4     20  Nannipieri et al. (1977)  Chernozem   Glucose   NaN   7     2   NaN   \n",
      "5     21  Nannipieri et al. (1977)  Chernozem   Glucose   NaN   7     2   NaN   \n",
      "6     22  Nannipieri et al. (1977)  Chernozem   Glucose   NaN   7     2   NaN   \n",
      "7     23  Nannipieri et al. (1977)  Chernozem   Glucose   NaN   7     2   NaN   \n",
      "\n",
      "       Time       Winit   ATPinit      Sinit            W       ATP  \\\n",
      "0  0.000000  739.597636  0.022787  124.89592   739.597636  0.022787   \n",
      "1  0.250000  739.597636  0.022787  124.89592   728.024364  0.020652   \n",
      "2  0.500000  739.597636  0.022787  124.89592   897.037818  0.064354   \n",
      "3  1.000000  739.597636  0.022787  124.89592  1036.790545  0.092407   \n",
      "4  1.250000  739.597636  0.022787  124.89592   909.266182  0.114117   \n",
      "5  2.000000  739.597636  0.022787  124.89592  1035.698727  0.089428   \n",
      "6  2.500000  739.597636  0.022787  124.89592   827.598182       NaN   \n",
      "7  3.541667  739.597636  0.022787  124.89592          NaN  0.070792   \n",
      "\n",
      "         CO2 Treatment  \n",
      "0   0.000000         C  \n",
      "1   0.244522         C  \n",
      "2  20.148771         C  \n",
      "3  41.014646         C  \n",
      "4  45.262261         C  \n",
      "5  59.445740         C  \n",
      "6  63.827060         C  \n",
      "7  78.611137         C  \n"
     ]
    }
   ],
   "source": [
    "#select treatment C\n",
    "d = dall[dall.Treatment == \"C\"]\n",
    "d = d.reset_index()\n",
    "print(d)"
   ]
  },
  {
   "cell_type": "code",
   "execution_count": 20,
   "metadata": {},
   "outputs": [
    {
     "name": "stderr",
     "output_type": "stream",
     "text": [
      "/usr/local/lib/python3.8/dist-packages/scipy/integrate/odepack.py:247: ODEintWarning: Excess work done on this call (perhaps wrong Dfun type). Run with full_output = 1 to get quantitative information.\n",
      "  warnings.warn(warning_msg, ODEintWarning)\n",
      "<ipython-input-4-09ab2a41bc05>:10: RuntimeWarning: divide by zero encountered in double_scalars\n",
      "  X1_i = d.Winit[0]/(pars[5]*(0.25*pars[8] + pars[9]*e_i))\n",
      "<ipython-input-2-a3081a537b9a>:25: RuntimeWarning: invalid value encountered in double_scalars\n",
      "  dCO2dt = uptake*(1 - yA) + ce*(X1*e*(v-growth)) - growth*X1*MX1\n",
      "/usr/local/lib/python3.8/dist-packages/scipy/integrate/odepack.py:247: ODEintWarning: Illegal input detected (internal error). Run with full_output = 1 to get quantitative information.\n",
      "  warnings.warn(warning_msg, ODEintWarning)\n",
      "<ipython-input-3-107b63ff77bc>:15: RuntimeWarning: invalid value encountered in multiply\n",
      "  ATP = (conversions[1]/4 + conversions[2]*y[:, 1])/(0.25 + y[:, 1])*B\n",
      "<ipython-input-3-107b63ff77bc>:16: RuntimeWarning: invalid value encountered in multiply\n",
      "  W = (conversions[3]*conversions[0]/4 + conversions[4]*conversions[0]*y[:, 1])*y[:, 2]\n",
      "<ipython-input-3-107b63ff77bc>:13: RuntimeWarning: invalid value encountered in multiply\n",
      "  B=(conversions[0]/4 + conversions[0]*y[:, 1])*y[:, 2]\n",
      "<ipython-input-3-107b63ff77bc>:15: RuntimeWarning: invalid value encountered in true_divide\n",
      "  ATP = (conversions[1]/4 + conversions[2]*y[:, 1])/(0.25 + y[:, 1])*B\n",
      "/usr/local/lib/python3.8/dist-packages/scipy/optimize/_numdiff.py:497: RuntimeWarning: invalid value encountered in subtract\n",
      "  df = fun(x) - f0\n"
     ]
    }
   ],
   "source": [
    "n_debparsC=dual_annealing(obj_funDEB, [(0.05, 1), #yA\n",
    "                                             (10, 10000), #Km\n",
    "                                             (0.001, 20), #v\n",
    "                                             (1e-15, 0.1), #m\n",
    "                                             (0.1, 5), #g\n",
    "                                             #(1e-12, 0.1), #k\n",
    "                                             (0.1, 10), #ce\n",
    "                                             #(0, 1), #nX1\n",
    "                                             (0, 1), #tX1\n",
    "                                             (0, 1), #te\n",
    "                                              (10, 1000), #MwX1\n",
    "                                              (10, 1000)]) #Mwe\n",
    "                                             #(0, 1)]) #iX1"
   ]
  },
  {
   "cell_type": "code",
   "execution_count": 21,
   "metadata": {},
   "outputs": [
    {
     "name": "stdout",
     "output_type": "stream",
     "text": [
      "     fun: 6.494172413620179\n",
      " message: ['Maximum number of iteration reached']\n",
      "    nfev: 85605\n",
      "    nhev: 0\n",
      "     nit: 1000\n",
      "    njev: 5964\n",
      "  status: 0\n",
      " success: True\n",
      "       x: array([5.00000000e-02, 9.77543610e+02, 3.15857670e+00, 1.00000000e-01,\n",
      "       1.81289903e+00, 5.42793407e+00, 2.11495622e-02, 1.67901705e-01,\n",
      "       7.21649803e+02, 3.61639045e+02])\n",
      "[ 0.98717446 -0.14108093 20.28216186  7.22648289]\n"
     ]
    }
   ],
   "source": [
    "print(n_debparsC)\n",
    "print(goodnessDEB(n_debparsC.x))"
   ]
  },
  {
   "cell_type": "code",
   "execution_count": 22,
   "metadata": {},
   "outputs": [],
   "source": [
    "n_debparsDEC=differential_evolution(obj_funDEB, [(0.05, 1), #yA\n",
    "                                             (10, 10000), #Km\n",
    "                                             (0.001, 20), #v\n",
    "                                             (1e-15, 0.1), #m\n",
    "                                             (0.1, 5), #g\n",
    "                                             #(1e-12, 0.1), #k\n",
    "                                             (0.1, 10), #ce\n",
    "                                             #(0, 1), #nX1\n",
    "                                             (0, 1), #tX1\n",
    "                                             (0, 1), #te\n",
    "                                              (10, 1000), #MwX1\n",
    "                                              (10, 1000)]) #Mwe"
   ]
  },
  {
   "cell_type": "code",
   "execution_count": 23,
   "metadata": {},
   "outputs": [
    {
     "name": "stdout",
     "output_type": "stream",
     "text": [
      "     fun: 3.822039526457745\n",
      "     jac: array([ 2.29336550e-03,  2.66586541e-04,  1.92339477e-03, -8.86403218e-01,\n",
      "       -9.26174698e-03,  4.50306462e-04,  4.55817606e-03,  2.39617215e-03,\n",
      "        1.48276829e-03, -1.06092828e-03])\n",
      " message: 'Optimization terminated successfully.'\n",
      "    nfev: 30960\n",
      "     nit: 201\n",
      " success: True\n",
      "       x: array([5.06900406e-02, 5.77767647e+02, 8.64982089e-01, 1.00000000e-01,\n",
      "       3.97342740e+00, 3.10156123e+00, 6.59509569e-03, 6.64662763e-02,\n",
      "       2.27128513e+02, 2.32426674e+02])\n",
      "[ 0.99035503 -0.10609462 20.21218924  4.03041223]\n"
     ]
    }
   ],
   "source": [
    "print(n_debparsDEC)\n",
    "print(goodnessDEB(n_debparsDEC.x))"
   ]
  },
  {
   "cell_type": "markdown",
   "metadata": {},
   "source": [
    "## Solution over time for visualization in R"
   ]
  },
  {
   "cell_type": "code",
   "execution_count": 24,
   "metadata": {},
   "outputs": [],
   "source": [
    "#initial conditions\n",
    "S_i = d.Sinit[0]\n",
    "    \n",
    "e_i = 0.25*(n_debparsDEC.x[6] - d.ATPinit[0]/d.Winit[0]*n_debparsDEC.x[8])/(d.ATPinit[0]/d.Winit[0]*(n_debparsDEC.x[9] - n_debparsDEC.x[7]))\n",
    "X1_i = d.Winit[0]/(n_debparsDEC.x[5]*(0.25*n_debparsDEC.x[8] + n_debparsDEC.x[9]*e_i))\n",
    "    \n",
    "y0 = np.array([S_i, e_i, X1_i, 0])\n",
    "\n",
    "#times\n",
    "t = np.arange(0, 3.60, 0.05)\n",
    "\n",
    "#model simulations\n",
    "nPredC = predDEB(DEBmodel, n_debparsDEC.x, t, y0)\n",
    "\n",
    "Nannipieri1977Pred = np.concatenate([nPredA, nPredB, nPredC])\n",
    "   \n",
    "np.savetxt('/mnt/580CBE2464C5F83D/pracovni/data_statistika/SoilMBVariability/PythonScripts/Nannipieri1977Pred.csv', Nannipieri1977Pred, delimiter=\",\")"
   ]
  },
  {
   "cell_type": "code",
   "execution_count": 25,
   "metadata": {},
   "outputs": [],
   "source": [
    "Nannipieri1977Pars = np.concatenate([n_debparsDEA.x, n_debparsDEB.x, n_debparsDEC.x])"
   ]
  },
  {
   "cell_type": "code",
   "execution_count": 26,
   "metadata": {},
   "outputs": [],
   "source": [
    "np.savetxt('/mnt/580CBE2464C5F83D/pracovni/data_statistika/SoilMBVariability/PythonScripts/Nannipieri1977Pars.csv', Nannipieri1977Pars.reshape(3,10), delimiter=\",\")"
   ]
  },
  {
   "cell_type": "markdown",
   "metadata": {},
   "source": [
    "# Monod and Pirt models are fitted for comparison to DEB"
   ]
  },
  {
   "cell_type": "markdown",
   "metadata": {},
   "source": [
    "## Monod model\n",
    "Model as well as supplementary functions are defined below"
   ]
  },
  {
   "cell_type": "code",
   "execution_count": 27,
   "metadata": {},
   "outputs": [],
   "source": [
    "def Mmodel (y, t, pars):\n",
    "    #define initial pools\n",
    "    S=y[0];    B=y[1];    CO2=y[2];\n",
    "    \n",
    "    #define parameters\n",
    "    v=pars[0]; \n",
    "    Km=pars[1];     \n",
    "    CUE=pars[2];\n",
    "    k=pars[3];\n",
    "        \n",
    "    #Fluxes\n",
    "    uptake = v*S*B/(S + Km)\n",
    "    growth = uptake*CUE\n",
    "    respiration = uptake*(1 - CUE)\n",
    "    death = B*k\n",
    "    \n",
    "    #Define derivatives\n",
    "    dSdt = -uptake\n",
    "    dBdt = growth - death\n",
    "    dCO2dt = respiration\n",
    "           \n",
    "    return dSdt, dBdt, dCO2dt;"
   ]
  },
  {
   "cell_type": "code",
   "execution_count": 28,
   "metadata": {},
   "outputs": [],
   "source": [
    "def calcM (model, pars, t, y0):\n",
    "    #model parameters\n",
    "    ##v, Km, CUE, k\n",
    "    pars_model=pars[0:4]\n",
    "    #conversion factors\n",
    "    ##katp, Mw\n",
    "    conversions=pars[4:6]\n",
    "\n",
    "    #solve the model\n",
    "    y=odeint(model,y0,t, args=(pars_model,))\n",
    "\n",
    "    #calculate total ATP, and flush (Flush)\n",
    "    #Flush = conversions[0]*y[:, 1]\n",
    "    ATP = conversions[0]*y[:, 1]\n",
    "    W = conversions[1]*y[:, 1]    \n",
    "    \n",
    "    #Create data with predictions\n",
    "    yhat = np.concatenate((#y[:, 0].reshape(len(d.Time),1),#glucose\n",
    "                           y[:, 2].reshape(len(d.Time),1),#CO2\n",
    "                           W.reshape(len(d.Time),1),\n",
    "                           ATP.reshape(len(d.Time),1)), axis=1)\n",
    "\n",
    "    return yhat"
   ]
  },
  {
   "cell_type": "code",
   "execution_count": 29,
   "metadata": {},
   "outputs": [],
   "source": [
    "def obj_funM (x):\n",
    "    #define parameters\n",
    "    ##v, Km, CUE, k, katp, Mw\n",
    "    pars = x\n",
    "\n",
    "    #initial conditions\n",
    "    S_i = d.Sinit[0]\n",
    "       \n",
    "    B_i = d.ATPinit[0]/pars[4]\n",
    "    \n",
    "    y0 = np.array([S_i, B_i, 0])\n",
    "    \n",
    "    #times\n",
    "    t = d.Time\n",
    "\n",
    "    #model simulations\n",
    "    yhat_full = calcM(Mmodel, pars, t, y0)\n",
    "    \n",
    "    #observations\n",
    "    obs=np.concatenate((#np.array([d.S]).reshape(len(d.Time),1),\n",
    "                        np.array([d.CO2]).reshape(len(d.Time),1),\n",
    "                        np.array([d.W]).reshape(len(d.Time),1),\n",
    "                        #np.array([d.Cmic14]).reshape(len(d.Time),1),\n",
    "                        np.array([d.ATP]).reshape(len(d.Time),1)),\n",
    "                     axis=1)\n",
    "\n",
    "    #weights\n",
    "    weights=np.concatenate((#np.nanstd(d.S).repeat(len(d.Time)).reshape(len(d.Time),1),\n",
    "                            np.nanstd(d.CO2).repeat(len(d.Time)).reshape(len(d.Time),1),\n",
    "                            np.nanstd((d.W)).repeat(len(d.Time)).reshape(len(d.Time),1),\n",
    "                            #np.nanmean(d.Cmic14).repeat(len(d.Time)).reshape(len(d.Time),1),\n",
    "                            np.nanstd((d.ATP)).repeat(len(d.Time)).reshape(len(d.Time),1)),\n",
    "                       axis=1)\n",
    "    \n",
    "    out=np.nansum(((yhat_full-obs)/weights)**2)\n",
    "\n",
    "    return out"
   ]
  },
  {
   "cell_type": "code",
   "execution_count": 30,
   "metadata": {},
   "outputs": [],
   "source": [
    "def goodnessM (x):\n",
    "    #define parameters\n",
    "    ##v, Km, CUE, k, katp, Mw\n",
    "    pars = x\n",
    "\n",
    "    #initial conditions\n",
    "    S_i = d.Sinit[0]\n",
    "        \n",
    "    B_i = d.ATPinit[0]/pars[4]\n",
    "    \n",
    "    y0 = np.array([S_i, B_i, 0])\n",
    "    \n",
    "    #times\n",
    "    t = d.Time\n",
    "\n",
    "    #model simulations\n",
    "    yhat_full = calcM(Mmodel, pars, t, y0)\n",
    "        \n",
    "    #Standardize the simulations\n",
    "    ##means\n",
    "    Smeans=np.concatenate((np.nanmean(yhat_full[:, 0]).repeat(len(d.Time)).reshape(len(d.Time),1),\n",
    "                            np.nanmean(yhat_full[:, 1]).repeat(len(d.Time)).reshape(len(d.Time),1),\n",
    "                            np.nanmean((yhat_full[:, 2])).repeat(len(d.Time)).reshape(len(d.Time),1)),\n",
    "                            #np.nanmean(d.Cmic14).repeat(len(d.Time)).reshape(len(d.Time),1),\n",
    "                            #np.nanmean(yhat_full[:, 3]).repeat(len(d.Time)).reshape(len(d.Time),1)),\n",
    "                       axis=1)\n",
    "    ##std\n",
    "    Sstd=np.concatenate((np.nanstd(yhat_full[:, 0]).repeat(len(d.Time)).reshape(len(d.Time),1),\n",
    "                            np.nanstd(yhat_full[:, 1]).repeat(len(d.Time)).reshape(len(d.Time),1),\n",
    "                            np.nanstd((yhat_full[:, 2])).repeat(len(d.Time)).reshape(len(d.Time),1)),\n",
    "                            #np.nanmean(d.Cmic14).repeat(len(d.Time)).reshape(len(d.Time),1),\n",
    "                            #np.nanmean(yhat_full[:, 3]).repeat(len(d.Time)).reshape(len(d.Time),1)),\n",
    "                       axis=1)\n",
    "     \n",
    "\n",
    "    #observations\n",
    "    obs=np.concatenate((#np.array([d.S]).reshape(len(d.Time),1),\n",
    "                        np.array([d.CO2]).reshape(len(d.Time),1),\n",
    "                        np.array([d.W]).reshape(len(d.Time),1),\n",
    "                        #np.array([d.Cmic14]).reshape(len(d.Time),1),\n",
    "                        np.array([d.ATP]).reshape(len(d.Time),1)),\n",
    "                     axis=1)\n",
    "    #Standardize the observations\n",
    "    ##means\n",
    "    Omeans=np.concatenate((#np.nanmean(d.S).repeat(len(d.Time)).reshape(len(d.Time),1),\n",
    "                            np.nanmean(d.CO2).repeat(len(d.Time)).reshape(len(d.Time),1),\n",
    "                            np.nanmean((d.W)).repeat(len(d.Time)).reshape(len(d.Time),1),\n",
    "                            #np.nanmean(d.Cmic14).repeat(len(d.Time)).reshape(len(d.Time),1),\n",
    "                            np.nanmean(d.ATP).repeat(len(d.Time)).reshape(len(d.Time),1)),\n",
    "                       axis=1)\n",
    "    ##std    \n",
    "    Ostd=np.concatenate((#np.nanstd(d.S).repeat(len(d.Time)).reshape(len(d.Time),1),\n",
    "                          np.nanstd(d.CO2).repeat(len(d.Time)).reshape(len(d.Time),1),\n",
    "                            np.nanstd((d.W)).repeat(len(d.Time)).reshape(len(d.Time),1),\n",
    "                            #np.nanmean(d.Cmic14).repeat(len(d.Time)).reshape(len(d.Time),1),\n",
    "                            np.nanstd(d.ATP).repeat(len(d.Time)).reshape(len(d.Time),1)),\n",
    "                       axis=1)\n",
    "        \n",
    "    R2=1-np.nansum((obs-yhat_full)**2)/np.nansum((obs-np.nanmean(obs))**2)\n",
    "    ll=-np.nansum((obs-yhat_full)**2)/2/np.nanstd(obs)**2\n",
    "    AIC = len(pars)*2 - 2*ll\n",
    "    \n",
    "    #Normalized residual sum of squares \n",
    "    Fnorm = np.nansum((((obs-Omeans)/Ostd)-((yhat_full-Smeans)/Sstd))**2)\n",
    "    \n",
    "    out = np.array([R2, ll, AIC, Fnorm])\n",
    "\n",
    "    return out"
   ]
  },
  {
   "cell_type": "code",
   "execution_count": 31,
   "metadata": {},
   "outputs": [],
   "source": [
    "def predM (model, pars, t, y0):\n",
    "    #model parameters\n",
    "    ##v, Km, CUE, k\n",
    "    pars_model=pars[0:4]\n",
    "    #conversion factors\n",
    "     ##katp, Mw\n",
    "    conversions=pars[4:6]\n",
    "\n",
    "    #solve the model\n",
    "    y=odeint(model,y0,t, args=(pars_model,))\n",
    "\n",
    "    #calculate total ATP, and flush (Flush)\n",
    "    #Flush = conversions[0]*y[:, 1]\n",
    "    ATP = conversions[0]*y[:, 1]\n",
    "    W = conversions[1]*y[:, 1]  \n",
    "    \n",
    "    yhat = np.concatenate((#y[:, 0].reshape(len(np.arange(0, 3.60, 0.05)),1),#glucose\n",
    "                           y[:, 2].reshape(len(np.arange(0, 3.60, 0.05)),1),#CO2\n",
    "                           W.reshape(len(np.arange(0, 3.60, 0.05)),1),\n",
    "                           ATP.reshape(len(np.arange(0, 3.60, 0.05)),1)), axis=1)\n",
    "\n",
    "    return yhat"
   ]
  },
  {
   "cell_type": "markdown",
   "metadata": {},
   "source": [
    "## Treatment A"
   ]
  },
  {
   "cell_type": "code",
   "execution_count": 32,
   "metadata": {},
   "outputs": [],
   "source": [
    "d = dall[dall.Treatment == \"A\"]"
   ]
  },
  {
   "cell_type": "code",
   "execution_count": 33,
   "metadata": {},
   "outputs": [],
   "source": [
    "n_mparsA=differential_evolution(obj_funM, [(0.0001, 20), #v\n",
    "                                             (0.1, 10000), #Km                                             \n",
    "                                             (0, 1), #CUE\n",
    "                                             (1e-12, 0.5), #k\n",
    "                                             (0, 1), #katp\n",
    "                                             (10, 10000)]) #Mw\n",
    "                                             #(0, 1)]) #iX1"
   ]
  },
  {
   "cell_type": "code",
   "execution_count": 34,
   "metadata": {},
   "outputs": [
    {
     "name": "stdout",
     "output_type": "stream",
     "text": [
      "     fun: 22.047869658517172\n",
      "     jac: array([-5.06172840e-02,  1.05481185e-03, -4.39725021e+00,  4.93681682e+00,\n",
      "        4.17034727e+00, -8.01556088e-02])\n",
      " message: 'Optimization terminated successfully.'\n",
      "    nfev: 17246\n",
      "     nit: 190\n",
      " success: True\n",
      "       x: array([1.85548360e+01, 1.53355843e+03, 4.27596255e-01, 3.27250529e-01,\n",
      "       4.02998118e-04, 1.53969065e+01])\n",
      "[ 0.98890016 -0.12764816 12.25529633  2.7167664 ]\n"
     ]
    }
   ],
   "source": [
    "print(n_mparsA)\n",
    "print(goodnessM(n_mparsA.x))"
   ]
  },
  {
   "cell_type": "code",
   "execution_count": 35,
   "metadata": {},
   "outputs": [],
   "source": [
    "#initial conditions\n",
    "S_i = d.Sinit[0]\n",
    "    \n",
    "B_i = d.ATPinit[0]/n_mparsA.x[4]\n",
    "    \n",
    "y0 = np.array([S_i, B_i, 0])\n",
    "#times\n",
    "t = np.arange(0, 3.60, 0.05)\n",
    "\n",
    "#model simulations\n",
    "nPredMA = predM(Mmodel, n_mparsA.x, t, y0)\n",
    "    \n",
    "#model simulations\n",
    "#np.savetxt('/mnt/580CBE2464C5F83D/pracovni/data_statistika/SoilMBVariability/PythonScripts/Joergensen2002PredM.csv', Joergensen2002PredM, delimiter=\",\")"
   ]
  },
  {
   "cell_type": "markdown",
   "metadata": {},
   "source": [
    "## Treatment B"
   ]
  },
  {
   "cell_type": "code",
   "execution_count": 36,
   "metadata": {},
   "outputs": [],
   "source": [
    "d = dall[dall.Treatment == \"B\"]\n",
    "d = d.reset_index()"
   ]
  },
  {
   "cell_type": "code",
   "execution_count": 37,
   "metadata": {},
   "outputs": [],
   "source": [
    "n_mparsB=differential_evolution(obj_funM, [(0.0001, 20), #v\n",
    "                                             (0.1, 10000), #Km                                             \n",
    "                                             (0, 1), #CUE\n",
    "                                             (1e-12, 0.5), #k\n",
    "                                             (0, 1), #katp\n",
    "                                             (10, 10000)]) #Mw\n",
    "                                             #(0, 1)]) #iX1"
   ]
  },
  {
   "cell_type": "code",
   "execution_count": 38,
   "metadata": {},
   "outputs": [
    {
     "name": "stdout",
     "output_type": "stream",
     "text": [
      "     fun: 20.289556404091947\n",
      "     jac: array([-5.61115552e-03,  1.08003638e-04, -3.12043014e+00,  3.43142936e+00,\n",
      "        2.57999417e+00, -6.93830713e-02])\n",
      " message: 'Optimization terminated successfully.'\n",
      "    nfev: 16256\n",
      "     nit: 179\n",
      " success: True\n",
      "       x: array([1.91483836e+01, 1.76362514e+03, 3.95845184e-01, 1.92254159e-01,\n",
      "       4.28325110e-04, 1.36278917e+01])\n",
      "[ 0.97687532 -0.26593382 12.53186764  5.10895749]\n"
     ]
    }
   ],
   "source": [
    "print(n_mparsB)\n",
    "print(goodnessM(n_mparsB.x))"
   ]
  },
  {
   "cell_type": "code",
   "execution_count": 39,
   "metadata": {},
   "outputs": [],
   "source": [
    "#initial conditions\n",
    "S_i = d.Sinit[0]\n",
    "    \n",
    "B_i = d.ATPinit[0]/n_mparsB.x[4]\n",
    "    \n",
    "y0 = np.array([S_i, B_i, 0])\n",
    "#times\n",
    "t = np.arange(0, 3.60, 0.05)\n",
    "\n",
    "#model simulations\n",
    "nPredMB = predM(Mmodel, n_mparsB.x, t, y0)\n",
    "    \n",
    "#model simulations\n",
    "#np.savetxt('/mnt/580CBE2464C5F83D/pracovni/data_statistika/SoilMBVariability/PythonScripts/Joergensen2002PredM.csv', Joergensen2002PredM, delimiter=\",\")"
   ]
  },
  {
   "cell_type": "markdown",
   "metadata": {},
   "source": [
    "## Treatment C"
   ]
  },
  {
   "cell_type": "code",
   "execution_count": 40,
   "metadata": {},
   "outputs": [],
   "source": [
    "d = dall[dall.Treatment == \"C\"]\n",
    "d = d.reset_index()"
   ]
  },
  {
   "cell_type": "code",
   "execution_count": 41,
   "metadata": {},
   "outputs": [
    {
     "name": "stderr",
     "output_type": "stream",
     "text": [
      "<ipython-input-29-bb41636d0079>:9: RuntimeWarning: divide by zero encountered in double_scalars\n",
      "  B_i = d.ATPinit[0]/pars[4]\n",
      "<ipython-input-27-15e34bf3de91>:14: RuntimeWarning: invalid value encountered in double_scalars\n",
      "  respiration = uptake*(1 - CUE)\n",
      "<ipython-input-27-15e34bf3de91>:19: RuntimeWarning: invalid value encountered in double_scalars\n",
      "  dBdt = growth - death\n",
      "<ipython-input-28-b5e55aa73bc0>:14: RuntimeWarning: invalid value encountered in multiply\n",
      "  ATP = conversions[0]*y[:, 1]\n"
     ]
    }
   ],
   "source": [
    "n_mparsC=differential_evolution(obj_funM, [(0.0001, 20), #v\n",
    "                                             (0.1, 10000), #Km                                             \n",
    "                                             (0, 1), #CUE\n",
    "                                             (1e-12, 0.5), #k\n",
    "                                             (0, 1), #katp\n",
    "                                             (10, 10000)]) #Mw\n",
    "                                             #(0, 1)]) #iX1"
   ]
  },
  {
   "cell_type": "code",
   "execution_count": 42,
   "metadata": {},
   "outputs": [
    {
     "name": "stdout",
     "output_type": "stream",
     "text": [
      "     fun: 46.266906940140906\n",
      " message: 'Optimization terminated successfully.'\n",
      "    nfev: 5691\n",
      "     nit: 62\n",
      " success: True\n",
      "       x: array([1.15725973e+01, 3.04058737e+01, 1.43182363e-02, 2.72703097e-02,\n",
      "       2.91464358e-01, 9.90286050e+03])\n",
      "[ 0.97267688 -0.30055435 12.60110869 15.76248771]\n"
     ]
    }
   ],
   "source": [
    "print(n_mparsC)\n",
    "print(goodnessM(n_mparsC.x))"
   ]
  },
  {
   "cell_type": "code",
   "execution_count": 43,
   "metadata": {},
   "outputs": [],
   "source": [
    "#initial conditions\n",
    "S_i = d.Sinit[0]\n",
    "    \n",
    "B_i = d.ATPinit[0]/n_mparsC.x[4]\n",
    "    \n",
    "y0 = np.array([S_i, B_i, 0])\n",
    "#times\n",
    "t = np.arange(0, 3.60, 0.05)\n",
    "\n",
    "#model simulations\n",
    "nPredMC = predM(Mmodel, n_mparsC.x, t, y0)\n",
    "    \n",
    "#model simulations\n",
    "#np.savetxt('/mnt/580CBE2464C5F83D/pracovni/data_statistika/SoilMBVariability/PythonScripts/Joergensen2002PredM.csv', Joergensen2002PredM, delimiter=\",\")"
   ]
  },
  {
   "cell_type": "code",
   "execution_count": 44,
   "metadata": {},
   "outputs": [],
   "source": [
    "Nannipieri1977PredM = np.concatenate([nPredMA, nPredMB, nPredMC])\n",
    "np.savetxt('/mnt/580CBE2464C5F83D/pracovni/data_statistika/SoilMBVariability/PythonScripts/Nannipieri1977PredM.csv', Nannipieri1977PredM, delimiter=\",\")"
   ]
  },
  {
   "cell_type": "markdown",
   "metadata": {},
   "source": [
    "## Pirt model\n",
    "Model as well as supplementary functions are defined below"
   ]
  },
  {
   "cell_type": "code",
   "execution_count": 45,
   "metadata": {},
   "outputs": [],
   "source": [
    "def Pmodel (y, t, pars):\n",
    "    #define initial pools\n",
    "    S=y[0];    B=y[1];    CO2=y[2];\n",
    "    \n",
    "    #define parameters\n",
    "    v=pars[0]; \n",
    "    Km=pars[1];     \n",
    "    CUE=pars[2];\n",
    "    m = pars[3];\n",
    "    k = pars[4];\n",
    "        \n",
    "    #Fluxes\n",
    "    uptake = v*S*B/(S + Km)\n",
    "    growth = uptake*CUE\n",
    "    respiration = uptake*(1 - CUE) + B*m\n",
    "    death = B*k\n",
    "    \n",
    "    #Define derivatives\n",
    "    dSdt = -uptake\n",
    "    dBdt = growth - death\n",
    "    dCO2dt = respiration\n",
    "           \n",
    "    return dSdt, dBdt, dCO2dt;"
   ]
  },
  {
   "cell_type": "code",
   "execution_count": 46,
   "metadata": {},
   "outputs": [],
   "source": [
    "def calcP (model, pars, t, y0):\n",
    "    #model parameters\n",
    "    ##v, Km, CUE, m, k\n",
    "    pars_model=pars[0:5]\n",
    "    #conversion factors\n",
    "    ##katp, MW\n",
    "    conversions=pars[5:7]\n",
    "\n",
    "    #solve the model\n",
    "    y=odeint(model,y0,t, args=(pars_model,))\n",
    "\n",
    "    #calculate total ATP, and flush (Flush)\n",
    "    ATP = conversions[0]*y[:, 1]\n",
    "    W = conversions[1]*y[:, 1]\n",
    "    \n",
    "    #Create data with predictions\n",
    "    yhat = np.concatenate((#y[:, 0].reshape(len(d.Time),1),#glucose\n",
    "                           y[:, 2].reshape(len(d.Time[0:18]),1),#CO2\n",
    "                           W.reshape(len(d.Time),1),\n",
    "                           ATP.reshape(len(d.Time),1)), axis=1)\n",
    "\n",
    "    return yhat"
   ]
  },
  {
   "cell_type": "code",
   "execution_count": 47,
   "metadata": {},
   "outputs": [],
   "source": [
    "def obj_funP (x):\n",
    "    #define parameters\n",
    "    ##v, Km, CUE, m, k, katp, Mw\n",
    "    pars = x\n",
    "\n",
    "    #initial conditions\n",
    "    S_i = d.Sinit[0]\n",
    "        \n",
    "    B_i = d.ATPinit[0]/pars[5]\n",
    "    \n",
    "    y0 = np.array([S_i, B_i, 0])\n",
    "    #times\n",
    "    t = d.Time\n",
    "\n",
    "    #model simulations\n",
    "    yhat_full = calcP(Pmodel, pars, t, y0)\n",
    "        \n",
    "    #observations\n",
    "    obs=np.concatenate((#np.array([d.S]).reshape(len(d.Time),1),\n",
    "                        np.array([d.CO2]).reshape(len(d.Time),1),\n",
    "                        np.array([d.W]).reshape(len(d.Time),1),\n",
    "                        #np.array([d.Cmic14]).reshape(len(d.Time),1),\n",
    "                        np.array([d.ATP]).reshape(len(d.Time),1)),\n",
    "                     axis=1)\n",
    "\n",
    "     #weights\n",
    "    weights=np.concatenate((#np.nanstd(d.S).repeat(len(d.Time)).reshape(len(d.Time),1),\n",
    "                            np.nanstd(d.CO2).repeat(len(d.Time)).reshape(len(d.Time),1),\n",
    "                            np.nanstd((d.W)).repeat(len(d.Time)).reshape(len(d.Time),1),\n",
    "                            #np.nanmean(d.Cmic14).repeat(len(d.Time)).reshape(len(d.Time),1),\n",
    "                            np.nanstd((d.ATP)).repeat(len(d.Time)).reshape(len(d.Time),1)),\n",
    "                       axis=1)\n",
    "       \n",
    "    out=np.nansum(((yhat_full-obs)/weights)**2)\n",
    "\n",
    "    return out"
   ]
  },
  {
   "cell_type": "code",
   "execution_count": 48,
   "metadata": {},
   "outputs": [],
   "source": [
    "def goodnessP (x):\n",
    "    #define parameters\n",
    "    ##v, Km, CUE, k, katp, MW\n",
    "    pars = x\n",
    "\n",
    "    #initial conditions\n",
    "    S_i = d.Sinit[0]\n",
    "        \n",
    "    B_i = d.ATPinit[0]/pars[5]\n",
    "    \n",
    "    y0 = np.array([S_i, B_i, 0])\n",
    "    \n",
    "    #times\n",
    "    t = d.Time\n",
    "\n",
    "    #model simulations\n",
    "    yhat_full = calcP(Pmodel, pars, t, y0)\n",
    "    \n",
    "    #Standardize the simulations\n",
    "    ##means\n",
    "    Smeans=np.concatenate((np.nanmean(yhat_full[:, 0]).repeat(len(d.Time)).reshape(len(d.Time),1),\n",
    "                            np.nanmean(yhat_full[:, 1]).repeat(len(d.Time)).reshape(len(d.Time),1),\n",
    "                            np.nanmean((yhat_full[:, 2])).repeat(len(d.Time)).reshape(len(d.Time),1)),\n",
    "                            #np.nanmean(d.Cmic14).repeat(len(d.Time)).reshape(len(d.Time),1),\n",
    "                            #np.nanmean(yhat_full[:, 3]).repeat(len(d.Time)).reshape(len(d.Time),1)),\n",
    "                       axis=1)\n",
    "    ##std\n",
    "    Sstd=np.concatenate((np.nanstd(yhat_full[:, 0]).repeat(len(d.Time)).reshape(len(d.Time),1),\n",
    "                            np.nanstd(yhat_full[:, 1]).repeat(len(d.Time)).reshape(len(d.Time),1),\n",
    "                            np.nanstd((yhat_full[:, 2])).repeat(len(d.Time)).reshape(len(d.Time),1)),\n",
    "                            #np.nanmean(d.Cmic14).repeat(len(d.Time)).reshape(len(d.Time),1),\n",
    "                            #np.nanmean(yhat_full[:, 3]).repeat(len(d.Time)).reshape(len(d.Time),1)),\n",
    "                       axis=1)\n",
    "    \n",
    "    #observations\n",
    "    obs=np.concatenate((#np.array([d.S]).reshape(len(d.Time),1),\n",
    "                        np.array([d.CO2]).reshape(len(d.Time),1),\n",
    "                        np.array([d.W]).reshape(len(d.Time),1),\n",
    "                        #np.array([d.Cmic14]).reshape(len(d.Time),1),\n",
    "                        np.array([d.ATP]).reshape(len(d.Time),1)),\n",
    "                     axis=1)\n",
    "    #Standardize the observations\n",
    "    ##means\n",
    "    Omeans=np.concatenate((#np.nanmean(d.S).repeat(len(d.Time)).reshape(len(d.Time),1),\n",
    "                            np.nanmean(d.CO2).repeat(len(d.Time)).reshape(len(d.Time),1),\n",
    "                            np.nanmean((d.W)).repeat(len(d.Time)).reshape(len(d.Time),1),\n",
    "                            #np.nanmean(d.Cmic14).repeat(len(d.Time)).reshape(len(d.Time),1),\n",
    "                            np.nanmean(d.ATP).repeat(len(d.Time)).reshape(len(d.Time),1)),\n",
    "                       axis=1)\n",
    "    \n",
    "    ##std    \n",
    "    Ostd=np.concatenate((#np.nanstd(d.S).repeat(len(d.Time)).reshape(len(d.Time),1),\n",
    "                            np.nanstd(d.CO2).repeat(len(d.Time)).reshape(len(d.Time),1),\n",
    "                            np.nanstd((d.W)).repeat(len(d.Time)).reshape(len(d.Time),1),\n",
    "                            #np.nanmean(d.Cmic14).repeat(len(d.Time)).reshape(len(d.Time),1),\n",
    "                            np.nanstd(d.W).repeat(len(d.Time)).reshape(len(d.Time),1)),\n",
    "                       axis=1)\n",
    "        \n",
    "    R2=1-np.nansum((obs-yhat_full)**2)/np.nansum((obs-np.nanmean(obs))**2)\n",
    "    ll=-np.nansum((obs-yhat_full)**2)/2/np.nanstd(obs)**2\n",
    "    AIC = len(pars)*2 - 2*ll\n",
    "    \n",
    "    #Normalized residual sum of squares \n",
    "    Fnorm = np.nansum((((obs-Omeans)/Ostd)-((yhat_full-Smeans)/Sstd))**2)\n",
    "    \n",
    "    out = np.array([R2, ll, AIC, Fnorm])\n",
    "\n",
    "    return out"
   ]
  },
  {
   "cell_type": "code",
   "execution_count": 49,
   "metadata": {},
   "outputs": [],
   "source": [
    "def predP (model, pars, t, y0):\n",
    "    #model parameters\n",
    "    ##v, Km, CUE, m, k\n",
    "    pars_model=pars[0:5]\n",
    "    #conversion factors\n",
    "    ##katp, Mw\n",
    "    conversions=pars[5:7]\n",
    "\n",
    "    #solve the model\n",
    "    y=odeint(model,y0,t, args=(pars_model,))\n",
    "\n",
    "    #calculate total DNA, and flush (Flush)\n",
    "    ATP = conversions[0]*y[:, 1]\n",
    "    W = conversions[1]*y[:, 1]\n",
    "    \n",
    "    #Create data with predictions\n",
    "    yhat = np.concatenate((#y[:, 0].reshape(len(np.arange(0, 86, 1)),1),#glucose\n",
    "                           y[:, 2].reshape(len(np.arange(0, 3.60, 0.05)),1),#CO2\n",
    "                           W.reshape(len(np.arange(0, 3.60, 0.05)),1),\n",
    "                           ATP.reshape(len(np.arange(0, 3.60, 0.05)),1)), axis=1)\n",
    "\n",
    "    return yhat"
   ]
  },
  {
   "cell_type": "markdown",
   "metadata": {},
   "source": [
    "## Treatment A"
   ]
  },
  {
   "cell_type": "code",
   "execution_count": 50,
   "metadata": {},
   "outputs": [],
   "source": [
    "d = dall[dall.Treatment == \"A\"]"
   ]
  },
  {
   "cell_type": "code",
   "execution_count": 51,
   "metadata": {},
   "outputs": [
    {
     "name": "stderr",
     "output_type": "stream",
     "text": [
      "<ipython-input-47-21b11741bcee>:9: RuntimeWarning: divide by zero encountered in double_scalars\n",
      "  B_i = d.ATPinit[0]/pars[5]\n",
      "<ipython-input-45-c3d2819ce9aa>:14: RuntimeWarning: invalid value encountered in double_scalars\n",
      "  growth = uptake*CUE\n",
      "<ipython-input-46-e64599a10017>:13: RuntimeWarning: invalid value encountered in multiply\n",
      "  ATP = conversions[0]*y[:, 1]\n",
      "<ipython-input-45-c3d2819ce9aa>:20: RuntimeWarning: invalid value encountered in double_scalars\n",
      "  dBdt = growth - death\n"
     ]
    }
   ],
   "source": [
    "n_pparsA=differential_evolution(obj_funP, [(0.001, 500), #v\n",
    "                                             (0.1, 10000), #Km                                             \n",
    "                                             (0, 1), #CUE\n",
    "                                             (1e-12, 0.5), #k\n",
    "                                             (1e-12, 0.5), #m\n",
    "                                             (0, 1), #katp\n",
    "                                             (10, 10000)]) #Mw\n",
    "                                             #(0, 1)]) #iX1"
   ]
  },
  {
   "cell_type": "code",
   "execution_count": 52,
   "metadata": {},
   "outputs": [
    {
     "name": "stdout",
     "output_type": "stream",
     "text": [
      "     fun: 21.944400290467044\n",
      " message: 'Optimization terminated successfully.'\n",
      "    nfev: 21339\n",
      "     nit: 202\n",
      " success: True\n",
      "       x: array([8.27037127e+01, 7.62607859e+03, 4.70702331e-01, 2.49940703e-02,\n",
      "       2.81806781e-01, 3.68023092e-04, 1.30475023e+01])\n",
      "[ 0.98444882 -0.17883855 14.35767711  9.73414206]\n"
     ]
    }
   ],
   "source": [
    "print(n_pparsA)\n",
    "print(goodnessP(n_pparsA.x))"
   ]
  },
  {
   "cell_type": "code",
   "execution_count": 53,
   "metadata": {},
   "outputs": [],
   "source": [
    "#initial conditions\n",
    "S_i = d.Sinit[0]\n",
    "    \n",
    "B_i = d.ATPinit[0]/n_pparsA.x[5]\n",
    "    \n",
    "y0 = np.array([S_i, B_i, 0])\n",
    "\n",
    "#times\n",
    "t = np.arange(0, 3.60, 0.05)\n",
    "\n",
    "#model simulations\n",
    "nPredPA = predP(Pmodel, n_pparsA.x, t, y0)\n",
    "    \n",
    "#np.savetxt('/mnt/580CBE2464C5F83D/pracovni/data_statistika/SoilMBVariability/PythonScripts/Joergensen2002PredP.csv', Joergensen2002PredP, delimiter=\",\")"
   ]
  },
  {
   "cell_type": "markdown",
   "metadata": {},
   "source": [
    "## Treatment B"
   ]
  },
  {
   "cell_type": "code",
   "execution_count": 54,
   "metadata": {},
   "outputs": [],
   "source": [
    "d = dall[dall.Treatment == \"B\"]\n",
    "d = d.reset_index()"
   ]
  },
  {
   "cell_type": "code",
   "execution_count": 55,
   "metadata": {},
   "outputs": [
    {
     "name": "stderr",
     "output_type": "stream",
     "text": [
      "<ipython-input-47-21b11741bcee>:9: RuntimeWarning: divide by zero encountered in double_scalars\n",
      "  B_i = d.ATPinit[0]/pars[5]\n",
      "<ipython-input-45-c3d2819ce9aa>:15: RuntimeWarning: invalid value encountered in double_scalars\n",
      "  respiration = uptake*(1 - CUE) + B*m\n",
      "<ipython-input-45-c3d2819ce9aa>:20: RuntimeWarning: invalid value encountered in double_scalars\n",
      "  dBdt = growth - death\n",
      "<ipython-input-46-e64599a10017>:13: RuntimeWarning: invalid value encountered in multiply\n",
      "  ATP = conversions[0]*y[:, 1]\n"
     ]
    }
   ],
   "source": [
    "n_pparsB=differential_evolution(obj_funP, [(0.001, 500), #v\n",
    "                                             (0.1, 10000), #Km                                             \n",
    "                                             (0, 1), #CUE\n",
    "                                             (1e-12, 0.5), #k\n",
    "                                             (1e-12, 0.5), #m\n",
    "                                             (0, 1), #katp\n",
    "                                             (10, 10000)]) #Mw\n",
    "                                             #(0, 1)]) #iX1"
   ]
  },
  {
   "cell_type": "code",
   "execution_count": 56,
   "metadata": {},
   "outputs": [
    {
     "name": "stdout",
     "output_type": "stream",
     "text": [
      "     fun: 21.007982567204277\n",
      " message: 'Optimization terminated successfully.'\n",
      "    nfev: 18294\n",
      "     nit: 173\n",
      " success: True\n",
      "       x: array([4.83292697e+02, 1.11016333e+03, 1.09070117e-02, 2.20923208e-01,\n",
      "       4.86875219e-01, 3.68810853e-02, 1.30378134e+03])\n",
      "[ 0.98436688 -0.17978088 14.35956175 10.25974141]\n"
     ]
    }
   ],
   "source": [
    "print(n_pparsB)\n",
    "print(goodnessP(n_pparsB.x))"
   ]
  },
  {
   "cell_type": "code",
   "execution_count": 57,
   "metadata": {},
   "outputs": [],
   "source": [
    "#initial conditions\n",
    "S_i = d.Sinit[0]\n",
    "    \n",
    "B_i = d.ATPinit[0]/n_pparsB.x[5]\n",
    "    \n",
    "y0 = np.array([S_i, B_i, 0])\n",
    "\n",
    "#times\n",
    "t = np.arange(0, 3.60, 0.05)\n",
    "\n",
    "#model simulations\n",
    "nPredPB = predP(Pmodel, n_pparsB.x, t, y0)\n",
    "    \n",
    "#np.savetxt('/mnt/580CBE2464C5F83D/pracovni/data_statistika/SoilMBVariability/PythonScripts/Joergensen2002PredP.csv', Joergensen2002PredP, delimiter=\",\")"
   ]
  },
  {
   "cell_type": "markdown",
   "metadata": {},
   "source": [
    "## Treatment C"
   ]
  },
  {
   "cell_type": "code",
   "execution_count": 58,
   "metadata": {},
   "outputs": [],
   "source": [
    "d = dall[dall.Treatment == \"C\"]\n",
    "d = d.reset_index()"
   ]
  },
  {
   "cell_type": "code",
   "execution_count": 59,
   "metadata": {},
   "outputs": [
    {
     "name": "stderr",
     "output_type": "stream",
     "text": [
      "<ipython-input-47-21b11741bcee>:9: RuntimeWarning: divide by zero encountered in double_scalars\n",
      "  B_i = d.ATPinit[0]/pars[5]\n",
      "<ipython-input-45-c3d2819ce9aa>:15: RuntimeWarning: invalid value encountered in double_scalars\n",
      "  respiration = uptake*(1 - CUE) + B*m\n",
      "<ipython-input-45-c3d2819ce9aa>:20: RuntimeWarning: invalid value encountered in double_scalars\n",
      "  dBdt = growth - death\n",
      "<ipython-input-46-e64599a10017>:13: RuntimeWarning: invalid value encountered in multiply\n",
      "  ATP = conversions[0]*y[:, 1]\n"
     ]
    }
   ],
   "source": [
    "n_pparsC=differential_evolution(obj_funP, [(0.001, 500), #v\n",
    "                                             (0.1, 10000), #Km                                             \n",
    "                                             (0, 1), #CUE\n",
    "                                             (1e-12, 0.5), #k\n",
    "                                             (1e-12, 0.5), #m\n",
    "                                             (0, 1), #katp\n",
    "                                             (10, 10000)]) #Mw\n",
    "                                             #(0, 1)]) #iX1"
   ]
  },
  {
   "cell_type": "code",
   "execution_count": 60,
   "metadata": {},
   "outputs": [
    {
     "name": "stdout",
     "output_type": "stream",
     "text": [
      "     fun: 18.77013530808327\n",
      " message: 'Optimization terminated successfully.'\n",
      "    nfev: 21759\n",
      "     nit: 206\n",
      " success: True\n",
      "       x: array([4.52650753e+02, 5.11477284e+03, 9.38181302e-02, 1.71810539e-03,\n",
      "       4.98721118e-01, 6.15573374e-03, 1.81169478e+02])\n",
      "[ 0.98955555 -0.11488896 14.22977792 10.60280896]\n"
     ]
    }
   ],
   "source": [
    "print(n_pparsC)\n",
    "print(goodnessP(n_pparsC.x))"
   ]
  },
  {
   "cell_type": "code",
   "execution_count": 61,
   "metadata": {},
   "outputs": [],
   "source": [
    "#initial conditions\n",
    "S_i = d.Sinit[0]\n",
    "    \n",
    "B_i = d.ATPinit[0]/n_pparsC.x[5]\n",
    "    \n",
    "y0 = np.array([S_i, B_i, 0])\n",
    "\n",
    "#times\n",
    "t = np.arange(0, 3.60, 0.05)\n",
    "\n",
    "#model simulations\n",
    "nPredPC = predP(Pmodel, n_pparsC.x, t, y0)\n",
    "    \n",
    "#np.savetxt('/mnt/580CBE2464C5F83D/pracovni/data_statistika/SoilMBVariability/PythonScripts/Joergensen2002PredP.csv', Joergensen2002PredP, delimiter=\",\")"
   ]
  },
  {
   "cell_type": "code",
   "execution_count": 62,
   "metadata": {},
   "outputs": [],
   "source": [
    "Nannipieri1977PredP = np.concatenate([nPredPA, nPredPB, nPredPC])"
   ]
  },
  {
   "cell_type": "code",
   "execution_count": 63,
   "metadata": {},
   "outputs": [],
   "source": [
    "np.savetxt('/mnt/580CBE2464C5F83D/pracovni/data_statistika/SoilMBVariability/PythonScripts/Nannipieri1977PredP.csv', Nannipieri1977PredP, delimiter=\",\")"
   ]
  },
  {
   "cell_type": "code",
   "execution_count": null,
   "metadata": {},
   "outputs": [],
   "source": []
  }
 ],
 "metadata": {
  "kernelspec": {
   "display_name": "Python 3",
   "language": "python",
   "name": "python3"
  },
  "language_info": {
   "codemirror_mode": {
    "name": "ipython",
    "version": 3
   },
   "file_extension": ".py",
   "mimetype": "text/x-python",
   "name": "python",
   "nbconvert_exporter": "python",
   "pygments_lexer": "ipython3",
   "version": "3.8.10"
  }
 },
 "nbformat": 4,
 "nbformat_minor": 2
}
