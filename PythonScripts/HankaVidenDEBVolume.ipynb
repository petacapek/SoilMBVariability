{
 "cells": [
  {
   "cell_type": "markdown",
   "metadata": {},
   "source": [
    "# Testing the DEB model\n",
    "## Santruckova et al. (2004)\n",
    "1. Importing libraries"
   ]
  },
  {
   "cell_type": "code",
   "execution_count": 46,
   "metadata": {},
   "outputs": [],
   "source": [
    "import numpy as np\n",
    "import pandas as pd\n",
    "from scipy.integrate import odeint\n",
    "from scipy.optimize import dual_annealing\n",
    "from scipy.optimize import differential_evolution"
   ]
  },
  {
   "cell_type": "markdown",
   "metadata": {},
   "source": [
    "2. Defining DEB model"
   ]
  },
  {
   "cell_type": "code",
   "execution_count": 47,
   "metadata": {},
   "outputs": [],
   "source": [
    "def DEBmodel (y, t, pars):\n",
    "    #define initial pools\n",
    "    S=y[0];    e=y[1];    X1=y[2];     CO2=y[3]\n",
    "    #define parameters\n",
    "    yA=pars[0]; \n",
    "    Km=pars[1];     \n",
    "    v=pars[2];\n",
    "    m=pars[3]; \n",
    "    g=pars[4]; \n",
    "    ce=pars[5];\n",
    "    MX1=ce/4;\n",
    "    #Define fluxes\n",
    "    ##scaling function for substrate\n",
    "    f=S/(Km+S)\n",
    "    uptake=(v*ce/yA)*X1*f\n",
    "    growth = (v*e-m*g)/(e+g)\n",
    "    #Define derivatives\n",
    "    dSdt = -uptake\n",
    "    dedt = v*(f - e)\n",
    "    dX1dt = X1*growth \n",
    "    dCO2dt = uptake*(1 - yA) + ce*(X1*e*(v-growth)) - growth*X1*MX1\n",
    "    return dSdt, dedt, dX1dt, dCO2dt;"
   ]
  },
  {
   "cell_type": "markdown",
   "metadata": {},
   "source": [
    "3. Defining outputs from DEB model"
   ]
  },
  {
   "cell_type": "code",
   "execution_count": 48,
   "metadata": {},
   "outputs": [],
   "source": [
    "def calcDEB (model, pars, t, y0):\n",
    "    #model parameters\n",
    "    ##yA, Km, v, m, g, ce\n",
    "    pars_model=pars[0:6]\n",
    "    #conversion factors\n",
    "    ##ce, nX1\n",
    "    conversions=pars[5:7]\n",
    "    \n",
    "    #solve the model\n",
    "    y=odeint(model,y0,t, args=(pars_model,))\n",
    "    #calculate B, WallsProto,\n",
    "    B=((conversions[0]/4 + conversions[0]*y[:, 1])*y[:, 2])\n",
    "    kec = (conversions[1]/4 + y[:, 1])/(0.25 + y[:, 1])\n",
    "    Flush = B/kec\n",
    "    Flush14C = Flush - Flush[0]\n",
    "    \n",
    "    #Create data with predictions\n",
    "    yhat = np.concatenate((y[:, 0].reshape(len(d.Time),1), #Glucose\n",
    "                           y[:, 3].reshape(len(d.Time),1),#CO2\n",
    "                           kec.reshape(len(d.Time),1),\n",
    "                           Flush14C.reshape(len(d.Time),1)), axis=1)\n",
    "    \n",
    "    return yhat"
   ]
  },
  {
   "cell_type": "markdown",
   "metadata": {},
   "source": [
    "4. Defining objective function"
   ]
  },
  {
   "cell_type": "code",
   "execution_count": 49,
   "metadata": {},
   "outputs": [],
   "source": [
    "def obj_funDEB (x):\n",
    "    #define parameters\n",
    "    ##yA, Km, v, m, g, ce, nX1, e\n",
    "    pars = x\n",
    "    #initial conditions\n",
    "    S_i = d.Sinit[0]\n",
    "    e_i = pars[7] #initial e is estimated as one model parameter\n",
    "    X1_i = d.Cmicinit[0]/(pars[5]*(pars[6]/4 + e_i))*((0.25 + e_i)/(pars[6]/4 + e_i))\n",
    "    \n",
    "    y0 = np.array([S_i, e_i, X1_i, 0])\n",
    "    #times\n",
    "    t = d.Time\n",
    "    #model simulations\n",
    "    yhat_full = calcDEB(DEBmodel, pars, t, y0)\n",
    "    #observations\n",
    "    obs=np.concatenate((np.array([d.S]).reshape(len(d.Time),1),\n",
    "                        np.array([d.CO214cumul]).reshape(len(d.Time),1),\n",
    "                        np.array([d.kec]).reshape(len(d.Time),1),\n",
    "                        np.array([d.Cmic14]).reshape(len(d.Time),1)), axis=1)\n",
    "    #weights\n",
    "    weights=np.concatenate((np.nanmean(d.S).repeat(len(d.Time)).reshape(len(d.Time),1),\n",
    "                            np.nanmean(d.CO214cumul).repeat(len(d.Time)).reshape(len(d.Time),1),\n",
    "                            np.nanmean(d.kec).repeat(len(d.Time)).reshape(len(d.Time),1),\n",
    "                            np.nanmean((d.Cmic14)).repeat(len(d.Time)).reshape(len(d.Time),1)),\n",
    "                       axis=1)\n",
    "    out=np.nansum(((yhat_full-obs)/weights)**2)\n",
    "    return out"
   ]
  },
  {
   "cell_type": "markdown",
   "metadata": {},
   "source": [
    "5. Calculate the goodness of fit"
   ]
  },
  {
   "cell_type": "code",
   "execution_count": 5,
   "metadata": {},
   "outputs": [],
   "source": [
    "def goodnessDEB (x):\n",
    "    #define parameters\n",
    "    ##yA, Km, v, m, g, ce, nX1, e\n",
    "    pars = x\n",
    "    #initial conditions\n",
    "    S_i = d.Sinit[0]\n",
    "    e_i = pars[7] #initial e is estimated as one model parameter\n",
    "    X1_i = d.Cmicinit[0]/(pars[5]*(pars[6]/4 + e_i))*((0.25 + e_i)/(pars[6]/4 + e_i))\n",
    "    \n",
    "    y0 = np.array([S_i, e_i, X1_i, 0])\n",
    "    #times\n",
    "    t = d.Time\n",
    "    #model simulations\n",
    "    yhat_full = calcDEB(DEBmodel, pars, t, y0)\n",
    "    #observations\n",
    "    obs=np.concatenate((np.array([d.S]).reshape(len(d.Time),1),\n",
    "                        np.array([d.CO214cumul]).reshape(len(d.Time),1),\n",
    "                        np.array([d.kec]).reshape(len(d.Time),1),\n",
    "                        np.array([d.Cmic14]).reshape(len(d.Time),1)), axis=1)\n",
    "    \n",
    "    R2=1-np.nansum((obs-yhat_full)**2)/np.nansum((obs-np.nanmean(obs))**2)\n",
    "    ll=-np.nansum((obs-yhat_full)**2)/2/np.nanstd(obs)**2\n",
    "    AIC = len(pars)*2 - 2*ll\n",
    "    out = np.array([R2, ll, AIC])\n",
    "    return out"
   ]
  },
  {
   "cell_type": "markdown",
   "metadata": {},
   "source": [
    "Following function return the model solution for visualization in R"
   ]
  },
  {
   "cell_type": "code",
   "execution_count": 6,
   "metadata": {},
   "outputs": [],
   "source": [
    "def predDEB (model, pars, t, y0):\n",
    "    #model parameters\n",
    "    ##yA, Km, v, m, g, ce\n",
    "    pars_model=pars[0:6]\n",
    "    #conversion factors\n",
    "    ##ce, nX1\n",
    "    conversions=pars[5:7]\n",
    "    \n",
    "    #solve the model\n",
    "    y=odeint(model,y0,t, args=(pars_model,))\n",
    "    #calculate B, WallsProto,\n",
    "    B=((conversions[0]/4 + conversions[0]*y[:, 1])*y[:, 2])\n",
    "    kec = (conversions[1]/4 + y[:, 1])/(0.25 + y[:, 1])\n",
    "    Flush = B/kec\n",
    "    Flush14C = Flush - Flush[0]\n",
    "    \n",
    "    #Create data with predictions\n",
    "    yhat = np.concatenate((y[:, 0].reshape(126,1), #Glucose\n",
    "                           y[:, 3].reshape(126,1),#CO2\n",
    "                           kec.reshape(len(d.Time),1),\n",
    "                           Flush14C.reshape(len(d.Time),1)), axis=1)\n",
    "    \n",
    "    return yhat"
   ]
  },
  {
   "cell_type": "markdown",
   "metadata": {},
   "source": [
    "6a. Reading data - Viden/Sucrose"
   ]
  },
  {
   "cell_type": "code",
   "execution_count": 7,
   "metadata": {},
   "outputs": [
    {
     "name": "stdout",
     "output_type": "stream",
     "text": [
      "   Unnamed: 0   Time         Rc         B        WP  Sinit\n",
      "0           1    0.1   0.110000  2.130000  0.054500  51.29\n",
      "1           2   24.0  15.831667  3.590000  0.359000  51.29\n",
      "2           3   48.0  22.078333  3.723333  0.718833  51.29\n",
      "3           4   72.0  24.503333  3.223333  0.624000  51.29\n",
      "4           5   96.0  26.570000  2.593333  1.051833  51.29\n",
      "5           6  120.0  27.845000  1.733333  0.496000  51.29\n"
     ]
    }
   ],
   "source": [
    "d = pd.read_csv('/mnt/580CBE2464C5F83D/pracovni/data_statistika/SoilMBVariability/SoilMBVariabilityData/VidenSucrose.csv', sep=',')\n",
    "print(d)"
   ]
  },
  {
   "cell_type": "markdown",
   "metadata": {},
   "source": [
    "7a. Estimating parameters - Viden/Sucrose"
   ]
  },
  {
   "cell_type": "code",
   "execution_count": 8,
   "metadata": {},
   "outputs": [
    {
     "name": "stderr",
     "output_type": "stream",
     "text": [
      "<ipython-input-3-de0bdb1e2a70>:11: RuntimeWarning: invalid value encountered in true_divide\n",
      "  WallsProto = (conversions[1]*conversions[0]/4)/(conversions[0]*y[:, 1])\n",
      "/usr/local/lib/python3.8/dist-packages/scipy/integrate/odepack.py:247: ODEintWarning: Excess work done on this call (perhaps wrong Dfun type). Run with full_output = 1 to get quantitative information.\n",
      "  warnings.warn(warning_msg, ODEintWarning)\n"
     ]
    }
   ],
   "source": [
    "VidenSucroseDA=dual_annealing(obj_funDEB, [(0.05, 1), (10, 1000),(0.001, 5), (1e-12, 0.1), (0.1, 3), (0.1, 10), (0, 1)])"
   ]
  },
  {
   "cell_type": "code",
   "execution_count": 9,
   "metadata": {},
   "outputs": [
    {
     "name": "stdout",
     "output_type": "stream",
     "text": [
      "     fun: 1.3422467666650593\n",
      " message: ['Maximum number of iteration reached']\n",
      "    nfev: 15657\n",
      "    nhev: 0\n",
      "     nit: 1000\n",
      "    njev: 207\n",
      "  status: 0\n",
      " success: True\n",
      "       x: array([3.67434395e-01, 9.99999954e+02, 2.88215860e-01, 6.56791538e-02,\n",
      "       1.56605948e-01, 5.35799179e+00, 7.02257631e-02])\n",
      "[ 0.91402545 -0.77377095 15.54754189]\n"
     ]
    }
   ],
   "source": [
    "print(VidenSucroseDA)\n",
    "print(goodnessDEB(VidenSucroseDA.x))"
   ]
  },
  {
   "cell_type": "code",
   "execution_count": 10,
   "metadata": {},
   "outputs": [],
   "source": [
    "VidenSucroseDE=differential_evolution(obj_funDEB, [(0.05, 1), (10, 1000),(0.001, 5), (1e-12, 0.1), (0.1, 3), (0.1, 10), (0, 1)])"
   ]
  },
  {
   "cell_type": "code",
   "execution_count": 11,
   "metadata": {},
   "outputs": [
    {
     "name": "stdout",
     "output_type": "stream",
     "text": [
      "     fun: 1.3427115375467906\n",
      "     jac: array([-3.55204755e-03, -7.94741419e-04, -3.48603369e-03,  2.28519426e-03,\n",
      "       -3.89199784e-04,  1.75859328e-05, -1.58317803e-04])\n",
      " message: 'Optimization terminated successfully.'\n",
      "    nfev: 13794\n",
      "     nit: 129\n",
      " success: True\n",
      "       x: array([3.64588512e-01, 9.97024271e+02, 2.85359016e-01, 6.56219526e-02,\n",
      "       1.55736067e-01, 6.47628617e+00, 7.04446016e-02])\n",
      "[ 0.91396394 -0.77432458 15.54864915]\n"
     ]
    }
   ],
   "source": [
    "print(VidenSucroseDE)\n",
    "print(goodnessDEB(VidenSucroseDE.x))"
   ]
  },
  {
   "cell_type": "code",
   "execution_count": 12,
   "metadata": {},
   "outputs": [],
   "source": [
    "np.savetxt('/mnt/580CBE2464C5F83D/pracovni/data_statistika/SoilMBVariability/PythonScripts/VidenSucrosePars.csv', VidenSucroseDE.x.reshape(1,7), delimiter=\",\")"
   ]
  },
  {
   "cell_type": "code",
   "execution_count": 13,
   "metadata": {},
   "outputs": [],
   "source": [
    "#initial conditions\n",
    "S_i = d.Sinit[0]\n",
    "e_i =VidenSucroseDE.x[6]/4/d.WP[0]\n",
    "X1_i = d.B[0]/(VidenSucroseDE.x[5]*(0.25 + e_i))\n",
    "    \n",
    "y0 = np.array([S_i, e_i, X1_i, 0])\n",
    "#times\n",
    "t = np.arange(126)\n",
    "#model simulations\n",
    "VidenSucrosePred = predDEB(DEBmodel, VidenSucroseDE.x, t, y0)\n",
    "np.savetxt('/mnt/580CBE2464C5F83D/pracovni/data_statistika/SoilMBVariability/PythonScripts/VidenSucrosePred.csv', VidenSucrosePred, delimiter=\",\")"
   ]
  },
  {
   "cell_type": "markdown",
   "metadata": {},
   "source": [
    "6b. Reading data - Viden/Sodium acetate"
   ]
  },
  {
   "cell_type": "code",
   "execution_count": 14,
   "metadata": {},
   "outputs": [
    {
     "name": "stdout",
     "output_type": "stream",
     "text": [
      "   Unnamed: 0   Time         Rc         B        WP  Sinit\n",
      "0           1    0.1   0.166667  1.313333  0.054500  52.61\n",
      "1           2   24.0   5.200000  1.826667  0.178167  52.61\n",
      "2           3   48.0  10.148333  1.935000  0.147667  52.61\n",
      "3           4   72.0  11.787500  2.020000  0.311000  52.61\n",
      "4           5   96.0  12.358333  1.246667  0.173667  52.61\n",
      "5           6  120.0  14.020000  2.445000  0.098167  52.61\n"
     ]
    }
   ],
   "source": [
    "d = pd.read_csv('/mnt/580CBE2464C5F83D/pracovni/data_statistika/SoilMBVariability/SoilMBVariabilityData/VidenSodiumAcetate.csv', sep=',')\n",
    "print(d)"
   ]
  },
  {
   "cell_type": "markdown",
   "metadata": {},
   "source": [
    "7b. Estimating parameters - Viden/Sodium acetate"
   ]
  },
  {
   "cell_type": "code",
   "execution_count": 15,
   "metadata": {},
   "outputs": [
    {
     "name": "stderr",
     "output_type": "stream",
     "text": [
      "<ipython-input-3-de0bdb1e2a70>:11: RuntimeWarning: invalid value encountered in true_divide\n",
      "  WallsProto = (conversions[1]*conversions[0]/4)/(conversions[0]*y[:, 1])\n"
     ]
    }
   ],
   "source": [
    "VidenSodiumAcetateDA=dual_annealing(obj_funDEB, [(0.05, 1), (10, 1000),(0.001, 5), (1e-12, 0.1), (0.1, 3), (0.1, 10), (0, 1)])"
   ]
  },
  {
   "cell_type": "code",
   "execution_count": 16,
   "metadata": {},
   "outputs": [
    {
     "name": "stdout",
     "output_type": "stream",
     "text": [
      "     fun: 1.9944034897067815\n",
      " message: ['Maximum number of iteration reached']\n",
      "    nfev: 19857\n",
      "    nhev: 0\n",
      "     nit: 1000\n",
      "    njev: 732\n",
      "  status: 0\n",
      " success: True\n",
      "       x: array([5.16372889e-01, 4.61199003e+02, 1.64977165e-01, 5.57882354e-02,\n",
      "       2.46654094e-01, 2.72944310e+00, 6.04887670e-02])\n",
      "[ 0.90707793 -0.83629863 15.67259725]\n"
     ]
    }
   ],
   "source": [
    "print(VidenSodiumAcetateDA)\n",
    "print(goodnessDEB(VidenSodiumAcetateDA.x))"
   ]
  },
  {
   "cell_type": "code",
   "execution_count": 17,
   "metadata": {},
   "outputs": [],
   "source": [
    "VidenSodiumAcetateDE=differential_evolution(obj_funDEB, [(0.05, 1), (10, 1000),(0.001, 5), (1e-12, 0.1), (0.1, 3), (0.1, 10), (0, 1)])"
   ]
  },
  {
   "cell_type": "code",
   "execution_count": 18,
   "metadata": {},
   "outputs": [
    {
     "name": "stdout",
     "output_type": "stream",
     "text": [
      "     fun: 1.9217311770334669\n",
      "     jac: array([-4.66293671e-06, -8.19788031e-05,  3.89688282e-05, -3.93240995e-05,\n",
      "       -1.95399252e-05, -2.44249067e-07, -3.79696274e-05])\n",
      " message: 'Optimization terminated successfully.'\n",
      "    nfev: 13234\n",
      "     nit: 121\n",
      " success: True\n",
      "       x: array([3.13150356e-01, 9.98473616e+02, 1.75361728e-01, 3.86544735e-02,\n",
      "       1.82794218e-01, 1.21078582e+00, 2.92311541e-02])\n",
      "[ 0.9171784  -0.74539437 15.49078875]\n"
     ]
    }
   ],
   "source": [
    "print(VidenSodiumAcetateDE)\n",
    "print(goodnessDEB(VidenSodiumAcetateDE.x))"
   ]
  },
  {
   "cell_type": "code",
   "execution_count": 19,
   "metadata": {},
   "outputs": [],
   "source": [
    "np.savetxt('/mnt/580CBE2464C5F83D/pracovni/data_statistika/SoilMBVariability/PythonScripts/VidenSodiumAcetatePars.csv', VidenSodiumAcetateDE.x.reshape(1,7), delimiter=\",\")"
   ]
  },
  {
   "cell_type": "code",
   "execution_count": 20,
   "metadata": {},
   "outputs": [],
   "source": [
    "#initial conditions\n",
    "S_i = d.Sinit[0]\n",
    "e_i =VidenSodiumAcetateDE.x[6]/4/d.WP[0]\n",
    "X1_i = d.B[0]/(VidenSodiumAcetateDE.x[5]*(0.25 + e_i))\n",
    "    \n",
    "y0 = np.array([S_i, e_i, X1_i, 0])\n",
    "#times\n",
    "t = np.arange(126)\n",
    "#model simulations\n",
    "VidenSodiumAcetatePred = predDEB(DEBmodel, VidenSodiumAcetateDE.x, t, y0)\n",
    "np.savetxt('/mnt/580CBE2464C5F83D/pracovni/data_statistika/SoilMBVariability/PythonScripts/VidenSodiumAcetatePred.csv', VidenSodiumAcetatePred, delimiter=\",\")"
   ]
  },
  {
   "cell_type": "markdown",
   "metadata": {},
   "source": [
    "6c. Reading data - CB/Sucrose"
   ]
  },
  {
   "cell_type": "code",
   "execution_count": 21,
   "metadata": {},
   "outputs": [
    {
     "name": "stdout",
     "output_type": "stream",
     "text": [
      "   Unnamed: 0   Time         Rc          B        WP  Sinit\n",
      "0           1    0.1   0.106667  14.576667  2.270000  51.29\n",
      "1           2   24.0   6.813333  45.540000  1.353333  51.29\n",
      "2           3   48.0  20.923333  11.866667  3.146667  51.29\n",
      "3           4   72.0  18.010000  12.840000  5.286667  51.29\n",
      "4           5   96.0  18.853333  17.390000  2.793333  51.29\n",
      "5           6  120.0  18.305000  13.113333  3.416667  51.29\n"
     ]
    }
   ],
   "source": [
    "d = pd.read_csv('/mnt/580CBE2464C5F83D/pracovni/data_statistika/SoilMBVariability/SoilMBVariabilityData/CBSucrose.csv', sep=',')\n",
    "print(d)"
   ]
  },
  {
   "cell_type": "markdown",
   "metadata": {},
   "source": [
    "7c. Estimating parameters - CB/Sucrose"
   ]
  },
  {
   "cell_type": "code",
   "execution_count": 22,
   "metadata": {},
   "outputs": [
    {
     "name": "stderr",
     "output_type": "stream",
     "text": [
      "<ipython-input-3-de0bdb1e2a70>:11: RuntimeWarning: invalid value encountered in true_divide\n",
      "  WallsProto = (conversions[1]*conversions[0]/4)/(conversions[0]*y[:, 1])\n"
     ]
    }
   ],
   "source": [
    "CBSucroseDA=dual_annealing(obj_funDEB, [(0.05, 1), (10, 1000),(0.001, 5), (1e-12, 0.1), (0.1, 10), (0.1, 10), (0, 1)])"
   ]
  },
  {
   "cell_type": "code",
   "execution_count": 23,
   "metadata": {},
   "outputs": [
    {
     "name": "stdout",
     "output_type": "stream",
     "text": [
      "     fun: 4.103385916069149\n",
      " message: ['Maximum number of iteration reached']\n",
      "    nfev: 38873\n",
      "    nhev: 0\n",
      "     nit: 1000\n",
      "    njev: 3109\n",
      "  status: 0\n",
      " success: True\n",
      "       x: array([1.00000000e+00, 9.99985702e+02, 1.09708628e-01, 1.00000000e-12,\n",
      "       4.25724505e+00, 7.79398540e+00, 4.36532627e-01])\n",
      "[ 0.45024208 -4.9478213  23.89564259]\n"
     ]
    }
   ],
   "source": [
    "print(CBSucroseDA)\n",
    "print(goodnessDEB(CBSucroseDA.x))"
   ]
  },
  {
   "cell_type": "code",
   "execution_count": 24,
   "metadata": {},
   "outputs": [],
   "source": [
    "CBSucroseDE=differential_evolution(obj_funDEB, [(0.05, 1), (10, 1000),(0.001, 5), (1e-12, 0.1), (0.1, 10), (0.1, 10), (0, 1)])"
   ]
  },
  {
   "cell_type": "code",
   "execution_count": 25,
   "metadata": {},
   "outputs": [
    {
     "name": "stdout",
     "output_type": "stream",
     "text": [
      "     fun: 4.10558356365306\n",
      "     jac: array([-1.87897696e-02, -4.85833210e-05,  4.08739709e-04,  1.77805854e+01,\n",
      "        1.55964131e-03,  5.15143487e-06, -3.53850283e-04])\n",
      " message: 'Optimization terminated successfully.'\n",
      "    nfev: 5402\n",
      "     nit: 49\n",
      " success: True\n",
      "       x: array([1.00000000e+00, 9.93292397e+02, 1.08204674e-01, 1.00000000e-12,\n",
      "       5.97598975e+00, 7.63904990e+00, 4.43147189e-01])\n",
      "[ 0.44817891 -4.96638977 23.93277954]\n"
     ]
    }
   ],
   "source": [
    "print(CBSucroseDE)\n",
    "print(goodnessDEB(CBSucroseDE.x))"
   ]
  },
  {
   "cell_type": "code",
   "execution_count": 26,
   "metadata": {},
   "outputs": [],
   "source": [
    "np.savetxt('/mnt/580CBE2464C5F83D/pracovni/data_statistika/SoilMBVariability/PythonScripts/CBSucrose.csv', CBSucroseDE.x.reshape(1,7), delimiter=\",\")"
   ]
  },
  {
   "cell_type": "markdown",
   "metadata": {},
   "source": [
    "8. Return the solution for visualization in R"
   ]
  },
  {
   "cell_type": "code",
   "execution_count": 27,
   "metadata": {},
   "outputs": [],
   "source": [
    "#initial conditions\n",
    "S_i = d.Sinit[0]\n",
    "e_i =CBSucroseDE.x[6]/4/d.WP[0]\n",
    "X1_i = d.B[0]/(CBSucroseDE.x[5]*(0.25 + e_i))\n",
    "    \n",
    "y0 = np.array([S_i, e_i, X1_i, 0])\n",
    "#times\n",
    "t = np.arange(126)\n",
    "#model simulations\n",
    "CBSucrosePred = predDEB(DEBmodel, CBSucroseDE.x, t, y0)\n",
    "np.savetxt('/mnt/580CBE2464C5F83D/pracovni/data_statistika/SoilMBVariability/PythonScripts/CBSucrosePred.csv', CBSucrosePred, delimiter=\",\")"
   ]
  },
  {
   "cell_type": "markdown",
   "metadata": {},
   "source": [
    "6d. Reading data - CB/Amonnium acetate"
   ]
  },
  {
   "cell_type": "code",
   "execution_count": 28,
   "metadata": {},
   "outputs": [
    {
     "name": "stdout",
     "output_type": "stream",
     "text": [
      "   Unnamed: 0   Time         Rc          B        WP  Sinit\n",
      "0           1    0.1   0.096667  14.240000  2.270000  51.28\n",
      "1           2   24.0   2.720000  45.726667  1.871000  51.28\n",
      "2           3   48.0   9.675000   7.910000  4.275000  51.28\n",
      "3           4   72.0  10.980000  28.430000       NaN  51.28\n",
      "4           5   96.0  10.263333  14.746667  4.013333  51.28\n",
      "5           6  120.0   8.326667  20.703333  4.360000  51.28\n"
     ]
    }
   ],
   "source": [
    "d = pd.read_csv('/mnt/580CBE2464C5F83D/pracovni/data_statistika/SoilMBVariability/SoilMBVariabilityData/CBAmonniumAcetate.csv', sep=',')\n",
    "print(d)"
   ]
  },
  {
   "cell_type": "markdown",
   "metadata": {},
   "source": [
    "7d. Estimating parameters - CB/Amonnium acetate"
   ]
  },
  {
   "cell_type": "code",
   "execution_count": 29,
   "metadata": {},
   "outputs": [
    {
     "name": "stderr",
     "output_type": "stream",
     "text": [
      "<ipython-input-3-de0bdb1e2a70>:11: RuntimeWarning: invalid value encountered in true_divide\n",
      "  WallsProto = (conversions[1]*conversions[0]/4)/(conversions[0]*y[:, 1])\n"
     ]
    }
   ],
   "source": [
    "CBAmonniumAcetateDA=dual_annealing(obj_funDEB, [(0.05, 1), (10, 1000),(0.001, 5), (1e-12, 0.1), (0.1, 10), (0.1, 10), (0, 1)])"
   ]
  },
  {
   "cell_type": "code",
   "execution_count": 30,
   "metadata": {},
   "outputs": [
    {
     "name": "stdout",
     "output_type": "stream",
     "text": [
      "     fun: 3.554194339050463\n",
      " message: ['Maximum number of iteration reached']\n",
      "    nfev: 46313\n",
      "    nhev: 0\n",
      "     nit: 1000\n",
      "    njev: 4039\n",
      "  status: 0\n",
      " success: True\n",
      "       x: array([8.55066512e-01, 8.91539593e+02, 5.33586174e-02, 1.00000000e-12,\n",
      "       5.95766300e-01, 1.60634127e+00, 6.86917438e-01])\n",
      "[ 0.44498113 -4.7176604  23.4353208 ]\n"
     ]
    }
   ],
   "source": [
    "print(CBAmonniumAcetateDA)\n",
    "print(goodnessDEB(CBAmonniumAcetateDA.x))"
   ]
  },
  {
   "cell_type": "code",
   "execution_count": 31,
   "metadata": {},
   "outputs": [],
   "source": [
    "CBAmonniumAcetateDE=differential_evolution(obj_funDEB, [(0.05, 1), (10, 1000),(0.001, 5), (1e-12, 0.1), (0.1, 10), (0.1, 10), (0, 1)])"
   ]
  },
  {
   "cell_type": "code",
   "execution_count": 32,
   "metadata": {},
   "outputs": [
    {
     "name": "stdout",
     "output_type": "stream",
     "text": [
      "     fun: 3.5519661751913363\n",
      "     jac: array([ 2.23367990e-03, -5.37347518e-05,  1.19158017e-03,  2.95541364e+01,\n",
      "       -6.53472828e-03,  7.54951661e-07, -1.80539582e-02])\n",
      " message: 'Optimization terminated successfully.'\n",
      "    nfev: 6281\n",
      "     nit: 56\n",
      " success: True\n",
      "       x: array([7.98422537e-01, 9.48037907e+02, 5.26144478e-02, 1.00000000e-12,\n",
      "       5.52401501e-01, 5.91749001e+00, 6.45401462e-01])\n",
      "[ 0.44615688 -4.70766653 23.41533306]\n"
     ]
    }
   ],
   "source": [
    "print(CBAmonniumAcetateDE)\n",
    "print(goodnessDEB(CBAmonniumAcetateDE.x))"
   ]
  },
  {
   "cell_type": "code",
   "execution_count": 33,
   "metadata": {},
   "outputs": [],
   "source": [
    "np.savetxt('/mnt/580CBE2464C5F83D/pracovni/data_statistika/SoilMBVariability/PythonScripts/CBAmonniumAcetate.csv', CBAmonniumAcetateDA.x.reshape(1,7), delimiter=\",\")"
   ]
  },
  {
   "cell_type": "markdown",
   "metadata": {},
   "source": [
    "8. Return the solution for visualization in R"
   ]
  },
  {
   "cell_type": "code",
   "execution_count": 34,
   "metadata": {},
   "outputs": [],
   "source": [
    "#initial conditions\n",
    "S_i = d.Sinit[0]\n",
    "e_i =CBAmonniumAcetateDA.x[6]/4/d.WP[0]\n",
    "X1_i = d.B[0]/(CBAmonniumAcetateDA.x[5]*(0.25 + e_i))\n",
    "    \n",
    "y0 = np.array([S_i, e_i, X1_i, 0])\n",
    "#times\n",
    "t = np.arange(126)\n",
    "#model simulations\n",
    "CBAmonniumAcetatePred = predDEB(DEBmodel, CBAmonniumAcetateDA.x, t, y0)\n",
    "np.savetxt('/mnt/580CBE2464C5F83D/pracovni/data_statistika/SoilMBVariability/PythonScripts/CBAmonniumAcetatePred.csv', CBAmonniumAcetatePred, delimiter=\",\")"
   ]
  },
  {
   "cell_type": "code",
   "execution_count": null,
   "metadata": {},
   "outputs": [],
   "source": []
  }
 ],
 "metadata": {
  "kernelspec": {
   "display_name": "Python 3",
   "language": "python",
   "name": "python3"
  },
  "language_info": {
   "codemirror_mode": {
    "name": "ipython",
    "version": 3
   },
   "file_extension": ".py",
   "mimetype": "text/x-python",
   "name": "python",
   "nbconvert_exporter": "python",
   "pygments_lexer": "ipython3",
   "version": "3.8.10"
  }
 },
 "nbformat": 4,
 "nbformat_minor": 4
}
