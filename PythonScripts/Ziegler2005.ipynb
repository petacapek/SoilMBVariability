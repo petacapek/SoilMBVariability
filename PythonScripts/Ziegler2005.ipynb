{
 "cells": [
  {
   "cell_type": "markdown",
   "metadata": {},
   "source": [
    "# Ziegler et al. (2005)"
   ]
  },
  {
   "cell_type": "markdown",
   "metadata": {},
   "source": [
    "## DEB model calibration"
   ]
  },
  {
   "cell_type": "markdown",
   "metadata": {},
   "source": [
    "### Importing functions"
   ]
  },
  {
   "cell_type": "code",
   "execution_count": 46,
   "metadata": {},
   "outputs": [],
   "source": [
    "import numpy as np\n",
    "import pandas as pd\n",
    "from scipy.integrate import odeint\n",
    "from scipy.optimize import dual_annealing\n",
    "from scipy.optimize import differential_evolution"
   ]
  },
  {
   "cell_type": "markdown",
   "metadata": {},
   "source": [
    "### This is the DEB model"
   ]
  },
  {
   "cell_type": "code",
   "execution_count": 47,
   "metadata": {},
   "outputs": [],
   "source": [
    "def DEBmodel (y, t, pars):\n",
    "    #define initial pools (eu is assumed to be zero)\n",
    "    S=y[0];    e=y[1];    X1=y[2];     CO2=y[3];\n",
    "    \n",
    "    #define parameters\n",
    "    yA=pars[0]; \n",
    "    Km=pars[1];     \n",
    "    v=pars[2];\n",
    "    m=pars[3]; \n",
    "    g=pars[4]; \n",
    "    #k=pars[5];\n",
    "    ce=pars[5];\n",
    "    MX1=ce/4;\n",
    "    \n",
    "    #Scaling function for substrate uptake\n",
    "    f=S/(Km+S)\n",
    "    #Fluxes\n",
    "    uptake=(v*ce/yA)*X1*f\n",
    "    growth = (v*e-m*g)/(e + g)\n",
    "    \n",
    "    #Define derivatives\n",
    "    dSdt = -uptake\n",
    "    dedt = v*(f - e)\n",
    "    dX1dt = growth*X1 #- k*X1\n",
    "    dCO2dt = uptake*(1 - yA) + ce*(X1*e*(v-growth)) - growth*X1*MX1 \n",
    "           \n",
    "    return dSdt, dedt, dX1dt, dCO2dt;"
   ]
  },
  {
   "cell_type": "markdown",
   "metadata": {},
   "source": [
    "### The function below uses the output from DEBmodel to convert biomass pools $e$ and $X_{1}$ to microbial biomass ($B$) and measured biomass proxy-parameter PLFA "
   ]
  },
  {
   "cell_type": "code",
   "execution_count": 73,
   "metadata": {},
   "outputs": [],
   "source": [
    "def calcDEB (model, pars, t, y0):\n",
    "    #model parameters\n",
    "    ##yA, Km, v, m, g, ce\n",
    "    pars_model=pars[0:6]\n",
    "    #conversion factors\n",
    "    ##ce, lX1, le\n",
    "    conversions=pars[5:8]\n",
    "\n",
    "    #solve the model\n",
    "    y=odeint(model,y0,t, args=(pars_model,))\n",
    "\n",
    "    #calculate biomass (B) and PLFA\n",
    "    B=(conversions[0]/4 + conversions[0]*y[:, 1])*y[:, 2]\n",
    "    PLFA = (conversions[1]/4 + conversions[2]*y[:, 1]/(0.25 + y[:, 1]))*B\n",
    "    \n",
    "    #Create data with predictions\n",
    "    yhat = np.concatenate((y[:, 0].reshape(len(d.Time),1),#glucose\n",
    "                           y[:, 3].reshape(len(d.Time),1),#CO2\n",
    "                           PLFA.reshape(len(d.Time),1)), axis=1)\n",
    "\n",
    "    return yhat"
   ]
  },
  {
   "cell_type": "markdown",
   "metadata": {},
   "source": [
    "### Objective function is defined"
   ]
  },
  {
   "cell_type": "code",
   "execution_count": 74,
   "metadata": {},
   "outputs": [],
   "source": [
    "def obj_funDEB (x):\n",
    "    #define parameters\n",
    "    ##yA, Km, v, m, g, ce, lX1, le\n",
    "    pars = x\n",
    "\n",
    "    #initial conditions\n",
    "    S_i = d.Sinit[0]\n",
    "            \n",
    "    #e_i = 0.25*((d.ATPinit[0]/d.Cmicinit[0])*pars[6] - pars[7])/(pars[8] - (d.ATPinit[0]/d.Cmicinit[0]))\n",
    "    X1_i = d.PLFAinit[0]/pars[5]/0.25/pars[6]\n",
    "    \n",
    "    y0 = np.array([S_i, 0, X1_i, 0])\n",
    "    #times\n",
    "    t = d.Time\n",
    "\n",
    "    #model simulations\n",
    "    yhat_full = calcDEB(DEBmodel, pars, t, y0)\n",
    "    \n",
    "     \n",
    "    #observations\n",
    "    obs=np.concatenate((np.array([d.S]).reshape(len(d.Time),1),\n",
    "                        np.array([d.CO2cumul]).reshape(len(d.Time),1),\n",
    "                        #np.array([d.Cmic]).reshape(len(d.Time),1),\n",
    "                        #np.array([d.Cmic14]).reshape(len(d.Time),1),\n",
    "                        np.array([d.PLFA]).reshape(len(d.Time),1)),\n",
    "                     axis=1)\n",
    "\n",
    "    #weights\n",
    "    weights=np.concatenate((np.nanstd(d.S).repeat(len(d.Time)).reshape(len(d.Time),1),\n",
    "                            np.nanstd(d.CO2cumul).repeat(len(d.Time)).reshape(len(d.Time),1),\n",
    "                            #np.nanstd((d.Cmic)).repeat(len(d.Time)).reshape(len(d.Time),1),\n",
    "                            #np.nanmean(d.Cmic14).repeat(len(d.Time)).reshape(len(d.Time),1),\n",
    "                            np.nanstd((d.PLFA)).repeat(len(d.Time)).reshape(len(d.Time),1)),\n",
    "                       axis=1)\n",
    "    \n",
    "    out=np.nansum(((yhat_full-obs)/weights)**2)\n",
    "\n",
    "    return out"
   ]
  },
  {
   "cell_type": "markdown",
   "metadata": {},
   "source": [
    "### Goodness of fit is calculated"
   ]
  },
  {
   "cell_type": "code",
   "execution_count": 75,
   "metadata": {},
   "outputs": [],
   "source": [
    "def goodnessDEB (x):\n",
    "    #define parameters\n",
    "    ##yA, Km, v, m, g, ce, lX1, le\n",
    "    pars = x\n",
    "\n",
    "    #initial conditions\n",
    "    S_i = d.Sinit[0]\n",
    "            \n",
    "    #e_i = 0.25*((d.ATPinit[0]/d.Cmicinit[0])*pars[6] - pars[7])/(pars[8] - (d.ATPinit[0]/d.Cmicinit[0]))\n",
    "    X1_i = d.PLFAinit[0]/pars[5]/0.25/pars[6]\n",
    "    \n",
    "    y0 = np.array([S_i, 0, X1_i, 0])\n",
    "    #times\n",
    "    t = d.Time\n",
    "\n",
    "    #model simulations\n",
    "    yhat_full = calcDEB(DEBmodel, pars, t, y0)\n",
    "    \n",
    "    #Standardize the simulations\n",
    "    ##means\n",
    "    Smeans=np.concatenate((np.nanmean(yhat_full[:, 0]).repeat(len(d.Time)).reshape(len(d.Time),1),\n",
    "                            np.nanmean(yhat_full[:, 1]).repeat(len(d.Time)).reshape(len(d.Time),1),\n",
    "                            np.nanmean((yhat_full[:, 2])).repeat(len(d.Time)).reshape(len(d.Time),1)),\n",
    "                            #np.nanmean(d.Cmic14).repeat(len(d.Time)).reshape(len(d.Time),1),\n",
    "                            #np.nanmean(yhat_full[:, 3]).repeat(len(d.Time)).reshape(len(d.Time),1)),\n",
    "                       axis=1)\n",
    "    ##std\n",
    "    Sstd=np.concatenate((np.nanstd(yhat_full[:, 0]).repeat(len(d.Time)).reshape(len(d.Time),1),\n",
    "                            np.nanstd(yhat_full[:, 1]).repeat(len(d.Time)).reshape(len(d.Time),1),\n",
    "                            np.nanstd((yhat_full[:, 2])).repeat(len(d.Time)).reshape(len(d.Time),1)),\n",
    "                            #np.nanmean(d.Cmic14).repeat(len(d.Time)).reshape(len(d.Time),1),\n",
    "                            #np.nanmean(yhat_full[:, 3]).repeat(len(d.Time)).reshape(len(d.Time),1)),\n",
    "                       axis=1)\n",
    "     \n",
    "\n",
    "    #observations\n",
    "    obs=np.concatenate((np.array([d.S]).reshape(len(d.Time),1),\n",
    "                        np.array([d.CO2cumul]).reshape(len(d.Time),1),\n",
    "                        #np.array([d.Cmic]).reshape(len(d.Time),1),\n",
    "                        #np.array([d.Cmic14]).reshape(len(d.Time),1),\n",
    "                        np.array([d.PLFA]).reshape(len(d.Time),1)),\n",
    "                     axis=1)\n",
    "    #Standardize the observations\n",
    "    ##means\n",
    "    Omeans=np.concatenate((np.nanmean(d.S).repeat(len(d.Time)).reshape(len(d.Time),1),\n",
    "                            np.nanmean(d.CO2cumul).repeat(len(d.Time)).reshape(len(d.Time),1),\n",
    "                            #np.nanmean((d.Cmic)).repeat(len(d.Time)).reshape(len(d.Time),1),\n",
    "                            #np.nanmean(d.Cmic14).repeat(len(d.Time)).reshape(len(d.Time),1),\n",
    "                            np.nanmean(d.PLFA).repeat(len(d.Time)).reshape(len(d.Time),1)),\n",
    "                       axis=1)\n",
    "    ##std    \n",
    "    Ostd=np.concatenate((np.nanstd(d.S).repeat(len(d.Time)).reshape(len(d.Time),1),\n",
    "                            np.nanstd(d.CO2cumul).repeat(len(d.Time)).reshape(len(d.Time),1),\n",
    "                            #np.nanstd((d.Cmic)).repeat(len(d.Time)).reshape(len(d.Time),1),\n",
    "                            #np.nanmean(d.Cmic14).repeat(len(d.Time)).reshape(len(d.Time),1),\n",
    "                            np.nanstd(d.PLFA).repeat(len(d.Time)).reshape(len(d.Time),1)),\n",
    "                       axis=1)\n",
    "        \n",
    "    R2=1-np.nansum((obs-yhat_full)**2)/np.nansum((obs-np.nanmean(obs))**2)\n",
    "    ll=-np.nansum((obs-yhat_full)**2)/2/np.nanstd(obs)**2\n",
    "    AIC = len(pars)*2 - 2*ll\n",
    "    \n",
    "    #Normalized residual sum of squares \n",
    "    Fnorm = np.nansum((((obs-Omeans)/Ostd)-((yhat_full-Smeans)/Sstd))**2)\n",
    "    \n",
    "    out = np.array([R2, ll, AIC, Fnorm])\n",
    "\n",
    "    return out"
   ]
  },
  {
   "cell_type": "code",
   "execution_count": 76,
   "metadata": {},
   "outputs": [],
   "source": [
    "def predDEB (model, pars, t, y0):\n",
    "    #model parameters\n",
    "    ##yA, Km, v, m, g, ce\n",
    "    pars_model=pars[0:6]\n",
    "    #conversion factors\n",
    "    ##ce, lX1, le\n",
    "    conversions=pars[5:8]\n",
    "\n",
    "    #solve the model\n",
    "    y=odeint(model,y0,t, args=(pars_model,))\n",
    "\n",
    "    #calculate biomass (B) and PLFA\n",
    "    B=(conversions[0]/4 + conversions[0]*y[:, 1])*y[:, 2]\n",
    "    PLFA = (conversions[1]/4 + conversions[2]*y[:, 1]/(0.25 + y[:, 1]))*B\n",
    "    \n",
    "    #Create data with predictions\n",
    "    yhat = np.concatenate((y[:, 0].reshape(len(np.arange(0, 2.05, 0.05)),1),#glucose\n",
    "                           y[:, 1].reshape(len(np.arange(0, 2.05, 0.05)),1),#e\n",
    "                           y[:, 2].reshape(len(np.arange(0, 2.05, 0.05)),1),#X1\n",
    "                           B.reshape(len(np.arange(0, 2.05, 0.05)),1),#biomass\n",
    "                           y[:, 3].reshape(len(np.arange(0, 2.05, 0.05)),1),#CO2\n",
    "                           #Flush.reshape(len(np.arange(0, 8.05, 0.05)),1),\n",
    "                           PLFA.reshape(len(np.arange(0, 2.05, 0.05)),1)), axis=1)\n",
    "\n",
    "    return yhat"
   ]
  },
  {
   "cell_type": "code",
   "execution_count": 77,
   "metadata": {},
   "outputs": [
    {
     "name": "stdout",
     "output_type": "stream",
     "text": [
      "                  Study               Soil Substrate  Clay   pH  Ctot  Ntot  \\\n",
      "0  Ziegler et al., 2005  Captina silt loam   Glucose    14  6.6  9.21  0.92   \n",
      "1  Ziegler et al., 2005  Captina silt loam   Glucose    14  6.6  9.21  0.92   \n",
      "2  Ziegler et al., 2005  Captina silt loam   Glucose    14  6.6  9.21  0.92   \n",
      "3  Ziegler et al., 2005  Captina silt loam   Glucose    14  6.6  9.21  0.92   \n",
      "4  Ziegler et al., 2005  Captina silt loam   Glucose    14  6.6  9.21  0.92   \n",
      "5  Ziegler et al., 2005  Captina silt loam   Glucose    14  6.6  9.21  0.92   \n",
      "6  Ziegler et al., 2005  Captina silt loam   Glucose    14  6.6  9.21  0.92   \n",
      "7  Ziegler et al., 2005  Captina silt loam   Glucose    14  6.6  9.21  0.92   \n",
      "8  Ziegler et al., 2005  Captina silt loam   Glucose    14  6.6  9.21  0.92   \n",
      "\n",
      "       Time  PLFAinit     Sinit      PLFA   CO2cumul          S  \n",
      "0  0.000000  0.052792  42.86916  1.093054   0.000000  42.869160  \n",
      "1  0.104167  0.052792  42.86916       NaN        NaN  29.552348  \n",
      "2  0.208333  0.052792  42.86916  1.593689   0.784826  28.705256  \n",
      "3  0.312500  0.052792  42.86916       NaN        NaN  26.119479  \n",
      "4  0.416667  0.052792  42.86916  1.535282   1.425851  20.751493  \n",
      "5  0.520833  0.052792  42.86916       NaN        NaN   6.490758  \n",
      "6  0.625000  0.052792  42.86916  1.301652   6.786310   0.029868  \n",
      "7  1.000000  0.052792  42.86916  0.951207   6.032255   0.020956  \n",
      "8  2.000000  0.052792  42.86916  0.967895  16.192841   0.000000  \n"
     ]
    }
   ],
   "source": [
    "#reading the data\n",
    "d = pd.read_csv('/mnt/580CBE2464C5F83D/pracovni/data_statistika/SoilMBVariability/SoilMBVariabilityData/Ziegler2005.csv', sep=',')\n",
    "print(d)"
   ]
  },
  {
   "cell_type": "code",
   "execution_count": 78,
   "metadata": {},
   "outputs": [
    {
     "name": "stderr",
     "output_type": "stream",
     "text": [
      "<ipython-input-74-d815a6a6819b>:10: RuntimeWarning: divide by zero encountered in double_scalars\n",
      "  X1_i = d.PLFAinit[0]/pars[5]/0.25/pars[6]\n",
      "<ipython-input-47-a3081a537b9a>:25: RuntimeWarning: invalid value encountered in double_scalars\n",
      "  dCO2dt = uptake*(1 - yA) + ce*(X1*e*(v-growth)) - growth*X1*MX1\n",
      "/usr/local/lib/python3.8/dist-packages/scipy/integrate/odepack.py:247: ODEintWarning: Illegal input detected (internal error). Run with full_output = 1 to get quantitative information.\n",
      "  warnings.warn(warning_msg, ODEintWarning)\n",
      "<ipython-input-73-d1f0d930d2ee>:14: RuntimeWarning: invalid value encountered in multiply\n",
      "  PLFA = (conversions[1]/4 + conversions[2]*y[:, 1]/(0.25 + y[:, 1]))*B\n"
     ]
    }
   ],
   "source": [
    "z_debpars=dual_annealing(obj_funDEB, [(0.05, 1), #yA\n",
    "                                             (10, 10000), #Km\n",
    "                                             (0.001, 20), #v\n",
    "                                             (1e-15, 0.1), #m\n",
    "                                             (0.1, 5), #g\n",
    "                                             #(1e-12, 0.1), #k\n",
    "                                             (0.1, 10), #ce\n",
    "                                             (0, 1), #lX1\n",
    "                                             (0, 1)]) #le\n",
    "                                             #(0, 1)]) #iX1"
   ]
  },
  {
   "cell_type": "code",
   "execution_count": 79,
   "metadata": {},
   "outputs": [
    {
     "name": "stdout",
     "output_type": "stream",
     "text": [
      "     fun: 7.22005585137262\n",
      " message: ['Maximum number of iteration reached']\n",
      "    nfev: 20312\n",
      "    nhev: 0\n",
      "     nit: 1000\n",
      "    njev: 479\n",
      "  status: 0\n",
      " success: True\n",
      "       x: array([1.00000000e+00, 4.04058723e+02, 3.95012991e-01, 1.00000000e-15,\n",
      "       5.35778381e-01, 4.32064783e+00, 0.00000000e+00, 3.87529562e-02])\n",
      "[ -1.4315105  -25.53086024  67.06172047  20.73877529]\n"
     ]
    },
    {
     "name": "stderr",
     "output_type": "stream",
     "text": [
      "<ipython-input-75-c3ffcf557171>:10: RuntimeWarning: divide by zero encountered in double_scalars\n",
      "  X1_i = d.PLFAinit[0]/pars[5]/0.25/pars[6]\n",
      "<ipython-input-47-a3081a537b9a>:25: RuntimeWarning: invalid value encountered in double_scalars\n",
      "  dCO2dt = uptake*(1 - yA) + ce*(X1*e*(v-growth)) - growth*X1*MX1\n",
      "<ipython-input-73-d1f0d930d2ee>:14: RuntimeWarning: invalid value encountered in multiply\n",
      "  PLFA = (conversions[1]/4 + conversions[2]*y[:, 1]/(0.25 + y[:, 1]))*B\n"
     ]
    }
   ],
   "source": [
    "print(z_debpars)\n",
    "print(goodnessDEB(z_debpars.x))"
   ]
  },
  {
   "cell_type": "code",
   "execution_count": 80,
   "metadata": {},
   "outputs": [],
   "source": [
    "z_debparsDE=differential_evolution(obj_funDEB, [(0.05, 1), #yA\n",
    "                                             (10, 10000), #Km\n",
    "                                             (0.001, 20), #v\n",
    "                                             (1e-15, 0.1), #m\n",
    "                                             (0.1, 5), #g\n",
    "                                             #(1e-12, 0.1), #k\n",
    "                                             (0.1, 10), #ce\n",
    "                                             (0, 1), #lX1\n",
    "                                             (0, 1)]) #le"
   ]
  },
  {
   "cell_type": "code",
   "execution_count": 81,
   "metadata": {},
   "outputs": [
    {
     "name": "stdout",
     "output_type": "stream",
     "text": [
      "     fun: 30.201938685834705\n",
      "     jac: array([-8.88115887e-01, -1.24701569e-04,  7.75379765e-02, -7.46069872e-05,\n",
      "       -4.86934937e-03, -3.41060515e-05,  4.92189400e-01,  2.20623520e-03])\n",
      " message: 'Optimization terminated successfully.'\n",
      "    nfev: 11634\n",
      "     nit: 91\n",
      " success: True\n",
      "       x: array([1.00000000e+00, 3.90257983e+03, 7.82063567e+00, 4.84585791e-02,\n",
      "       2.61217366e-01, 5.03282962e+00, 4.11904583e-04, 3.81793506e-01])\n",
      "[ 0.6188098  -4.00249714 24.00499428  5.95288666]\n"
     ]
    }
   ],
   "source": [
    "print(z_debparsDE)\n",
    "print(goodnessDEB(z_debparsDE.x))"
   ]
  },
  {
   "cell_type": "code",
   "execution_count": 82,
   "metadata": {},
   "outputs": [],
   "source": [
    "np.savetxt('/mnt/580CBE2464C5F83D/pracovni/data_statistika/SoilMBVariability/PythonScripts/Ziegler2005Pars.csv', z_debparsDE.x.reshape(1,8), delimiter=\",\")"
   ]
  },
  {
   "cell_type": "markdown",
   "metadata": {},
   "source": [
    "## Solution over time for visualization in R"
   ]
  },
  {
   "cell_type": "code",
   "execution_count": 83,
   "metadata": {},
   "outputs": [],
   "source": [
    "#initial conditions\n",
    "S_i = d.Sinit[0]\n",
    "    \n",
    "X1_i = d.PLFAinit[0]/z_debparsDE.x[5]/0.25/z_debparsDE.x[6]\n",
    "    \n",
    "y0 = np.array([S_i, 0, X1_i, 0])\n",
    "\n",
    "#times\n",
    "t = np.arange(0, 2.05, 0.05)\n",
    "\n",
    "#model simulations\n",
    "Ziegler2005Pred = predDEB(DEBmodel, z_debparsDE.x, t, y0)\n",
    "   \n",
    "np.savetxt('/mnt/580CBE2464C5F83D/pracovni/data_statistika/SoilMBVariability/PythonScripts/Ziegler2005Pred.csv', Ziegler2005Pred, delimiter=\",\")"
   ]
  },
  {
   "cell_type": "markdown",
   "metadata": {},
   "source": [
    "# Monod and Pirt models are fitted for comparison to DEB"
   ]
  },
  {
   "cell_type": "markdown",
   "metadata": {},
   "source": [
    "## Monod model\n",
    "Model as well as supplementary functions are defined below"
   ]
  },
  {
   "cell_type": "code",
   "execution_count": 84,
   "metadata": {},
   "outputs": [],
   "source": [
    "def Mmodel (y, t, pars):\n",
    "    #define initial pools\n",
    "    S=y[0];    B=y[1];    CO2=y[2];\n",
    "    \n",
    "    #define parameters\n",
    "    v=pars[0]; \n",
    "    Km=pars[1];     \n",
    "    CUE=pars[2];\n",
    "    k=pars[3];\n",
    "        \n",
    "    #Fluxes\n",
    "    uptake = v*S*B/(S + Km)\n",
    "    growth = uptake*CUE\n",
    "    respiration = uptake*(1 - CUE)\n",
    "    death = B*k\n",
    "    \n",
    "    #Define derivatives\n",
    "    dSdt = -uptake\n",
    "    dBdt = growth - death\n",
    "    dCO2dt = respiration\n",
    "           \n",
    "    return dSdt, dBdt, dCO2dt;"
   ]
  },
  {
   "cell_type": "code",
   "execution_count": 85,
   "metadata": {},
   "outputs": [],
   "source": [
    "def calcM (model, pars, t, y0):\n",
    "    #model parameters\n",
    "    ##v, Km, CUE, k\n",
    "    pars_model=pars[0:4]\n",
    "    #conversion factors\n",
    "    ##kPLFA\n",
    "    conversion=pars[4]\n",
    "\n",
    "    #solve the model\n",
    "    y=odeint(model,y0,t, args=(pars_model,))\n",
    "\n",
    "    #calculate total ATP, and flush (Flush)\n",
    "    PLFA = conversion*y[:, 1]\n",
    "    \n",
    "    #Create data with predictions\n",
    "    yhat = np.concatenate((y[:, 0].reshape(len(d.Time),1),#glucose\n",
    "                           y[:, 2].reshape(len(d.Time),1),#CO2\n",
    "                           PLFA.reshape(len(d.Time),1)), axis=1)\n",
    "\n",
    "    return yhat"
   ]
  },
  {
   "cell_type": "code",
   "execution_count": 86,
   "metadata": {},
   "outputs": [],
   "source": [
    "def obj_funM (x):\n",
    "    #define parameters\n",
    "    ##v, Km, CUE, k, kPLFA\n",
    "    pars = x\n",
    "\n",
    "    #initial conditions\n",
    "    S_i = d.Sinit[0]\n",
    "       \n",
    "    B_i = d.PLFAinit[0]/pars[4]\n",
    "    \n",
    "    y0 = np.array([S_i, B_i, 0])\n",
    "    \n",
    "    #times\n",
    "    t = d.Time\n",
    "\n",
    "    #model simulations\n",
    "    yhat_full = calcM(Mmodel, pars, t, y0)\n",
    "    \n",
    "    #observations\n",
    "    obs=np.concatenate((np.array([d.S]).reshape(len(d.Time),1),\n",
    "                        np.array([d.CO2cumul]).reshape(len(d.Time),1),\n",
    "                        #np.array([d.Cmic]).reshape(len(d.Time),1),\n",
    "                        #np.array([d.Cmic14]).reshape(len(d.Time),1),\n",
    "                        np.array([d.PLFA]).reshape(len(d.Time),1)),\n",
    "                     axis=1)\n",
    "\n",
    "    #weights\n",
    "    weights=np.concatenate((np.nanstd(d.S).repeat(len(d.Time)).reshape(len(d.Time),1),\n",
    "                            np.nanstd(d.CO2cumul).repeat(len(d.Time)).reshape(len(d.Time),1),\n",
    "                            #np.nanstd((d.Cmic)).repeat(len(d.Time)).reshape(len(d.Time),1),\n",
    "                            #np.nanmean(d.Cmic14).repeat(len(d.Time)).reshape(len(d.Time),1),\n",
    "                            np.nanstd((d.PLFA)).repeat(len(d.Time)).reshape(len(d.Time),1)),\n",
    "                       axis=1)\n",
    "    \n",
    "    out=np.nansum(((yhat_full-obs)/weights)**2)\n",
    "\n",
    "    return out"
   ]
  },
  {
   "cell_type": "code",
   "execution_count": 87,
   "metadata": {},
   "outputs": [],
   "source": [
    "def goodnessM (x):\n",
    "    #define parameters\n",
    "    ##v, Km, CUE, k, kPLFA\n",
    "    pars = x\n",
    "\n",
    "    #initial conditions\n",
    "    S_i = d.Sinit[0]\n",
    "       \n",
    "    B_i = d.PLFAinit[0]/pars[4]\n",
    "    \n",
    "    y0 = np.array([S_i, B_i, 0])\n",
    "    \n",
    "    #times\n",
    "    t = d.Time\n",
    "\n",
    "    #model simulations\n",
    "    yhat_full = calcM(Mmodel, pars, t, y0)\n",
    "        \n",
    "    #Standardize the simulations\n",
    "    ##means\n",
    "    Smeans=np.concatenate((np.nanmean(yhat_full[:, 0]).repeat(len(d.Time)).reshape(len(d.Time),1),\n",
    "                            np.nanmean(yhat_full[:, 1]).repeat(len(d.Time)).reshape(len(d.Time),1),\n",
    "                            np.nanmean((yhat_full[:, 2])).repeat(len(d.Time)).reshape(len(d.Time),1)),\n",
    "                            #np.nanmean(d.Cmic14).repeat(len(d.Time)).reshape(len(d.Time),1),\n",
    "                            #np.nanmean(yhat_full[:, 3]).repeat(len(d.Time)).reshape(len(d.Time),1)),\n",
    "                       axis=1)\n",
    "    ##std\n",
    "    Sstd=np.concatenate((np.nanstd(yhat_full[:, 0]).repeat(len(d.Time)).reshape(len(d.Time),1),\n",
    "                            np.nanstd(yhat_full[:, 1]).repeat(len(d.Time)).reshape(len(d.Time),1),\n",
    "                            np.nanstd((yhat_full[:, 2])).repeat(len(d.Time)).reshape(len(d.Time),1)),\n",
    "                            #np.nanmean(d.Cmic14).repeat(len(d.Time)).reshape(len(d.Time),1),\n",
    "                            #np.nanmean(yhat_full[:, 3]).repeat(len(d.Time)).reshape(len(d.Time),1)),\n",
    "                       axis=1)\n",
    "     \n",
    "\n",
    "    #observations\n",
    "    obs=np.concatenate((np.array([d.S]).reshape(len(d.Time),1),\n",
    "                        np.array([d.CO2cumul]).reshape(len(d.Time),1),\n",
    "                        #np.array([d.Cmic]).reshape(len(d.Time),1),\n",
    "                        #np.array([d.Cmic14]).reshape(len(d.Time),1),\n",
    "                        np.array([d.PLFA]).reshape(len(d.Time),1)),\n",
    "                     axis=1)\n",
    "    #Standardize the observations\n",
    "    ##means\n",
    "    Omeans=np.concatenate((np.nanmean(d.S).repeat(len(d.Time)).reshape(len(d.Time),1),\n",
    "                            np.nanmean(d.CO2cumul).repeat(len(d.Time)).reshape(len(d.Time),1),\n",
    "                            #np.nanmean((d.Cmic)).repeat(len(d.Time)).reshape(len(d.Time),1),\n",
    "                            #np.nanmean(d.Cmic14).repeat(len(d.Time)).reshape(len(d.Time),1),\n",
    "                            np.nanmean(d.PLFA).repeat(len(d.Time)).reshape(len(d.Time),1)),\n",
    "                       axis=1)\n",
    "    ##std    \n",
    "    Ostd=np.concatenate((np.nanstd(d.S).repeat(len(d.Time)).reshape(len(d.Time),1),\n",
    "                            np.nanstd(d.CO2cumul).repeat(len(d.Time)).reshape(len(d.Time),1),\n",
    "                            #np.nanstd((d.Cmic)).repeat(len(d.Time)).reshape(len(d.Time),1),\n",
    "                            #np.nanmean(d.Cmic14).repeat(len(d.Time)).reshape(len(d.Time),1),\n",
    "                            np.nanstd(d.PLFA).repeat(len(d.Time)).reshape(len(d.Time),1)),\n",
    "                       axis=1)\n",
    "        \n",
    "    R2=1-np.nansum((obs-yhat_full)**2)/np.nansum((obs-np.nanmean(obs))**2)\n",
    "    ll=-np.nansum((obs-yhat_full)**2)/2/np.nanstd(obs)**2\n",
    "    AIC = len(pars)*2 - 2*ll\n",
    "    \n",
    "    #Normalized residual sum of squares \n",
    "    Fnorm = np.nansum((((obs-Omeans)/Ostd)-((yhat_full-Smeans)/Sstd))**2)\n",
    "    \n",
    "    out = np.array([R2, ll, AIC, Fnorm])\n",
    "\n",
    "    return out"
   ]
  },
  {
   "cell_type": "code",
   "execution_count": 88,
   "metadata": {},
   "outputs": [],
   "source": [
    "def predM (model, pars, t, y0):\n",
    "    #model parameters\n",
    "    ##v, Km, CUE, k\n",
    "    pars_model=pars[0:4]\n",
    "    \n",
    "    #conversion factors\n",
    "    ##kPLFA\n",
    "    conversion=pars[4]\n",
    "\n",
    "    #solve the model\n",
    "    y=odeint(model,y0,t, args=(pars_model,))\n",
    "\n",
    "    #calculate total ATP, and flush (Flush)\n",
    "    PLFA = conversion*y[:, 1]\n",
    "    \n",
    "    yhat = np.concatenate((y[:, 0].reshape(len(np.arange(0, 2.05, 0.05)),1),#glucose\n",
    "                           y[:, 2].reshape(len(np.arange(0, 2.05, 0.05)),1),#CO2\n",
    "                           PLFA.reshape(len(np.arange(0, 2.05, 0.05)),1)), axis=1)\n",
    "\n",
    "    return yhat"
   ]
  },
  {
   "cell_type": "code",
   "execution_count": 89,
   "metadata": {},
   "outputs": [],
   "source": [
    "z_mpars=differential_evolution(obj_funM, [(0.0001, 10000), #v\n",
    "                                             (0.1, 10000), #Km                                             \n",
    "                                             (0, 1), #CUE\n",
    "                                             (1e-12, 0.5), #k\n",
    "                                             (0, 1)]) #kPLFA\n",
    "                                             #(0, 1)]) #iX1"
   ]
  },
  {
   "cell_type": "code",
   "execution_count": 90,
   "metadata": {},
   "outputs": [
    {
     "name": "stdout",
     "output_type": "stream",
     "text": [
      "     fun: 30.21694674004387\n",
      "     jac: array([ 1.17951342e-04, -8.34896544e-05, -1.14752651e-04, -5.04485343e-05,\n",
      "       -1.31450406e-04])\n",
      " message: 'Optimization terminated successfully.'\n",
      "    nfev: 2178\n",
      "     nit: 27\n",
      " success: True\n",
      "       x: array([4.76508817e+03, 7.17913301e+03, 8.43612627e-01, 4.47885054e-01,\n",
      "       4.67536770e-02])\n",
      "[ 0.47944739 -5.46580243 20.93160485 15.37224822]\n"
     ]
    }
   ],
   "source": [
    "print(z_mpars)\n",
    "print(goodnessM(z_mpars.x))"
   ]
  },
  {
   "cell_type": "code",
   "execution_count": 91,
   "metadata": {},
   "outputs": [],
   "source": [
    "#initial conditions\n",
    "S_i = d.Sinit[0]\n",
    "    \n",
    "B_i = d.PLFAinit[0]/z_mpars.x[4]\n",
    "    \n",
    "y0 = np.array([S_i, B_i, 0])\n",
    "#times\n",
    "t = np.arange(0, 2.05, 0.05)\n",
    "\n",
    "#model simulations\n",
    "Ziegler2005PredM = predM(Mmodel, z_mpars.x, t, y0)\n",
    "    \n",
    "#model simulations\n",
    "np.savetxt('/mnt/580CBE2464C5F83D/pracovni/data_statistika/SoilMBVariability/PythonScripts/Ziegler2005PredM.csv', Ziegler2005PredM, delimiter=\",\")"
   ]
  },
  {
   "cell_type": "markdown",
   "metadata": {},
   "source": [
    "## Pirt model\n",
    "Model as well as supplementary functions are defined below"
   ]
  },
  {
   "cell_type": "code",
   "execution_count": 92,
   "metadata": {},
   "outputs": [],
   "source": [
    "def Pmodel (y, t, pars):\n",
    "    #define initial pools\n",
    "    S=y[0];    B=y[1];    CO2=y[2];\n",
    "    \n",
    "    #define parameters\n",
    "    v=pars[0]; \n",
    "    Km=pars[1];     \n",
    "    CUE=pars[2];\n",
    "    m = pars[3];\n",
    "    k = pars[4];\n",
    "        \n",
    "    #Fluxes\n",
    "    uptake = v*S*B/(S + Km)\n",
    "    growth = uptake*CUE\n",
    "    respiration = uptake*(1 - CUE) + B*m\n",
    "    death = B*k\n",
    "    \n",
    "    #Define derivatives\n",
    "    dSdt = -uptake\n",
    "    dBdt = growth - death\n",
    "    dCO2dt = respiration\n",
    "           \n",
    "    return dSdt, dBdt, dCO2dt;"
   ]
  },
  {
   "cell_type": "code",
   "execution_count": 93,
   "metadata": {},
   "outputs": [],
   "source": [
    "def calcP (model, pars, t, y0):\n",
    "    #model parameters\n",
    "    ##v, Km, CUE, m, k\n",
    "    pars_model=pars[0:5]\n",
    "    #conversion factors\n",
    "    ##kPLFA\n",
    "    conversion=pars[5]\n",
    "\n",
    "    #solve the model\n",
    "    y=odeint(model,y0,t, args=(pars_model,))\n",
    "\n",
    "    #calculate total ATP, and flush (Flush)\n",
    "    PLFA = conversion*y[:, 1]\n",
    "    \n",
    "    #Create data with predictions\n",
    "    yhat = np.concatenate((y[:, 0].reshape(len(d.Time),1),#glucose\n",
    "                           y[:, 2].reshape(len(d.Time),1),#CO2\n",
    "                           PLFA.reshape(len(d.Time),1)), axis=1)\n",
    "\n",
    "    return yhat"
   ]
  },
  {
   "cell_type": "code",
   "execution_count": 94,
   "metadata": {},
   "outputs": [],
   "source": [
    "def obj_funP (x):\n",
    "    #define parameters\n",
    "    ##v, Km, CUE, m, k, kPLFA\n",
    "    pars = x\n",
    "\n",
    "    #initial conditions\n",
    "    S_i = d.Sinit[0]\n",
    "        \n",
    "    B_i = d.PLFAinit[0]/pars[5]\n",
    "    \n",
    "    y0 = np.array([S_i, B_i, 0])\n",
    "    #times\n",
    "    t = d.Time\n",
    "\n",
    "    #model simulations\n",
    "    yhat_full = calcP(Pmodel, pars, t, y0)\n",
    "        \n",
    "    #observations\n",
    "    obs=np.concatenate((np.array([d.S]).reshape(len(d.Time),1),\n",
    "                        np.array([d.CO2cumul]).reshape(len(d.Time),1),\n",
    "                        #np.array([d.Cmic]).reshape(len(d.Time),1),\n",
    "                        #np.array([d.Cmic14]).reshape(len(d.Time),1),\n",
    "                        np.array([d.PLFA]).reshape(len(d.Time),1)),\n",
    "                     axis=1)\n",
    "\n",
    "     #weights\n",
    "    weights=np.concatenate((np.nanstd(d.S).repeat(len(d.Time)).reshape(len(d.Time),1),\n",
    "                            np.nanstd(d.CO2cumul).repeat(len(d.Time)).reshape(len(d.Time),1),\n",
    "                            #np.nanstd((d.Cmic)).repeat(len(d.Time)).reshape(len(d.Time),1),\n",
    "                            #np.nanmean(d.Cmic14).repeat(len(d.Time)).reshape(len(d.Time),1),\n",
    "                            np.nanstd((d.PLFA)).repeat(len(d.Time)).reshape(len(d.Time),1)),\n",
    "                       axis=1)\n",
    "       \n",
    "    out=np.nansum(((yhat_full-obs)/weights)**2)\n",
    "\n",
    "    return out"
   ]
  },
  {
   "cell_type": "code",
   "execution_count": 95,
   "metadata": {},
   "outputs": [],
   "source": [
    "def goodnessP (x):\n",
    "    #define parameters\n",
    "    ##v, Km, CUE, m, k, kPLFA\n",
    "    pars = x\n",
    "\n",
    "    #initial conditions\n",
    "    S_i = d.Sinit[0]\n",
    "        \n",
    "    B_i = d.PLFAinit[0]/pars[5]\n",
    "    \n",
    "    y0 = np.array([S_i, B_i, 0])\n",
    "    \n",
    "    #times\n",
    "    t = d.Time\n",
    "\n",
    "    #model simulations\n",
    "    yhat_full = calcP(Pmodel, pars, t, y0)\n",
    "    \n",
    "    #Standardize the simulations\n",
    "    ##means\n",
    "    Smeans=np.concatenate((np.nanmean(yhat_full[:, 0]).repeat(len(d.Time)).reshape(len(d.Time),1),\n",
    "                            np.nanmean(yhat_full[:, 1]).repeat(len(d.Time)).reshape(len(d.Time),1),\n",
    "                            np.nanmean((yhat_full[:, 2])).repeat(len(d.Time)).reshape(len(d.Time),1)),\n",
    "                            #np.nanmean(d.Cmic14).repeat(len(d.Time)).reshape(len(d.Time),1),\n",
    "                            #np.nanmean(yhat_full[:, 3]).repeat(len(d.Time)).reshape(len(d.Time),1)),\n",
    "                       axis=1)\n",
    "    ##std\n",
    "    Sstd=np.concatenate((np.nanstd(yhat_full[:, 0]).repeat(len(d.Time)).reshape(len(d.Time),1),\n",
    "                            np.nanstd(yhat_full[:, 1]).repeat(len(d.Time)).reshape(len(d.Time),1),\n",
    "                            np.nanstd((yhat_full[:, 2])).repeat(len(d.Time)).reshape(len(d.Time),1)),\n",
    "                            #np.nanmean(d.Cmic14).repeat(len(d.Time)).reshape(len(d.Time),1),\n",
    "                            #np.nanmean(yhat_full[:, 3]).repeat(len(d.Time)).reshape(len(d.Time),1)),\n",
    "                       axis=1)\n",
    "    \n",
    "    #observations\n",
    "    obs=np.concatenate((np.array([d.S]).reshape(len(d.Time),1),\n",
    "                        np.array([d.CO2cumul]).reshape(len(d.Time),1),\n",
    "                        #np.array([d.Cmic]).reshape(len(d.Time),1),\n",
    "                        #np.array([d.Cmic14]).reshape(len(d.Time),1),\n",
    "                        np.array([d.PLFA]).reshape(len(d.Time),1)),\n",
    "                     axis=1)\n",
    "    #Standardize the observations\n",
    "    ##means\n",
    "    Omeans=np.concatenate((np.nanmean(d.S).repeat(len(d.Time)).reshape(len(d.Time),1),\n",
    "                           np.nanmean(d.CO2cumul).repeat(len(d.Time)).reshape(len(d.Time),1),\n",
    "                            #np.nanmean((d.Cmic)).repeat(len(d.Time)).reshape(len(d.Time),1),\n",
    "                            #np.nanmean(d.Cmic14).repeat(len(d.Time)).reshape(len(d.Time),1),\n",
    "                            np.nanmean(d.PLFA).repeat(len(d.Time)).reshape(len(d.Time),1)),\n",
    "                       axis=1)\n",
    "    \n",
    "    ##std    \n",
    "    Ostd=np.concatenate((np.nanstd(d.S).repeat(len(d.Time)).reshape(len(d.Time),1),\n",
    "                            np.nanstd(d.CO2cumul).repeat(len(d.Time)).reshape(len(d.Time),1),\n",
    "                            #np.nanstd((d.Cmic[0:18])).repeat(len(d.Time)).reshape(len(d.Time),1),\n",
    "                            #np.nanmean(d.Cmic14).repeat(len(d.Time)).reshape(len(d.Time),1),\n",
    "                            np.nanstd(d.PLFA).repeat(len(d.Time)).reshape(len(d.Time),1)),\n",
    "                       axis=1)\n",
    "        \n",
    "    R2=1-np.nansum((obs-yhat_full)**2)/np.nansum((obs-np.nanmean(obs))**2)\n",
    "    ll=-np.nansum((obs-yhat_full)**2)/2/np.nanstd(obs)**2\n",
    "    AIC = len(pars)*2 - 2*ll\n",
    "    \n",
    "    #Normalized residual sum of squares \n",
    "    Fnorm = np.nansum((((obs-Omeans)/Ostd)-((yhat_full-Smeans)/Sstd))**2)\n",
    "    \n",
    "    out = np.array([R2, ll, AIC, Fnorm])\n",
    "\n",
    "    return out"
   ]
  },
  {
   "cell_type": "code",
   "execution_count": 96,
   "metadata": {},
   "outputs": [],
   "source": [
    "def predP (model, pars, t, y0):\n",
    "    #model parameters\n",
    "    ##v, Km, CUE, m, k\n",
    "    pars_model=pars[0:5]\n",
    "    #conversion factors\n",
    "    ##kPLFA\n",
    "    conversion=pars[5]\n",
    "\n",
    "    #solve the model\n",
    "    y=odeint(model,y0,t, args=(pars_model,))\n",
    "\n",
    "    #calculate total ATP, and flush (Flush)\n",
    "    PLFA = conversion*y[:, 1]\n",
    "    \n",
    "    #Create data with predictions\n",
    "    yhat = np.concatenate((y[:, 0].reshape(len(np.arange(0, 2.05, 0.05)),1),#glucose\n",
    "                           y[:, 2].reshape(len(np.arange(0, 2.05, 0.05)),1),#CO2\n",
    "                           PLFA.reshape(len(np.arange(0, 2.05, 0.05)),1)), axis=1)\n",
    "\n",
    "    return yhat"
   ]
  },
  {
   "cell_type": "code",
   "execution_count": 97,
   "metadata": {},
   "outputs": [
    {
     "name": "stderr",
     "output_type": "stream",
     "text": [
      "<ipython-input-94-57aa1f624675>:9: RuntimeWarning: divide by zero encountered in double_scalars\n",
      "  B_i = d.PLFAinit[0]/pars[5]\n",
      "<ipython-input-92-c3d2819ce9aa>:15: RuntimeWarning: invalid value encountered in double_scalars\n",
      "  respiration = uptake*(1 - CUE) + B*m\n",
      "<ipython-input-92-c3d2819ce9aa>:20: RuntimeWarning: invalid value encountered in double_scalars\n",
      "  dBdt = growth - death\n",
      "<ipython-input-93-5361a3edd7bb>:13: RuntimeWarning: invalid value encountered in multiply\n",
      "  PLFA = conversion*y[:, 1]\n"
     ]
    }
   ],
   "source": [
    "z_ppars=differential_evolution(obj_funP, [(0.001, 500), #v\n",
    "                                             (0.1, 10000), #Km                                             \n",
    "                                             (0, 1), #CUE\n",
    "                                             (1e-12, 0.5), #k\n",
    "                                             (1e-12, 0.5), #m\n",
    "                                             (0, 1)]) #kPLFA\n",
    "                                             #(0, 1)]) #iX1"
   ]
  },
  {
   "cell_type": "code",
   "execution_count": 98,
   "metadata": {},
   "outputs": [
    {
     "name": "stdout",
     "output_type": "stream",
     "text": [
      "     fun: 26.062730164429944\n",
      "     jac: array([ 1.00470663e-03, -6.01473949e-04, -3.25829282e+00, -1.54543045e-04,\n",
      "        9.98312544e-05, -1.89928073e-03])\n",
      " message: 'Optimization terminated successfully.'\n",
      "    nfev: 3588\n",
      "     nit: 37\n",
      " success: True\n",
      "       x: array([4.29726440e+02, 7.13351842e+02, 1.00000000e+00, 2.64161277e-01,\n",
      "       4.20583254e-01, 3.86931241e-02])\n",
      "[ 0.49737319 -5.27758146 22.55516291 10.28259583]\n"
     ]
    }
   ],
   "source": [
    "print(z_ppars)\n",
    "print(goodnessP(z_ppars.x))"
   ]
  },
  {
   "cell_type": "code",
   "execution_count": 99,
   "metadata": {},
   "outputs": [],
   "source": [
    "#initial conditions\n",
    "S_i = d.Sinit[0]\n",
    "    \n",
    "B_i = d.PLFAinit[0]/z_ppars.x[5]\n",
    "    \n",
    "y0 = np.array([S_i, B_i, 0])\n",
    "\n",
    "#times\n",
    "t = np.arange(0, 2.05, 0.05)\n",
    "\n",
    "#model simulations\n",
    "Ziegler2005PredP = predP(Pmodel, z_ppars.x, t, y0)\n",
    "    \n",
    "np.savetxt('/mnt/580CBE2464C5F83D/pracovni/data_statistika/SoilMBVariability/PythonScripts/Ziegler2005PredP.csv', Ziegler2005PredP, delimiter=\",\")"
   ]
  },
  {
   "cell_type": "code",
   "execution_count": null,
   "metadata": {},
   "outputs": [],
   "source": []
  }
 ],
 "metadata": {
  "kernelspec": {
   "display_name": "Python 3",
   "language": "python",
   "name": "python3"
  },
  "language_info": {
   "codemirror_mode": {
    "name": "ipython",
    "version": 3
   },
   "file_extension": ".py",
   "mimetype": "text/x-python",
   "name": "python",
   "nbconvert_exporter": "python",
   "pygments_lexer": "ipython3",
   "version": "3.8.10"
  }
 },
 "nbformat": 4,
 "nbformat_minor": 2
}
